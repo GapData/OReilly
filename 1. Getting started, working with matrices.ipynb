{
 "cells": [
  {
   "cell_type": "markdown",
   "metadata": {},
   "source": [
    "# Playing with matrices\n",
    "(and if you get the subliminal message about abstractions, we'll be thrilled!)"
   ]
  },
  {
   "cell_type": "markdown",
   "metadata": {},
   "source": [
    "Julia is a dynamic language.  You don't need type declarations, and can change variable types dynamically and interactively.\n",
    "\n",
    "For working with simple numbers, arrays, and strings, its syntax is *superficially* similar to Matlab, Python, and other popular languages.\n",
    "\n",
    "In order to execute the `In` cells, select the cell and press `Shift-Enter`, or press the `Play` button above. To run the entire notebook, navigate to the `Cell` menu and then `Run All`."
   ]
  },
  {
   "cell_type": "markdown",
   "metadata": {},
   "source": [
    "# We tell beginners, you don't need types!"
   ]
  },
  {
   "cell_type": "code",
   "execution_count": 4,
   "metadata": {},
   "outputs": [
    {
     "data": {
      "text/plain": [
       "Float64"
      ]
     },
     "execution_count": 4,
     "metadata": {},
     "output_type": "execute_result"
    }
   ],
   "source": [
    "typeof(1.0)"
   ]
  },
  {
   "cell_type": "code",
   "execution_count": 5,
   "metadata": {},
   "outputs": [
    {
     "data": {
      "text/plain": [
       "Int64"
      ]
     },
     "execution_count": 5,
     "metadata": {},
     "output_type": "execute_result"
    }
   ],
   "source": [
    "typeof(1)"
   ]
  },
  {
   "cell_type": "code",
   "execution_count": 6,
   "metadata": {},
   "outputs": [
    {
     "data": {
      "text/plain": [
       "String"
      ]
     },
     "execution_count": 6,
     "metadata": {},
     "output_type": "execute_result"
    }
   ],
   "source": [
    "S = \"Hello Julia Clsas\"\n",
    "typeof(S)"
   ]
  },
  {
   "cell_type": "code",
   "execution_count": 7,
   "metadata": {},
   "outputs": [
    {
     "data": {
      "text/plain": [
       "\"Hello Julia Clsas\""
      ]
     },
     "execution_count": 7,
     "metadata": {},
     "output_type": "execute_result"
    }
   ],
   "source": [
    "#  Exercise fix my spelling in the cell above\n",
    "S"
   ]
  },
  {
   "cell_type": "markdown",
   "metadata": {},
   "source": [
    "# Now forget all that (for now): Julia is not so different from your favorite dynamic language"
   ]
  },
  {
   "cell_type": "code",
   "execution_count": 8,
   "metadata": {},
   "outputs": [
    {
     "data": {
      "text/plain": [
       "2"
      ]
     },
     "execution_count": 8,
     "metadata": {},
     "output_type": "execute_result"
    }
   ],
   "source": [
    "1 + 1  # shift + enter to run"
   ]
  },
  {
   "cell_type": "code",
   "execution_count": 9,
   "metadata": {},
   "outputs": [
    {
     "data": {
      "text/plain": [
       "5×5 Array{Float64,2}:\n",
       " 0.222568  0.148585  0.211696   0.238473   0.873135\n",
       " 0.633404  0.534324  0.375062   0.439748   0.243287\n",
       " 0.787942  0.981053  0.917612   0.817982   0.671369\n",
       " 0.264487  0.292797  0.0936047  0.0401702  0.200276\n",
       " 0.930714  0.202869  0.497657   0.7565     0.235243"
      ]
     },
     "execution_count": 9,
     "metadata": {},
     "output_type": "execute_result"
    }
   ],
   "source": [
    "A = rand(5, 5)"
   ]
  },
  {
   "cell_type": "code",
   "execution_count": 10,
   "metadata": {},
   "outputs": [
    {
     "data": {
      "text/plain": [
       "6×6 SymTridiagonal{Float64}:\n",
       " 0.337105  0.265089   ⋅         ⋅         ⋅         ⋅      \n",
       " 0.265089  0.774807  0.212083   ⋅         ⋅         ⋅      \n",
       "  ⋅        0.212083  0.803429  0.116044   ⋅         ⋅      \n",
       "  ⋅         ⋅        0.116044  0.524981  0.415362   ⋅      \n",
       "  ⋅         ⋅         ⋅        0.415362  0.288135  0.963413\n",
       "  ⋅         ⋅         ⋅         ⋅        0.963413  0.271349"
      ]
     },
     "execution_count": 10,
     "metadata": {},
     "output_type": "execute_result"
    }
   ],
   "source": [
    "A = SymTridiagonal(rand(6), rand(5))"
   ]
  },
  {
   "cell_type": "code",
   "execution_count": 11,
   "metadata": {},
   "outputs": [
    {
     "data": {
      "text/plain": [
       "6-element Array{Float64,1}:\n",
       "  3.33366 \n",
       " -1.4368  \n",
       "  1.35092 \n",
       "  0.800594\n",
       "  0.365609\n",
       "  0.3641  "
      ]
     },
     "execution_count": 11,
     "metadata": {},
     "output_type": "execute_result"
    }
   ],
   "source": [
    "b = rand(6)\n",
    "A \\ b"
   ]
  },
  {
   "cell_type": "code",
   "execution_count": 12,
   "metadata": {},
   "outputs": [
    {
     "data": {
      "text/plain": [
       "5×5 Array{Float64,2}:\n",
       " 3.15  3.15  3.15  3.15  3.15\n",
       " 3.15  3.15  3.15  3.15  3.15\n",
       " 3.15  3.15  3.15  3.15  3.15\n",
       " 3.15  3.15  3.15  3.15  3.15\n",
       " 3.15  3.15  3.15  3.15  3.15"
      ]
     },
     "execution_count": 12,
     "metadata": {},
     "output_type": "execute_result"
    }
   ],
   "source": [
    "A = fill(3.15, 5, 5) # Fill a 5x5 array with 0's"
   ]
  },
  {
   "cell_type": "markdown",
   "metadata": {},
   "source": [
    "# Let's create some addition tables"
   ]
  },
  {
   "cell_type": "markdown",
   "metadata": {},
   "source": [
    "First let's use a nested for loop to fill in a matrix that's initially zero:"
   ]
  },
  {
   "cell_type": "code",
   "execution_count": 13,
   "metadata": {},
   "outputs": [
    {
     "data": {
      "text/plain": [
       "5×5 Array{Float64,2}:\n",
       " 2.0  3.0  4.0  5.0   6.0\n",
       " 3.0  4.0  5.0  6.0   7.0\n",
       " 4.0  5.0  6.0  7.0   8.0\n",
       " 5.0  6.0  7.0  8.0   9.0\n",
       " 6.0  7.0  8.0  9.0  10.0"
      ]
     },
     "execution_count": 13,
     "metadata": {},
     "output_type": "execute_result"
    }
   ],
   "source": [
    "A = zeros(5, 5)\n",
    "\n",
    "for i=1:5\n",
    "    for j=1:5\n",
    "        A[i, j] = i+j  # Square brackets for indices.  Also: indices start at 1, not 0.\n",
    "    end\n",
    "end\n",
    "\n",
    "A"
   ]
  },
  {
   "cell_type": "markdown",
   "metadata": {},
   "source": [
    "We can abbreviate this using a double `for` loop:"
   ]
  },
  {
   "cell_type": "code",
   "execution_count": 14,
   "metadata": {},
   "outputs": [
    {
     "data": {
      "text/plain": [
       "5×5 Array{Float64,2}:\n",
       " 2.0  3.0  4.0  5.0   6.0\n",
       " 3.0  4.0  5.0  6.0   7.0\n",
       " 4.0  5.0  6.0  7.0   8.0\n",
       " 5.0  6.0  7.0  8.0   9.0\n",
       " 6.0  7.0  8.0  9.0  10.0"
      ]
     },
     "execution_count": 14,
     "metadata": {},
     "output_type": "execute_result"
    }
   ],
   "source": [
    "for i=1:5, j=1:5\n",
    "   A[i, j] = i+j  # Square brackets for indices.  Also: indices start at 1, not 0.\n",
    "end\n",
    "\n",
    "A"
   ]
  },
  {
   "cell_type": "markdown",
   "metadata": {},
   "source": [
    "The Julia way would be to use a so-called **array comprehension**:"
   ]
  },
  {
   "cell_type": "code",
   "execution_count": 15,
   "metadata": {},
   "outputs": [
    {
     "data": {
      "text/plain": [
       "5×5 Array{Int64,2}:\n",
       " 2  3  4  5   6\n",
       " 3  4  5  6   7\n",
       " 4  5  6  7   8\n",
       " 5  6  7  8   9\n",
       " 6  7  8  9  10"
      ]
     },
     "execution_count": 15,
     "metadata": {},
     "output_type": "execute_result"
    }
   ],
   "source": [
    "[i+j for i=1:5, j=1:5]"
   ]
  },
  {
   "cell_type": "markdown",
   "metadata": {},
   "source": [
    "**Explore**: What does the following do? "
   ]
  },
  {
   "cell_type": "code",
   "execution_count": 16,
   "metadata": {},
   "outputs": [
    {
     "data": {
      "text/plain": [
       "7-element Array{Int64,1}:\n",
       "  100\n",
       "  400\n",
       "  900\n",
       " 1600\n",
       " 2500\n",
       " 3600\n",
       " 4900"
      ]
     },
     "execution_count": 16,
     "metadata": {},
     "output_type": "execute_result"
    }
   ],
   "source": [
    "[i*100 for i in (1:7).^2]"
   ]
  },
  {
   "cell_type": "markdown",
   "metadata": {},
   "source": [
    "**Explore**: What does the following do? "
   ]
  },
  {
   "cell_type": "code",
   "execution_count": 17,
   "metadata": {},
   "outputs": [
    {
     "data": {
      "text/plain": [
       "15-element Array{Int64,1}:\n",
       "  2\n",
       "  5\n",
       "  8\n",
       " 10\n",
       " 13\n",
       " 17\n",
       " 18\n",
       " 20\n",
       " 25\n",
       " 26\n",
       " 29\n",
       " 32\n",
       " 34\n",
       " 41\n",
       " 50"
      ]
     },
     "execution_count": 17,
     "metadata": {},
     "output_type": "execute_result"
    }
   ],
   "source": [
    "sort(unique(x^2 + y^2 for x in 1:5, y in 1:5))  # The inner parentheses define a **generator**"
   ]
  },
  {
   "cell_type": "markdown",
   "metadata": {},
   "source": [
    "Suppose we want to see $n \\times n$ multiplication tables for $n=1,2,3,4,5$:"
   ]
  },
  {
   "cell_type": "code",
   "execution_count": 18,
   "metadata": {},
   "outputs": [
    {
     "data": {
      "text/plain": [
       "1×1 Array{Int64,2}:\n",
       " 1"
      ]
     },
     "metadata": {},
     "output_type": "display_data"
    },
    {
     "data": {
      "text/plain": [
       "2×2 Array{Int64,2}:\n",
       " 1  2\n",
       " 2  4"
      ]
     },
     "metadata": {},
     "output_type": "display_data"
    },
    {
     "data": {
      "text/plain": [
       "3×3 Array{Int64,2}:\n",
       " 1  2  3\n",
       " 2  4  6\n",
       " 3  6  9"
      ]
     },
     "metadata": {},
     "output_type": "display_data"
    },
    {
     "data": {
      "text/plain": [
       "4×4 Array{Int64,2}:\n",
       " 1  2   3   4\n",
       " 2  4   6   8\n",
       " 3  6   9  12\n",
       " 4  8  12  16"
      ]
     },
     "metadata": {},
     "output_type": "display_data"
    },
    {
     "data": {
      "text/plain": [
       "5×5 Array{Int64,2}:\n",
       " 1   2   3   4   5\n",
       " 2   4   6   8  10\n",
       " 3   6   9  12  15\n",
       " 4   8  12  16  20\n",
       " 5  10  15  20  25"
      ]
     },
     "metadata": {},
     "output_type": "display_data"
    }
   ],
   "source": [
    "for n = 1:5\n",
    "    display([i*j for i=1:n, j=1:n])\n",
    "end"
   ]
  },
  {
   "cell_type": "markdown",
   "metadata": {},
   "source": [
    "# `Interact.jl` is a Julia *package* for interacting with data"
   ]
  },
  {
   "cell_type": "markdown",
   "metadata": {},
   "source": [
    "It's way more fun to **interact** with our data.\n",
    "We install the `Interact.jl` package as follows; this needs to be executed only once for any given Julia installation:"
   ]
  },
  {
   "cell_type": "code",
   "execution_count": 58,
   "metadata": {},
   "outputs": [
    {
     "name": "stderr",
     "output_type": "stream",
     "text": [
      "\u001b[1m\u001b[36mINFO: \u001b[39m\u001b[22m\u001b[36mChecking out Interact master...\n",
      "\u001b[39m\u001b[1m\u001b[36mINFO: \u001b[39m\u001b[22m\u001b[36mPulling Interact latest master...\n",
      "\u001b[39m\u001b[1m\u001b[36mINFO: \u001b[39m\u001b[22m\u001b[36mNo packages to install, update or remove\n",
      "\u001b[39m"
     ]
    }
   ],
   "source": [
    "# Pkg.add(\"Interact\")\n",
    "Pkg.checkout(\"Interact\")"
   ]
  },
  {
   "cell_type": "markdown",
   "metadata": {},
   "source": [
    "Now we load the package with the following `using` command, in each Julia session:"
   ]
  },
  {
   "cell_type": "code",
   "execution_count": 1,
   "metadata": {},
   "outputs": [
    {
     "name": "stderr",
     "output_type": "stream",
     "text": [
      "\u001b[1m\u001b[36mINFO: \u001b[39m\u001b[22m\u001b[36mRecompiling stale cache file /Users/edelman/.julia/lib/v0.6/Interact.ji for module Interact.\n",
      "\u001b[39m"
     ]
    },
    {
     "data": {
      "text/html": [
       "<div id=\"interact-js-shim\">\n",
       "    <script charset=\"utf-8\">\n",
       "(function (IPython, $, _, MathJax) {\n",
       "    $.event.special.destroyed = {\n",
       "\tremove: function(o) {\n",
       "\t    if (o.handler) {\n",
       "\t\to.handler.apply(this, arguments)\n",
       "\t    }\n",
       "\t}\n",
       "    }\n",
       "\n",
       "    var OutputArea = IPython.version >= \"4.0.0\" ? require(\"notebook/js/outputarea\").OutputArea : IPython.OutputArea;\n",
       "\n",
       "    var redrawValue = function (container, type, val) {\n",
       "\tvar selector = $(\"<div/>\");\n",
       "\tvar oa = new OutputArea(_.extend(selector, {\n",
       "\t    selector: selector,\n",
       "\t    prompt_area: true,\n",
       "\t    events: IPython.events,\n",
       "\t    keyboard_manager: IPython.keyboard_manager\n",
       "\t})); // Hack to work with IPython 2.1.0\n",
       "\n",
       "\tswitch (type) {\n",
       "\tcase \"image/png\":\n",
       "            var _src = 'data:' + type + ';base64,' + val;\n",
       "\t    $(container).find(\"img\").attr('src', _src);\n",
       "\t    break;\n",
       "\tcase \"text/latex\":\n",
       "\t\tif (MathJax){\n",
       "\t\t\tvar math = MathJax.Hub.getAllJax(container)[0];\n",
       "\t\t\tMathJax.Hub.Queue([\"Text\", math, val.replace(/^\\${1,2}|\\${1,2}$/g, '')]);\n",
       "\t\t\tbreak;\n",
       "\t\t}\n",
       "\tdefault:\n",
       "\t    var toinsert = OutputArea.append_map[type].apply(\n",
       "\t\toa, [val, {}, selector]\n",
       "\t    );\n",
       "\t    $(container).empty().append(toinsert.contents());\n",
       "\t    selector.remove();\n",
       "\t}\n",
       "    }\n",
       "\n",
       "\n",
       "    $(document).ready(function() {\n",
       "\tfunction initComm(evt, data) {\n",
       "\t    var comm_manager = data.kernel.comm_manager;\n",
       "        //_.extend(comm_manager.targets, require(\"widgets/js/widget\"))\n",
       "\t    comm_manager.register_target(\"Signal\", function (comm) {\n",
       "            comm.on_msg(function (msg) {\n",
       "                var val = msg.content.data.value;\n",
       "                $(\".signal-\" + comm.comm_id).each(function() {\n",
       "                var type = $(this).data(\"type\");\n",
       "                if (typeof(val[type]) !== \"undefined\" && val[type] !== null) {\n",
       "                    redrawValue(this, type, val[type], type);\n",
       "                }\n",
       "                });\n",
       "                delete val;\n",
       "                delete msg.content.data.value;\n",
       "            });\n",
       "\t    });\n",
       "\n",
       "\t    // coordingate with Comm and redraw Signals\n",
       "\t    // XXX: Test using Reactive here to improve performance\n",
       "\t    $([IPython.events]).on(\n",
       "\t\t'output_appended.OutputArea', function (event, type, value, md, toinsert) {\n",
       "\t\t    if (md && md.reactive) {\n",
       "                // console.log(md.comm_id);\n",
       "                toinsert.addClass(\"signal-\" + md.comm_id);\n",
       "                toinsert.data(\"type\", type);\n",
       "                // Signal back indicating the mimetype required\n",
       "                var comm_manager = IPython.notebook.kernel.comm_manager;\n",
       "                var comm = comm_manager.comms[md.comm_id];\n",
       "                comm.then(function (c) {\n",
       "                    c.send({action: \"subscribe_mime\",\n",
       "                       mime: type});\n",
       "                    toinsert.bind(\"destroyed\", function() {\n",
       "                        c.send({action: \"unsubscribe_mime\",\n",
       "                               mime: type});\n",
       "                    });\n",
       "                })\n",
       "\t\t    }\n",
       "\t    });\n",
       "\t}\n",
       "\n",
       "\ttry {\n",
       "\t    // try to initialize right away. otherwise, wait on the status_started event.\n",
       "\t    initComm(undefined, IPython.notebook);\n",
       "\t} catch (e) {\n",
       "\t    $([IPython.events]).on('kernel_created.Kernel kernel_created.Session', initComm);\n",
       "\t}\n",
       "    });\n",
       "})(IPython, jQuery, _, MathJax);\n",
       "</script>\n",
       "    <script>\n",
       "        window.interactLoadedFlag = true\n",
       "       $(\"#interact-js-shim\").bind(\"destroyed\", function () {\n",
       "           if (window.interactLoadedFlag) {\n",
       "               console.warn(\"JavaScript required by Interact will be removed if you remove this cell or run using Interact more than once.\")\n",
       "           }\n",
       "       })\n",
       "       $([IPython.events]).on(\"kernel_starting.Kernel kernel_restarting.Kernel\", function () { window.interactLoadedFlag = false })\n",
       "   </script>\n",
       "</div>"
      ]
     },
     "metadata": {},
     "output_type": "display_data"
    }
   ],
   "source": [
    "using Interact"
   ]
  },
  {
   "cell_type": "markdown",
   "metadata": {},
   "source": [
    "The package contains a `@manipulate` macro, that is wrapped around a `for` loop:"
   ]
  },
  {
   "cell_type": "code",
   "execution_count": 2,
   "metadata": {},
   "outputs": [
    {
     "data": {
      "text/html": [],
      "text/plain": [
       "Interact.Options{:SelectionSlider,Int64}(1: \"input\" = 500 Int64 , \"n\", 500, \"500\", Interact.OptionDict(DataStructures.OrderedDict(\"1\"=>1,\"2\"=>2,\"3\"=>3,\"4\"=>4,\"5\"=>5,\"6\"=>6,\"7\"=>7,\"8\"=>8,\"9\"=>9,\"10\"=>10…), Dict(306=>\"306\",29=>\"29\",74=>\"74\",905=>\"905\",176=>\"176\",892=>\"892\",285=>\"285\",318=>\"318\",873=>\"873\",975=>\"975\"…)), Any[], Any[], true, \"horizontal\")"
      ]
     },
     "metadata": {},
     "output_type": "display_data"
    },
    {
     "data": {
      "text/plain": [
       "500"
      ]
     },
     "execution_count": 2,
     "metadata": {
      "comm_id": "0cdef652-0270-407f-a81f-468c6e7e12bd",
      "reactive": true
     },
     "output_type": "execute_result"
    }
   ],
   "source": [
    "@manipulate for n = 1:1000\n",
    "    n\n",
    "end"
   ]
  },
  {
   "cell_type": "code",
   "execution_count": 3,
   "metadata": {},
   "outputs": [
    {
     "data": {
      "text/html": [],
      "text/plain": [
       "Interact.Options{:SelectionSlider,Int64}(5: \"input-2\" = 10 Int64 , \"n\", 10, \"10\", Interact.OptionDict(DataStructures.OrderedDict(\"1\"=>1,\"2\"=>2,\"3\"=>3,\"4\"=>4,\"5\"=>5,\"6\"=>6,\"7\"=>7,\"8\"=>8,\"9\"=>9,\"10\"=>10…), Dict(18=>\"18\",2=>\"2\",16=>\"16\",11=>\"11\",7=>\"7\",9=>\"9\",10=>\"10\",19=>\"19\",17=>\"17\",8=>\"8\"…)), Any[], Any[], true, \"horizontal\")"
      ]
     },
     "metadata": {},
     "output_type": "display_data"
    },
    {
     "data": {
      "text/plain": [
       "10×10 Array{Int64,2}:\n",
       "  1   2   3   4   5   6   7   8   9   10\n",
       "  2   4   6   8  10  12  14  16  18   20\n",
       "  3   6   9  12  15  18  21  24  27   30\n",
       "  4   8  12  16  20  24  28  32  36   40\n",
       "  5  10  15  20  25  30  35  40  45   50\n",
       "  6  12  18  24  30  36  42  48  54   60\n",
       "  7  14  21  28  35  42  49  56  63   70\n",
       "  8  16  24  32  40  48  56  64  72   80\n",
       "  9  18  27  36  45  54  63  72  81   90\n",
       " 10  20  30  40  50  60  70  80  90  100"
      ]
     },
     "execution_count": 3,
     "metadata": {
      "comm_id": "7eddcd8c-d7dc-4d88-a428-83807b9155c5",
      "reactive": true
     },
     "output_type": "execute_result"
    }
   ],
   "source": [
    "@manipulate for n=1:20\n",
    "    [i*j for i=1:n, j=1:n]\n",
    "end"
   ]
  },
  {
   "cell_type": "markdown",
   "metadata": {},
   "source": [
    "We use a double `for` loop to get a double slider!"
   ]
  },
  {
   "cell_type": "code",
   "execution_count": 23,
   "metadata": {},
   "outputs": [
    {
     "data": {
      "text/html": [],
      "text/plain": [
       "Interact.Options{:SelectionSlider,Int64}(13: \"input-4\" = 6 Int64 , \"n\", 6, \"6\", Interact.OptionDict(DataStructures.OrderedDict(\"3\"=>3,\"4\"=>4,\"5\"=>5,\"6\"=>6,\"7\"=>7,\"8\"=>8,\"9\"=>9,\"10\"=>10), Dict(7=>\"7\",4=>\"4\",9=>\"9\",10=>\"10\",3=>\"3\",5=>\"5\",8=>\"8\",6=>\"6\")), Any[], Any[], true, \"horizontal\")"
      ]
     },
     "metadata": {},
     "output_type": "display_data"
    },
    {
     "data": {
      "text/html": [],
      "text/plain": [
       "Interact.Options{:SelectionSlider,Int64}(15: \"input-5\" = 5 Int64 , \"i\", 5, \"5\", Interact.OptionDict(DataStructures.OrderedDict(\"1\"=>1,\"2\"=>2,\"3\"=>3,\"4\"=>4,\"5\"=>5,\"6\"=>6,\"7\"=>7,\"8\"=>8,\"9\"=>9), Dict(7=>\"7\",4=>\"4\",9=>\"9\",2=>\"2\",3=>\"3\",5=>\"5\",8=>\"8\",6=>\"6\",1=>\"1\")), Any[], Any[], true, \"horizontal\")"
      ]
     },
     "metadata": {},
     "output_type": "display_data"
    },
    {
     "data": {
      "text/plain": [
       "6×6 Array{Int64,2}:\n",
       " 5  5  5  0  0  0\n",
       " 5  5  5  0  0  0\n",
       " 5  5  5  0  0  0\n",
       " 0  0  0  0  0  0\n",
       " 0  0  0  0  0  0\n",
       " 0  0  0  0  0  0"
      ]
     },
     "execution_count": 23,
     "metadata": {
      "comm_id": "3905bd42-a378-4814-8e4a-40ac5f0bc653",
      "reactive": true
     },
     "output_type": "execute_result"
    }
   ],
   "source": [
    "@manipulate for n=3:10, i=1:9\n",
    "   A = fill(0, n, n)\n",
    "   A[1:3, 1:3] = i    # fill a sub-block\n",
    "A\n",
    "end"
   ]
  },
  {
   "cell_type": "markdown",
   "metadata": {},
   "source": [
    "# Functions"
   ]
  },
  {
   "cell_type": "markdown",
   "metadata": {},
   "source": [
    "Julia is built around functions: all \"commands\" or \"operations\" in Julia are functions:"
   ]
  },
  {
   "cell_type": "code",
   "execution_count": 24,
   "metadata": {
    "collapsed": true
   },
   "outputs": [],
   "source": [
    "# verbose form:\n",
    "function f(x)\n",
    "    x^2\n",
    "end\n",
    "\n",
    "# one-line form:\n",
    "f2(x) = x^2\n",
    "\n",
    "# anonymous form:\n",
    "f3 = x -> x^2;"
   ]
  },
  {
   "cell_type": "code",
   "execution_count": 25,
   "metadata": {},
   "outputs": [
    {
     "data": {
      "text/plain": [
       "100"
      ]
     },
     "execution_count": 25,
     "metadata": {},
     "output_type": "execute_result"
    }
   ],
   "source": [
    "f(10)"
   ]
  },
  {
   "cell_type": "markdown",
   "metadata": {},
   "source": [
    "Functions just work, as long as they make sense:"
   ]
  },
  {
   "cell_type": "code",
   "execution_count": 26,
   "metadata": {},
   "outputs": [
    {
     "data": {
      "text/plain": [
       "3×3 Array{Float64,2}:\n",
       " 1.08381  0.837577  0.729136\n",
       " 1.30423  1.10474   1.04467 \n",
       " 1.17825  0.731022  0.720024"
      ]
     },
     "execution_count": 26,
     "metadata": {},
     "output_type": "execute_result"
    }
   ],
   "source": [
    "f(rand(3, 3))"
   ]
  },
  {
   "cell_type": "code",
   "execution_count": 27,
   "metadata": {},
   "outputs": [
    {
     "data": {
      "text/plain": [
       "f (generic function with 2 methods)"
      ]
     },
     "execution_count": 27,
     "metadata": {},
     "output_type": "execute_result"
    }
   ],
   "source": [
    "function f(x, power=2) # default argument\n",
    "    x^power\n",
    "end"
   ]
  },
  {
   "cell_type": "code",
   "execution_count": 28,
   "metadata": {},
   "outputs": [
    {
     "data": {
      "text/plain": [
       "49"
      ]
     },
     "execution_count": 28,
     "metadata": {},
     "output_type": "execute_result"
    }
   ],
   "source": [
    "f(7)"
   ]
  },
  {
   "cell_type": "code",
   "execution_count": 29,
   "metadata": {},
   "outputs": [
    {
     "data": {
      "text/plain": [
       "1000"
      ]
     },
     "execution_count": 29,
     "metadata": {},
     "output_type": "execute_result"
    }
   ],
   "source": [
    "f(10,3)"
   ]
  },
  {
   "cell_type": "markdown",
   "metadata": {},
   "source": [
    "Let's define a function to insert a block in a matrix:"
   ]
  },
  {
   "cell_type": "code",
   "execution_count": 30,
   "metadata": {},
   "outputs": [
    {
     "data": {
      "text/plain": [
       "insert_block (generic function with 2 methods)"
      ]
     },
     "execution_count": 30,
     "metadata": {},
     "output_type": "execute_result"
    }
   ],
   "source": [
    "function insert_block(A, i, j, what=7)\n",
    "    B = A[:,:]        # B is a copy of A       \n",
    "    B[i:i+2, j:j+2] = fill(what, 3, 3)\n",
    "    \n",
    "    return B          # the `return` keyword is optional\n",
    "end"
   ]
  },
  {
   "cell_type": "code",
   "execution_count": 31,
   "metadata": {},
   "outputs": [
    {
     "data": {
      "text/plain": [
       "9×9 Array{Int64,2}:\n",
       " 0  0  0  0  0  0  0  0  0\n",
       " 0  0  0  0  0  0  0  0  0\n",
       " 0  0  0  0  7  7  7  0  0\n",
       " 0  0  0  0  7  7  7  0  0\n",
       " 0  0  0  0  7  7  7  0  0\n",
       " 0  0  0  0  0  0  0  0  0\n",
       " 0  0  0  0  0  0  0  0  0\n",
       " 0  0  0  0  0  0  0  0  0\n",
       " 0  0  0  0  0  0  0  0  0"
      ]
     },
     "execution_count": 31,
     "metadata": {},
     "output_type": "execute_result"
    }
   ],
   "source": [
    "A = fill(0, 9, 9)\n",
    "insert_block(A, 3, 5)  # this returns the new matrix"
   ]
  },
  {
   "cell_type": "code",
   "execution_count": 32,
   "metadata": {},
   "outputs": [
    {
     "data": {
      "text/plain": [
       "9×9 Array{Int64,2}:\n",
       " 0  0  0  0  0  0  0  0  0\n",
       " 0  0  0  0  0  0  0  0  0\n",
       " 0  0  0  0  2  2  2  0  0\n",
       " 0  0  0  0  2  2  2  0  0\n",
       " 0  0  0  0  2  2  2  0  0\n",
       " 0  0  0  0  0  0  0  0  0\n",
       " 0  0  0  0  0  0  0  0  0\n",
       " 0  0  0  0  0  0  0  0  0\n",
       " 0  0  0  0  0  0  0  0  0"
      ]
     },
     "execution_count": 32,
     "metadata": {},
     "output_type": "execute_result"
    }
   ],
   "source": [
    "A = fill(0, 9, 9)\n",
    "insert_block(A, 3, 5, 2)  # Use 2 instead of 7"
   ]
  },
  {
   "cell_type": "markdown",
   "metadata": {},
   "source": [
    "We can move the block around:"
   ]
  },
  {
   "cell_type": "code",
   "execution_count": 33,
   "metadata": {},
   "outputs": [
    {
     "data": {
      "text/html": [],
      "text/plain": [
       "Interact.Options{:SelectionSlider,Int64}(19: \"input-6\" = 4 Int64 , \"i\", 4, \"4\", Interact.OptionDict(DataStructures.OrderedDict(\"1\"=>1,\"2\"=>2,\"3\"=>3,\"4\"=>4,\"5\"=>5,\"6\"=>6,\"7\"=>7,\"8\"=>8), Dict(7=>\"7\",4=>\"4\",2=>\"2\",3=>\"3\",5=>\"5\",8=>\"8\",6=>\"6\",1=>\"1\")), Any[], Any[], true, \"horizontal\")"
      ]
     },
     "metadata": {},
     "output_type": "display_data"
    },
    {
     "data": {
      "text/html": [],
      "text/plain": [
       "Interact.Options{:SelectionSlider,Int64}(21: \"input-7\" = 4 Int64 , \"j\", 4, \"4\", Interact.OptionDict(DataStructures.OrderedDict(\"1\"=>1,\"2\"=>2,\"3\"=>3,\"4\"=>4,\"5\"=>5,\"6\"=>6,\"7\"=>7,\"8\"=>8), Dict(7=>\"7\",4=>\"4\",2=>\"2\",3=>\"3\",5=>\"5\",8=>\"8\",6=>\"6\",1=>\"1\")), Any[], Any[], true, \"horizontal\")"
      ]
     },
     "metadata": {},
     "output_type": "display_data"
    },
    {
     "data": {
      "text/plain": [
       "10×10 Array{Int64,2}:\n",
       " 0  0  0  0  0  0  0  0  0  0\n",
       " 0  0  0  0  0  0  0  0  0  0\n",
       " 0  0  0  0  0  0  0  0  0  0\n",
       " 0  0  0  7  7  7  0  0  0  0\n",
       " 0  0  0  7  7  7  0  0  0  0\n",
       " 0  0  0  7  7  7  0  0  0  0\n",
       " 0  0  0  0  0  0  0  0  0  0\n",
       " 0  0  0  0  0  0  0  0  0  0\n",
       " 0  0  0  0  0  0  0  0  0  0\n",
       " 0  0  0  0  0  0  0  0  0  0"
      ]
     },
     "execution_count": 33,
     "metadata": {
      "comm_id": "298be853-0fbc-416b-801d-520041dd7af1",
      "reactive": true
     },
     "output_type": "execute_result"
    }
   ],
   "source": [
    "A = fill(0, 10, 10)\n",
    "n = size(A, 1)\n",
    "\n",
    "@manipulate for i in 1:n-2, j in 1:n-2\n",
    "    insert_block(A, i, j)\n",
    "end"
   ]
  },
  {
   "cell_type": "markdown",
   "metadata": {},
   "source": [
    "# Strings"
   ]
  },
  {
   "cell_type": "markdown",
   "metadata": {},
   "source": [
    "Julia can manipulate strings easily:"
   ]
  },
  {
   "cell_type": "code",
   "execution_count": 34,
   "metadata": {},
   "outputs": [
    {
     "data": {
      "text/plain": [
       "\"Hello\""
      ]
     },
     "execution_count": 34,
     "metadata": {},
     "output_type": "execute_result"
    }
   ],
   "source": [
    "S = \"Hello\""
   ]
  },
  {
   "cell_type": "code",
   "execution_count": 35,
   "metadata": {},
   "outputs": [
    {
     "data": {
      "text/plain": [
       "\"Jello\""
      ]
     },
     "execution_count": 35,
     "metadata": {},
     "output_type": "execute_result"
    }
   ],
   "source": [
    "replace(S, \"H\", \"J\")"
   ]
  },
  {
   "cell_type": "code",
   "execution_count": 36,
   "metadata": {},
   "outputs": [
    {
     "data": {
      "text/plain": [
       "3"
      ]
     },
     "execution_count": 36,
     "metadata": {},
     "output_type": "execute_result"
    }
   ],
   "source": [
    "a = 3"
   ]
  },
  {
   "cell_type": "code",
   "execution_count": 37,
   "metadata": {},
   "outputs": [
    {
     "data": {
      "text/plain": [
       "\"Hello Hello Julia; a = 3\""
      ]
     },
     "execution_count": 37,
     "metadata": {},
     "output_type": "execute_result"
    }
   ],
   "source": [
    "string(S, \" \", S, \" \", \"Julia; a = \", a)  # build a string by concatenating things"
   ]
  },
  {
   "cell_type": "markdown",
   "metadata": {},
   "source": [
    "More about strings: <a href=\"http://docs.julialang.org/en/stable/manual/strings/\"> Julia Doc on Strings </a>"
   ]
  },
  {
   "cell_type": "markdown",
   "metadata": {},
   "source": [
    "Functions in Julia try to be **generic**, i.e. to work with as many kinds of object as possible:"
   ]
  },
  {
   "cell_type": "code",
   "execution_count": 38,
   "metadata": {},
   "outputs": [
    {
     "data": {
      "text/plain": [
       "5×5 Array{String,2}:\n",
       " \"Julia\"  \"Julia\"  \"Julia\"  \"Julia\"  \"Julia\"\n",
       " \"Julia\"  \"Julia\"  \"Julia\"  \"Julia\"  \"Julia\"\n",
       " \"Julia\"  \"Julia\"  \"Julia\"  \"Julia\"  \"Julia\"\n",
       " \"Julia\"  \"Julia\"  \"Julia\"  \"Julia\"  \"Julia\"\n",
       " \"Julia\"  \"Julia\"  \"Julia\"  \"Julia\"  \"Julia\""
      ]
     },
     "execution_count": 38,
     "metadata": {},
     "output_type": "execute_result"
    }
   ],
   "source": [
    "A = fill(\"Julia\", 5, 5)"
   ]
  },
  {
   "cell_type": "markdown",
   "metadata": {},
   "source": [
    "Julia allows us to display objects in different ways. For example, the following code displays a matrix of strings\n",
    "in the notebook using an HTML representation:"
   ]
  },
  {
   "cell_type": "code",
   "execution_count": 39,
   "metadata": {
    "collapsed": true
   },
   "outputs": [],
   "source": [
    "function Base.show{T<:String}(io::IO, ::MIME\"text/html\", M::Matrix{T}) \n",
    "    max_length = maximum(length.(M))\n",
    "    dv=\"<div style='display:flex;flex-direction:row'>\"\n",
    "    print(io, dv*join([join(\"<div style='width:40px; text-align:center'>\".*M[i,:].*\"</div>\", \" \") for i in 1:size(M, 1)]\n",
    "            , \"</div>$dv\")*\"</div>\")\n",
    "end"
   ]
  },
  {
   "cell_type": "code",
   "execution_count": 40,
   "metadata": {},
   "outputs": [
    {
     "data": {
      "text/html": [
       "<div style='display:flex;flex-direction:row'><div style='width:40px; text-align:center'>Julia</div> <div style='width:40px; text-align:center'>Julia</div> <div style='width:40px; text-align:center'>Julia</div> <div style='width:40px; text-align:center'>Julia</div> <div style='width:40px; text-align:center'>Julia</div></div><div style='display:flex;flex-direction:row'><div style='width:40px; text-align:center'>Julia</div> <div style='width:40px; text-align:center'>Julia</div> <div style='width:40px; text-align:center'>Julia</div> <div style='width:40px; text-align:center'>Julia</div> <div style='width:40px; text-align:center'>Julia</div></div><div style='display:flex;flex-direction:row'><div style='width:40px; text-align:center'>Julia</div> <div style='width:40px; text-align:center'>Julia</div> <div style='width:40px; text-align:center'>Julia</div> <div style='width:40px; text-align:center'>Julia</div> <div style='width:40px; text-align:center'>Julia</div></div><div style='display:flex;flex-direction:row'><div style='width:40px; text-align:center'>Julia</div> <div style='width:40px; text-align:center'>Julia</div> <div style='width:40px; text-align:center'>Julia</div> <div style='width:40px; text-align:center'>Julia</div> <div style='width:40px; text-align:center'>Julia</div></div><div style='display:flex;flex-direction:row'><div style='width:40px; text-align:center'>Julia</div> <div style='width:40px; text-align:center'>Julia</div> <div style='width:40px; text-align:center'>Julia</div> <div style='width:40px; text-align:center'>Julia</div> <div style='width:40px; text-align:center'>Julia</div></div>"
      ],
      "text/plain": [
       "5×5 Array{String,2}:\n",
       " \"Julia\"  \"Julia\"  \"Julia\"  \"Julia\"  \"Julia\"\n",
       " \"Julia\"  \"Julia\"  \"Julia\"  \"Julia\"  \"Julia\"\n",
       " \"Julia\"  \"Julia\"  \"Julia\"  \"Julia\"  \"Julia\"\n",
       " \"Julia\"  \"Julia\"  \"Julia\"  \"Julia\"  \"Julia\"\n",
       " \"Julia\"  \"Julia\"  \"Julia\"  \"Julia\"  \"Julia\""
      ]
     },
     "execution_count": 40,
     "metadata": {},
     "output_type": "execute_result"
    }
   ],
   "source": [
    "A"
   ]
  },
  {
   "cell_type": "code",
   "execution_count": 41,
   "metadata": {},
   "outputs": [
    {
     "data": {
      "text/html": [],
      "text/plain": [
       "Interact.Options{:SelectionSlider,Int64}(25: \"input-8\" = 4 Int64 , \"i\", 4, \"4\", Interact.OptionDict(DataStructures.OrderedDict(\"1\"=>1,\"2\"=>2,\"3\"=>3,\"4\"=>4,\"5\"=>5,\"6\"=>6,\"7\"=>7,\"8\"=>8), Dict(7=>\"7\",4=>\"4\",2=>\"2\",3=>\"3\",5=>\"5\",8=>\"8\",6=>\"6\",1=>\"1\")), Any[], Any[], true, \"horizontal\")"
      ]
     },
     "metadata": {},
     "output_type": "display_data"
    },
    {
     "data": {
      "text/html": [],
      "text/plain": [
       "Interact.Options{:SelectionSlider,Int64}(27: \"input-9\" = 4 Int64 , \"j\", 4, \"4\", Interact.OptionDict(DataStructures.OrderedDict(\"1\"=>1,\"2\"=>2,\"3\"=>3,\"4\"=>4,\"5\"=>5,\"6\"=>6,\"7\"=>7,\"8\"=>8), Dict(7=>\"7\",4=>\"4\",2=>\"2\",3=>\"3\",5=>\"5\",8=>\"8\",6=>\"6\",1=>\"1\")), Any[], Any[], true, \"horizontal\")"
      ]
     },
     "metadata": {},
     "output_type": "display_data"
    },
    {
     "data": {
      "text/plain": [
       "10×10 Array{Int64,2}:\n",
       " 0  0  0  0  0  0  0  0  0  0\n",
       " 0  0  0  0  0  0  0  0  0  0\n",
       " 0  0  0  0  0  0  0  0  0  0\n",
       " 0  0  0  7  7  7  0  0  0  0\n",
       " 0  0  0  7  7  7  0  0  0  0\n",
       " 0  0  0  7  7  7  0  0  0  0\n",
       " 0  0  0  0  0  0  0  0  0  0\n",
       " 0  0  0  0  0  0  0  0  0  0\n",
       " 0  0  0  0  0  0  0  0  0  0\n",
       " 0  0  0  0  0  0  0  0  0  0"
      ]
     },
     "execution_count": 41,
     "metadata": {
      "comm_id": "2bb99986-e835-4391-8ebf-9e542a1c0ea1",
      "reactive": true
     },
     "output_type": "execute_result"
    }
   ],
   "source": [
    "# Remember this ????\n",
    "A = fill(0, 10, 10)\n",
    "n = size(A, 1)\n",
    "\n",
    "@manipulate for i in 1:n-2, j in 1:n-2\n",
    "    insert_block(A, i,j)\n",
    "end"
   ]
  },
  {
   "cell_type": "markdown",
   "metadata": {},
   "source": [
    "Let's use the **same code**, but now with strings:"
   ]
  },
  {
   "cell_type": "code",
   "execution_count": 42,
   "metadata": {},
   "outputs": [
    {
     "data": {
      "text/html": [],
      "text/plain": [
       "Interact.Options{:SelectionSlider,Int64}(31: \"input-10\" = 4 Int64 , \"i\", 4, \"4\", Interact.OptionDict(DataStructures.OrderedDict(\"1\"=>1,\"2\"=>2,\"3\"=>3,\"4\"=>4,\"5\"=>5,\"6\"=>6,\"7\"=>7,\"8\"=>8), Dict(7=>\"7\",4=>\"4\",2=>\"2\",3=>\"3\",5=>\"5\",8=>\"8\",6=>\"6\",1=>\"1\")), Any[], Any[], true, \"horizontal\")"
      ]
     },
     "metadata": {},
     "output_type": "display_data"
    },
    {
     "data": {
      "text/html": [],
      "text/plain": [
       "Interact.Options{:SelectionSlider,Int64}(33: \"input-11\" = 4 Int64 , \"j\", 4, \"4\", Interact.OptionDict(DataStructures.OrderedDict(\"1\"=>1,\"2\"=>2,\"3\"=>3,\"4\"=>4,\"5\"=>5,\"6\"=>6,\"7\"=>7,\"8\"=>8), Dict(7=>\"7\",4=>\"4\",2=>\"2\",3=>\"3\",5=>\"5\",8=>\"8\",6=>\"6\",1=>\"1\")), Any[], Any[], true, \"horizontal\")"
      ]
     },
     "metadata": {},
     "output_type": "display_data"
    },
    {
     "data": {
      "text/html": [
       "<div style='display:flex;flex-direction:row'><div style='width:40px; text-align:center'>Julia</div> <div style='width:40px; text-align:center'>Julia</div> <div style='width:40px; text-align:center'>Julia</div> <div style='width:40px; text-align:center'>Julia</div> <div style='width:40px; text-align:center'>Julia</div> <div style='width:40px; text-align:center'>Julia</div> <div style='width:40px; text-align:center'>Julia</div> <div style='width:40px; text-align:center'>Julia</div> <div style='width:40px; text-align:center'>Julia</div> <div style='width:40px; text-align:center'>Julia</div></div><div style='display:flex;flex-direction:row'><div style='width:40px; text-align:center'>Julia</div> <div style='width:40px; text-align:center'>Julia</div> <div style='width:40px; text-align:center'>Julia</div> <div style='width:40px; text-align:center'>Julia</div> <div style='width:40px; text-align:center'>Julia</div> <div style='width:40px; text-align:center'>Julia</div> <div style='width:40px; text-align:center'>Julia</div> <div style='width:40px; text-align:center'>Julia</div> <div style='width:40px; text-align:center'>Julia</div> <div style='width:40px; text-align:center'>Julia</div></div><div style='display:flex;flex-direction:row'><div style='width:40px; text-align:center'>Julia</div> <div style='width:40px; text-align:center'>Julia</div> <div style='width:40px; text-align:center'>Julia</div> <div style='width:40px; text-align:center'>Julia</div> <div style='width:40px; text-align:center'>Julia</div> <div style='width:40px; text-align:center'>Julia</div> <div style='width:40px; text-align:center'>Julia</div> <div style='width:40px; text-align:center'>Julia</div> <div style='width:40px; text-align:center'>Julia</div> <div style='width:40px; text-align:center'>Julia</div></div><div style='display:flex;flex-direction:row'><div style='width:40px; text-align:center'>Julia</div> <div style='width:40px; text-align:center'>Julia</div> <div style='width:40px; text-align:center'>Julia</div> <div style='width:40px; text-align:center'>[FUN]</div> <div style='width:40px; text-align:center'>[FUN]</div> <div style='width:40px; text-align:center'>[FUN]</div> <div style='width:40px; text-align:center'>Julia</div> <div style='width:40px; text-align:center'>Julia</div> <div style='width:40px; text-align:center'>Julia</div> <div style='width:40px; text-align:center'>Julia</div></div><div style='display:flex;flex-direction:row'><div style='width:40px; text-align:center'>Julia</div> <div style='width:40px; text-align:center'>Julia</div> <div style='width:40px; text-align:center'>Julia</div> <div style='width:40px; text-align:center'>[FUN]</div> <div style='width:40px; text-align:center'>[FUN]</div> <div style='width:40px; text-align:center'>[FUN]</div> <div style='width:40px; text-align:center'>Julia</div> <div style='width:40px; text-align:center'>Julia</div> <div style='width:40px; text-align:center'>Julia</div> <div style='width:40px; text-align:center'>Julia</div></div><div style='display:flex;flex-direction:row'><div style='width:40px; text-align:center'>Julia</div> <div style='width:40px; text-align:center'>Julia</div> <div style='width:40px; text-align:center'>Julia</div> <div style='width:40px; text-align:center'>[FUN]</div> <div style='width:40px; text-align:center'>[FUN]</div> <div style='width:40px; text-align:center'>[FUN]</div> <div style='width:40px; text-align:center'>Julia</div> <div style='width:40px; text-align:center'>Julia</div> <div style='width:40px; text-align:center'>Julia</div> <div style='width:40px; text-align:center'>Julia</div></div><div style='display:flex;flex-direction:row'><div style='width:40px; text-align:center'>Julia</div> <div style='width:40px; text-align:center'>Julia</div> <div style='width:40px; text-align:center'>Julia</div> <div style='width:40px; text-align:center'>Julia</div> <div style='width:40px; text-align:center'>Julia</div> <div style='width:40px; text-align:center'>Julia</div> <div style='width:40px; text-align:center'>Julia</div> <div style='width:40px; text-align:center'>Julia</div> <div style='width:40px; text-align:center'>Julia</div> <div style='width:40px; text-align:center'>Julia</div></div><div style='display:flex;flex-direction:row'><div style='width:40px; text-align:center'>Julia</div> <div style='width:40px; text-align:center'>Julia</div> <div style='width:40px; text-align:center'>Julia</div> <div style='width:40px; text-align:center'>Julia</div> <div style='width:40px; text-align:center'>Julia</div> <div style='width:40px; text-align:center'>Julia</div> <div style='width:40px; text-align:center'>Julia</div> <div style='width:40px; text-align:center'>Julia</div> <div style='width:40px; text-align:center'>Julia</div> <div style='width:40px; text-align:center'>Julia</div></div><div style='display:flex;flex-direction:row'><div style='width:40px; text-align:center'>Julia</div> <div style='width:40px; text-align:center'>Julia</div> <div style='width:40px; text-align:center'>Julia</div> <div style='width:40px; text-align:center'>Julia</div> <div style='width:40px; text-align:center'>Julia</div> <div style='width:40px; text-align:center'>Julia</div> <div style='width:40px; text-align:center'>Julia</div> <div style='width:40px; text-align:center'>Julia</div> <div style='width:40px; text-align:center'>Julia</div> <div style='width:40px; text-align:center'>Julia</div></div><div style='display:flex;flex-direction:row'><div style='width:40px; text-align:center'>Julia</div> <div style='width:40px; text-align:center'>Julia</div> <div style='width:40px; text-align:center'>Julia</div> <div style='width:40px; text-align:center'>Julia</div> <div style='width:40px; text-align:center'>Julia</div> <div style='width:40px; text-align:center'>Julia</div> <div style='width:40px; text-align:center'>Julia</div> <div style='width:40px; text-align:center'>Julia</div> <div style='width:40px; text-align:center'>Julia</div> <div style='width:40px; text-align:center'>Julia</div></div>"
      ],
      "text/plain": [
       "10×10 Array{String,2}:\n",
       " \"Julia\"  \"Julia\"  \"Julia\"  \"Julia\"  …  \"Julia\"  \"Julia\"  \"Julia\"  \"Julia\"\n",
       " \"Julia\"  \"Julia\"  \"Julia\"  \"Julia\"     \"Julia\"  \"Julia\"  \"Julia\"  \"Julia\"\n",
       " \"Julia\"  \"Julia\"  \"Julia\"  \"Julia\"     \"Julia\"  \"Julia\"  \"Julia\"  \"Julia\"\n",
       " \"Julia\"  \"Julia\"  \"Julia\"  \"[FUN]\"     \"Julia\"  \"Julia\"  \"Julia\"  \"Julia\"\n",
       " \"Julia\"  \"Julia\"  \"Julia\"  \"[FUN]\"     \"Julia\"  \"Julia\"  \"Julia\"  \"Julia\"\n",
       " \"Julia\"  \"Julia\"  \"Julia\"  \"[FUN]\"  …  \"Julia\"  \"Julia\"  \"Julia\"  \"Julia\"\n",
       " \"Julia\"  \"Julia\"  \"Julia\"  \"Julia\"     \"Julia\"  \"Julia\"  \"Julia\"  \"Julia\"\n",
       " \"Julia\"  \"Julia\"  \"Julia\"  \"Julia\"     \"Julia\"  \"Julia\"  \"Julia\"  \"Julia\"\n",
       " \"Julia\"  \"Julia\"  \"Julia\"  \"Julia\"     \"Julia\"  \"Julia\"  \"Julia\"  \"Julia\"\n",
       " \"Julia\"  \"Julia\"  \"Julia\"  \"Julia\"     \"Julia\"  \"Julia\"  \"Julia\"  \"Julia\""
      ]
     },
     "execution_count": 42,
     "metadata": {
      "comm_id": "4430ce07-1a18-40c4-b9c8-bbf05b662827",
      "reactive": true
     },
     "output_type": "execute_result"
    }
   ],
   "source": [
    "A = fill(\"Julia\", 10, 10)\n",
    "n = size(A, 1)\n",
    "\n",
    "@manipulate for i in 1:n-2, j in 1:n-2\n",
    "    insert_block(A, i,j, \"[FUN]\")\n",
    "end"
   ]
  },
  {
   "cell_type": "code",
   "execution_count": 43,
   "metadata": {},
   "outputs": [
    {
     "data": {
      "text/html": [],
      "text/plain": [
       "Interact.Options{:SelectionSlider,Int64}(37: \"input-12\" = 4 Int64 , \"i\", 4, \"4\", Interact.OptionDict(DataStructures.OrderedDict(\"1\"=>1,\"2\"=>2,\"3\"=>3,\"4\"=>4,\"5\"=>5,\"6\"=>6,\"7\"=>7,\"8\"=>8), Dict(7=>\"7\",4=>\"4\",2=>\"2\",3=>\"3\",5=>\"5\",8=>\"8\",6=>\"6\",1=>\"1\")), Any[], Any[], true, \"horizontal\")"
      ]
     },
     "metadata": {},
     "output_type": "display_data"
    },
    {
     "data": {
      "text/html": [],
      "text/plain": [
       "Interact.Options{:SelectionSlider,Int64}(39: \"input-13\" = 4 Int64 , \"j\", 4, \"4\", Interact.OptionDict(DataStructures.OrderedDict(\"1\"=>1,\"2\"=>2,\"3\"=>3,\"4\"=>4,\"5\"=>5,\"6\"=>6,\"7\"=>7,\"8\"=>8), Dict(7=>\"7\",4=>\"4\",2=>\"2\",3=>\"3\",5=>\"5\",8=>\"8\",6=>\"6\",1=>\"1\")), Any[], Any[], true, \"horizontal\")"
      ]
     },
     "metadata": {},
     "output_type": "display_data"
    },
    {
     "data": {
      "text/html": [
       "<div style='display:flex;flex-direction:row'><div style='width:40px; text-align:center'>Julia</div> <div style='width:40px; text-align:center'>Julia</div> <div style='width:40px; text-align:center'>Julia</div> <div style='width:40px; text-align:center'>Julia</div> <div style='width:40px; text-align:center'>Julia</div> <div style='width:40px; text-align:center'>Julia</div> <div style='width:40px; text-align:center'>Julia</div> <div style='width:40px; text-align:center'>Julia</div> <div style='width:40px; text-align:center'>Julia</div> <div style='width:40px; text-align:center'>Julia</div></div><div style='display:flex;flex-direction:row'><div style='width:40px; text-align:center'>Julia</div> <div style='width:40px; text-align:center'>Julia</div> <div style='width:40px; text-align:center'>Julia</div> <div style='width:40px; text-align:center'>Julia</div> <div style='width:40px; text-align:center'>Julia</div> <div style='width:40px; text-align:center'>Julia</div> <div style='width:40px; text-align:center'>Julia</div> <div style='width:40px; text-align:center'>Julia</div> <div style='width:40px; text-align:center'>Julia</div> <div style='width:40px; text-align:center'>Julia</div></div><div style='display:flex;flex-direction:row'><div style='width:40px; text-align:center'>Julia</div> <div style='width:40px; text-align:center'>Julia</div> <div style='width:40px; text-align:center'>Julia</div> <div style='width:40px; text-align:center'>Julia</div> <div style='width:40px; text-align:center'>Julia</div> <div style='width:40px; text-align:center'>Julia</div> <div style='width:40px; text-align:center'>Julia</div> <div style='width:40px; text-align:center'>Julia</div> <div style='width:40px; text-align:center'>Julia</div> <div style='width:40px; text-align:center'>Julia</div></div><div style='display:flex;flex-direction:row'><div style='width:40px; text-align:center'>Julia</div> <div style='width:40px; text-align:center'>Julia</div> <div style='width:40px; text-align:center'>Julia</div> <div style='width:40px; text-align:center'>π</div> <div style='width:40px; text-align:center'>π</div> <div style='width:40px; text-align:center'>π</div> <div style='width:40px; text-align:center'>Julia</div> <div style='width:40px; text-align:center'>Julia</div> <div style='width:40px; text-align:center'>Julia</div> <div style='width:40px; text-align:center'>Julia</div></div><div style='display:flex;flex-direction:row'><div style='width:40px; text-align:center'>Julia</div> <div style='width:40px; text-align:center'>Julia</div> <div style='width:40px; text-align:center'>Julia</div> <div style='width:40px; text-align:center'>π</div> <div style='width:40px; text-align:center'>π</div> <div style='width:40px; text-align:center'>π</div> <div style='width:40px; text-align:center'>Julia</div> <div style='width:40px; text-align:center'>Julia</div> <div style='width:40px; text-align:center'>Julia</div> <div style='width:40px; text-align:center'>Julia</div></div><div style='display:flex;flex-direction:row'><div style='width:40px; text-align:center'>Julia</div> <div style='width:40px; text-align:center'>Julia</div> <div style='width:40px; text-align:center'>Julia</div> <div style='width:40px; text-align:center'>π</div> <div style='width:40px; text-align:center'>π</div> <div style='width:40px; text-align:center'>π</div> <div style='width:40px; text-align:center'>Julia</div> <div style='width:40px; text-align:center'>Julia</div> <div style='width:40px; text-align:center'>Julia</div> <div style='width:40px; text-align:center'>Julia</div></div><div style='display:flex;flex-direction:row'><div style='width:40px; text-align:center'>Julia</div> <div style='width:40px; text-align:center'>Julia</div> <div style='width:40px; text-align:center'>Julia</div> <div style='width:40px; text-align:center'>Julia</div> <div style='width:40px; text-align:center'>Julia</div> <div style='width:40px; text-align:center'>Julia</div> <div style='width:40px; text-align:center'>Julia</div> <div style='width:40px; text-align:center'>Julia</div> <div style='width:40px; text-align:center'>Julia</div> <div style='width:40px; text-align:center'>Julia</div></div><div style='display:flex;flex-direction:row'><div style='width:40px; text-align:center'>Julia</div> <div style='width:40px; text-align:center'>Julia</div> <div style='width:40px; text-align:center'>Julia</div> <div style='width:40px; text-align:center'>Julia</div> <div style='width:40px; text-align:center'>Julia</div> <div style='width:40px; text-align:center'>Julia</div> <div style='width:40px; text-align:center'>Julia</div> <div style='width:40px; text-align:center'>Julia</div> <div style='width:40px; text-align:center'>Julia</div> <div style='width:40px; text-align:center'>Julia</div></div><div style='display:flex;flex-direction:row'><div style='width:40px; text-align:center'>Julia</div> <div style='width:40px; text-align:center'>Julia</div> <div style='width:40px; text-align:center'>Julia</div> <div style='width:40px; text-align:center'>Julia</div> <div style='width:40px; text-align:center'>Julia</div> <div style='width:40px; text-align:center'>Julia</div> <div style='width:40px; text-align:center'>Julia</div> <div style='width:40px; text-align:center'>Julia</div> <div style='width:40px; text-align:center'>Julia</div> <div style='width:40px; text-align:center'>Julia</div></div><div style='display:flex;flex-direction:row'><div style='width:40px; text-align:center'>Julia</div> <div style='width:40px; text-align:center'>Julia</div> <div style='width:40px; text-align:center'>Julia</div> <div style='width:40px; text-align:center'>Julia</div> <div style='width:40px; text-align:center'>Julia</div> <div style='width:40px; text-align:center'>Julia</div> <div style='width:40px; text-align:center'>Julia</div> <div style='width:40px; text-align:center'>Julia</div> <div style='width:40px; text-align:center'>Julia</div> <div style='width:40px; text-align:center'>Julia</div></div>"
      ],
      "text/plain": [
       "10×10 Array{String,2}:\n",
       " \"Julia\"  \"Julia\"  \"Julia\"  \"Julia\"  …  \"Julia\"  \"Julia\"  \"Julia\"  \"Julia\"\n",
       " \"Julia\"  \"Julia\"  \"Julia\"  \"Julia\"     \"Julia\"  \"Julia\"  \"Julia\"  \"Julia\"\n",
       " \"Julia\"  \"Julia\"  \"Julia\"  \"Julia\"     \"Julia\"  \"Julia\"  \"Julia\"  \"Julia\"\n",
       " \"Julia\"  \"Julia\"  \"Julia\"  \"π\"         \"Julia\"  \"Julia\"  \"Julia\"  \"Julia\"\n",
       " \"Julia\"  \"Julia\"  \"Julia\"  \"π\"         \"Julia\"  \"Julia\"  \"Julia\"  \"Julia\"\n",
       " \"Julia\"  \"Julia\"  \"Julia\"  \"π\"      …  \"Julia\"  \"Julia\"  \"Julia\"  \"Julia\"\n",
       " \"Julia\"  \"Julia\"  \"Julia\"  \"Julia\"     \"Julia\"  \"Julia\"  \"Julia\"  \"Julia\"\n",
       " \"Julia\"  \"Julia\"  \"Julia\"  \"Julia\"     \"Julia\"  \"Julia\"  \"Julia\"  \"Julia\"\n",
       " \"Julia\"  \"Julia\"  \"Julia\"  \"Julia\"     \"Julia\"  \"Julia\"  \"Julia\"  \"Julia\"\n",
       " \"Julia\"  \"Julia\"  \"Julia\"  \"Julia\"     \"Julia\"  \"Julia\"  \"Julia\"  \"Julia\""
      ]
     },
     "execution_count": 43,
     "metadata": {
      "comm_id": "dfaa3f48-3ce5-4da5-8926-67cd37418c9a",
      "reactive": true
     },
     "output_type": "execute_result"
    }
   ],
   "source": [
    "@manipulate for i in 1:n-2, j in 1:n-2\n",
    "    insert_block(A, i, j, \"π\")\n",
    "end"
   ]
  },
  {
   "cell_type": "code",
   "execution_count": 44,
   "metadata": {},
   "outputs": [
    {
     "data": {
      "text/html": [],
      "text/plain": [
       "Interact.Options{:SelectionSlider,Int64}(43: \"input-14\" = 4 Int64 , \"i\", 4, \"4\", Interact.OptionDict(DataStructures.OrderedDict(\"1\"=>1,\"2\"=>2,\"3\"=>3,\"4\"=>4,\"5\"=>5,\"6\"=>6,\"7\"=>7,\"8\"=>8), Dict(7=>\"7\",4=>\"4\",2=>\"2\",3=>\"3\",5=>\"5\",8=>\"8\",6=>\"6\",1=>\"1\")), Any[], Any[], true, \"horizontal\")"
      ]
     },
     "metadata": {},
     "output_type": "display_data"
    },
    {
     "data": {
      "text/html": [],
      "text/plain": [
       "Interact.Options{:SelectionSlider,Int64}(45: \"input-15\" = 4 Int64 , \"j\", 4, \"4\", Interact.OptionDict(DataStructures.OrderedDict(\"1\"=>1,\"2\"=>2,\"3\"=>3,\"4\"=>4,\"5\"=>5,\"6\"=>6,\"7\"=>7,\"8\"=>8), Dict(7=>\"7\",4=>\"4\",2=>\"2\",3=>\"3\",5=>\"5\",8=>\"8\",6=>\"6\",1=>\"1\")), Any[], Any[], true, \"horizontal\")"
      ]
     },
     "metadata": {},
     "output_type": "display_data"
    },
    {
     "data": {
      "text/html": [
       "<div style='display:flex;flex-direction:row'><div style='width:40px; text-align:center'>Julia</div> <div style='width:40px; text-align:center'>Julia</div> <div style='width:40px; text-align:center'>Julia</div> <div style='width:40px; text-align:center'>Julia</div> <div style='width:40px; text-align:center'>Julia</div> <div style='width:40px; text-align:center'>Julia</div> <div style='width:40px; text-align:center'>Julia</div> <div style='width:40px; text-align:center'>Julia</div> <div style='width:40px; text-align:center'>Julia</div> <div style='width:40px; text-align:center'>Julia</div></div><div style='display:flex;flex-direction:row'><div style='width:40px; text-align:center'>Julia</div> <div style='width:40px; text-align:center'>Julia</div> <div style='width:40px; text-align:center'>Julia</div> <div style='width:40px; text-align:center'>Julia</div> <div style='width:40px; text-align:center'>Julia</div> <div style='width:40px; text-align:center'>Julia</div> <div style='width:40px; text-align:center'>Julia</div> <div style='width:40px; text-align:center'>Julia</div> <div style='width:40px; text-align:center'>Julia</div> <div style='width:40px; text-align:center'>Julia</div></div><div style='display:flex;flex-direction:row'><div style='width:40px; text-align:center'>Julia</div> <div style='width:40px; text-align:center'>Julia</div> <div style='width:40px; text-align:center'>Julia</div> <div style='width:40px; text-align:center'>Julia</div> <div style='width:40px; text-align:center'>Julia</div> <div style='width:40px; text-align:center'>Julia</div> <div style='width:40px; text-align:center'>Julia</div> <div style='width:40px; text-align:center'>Julia</div> <div style='width:40px; text-align:center'>Julia</div> <div style='width:40px; text-align:center'>Julia</div></div><div style='display:flex;flex-direction:row'><div style='width:40px; text-align:center'>Julia</div> <div style='width:40px; text-align:center'>Julia</div> <div style='width:40px; text-align:center'>Julia</div> <div style='width:40px; text-align:center'>♡</div> <div style='width:40px; text-align:center'>♡</div> <div style='width:40px; text-align:center'>♡</div> <div style='width:40px; text-align:center'>Julia</div> <div style='width:40px; text-align:center'>Julia</div> <div style='width:40px; text-align:center'>Julia</div> <div style='width:40px; text-align:center'>Julia</div></div><div style='display:flex;flex-direction:row'><div style='width:40px; text-align:center'>Julia</div> <div style='width:40px; text-align:center'>Julia</div> <div style='width:40px; text-align:center'>Julia</div> <div style='width:40px; text-align:center'>♡</div> <div style='width:40px; text-align:center'>♡</div> <div style='width:40px; text-align:center'>♡</div> <div style='width:40px; text-align:center'>Julia</div> <div style='width:40px; text-align:center'>Julia</div> <div style='width:40px; text-align:center'>Julia</div> <div style='width:40px; text-align:center'>Julia</div></div><div style='display:flex;flex-direction:row'><div style='width:40px; text-align:center'>Julia</div> <div style='width:40px; text-align:center'>Julia</div> <div style='width:40px; text-align:center'>Julia</div> <div style='width:40px; text-align:center'>♡</div> <div style='width:40px; text-align:center'>♡</div> <div style='width:40px; text-align:center'>♡</div> <div style='width:40px; text-align:center'>Julia</div> <div style='width:40px; text-align:center'>Julia</div> <div style='width:40px; text-align:center'>Julia</div> <div style='width:40px; text-align:center'>Julia</div></div><div style='display:flex;flex-direction:row'><div style='width:40px; text-align:center'>Julia</div> <div style='width:40px; text-align:center'>Julia</div> <div style='width:40px; text-align:center'>Julia</div> <div style='width:40px; text-align:center'>Julia</div> <div style='width:40px; text-align:center'>Julia</div> <div style='width:40px; text-align:center'>Julia</div> <div style='width:40px; text-align:center'>Julia</div> <div style='width:40px; text-align:center'>Julia</div> <div style='width:40px; text-align:center'>Julia</div> <div style='width:40px; text-align:center'>Julia</div></div><div style='display:flex;flex-direction:row'><div style='width:40px; text-align:center'>Julia</div> <div style='width:40px; text-align:center'>Julia</div> <div style='width:40px; text-align:center'>Julia</div> <div style='width:40px; text-align:center'>Julia</div> <div style='width:40px; text-align:center'>Julia</div> <div style='width:40px; text-align:center'>Julia</div> <div style='width:40px; text-align:center'>Julia</div> <div style='width:40px; text-align:center'>Julia</div> <div style='width:40px; text-align:center'>Julia</div> <div style='width:40px; text-align:center'>Julia</div></div><div style='display:flex;flex-direction:row'><div style='width:40px; text-align:center'>Julia</div> <div style='width:40px; text-align:center'>Julia</div> <div style='width:40px; text-align:center'>Julia</div> <div style='width:40px; text-align:center'>Julia</div> <div style='width:40px; text-align:center'>Julia</div> <div style='width:40px; text-align:center'>Julia</div> <div style='width:40px; text-align:center'>Julia</div> <div style='width:40px; text-align:center'>Julia</div> <div style='width:40px; text-align:center'>Julia</div> <div style='width:40px; text-align:center'>Julia</div></div><div style='display:flex;flex-direction:row'><div style='width:40px; text-align:center'>Julia</div> <div style='width:40px; text-align:center'>Julia</div> <div style='width:40px; text-align:center'>Julia</div> <div style='width:40px; text-align:center'>Julia</div> <div style='width:40px; text-align:center'>Julia</div> <div style='width:40px; text-align:center'>Julia</div> <div style='width:40px; text-align:center'>Julia</div> <div style='width:40px; text-align:center'>Julia</div> <div style='width:40px; text-align:center'>Julia</div> <div style='width:40px; text-align:center'>Julia</div></div>"
      ],
      "text/plain": [
       "10×10 Array{String,2}:\n",
       " \"Julia\"  \"Julia\"  \"Julia\"  \"Julia\"  …  \"Julia\"  \"Julia\"  \"Julia\"  \"Julia\"\n",
       " \"Julia\"  \"Julia\"  \"Julia\"  \"Julia\"     \"Julia\"  \"Julia\"  \"Julia\"  \"Julia\"\n",
       " \"Julia\"  \"Julia\"  \"Julia\"  \"Julia\"     \"Julia\"  \"Julia\"  \"Julia\"  \"Julia\"\n",
       " \"Julia\"  \"Julia\"  \"Julia\"  \"♡\"         \"Julia\"  \"Julia\"  \"Julia\"  \"Julia\"\n",
       " \"Julia\"  \"Julia\"  \"Julia\"  \"♡\"         \"Julia\"  \"Julia\"  \"Julia\"  \"Julia\"\n",
       " \"Julia\"  \"Julia\"  \"Julia\"  \"♡\"      …  \"Julia\"  \"Julia\"  \"Julia\"  \"Julia\"\n",
       " \"Julia\"  \"Julia\"  \"Julia\"  \"Julia\"     \"Julia\"  \"Julia\"  \"Julia\"  \"Julia\"\n",
       " \"Julia\"  \"Julia\"  \"Julia\"  \"Julia\"     \"Julia\"  \"Julia\"  \"Julia\"  \"Julia\"\n",
       " \"Julia\"  \"Julia\"  \"Julia\"  \"Julia\"     \"Julia\"  \"Julia\"  \"Julia\"  \"Julia\"\n",
       " \"Julia\"  \"Julia\"  \"Julia\"  \"Julia\"     \"Julia\"  \"Julia\"  \"Julia\"  \"Julia\""
      ]
     },
     "execution_count": 44,
     "metadata": {
      "comm_id": "2cb0e022-fb69-480f-a285-2731394fc39b",
      "reactive": true
     },
     "output_type": "execute_result"
    }
   ],
   "source": [
    "@manipulate for i in 1:n-2, j in 1:n-2\n",
    "    insert_block(A, i, j, \"♡\")\n",
    "end"
   ]
  },
  {
   "cell_type": "code",
   "execution_count": 45,
   "metadata": {},
   "outputs": [
    {
     "data": {
      "text/html": [
       "<div style='display:flex;flex-direction:row'><div style='width:40px; text-align:center'>✈</div> <div style='width:40px; text-align:center'>👽</div> <div style='width:40px; text-align:center'>✈</div> <div style='width:40px; text-align:center'>👽</div> <div style='width:40px; text-align:center'>👽</div></div><div style='display:flex;flex-direction:row'><div style='width:40px; text-align:center'>✈</div> <div style='width:40px; text-align:center'>👽</div> <div style='width:40px; text-align:center'>👽</div> <div style='width:40px; text-align:center'>👽</div> <div style='width:40px; text-align:center'>👽</div></div><div style='display:flex;flex-direction:row'><div style='width:40px; text-align:center'>👽</div> <div style='width:40px; text-align:center'>👽</div> <div style='width:40px; text-align:center'>👽</div> <div style='width:40px; text-align:center'>👽</div> <div style='width:40px; text-align:center'>✈</div></div><div style='display:flex;flex-direction:row'><div style='width:40px; text-align:center'>✈</div> <div style='width:40px; text-align:center'>👽</div> <div style='width:40px; text-align:center'>👽</div> <div style='width:40px; text-align:center'>✈</div> <div style='width:40px; text-align:center'>👽</div></div><div style='display:flex;flex-direction:row'><div style='width:40px; text-align:center'>👽</div> <div style='width:40px; text-align:center'>✈</div> <div style='width:40px; text-align:center'>✈</div> <div style='width:40px; text-align:center'>✈</div> <div style='width:40px; text-align:center'>✈</div></div>"
      ],
      "text/plain": [
       "5×5 Array{String,2}:\n",
       " \"✈\"  \"👽\"  \"✈\"  \"👽\"  \"👽\"\n",
       " \"✈\"  \"👽\"  \"👽\"  \"👽\"  \"👽\"\n",
       " \"👽\"  \"👽\"  \"👽\"  \"👽\"  \"✈\"\n",
       " \"✈\"  \"👽\"  \"👽\"  \"✈\"  \"👽\"\n",
       " \"👽\"  \"✈\"  \"✈\"  \"✈\"  \"✈\""
      ]
     },
     "execution_count": 45,
     "metadata": {},
     "output_type": "execute_result"
    }
   ],
   "source": [
    "airplane = \"✈\"\n",
    "alien = \"👽\"\n",
    "rand([airplane, alien], 5, 5)"
   ]
  },
  {
   "cell_type": "code",
   "execution_count": 46,
   "metadata": {},
   "outputs": [
    {
     "data": {
      "text/html": [],
      "text/plain": [
       "Interact.Options{:SelectionSlider,Int64}(49: \"input-16\" = 4 Int64 , \"i\", 4, \"4\", Interact.OptionDict(DataStructures.OrderedDict(\"1\"=>1,\"2\"=>2,\"3\"=>3,\"4\"=>4,\"5\"=>5,\"6\"=>6,\"7\"=>7), Dict(7=>\"7\",4=>\"4\",2=>\"2\",3=>\"3\",5=>\"5\",6=>\"6\",1=>\"1\")), Any[], Any[], true, \"horizontal\")"
      ]
     },
     "metadata": {},
     "output_type": "display_data"
    },
    {
     "data": {
      "text/html": [],
      "text/plain": [
       "Interact.Options{:SelectionSlider,Int64}(51: \"input-17\" = 4 Int64 , \"j\", 4, \"4\", Interact.OptionDict(DataStructures.OrderedDict(\"1\"=>1,\"2\"=>2,\"3\"=>3,\"4\"=>4,\"5\"=>5,\"6\"=>6,\"7\"=>7), Dict(7=>\"7\",4=>\"4\",2=>\"2\",3=>\"3\",5=>\"5\",6=>\"6\",1=>\"1\")), Any[], Any[], true, \"horizontal\")"
      ]
     },
     "metadata": {},
     "output_type": "display_data"
    },
    {
     "data": {
      "text/html": [
       "<div style='display:flex;flex-direction:row'><div style='width:40px; text-align:center'>✈</div> <div style='width:40px; text-align:center'>✈</div> <div style='width:40px; text-align:center'>✈</div> <div style='width:40px; text-align:center'>✈</div> <div style='width:40px; text-align:center'>✈</div> <div style='width:40px; text-align:center'>✈</div> <div style='width:40px; text-align:center'>✈</div> <div style='width:40px; text-align:center'>✈</div> <div style='width:40px; text-align:center'>✈</div></div><div style='display:flex;flex-direction:row'><div style='width:40px; text-align:center'>✈</div> <div style='width:40px; text-align:center'>✈</div> <div style='width:40px; text-align:center'>✈</div> <div style='width:40px; text-align:center'>✈</div> <div style='width:40px; text-align:center'>✈</div> <div style='width:40px; text-align:center'>✈</div> <div style='width:40px; text-align:center'>✈</div> <div style='width:40px; text-align:center'>✈</div> <div style='width:40px; text-align:center'>✈</div></div><div style='display:flex;flex-direction:row'><div style='width:40px; text-align:center'>✈</div> <div style='width:40px; text-align:center'>✈</div> <div style='width:40px; text-align:center'>✈</div> <div style='width:40px; text-align:center'>✈</div> <div style='width:40px; text-align:center'>✈</div> <div style='width:40px; text-align:center'>✈</div> <div style='width:40px; text-align:center'>✈</div> <div style='width:40px; text-align:center'>✈</div> <div style='width:40px; text-align:center'>✈</div></div><div style='display:flex;flex-direction:row'><div style='width:40px; text-align:center'>✈</div> <div style='width:40px; text-align:center'>✈</div> <div style='width:40px; text-align:center'>✈</div> <div style='width:40px; text-align:center'>👽</div> <div style='width:40px; text-align:center'>👽</div> <div style='width:40px; text-align:center'>👽</div> <div style='width:40px; text-align:center'>✈</div> <div style='width:40px; text-align:center'>✈</div> <div style='width:40px; text-align:center'>✈</div></div><div style='display:flex;flex-direction:row'><div style='width:40px; text-align:center'>✈</div> <div style='width:40px; text-align:center'>✈</div> <div style='width:40px; text-align:center'>✈</div> <div style='width:40px; text-align:center'>👽</div> <div style='width:40px; text-align:center'>👽</div> <div style='width:40px; text-align:center'>👽</div> <div style='width:40px; text-align:center'>✈</div> <div style='width:40px; text-align:center'>✈</div> <div style='width:40px; text-align:center'>✈</div></div><div style='display:flex;flex-direction:row'><div style='width:40px; text-align:center'>✈</div> <div style='width:40px; text-align:center'>✈</div> <div style='width:40px; text-align:center'>✈</div> <div style='width:40px; text-align:center'>👽</div> <div style='width:40px; text-align:center'>👽</div> <div style='width:40px; text-align:center'>👽</div> <div style='width:40px; text-align:center'>✈</div> <div style='width:40px; text-align:center'>✈</div> <div style='width:40px; text-align:center'>✈</div></div><div style='display:flex;flex-direction:row'><div style='width:40px; text-align:center'>✈</div> <div style='width:40px; text-align:center'>✈</div> <div style='width:40px; text-align:center'>✈</div> <div style='width:40px; text-align:center'>✈</div> <div style='width:40px; text-align:center'>✈</div> <div style='width:40px; text-align:center'>✈</div> <div style='width:40px; text-align:center'>✈</div> <div style='width:40px; text-align:center'>✈</div> <div style='width:40px; text-align:center'>✈</div></div><div style='display:flex;flex-direction:row'><div style='width:40px; text-align:center'>✈</div> <div style='width:40px; text-align:center'>✈</div> <div style='width:40px; text-align:center'>✈</div> <div style='width:40px; text-align:center'>✈</div> <div style='width:40px; text-align:center'>✈</div> <div style='width:40px; text-align:center'>✈</div> <div style='width:40px; text-align:center'>✈</div> <div style='width:40px; text-align:center'>✈</div> <div style='width:40px; text-align:center'>✈</div></div><div style='display:flex;flex-direction:row'><div style='width:40px; text-align:center'>✈</div> <div style='width:40px; text-align:center'>✈</div> <div style='width:40px; text-align:center'>✈</div> <div style='width:40px; text-align:center'>✈</div> <div style='width:40px; text-align:center'>✈</div> <div style='width:40px; text-align:center'>✈</div> <div style='width:40px; text-align:center'>✈</div> <div style='width:40px; text-align:center'>✈</div> <div style='width:40px; text-align:center'>✈</div></div>"
      ],
      "text/plain": [
       "9×9 Array{String,2}:\n",
       " \"✈\"  \"✈\"  \"✈\"  \"✈\"  \"✈\"  \"✈\"  \"✈\"  \"✈\"  \"✈\"\n",
       " \"✈\"  \"✈\"  \"✈\"  \"✈\"  \"✈\"  \"✈\"  \"✈\"  \"✈\"  \"✈\"\n",
       " \"✈\"  \"✈\"  \"✈\"  \"✈\"  \"✈\"  \"✈\"  \"✈\"  \"✈\"  \"✈\"\n",
       " \"✈\"  \"✈\"  \"✈\"  \"👽\"  \"👽\"  \"👽\"  \"✈\"  \"✈\"  \"✈\"\n",
       " \"✈\"  \"✈\"  \"✈\"  \"👽\"  \"👽\"  \"👽\"  \"✈\"  \"✈\"  \"✈\"\n",
       " \"✈\"  \"✈\"  \"✈\"  \"👽\"  \"👽\"  \"👽\"  \"✈\"  \"✈\"  \"✈\"\n",
       " \"✈\"  \"✈\"  \"✈\"  \"✈\"  \"✈\"  \"✈\"  \"✈\"  \"✈\"  \"✈\"\n",
       " \"✈\"  \"✈\"  \"✈\"  \"✈\"  \"✈\"  \"✈\"  \"✈\"  \"✈\"  \"✈\"\n",
       " \"✈\"  \"✈\"  \"✈\"  \"✈\"  \"✈\"  \"✈\"  \"✈\"  \"✈\"  \"✈\""
      ]
     },
     "execution_count": 46,
     "metadata": {
      "comm_id": "0dc0cb1f-8ec8-4909-b850-27525c30501c",
      "reactive": true
     },
     "output_type": "execute_result"
    }
   ],
   "source": [
    "A = fill(airplane, 9, 9)\n",
    "n = size(A, 1)\n",
    "\n",
    "@manipulate for i in 1:n-2, j in 1:n-2\n",
    "    insert_block(A, i, j, alien)\n",
    "end"
   ]
  },
  {
   "cell_type": "markdown",
   "metadata": {},
   "source": [
    "# Colors"
   ]
  },
  {
   "cell_type": "markdown",
   "metadata": {},
   "source": [
    "The `Colors` package provides objects representing colours:"
   ]
  },
  {
   "cell_type": "code",
   "execution_count": 49,
   "metadata": {},
   "outputs": [],
   "source": [
    "#Pkg.add(\"Colors\")\n",
    "using Colors"
   ]
  },
  {
   "cell_type": "code",
   "execution_count": 50,
   "metadata": {},
   "outputs": [
    {
     "data": {
      "image/svg+xml": [
       "<?xml version=\"1.0\" encoding=\"UTF-8\"?>\n",
       "<!DOCTYPE svg PUBLIC \"-//W3C//DTD SVG 1.1//EN\"\n",
       " \"http://www.w3.org/Graphics/SVG/1.1/DTD/svg11.dtd\">\n",
       "<svg xmlns=\"http://www.w3.org/2000/svg\" version=\"1.1\"\n",
       "     width=\"180.0mm\" height=\"25.0mm\"\n",
       "     shape-rendering=\"crispEdges\">\n",
       "<rect x=\"0.0mm\" y=\"0.0mm\"\n",
       "      width=\"14.0mm\" height=\"24.0mm\"\n",
       "      fill=\"#000000\" stroke=\"none\" />\n",
       "<rect x=\"15.0mm\" y=\"0.0mm\"\n",
       "      width=\"14.0mm\" height=\"24.0mm\"\n",
       "      fill=\"#FFFF62\" stroke=\"none\" />\n",
       "<rect x=\"30.0mm\" y=\"0.0mm\"\n",
       "      width=\"14.0mm\" height=\"24.0mm\"\n",
       "      fill=\"#FF9FFF\" stroke=\"none\" />\n",
       "<rect x=\"45.0mm\" y=\"0.0mm\"\n",
       "      width=\"14.0mm\" height=\"24.0mm\"\n",
       "      fill=\"#00D6FF\" stroke=\"none\" />\n",
       "<rect x=\"60.0mm\" y=\"0.0mm\"\n",
       "      width=\"14.0mm\" height=\"24.0mm\"\n",
       "      fill=\"#D74400\" stroke=\"none\" />\n",
       "<rect x=\"75.0mm\" y=\"0.0mm\"\n",
       "      width=\"14.0mm\" height=\"24.0mm\"\n",
       "      fill=\"#008029\" stroke=\"none\" />\n",
       "<rect x=\"90.0mm\" y=\"0.0mm\"\n",
       "      width=\"14.0mm\" height=\"24.0mm\"\n",
       "      fill=\"#005FD5\" stroke=\"none\" />\n",
       "<rect x=\"105.0mm\" y=\"0.0mm\"\n",
       "      width=\"14.0mm\" height=\"24.0mm\"\n",
       "      fill=\"#930068\" stroke=\"none\" />\n",
       "<rect x=\"120.0mm\" y=\"0.0mm\"\n",
       "      width=\"14.0mm\" height=\"24.0mm\"\n",
       "      fill=\"#FFCBB5\" stroke=\"none\" />\n",
       "<rect x=\"135.0mm\" y=\"0.0mm\"\n",
       "      width=\"14.0mm\" height=\"24.0mm\"\n",
       "      fill=\"#A78600\" stroke=\"none\" />\n",
       "<rect x=\"150.0mm\" y=\"0.0mm\"\n",
       "      width=\"14.0mm\" height=\"24.0mm\"\n",
       "      fill=\"#00FFC5\" stroke=\"none\" />\n",
       "<rect x=\"165.0mm\" y=\"0.0mm\"\n",
       "      width=\"14.0mm\" height=\"24.0mm\"\n",
       "      fill=\"#007E86\" stroke=\"none\" />\n",
       "</svg>"
      ],
      "text/plain": [
       "12-element Array{ColorTypes.RGB{FixedPointNumbers.Normed{UInt8,8}},1}:\n",
       " RGB{N0f8}(0.0,0.0,0.0)    \n",
       " RGB{N0f8}(1.0,1.0,0.384)  \n",
       " RGB{N0f8}(1.0,0.624,1.0)  \n",
       " RGB{N0f8}(0.0,0.839,1.0)  \n",
       " RGB{N0f8}(0.843,0.267,0.0)\n",
       " RGB{N0f8}(0.0,0.502,0.161)\n",
       " RGB{N0f8}(0.0,0.373,0.835)\n",
       " RGB{N0f8}(0.576,0.0,0.408)\n",
       " RGB{N0f8}(1.0,0.796,0.71) \n",
       " RGB{N0f8}(0.655,0.525,0.0)\n",
       " RGB{N0f8}(0.0,1.0,0.773)  \n",
       " RGB{N0f8}(0.0,0.494,0.525)"
      ]
     },
     "execution_count": 50,
     "metadata": {},
     "output_type": "execute_result"
    }
   ],
   "source": [
    "distinguishable_colors(12)"
   ]
  },
  {
   "cell_type": "code",
   "execution_count": 51,
   "metadata": {},
   "outputs": [
    {
     "data": {
      "text/html": [],
      "text/plain": [
       "Interact.Options{:SelectionSlider,Int64}(55: \"input-18\" = 40 Int64 , \"n\", 40, \"40\", Interact.OptionDict(DataStructures.OrderedDict(\"1\"=>1,\"2\"=>2,\"3\"=>3,\"4\"=>4,\"5\"=>5,\"6\"=>6,\"7\"=>7,\"8\"=>8,\"9\"=>9,\"10\"=>10…), Dict(68=>\"68\",2=>\"2\",11=>\"11\",39=>\"39\",46=>\"46\",25=>\"25\",55=>\"55\",42=>\"42\",29=>\"29\",58=>\"58\"…)), Any[], Any[], true, \"horizontal\")"
      ]
     },
     "metadata": {},
     "output_type": "display_data"
    },
    {
     "data": {
      "image/svg+xml": [
       "<?xml version=\"1.0\" encoding=\"UTF-8\"?>\n",
       "<!DOCTYPE svg PUBLIC \"-//W3C//DTD SVG 1.1//EN\"\n",
       " \"http://www.w3.org/Graphics/SVG/1.1/DTD/svg11.dtd\">\n",
       "<svg xmlns=\"http://www.w3.org/2000/svg\" version=\"1.1\"\n",
       "     width=\"180.0mm\" height=\"25.0mm\"\n",
       "     shape-rendering=\"crispEdges\">\n",
       "<rect x=\"0.0mm\" y=\"0.0mm\"\n",
       "      width=\"3.5mm\" height=\"24.0mm\"\n",
       "      fill=\"#000000\" stroke=\"none\" />\n",
       "<rect x=\"4.5mm\" y=\"0.0mm\"\n",
       "      width=\"3.5mm\" height=\"24.0mm\"\n",
       "      fill=\"#FFFF62\" stroke=\"none\" />\n",
       "<rect x=\"9.0mm\" y=\"0.0mm\"\n",
       "      width=\"3.5mm\" height=\"24.0mm\"\n",
       "      fill=\"#FF9FFF\" stroke=\"none\" />\n",
       "<rect x=\"13.5mm\" y=\"0.0mm\"\n",
       "      width=\"3.5mm\" height=\"24.0mm\"\n",
       "      fill=\"#00D6FF\" stroke=\"none\" />\n",
       "<rect x=\"18.0mm\" y=\"0.0mm\"\n",
       "      width=\"3.5mm\" height=\"24.0mm\"\n",
       "      fill=\"#D74400\" stroke=\"none\" />\n",
       "<rect x=\"22.5mm\" y=\"0.0mm\"\n",
       "      width=\"3.5mm\" height=\"24.0mm\"\n",
       "      fill=\"#008029\" stroke=\"none\" />\n",
       "<rect x=\"27.0mm\" y=\"0.0mm\"\n",
       "      width=\"3.5mm\" height=\"24.0mm\"\n",
       "      fill=\"#005FD5\" stroke=\"none\" />\n",
       "<rect x=\"31.5mm\" y=\"0.0mm\"\n",
       "      width=\"3.5mm\" height=\"24.0mm\"\n",
       "      fill=\"#930068\" stroke=\"none\" />\n",
       "<rect x=\"36.0mm\" y=\"0.0mm\"\n",
       "      width=\"3.5mm\" height=\"24.0mm\"\n",
       "      fill=\"#FFCBB5\" stroke=\"none\" />\n",
       "<rect x=\"40.5mm\" y=\"0.0mm\"\n",
       "      width=\"3.5mm\" height=\"24.0mm\"\n",
       "      fill=\"#A78600\" stroke=\"none\" />\n",
       "<rect x=\"45.0mm\" y=\"0.0mm\"\n",
       "      width=\"3.5mm\" height=\"24.0mm\"\n",
       "      fill=\"#00FFC5\" stroke=\"none\" />\n",
       "<rect x=\"49.5mm\" y=\"0.0mm\"\n",
       "      width=\"3.5mm\" height=\"24.0mm\"\n",
       "      fill=\"#007E86\" stroke=\"none\" />\n",
       "<rect x=\"54.0mm\" y=\"0.0mm\"\n",
       "      width=\"3.5mm\" height=\"24.0mm\"\n",
       "      fill=\"#534200\" stroke=\"none\" />\n",
       "<rect x=\"58.5mm\" y=\"0.0mm\"\n",
       "      width=\"3.5mm\" height=\"24.0mm\"\n",
       "      fill=\"#8C8793\" stroke=\"none\" />\n",
       "<rect x=\"63.0mm\" y=\"0.0mm\"\n",
       "      width=\"3.5mm\" height=\"24.0mm\"\n",
       "      fill=\"#680000\" stroke=\"none\" />\n",
       "<rect x=\"67.5mm\" y=\"0.0mm\"\n",
       "      width=\"3.5mm\" height=\"24.0mm\"\n",
       "      fill=\"#00005A\" stroke=\"none\" />\n",
       "<rect x=\"72.0mm\" y=\"0.0mm\"\n",
       "      width=\"3.5mm\" height=\"24.0mm\"\n",
       "      fill=\"#FF2C6F\" stroke=\"none\" />\n",
       "<rect x=\"76.5mm\" y=\"0.0mm\"\n",
       "      width=\"3.5mm\" height=\"24.0mm\"\n",
       "      fill=\"#F7FFF6\" stroke=\"none\" />\n",
       "<rect x=\"81.0mm\" y=\"0.0mm\"\n",
       "      width=\"3.5mm\" height=\"24.0mm\"\n",
       "      fill=\"#003D25\" stroke=\"none\" />\n",
       "<rect x=\"85.5mm\" y=\"0.0mm\"\n",
       "      width=\"3.5mm\" height=\"24.0mm\"\n",
       "      fill=\"#91ABFF\" stroke=\"none\" />\n",
       "<rect x=\"90.0mm\" y=\"0.0mm\"\n",
       "      width=\"3.5mm\" height=\"24.0mm\"\n",
       "      fill=\"#A1B684\" stroke=\"none\" />\n",
       "<rect x=\"94.5mm\" y=\"0.0mm\"\n",
       "      width=\"3.5mm\" height=\"24.0mm\"\n",
       "      fill=\"#605051\" stroke=\"none\" />\n",
       "<rect x=\"99.0mm\" y=\"0.0mm\"\n",
       "      width=\"3.5mm\" height=\"24.0mm\"\n",
       "      fill=\"#C129E2\" stroke=\"none\" />\n",
       "<rect x=\"103.5mm\" y=\"0.0mm\"\n",
       "      width=\"3.5mm\" height=\"24.0mm\"\n",
       "      fill=\"#FF8E1E\" stroke=\"none\" />\n",
       "<rect x=\"108.0mm\" y=\"0.0mm\"\n",
       "      width=\"3.5mm\" height=\"24.0mm\"\n",
       "      fill=\"#003F51\" stroke=\"none\" />\n",
       "<rect x=\"112.5mm\" y=\"0.0mm\"\n",
       "      width=\"3.5mm\" height=\"24.0mm\"\n",
       "      fill=\"#797860\" stroke=\"none\" />\n",
       "<rect x=\"117.0mm\" y=\"0.0mm\"\n",
       "      width=\"3.5mm\" height=\"24.0mm\"\n",
       "      fill=\"#2E001C\" stroke=\"none\" />\n",
       "<rect x=\"121.5mm\" y=\"0.0mm\"\n",
       "      width=\"3.5mm\" height=\"24.0mm\"\n",
       "      fill=\"#01AF99\" stroke=\"none\" />\n",
       "<rect x=\"126.0mm\" y=\"0.0mm\"\n",
       "      width=\"3.5mm\" height=\"24.0mm\"\n",
       "      fill=\"#FFE6FF\" stroke=\"none\" />\n",
       "<rect x=\"130.5mm\" y=\"0.0mm\"\n",
       "      width=\"3.5mm\" height=\"24.0mm\"\n",
       "      fill=\"#77DA00\" stroke=\"none\" />\n",
       "<rect x=\"135.0mm\" y=\"0.0mm\"\n",
       "      width=\"3.5mm\" height=\"24.0mm\"\n",
       "      fill=\"#5B4B83\" stroke=\"none\" />\n",
       "<rect x=\"139.5mm\" y=\"0.0mm\"\n",
       "      width=\"3.5mm\" height=\"24.0mm\"\n",
       "      fill=\"#0094CF\" stroke=\"none\" />\n",
       "<rect x=\"144.0mm\" y=\"0.0mm\"\n",
       "      width=\"3.5mm\" height=\"24.0mm\"\n",
       "      fill=\"#B8739F\" stroke=\"none\" />\n",
       "<rect x=\"148.5mm\" y=\"0.0mm\"\n",
       "      width=\"3.5mm\" height=\"24.0mm\"\n",
       "      fill=\"#FF8269\" stroke=\"none\" />\n",
       "<rect x=\"153.0mm\" y=\"0.0mm\"\n",
       "      width=\"3.5mm\" height=\"24.0mm\"\n",
       "      fill=\"#FFBE05\" stroke=\"none\" />\n",
       "<rect x=\"157.5mm\" y=\"0.0mm\"\n",
       "      width=\"3.5mm\" height=\"24.0mm\"\n",
       "      fill=\"#C20030\" stroke=\"none\" />\n",
       "<rect x=\"162.0mm\" y=\"0.0mm\"\n",
       "      width=\"3.5mm\" height=\"24.0mm\"\n",
       "      fill=\"#A9806C\" stroke=\"none\" />\n",
       "<rect x=\"166.5mm\" y=\"0.0mm\"\n",
       "      width=\"3.5mm\" height=\"24.0mm\"\n",
       "      fill=\"#955600\" stroke=\"none\" />\n",
       "<rect x=\"171.0mm\" y=\"0.0mm\"\n",
       "      width=\"3.5mm\" height=\"24.0mm\"\n",
       "      fill=\"#9FB3B2\" stroke=\"none\" />\n",
       "<rect x=\"175.5mm\" y=\"0.0mm\"\n",
       "      width=\"3.5mm\" height=\"24.0mm\"\n",
       "      fill=\"#789500\" stroke=\"none\" />\n",
       "</svg>"
      ],
      "text/plain": [
       "40-element Array{ColorTypes.RGB{FixedPointNumbers.Normed{UInt8,8}},1}:\n",
       " RGB{N0f8}(0.0,0.0,0.0)      \n",
       " RGB{N0f8}(1.0,1.0,0.384)    \n",
       " RGB{N0f8}(1.0,0.624,1.0)    \n",
       " RGB{N0f8}(0.0,0.839,1.0)    \n",
       " RGB{N0f8}(0.843,0.267,0.0)  \n",
       " RGB{N0f8}(0.0,0.502,0.161)  \n",
       " RGB{N0f8}(0.0,0.373,0.835)  \n",
       " RGB{N0f8}(0.576,0.0,0.408)  \n",
       " RGB{N0f8}(1.0,0.796,0.71)   \n",
       " RGB{N0f8}(0.655,0.525,0.0)  \n",
       " RGB{N0f8}(0.0,1.0,0.773)    \n",
       " RGB{N0f8}(0.0,0.494,0.525)  \n",
       " RGB{N0f8}(0.325,0.259,0.0)  \n",
       " ⋮                           \n",
       " RGB{N0f8}(1.0,0.902,1.0)    \n",
       " RGB{N0f8}(0.467,0.855,0.0)  \n",
       " RGB{N0f8}(0.357,0.294,0.514)\n",
       " RGB{N0f8}(0.0,0.58,0.812)   \n",
       " RGB{N0f8}(0.722,0.451,0.624)\n",
       " RGB{N0f8}(1.0,0.51,0.412)   \n",
       " RGB{N0f8}(1.0,0.745,0.02)   \n",
       " RGB{N0f8}(0.761,0.0,0.188)  \n",
       " RGB{N0f8}(0.663,0.502,0.424)\n",
       " RGB{N0f8}(0.584,0.337,0.0)  \n",
       " RGB{N0f8}(0.624,0.702,0.698)\n",
       " RGB{N0f8}(0.471,0.584,0.0)  "
      ]
     },
     "execution_count": 51,
     "metadata": {
      "comm_id": "7e4bfef5-47aa-4197-8f0a-e3e3ce936816",
      "reactive": true
     },
     "output_type": "execute_result"
    }
   ],
   "source": [
    "@manipulate for n = 1:80\n",
    "    distinguishable_colors(n)\n",
    "end"
   ]
  },
  {
   "cell_type": "code",
   "execution_count": 52,
   "metadata": {},
   "outputs": [
    {
     "data": {
      "image/svg+xml": [
       "<?xml version=\"1.0\" encoding=\"UTF-8\"?>\n",
       "<!DOCTYPE svg PUBLIC \"-//W3C//DTD SVG 1.1//EN\"\n",
       " \"http://www.w3.org/Graphics/SVG/1.1/DTD/svg11.dtd\">\n",
       "<svg xmlns=\"http://www.w3.org/2000/svg\" version=\"1.1\"\n",
       "     width=\"180.0mm\" height=\"24.999999999999996mm\"\n",
       "     shape-rendering=\"crispEdges\">\n",
       "<rect x=\"0.0mm\" y=\"0.0mm\"\n",
       "      width=\"1.8mm\" height=\"23.999999999999996mm\"\n",
       "      fill=\"#000000\" stroke=\"none\" />\n",
       "<rect x=\"1.8mm\" y=\"0.0mm\"\n",
       "      width=\"1.8mm\" height=\"23.999999999999996mm\"\n",
       "      fill=\"#FFFF62\" stroke=\"none\" />\n",
       "<rect x=\"3.6mm\" y=\"0.0mm\"\n",
       "      width=\"1.8mm\" height=\"23.999999999999996mm\"\n",
       "      fill=\"#FF9FFF\" stroke=\"none\" />\n",
       "<rect x=\"5.4mm\" y=\"0.0mm\"\n",
       "      width=\"1.8mm\" height=\"23.999999999999996mm\"\n",
       "      fill=\"#00D6FF\" stroke=\"none\" />\n",
       "<rect x=\"7.2mm\" y=\"0.0mm\"\n",
       "      width=\"1.8mm\" height=\"23.999999999999996mm\"\n",
       "      fill=\"#D74400\" stroke=\"none\" />\n",
       "<rect x=\"9.0mm\" y=\"0.0mm\"\n",
       "      width=\"1.8mm\" height=\"23.999999999999996mm\"\n",
       "      fill=\"#008029\" stroke=\"none\" />\n",
       "<rect x=\"10.8mm\" y=\"0.0mm\"\n",
       "      width=\"1.8mm\" height=\"23.999999999999996mm\"\n",
       "      fill=\"#005FD5\" stroke=\"none\" />\n",
       "<rect x=\"12.6mm\" y=\"0.0mm\"\n",
       "      width=\"1.8mm\" height=\"23.999999999999996mm\"\n",
       "      fill=\"#930068\" stroke=\"none\" />\n",
       "<rect x=\"14.4mm\" y=\"0.0mm\"\n",
       "      width=\"1.8mm\" height=\"23.999999999999996mm\"\n",
       "      fill=\"#FFCBB5\" stroke=\"none\" />\n",
       "<rect x=\"16.2mm\" y=\"0.0mm\"\n",
       "      width=\"1.8mm\" height=\"23.999999999999996mm\"\n",
       "      fill=\"#A78600\" stroke=\"none\" />\n",
       "<rect x=\"18.0mm\" y=\"0.0mm\"\n",
       "      width=\"1.8mm\" height=\"23.999999999999996mm\"\n",
       "      fill=\"#00FFC5\" stroke=\"none\" />\n",
       "<rect x=\"19.8mm\" y=\"0.0mm\"\n",
       "      width=\"1.8mm\" height=\"23.999999999999996mm\"\n",
       "      fill=\"#007E86\" stroke=\"none\" />\n",
       "<rect x=\"21.6mm\" y=\"0.0mm\"\n",
       "      width=\"1.8mm\" height=\"23.999999999999996mm\"\n",
       "      fill=\"#534200\" stroke=\"none\" />\n",
       "<rect x=\"23.400000000000002mm\" y=\"0.0mm\"\n",
       "      width=\"1.8mm\" height=\"23.999999999999996mm\"\n",
       "      fill=\"#8C8793\" stroke=\"none\" />\n",
       "<rect x=\"25.2mm\" y=\"0.0mm\"\n",
       "      width=\"1.8mm\" height=\"23.999999999999996mm\"\n",
       "      fill=\"#680000\" stroke=\"none\" />\n",
       "<rect x=\"27.0mm\" y=\"0.0mm\"\n",
       "      width=\"1.8mm\" height=\"23.999999999999996mm\"\n",
       "      fill=\"#00005A\" stroke=\"none\" />\n",
       "<rect x=\"28.8mm\" y=\"0.0mm\"\n",
       "      width=\"1.8mm\" height=\"23.999999999999996mm\"\n",
       "      fill=\"#FF2C6F\" stroke=\"none\" />\n",
       "<rect x=\"30.6mm\" y=\"0.0mm\"\n",
       "      width=\"1.8mm\" height=\"23.999999999999996mm\"\n",
       "      fill=\"#F7FFF6\" stroke=\"none\" />\n",
       "<rect x=\"32.4mm\" y=\"0.0mm\"\n",
       "      width=\"1.8mm\" height=\"23.999999999999996mm\"\n",
       "      fill=\"#003D25\" stroke=\"none\" />\n",
       "<rect x=\"34.2mm\" y=\"0.0mm\"\n",
       "      width=\"1.8mm\" height=\"23.999999999999996mm\"\n",
       "      fill=\"#91ABFF\" stroke=\"none\" />\n",
       "<rect x=\"36.0mm\" y=\"0.0mm\"\n",
       "      width=\"1.8mm\" height=\"23.999999999999996mm\"\n",
       "      fill=\"#A1B684\" stroke=\"none\" />\n",
       "<rect x=\"37.800000000000004mm\" y=\"0.0mm\"\n",
       "      width=\"1.8mm\" height=\"23.999999999999996mm\"\n",
       "      fill=\"#605051\" stroke=\"none\" />\n",
       "<rect x=\"39.6mm\" y=\"0.0mm\"\n",
       "      width=\"1.8mm\" height=\"23.999999999999996mm\"\n",
       "      fill=\"#C129E2\" stroke=\"none\" />\n",
       "<rect x=\"41.4mm\" y=\"0.0mm\"\n",
       "      width=\"1.8mm\" height=\"23.999999999999996mm\"\n",
       "      fill=\"#FF8E1E\" stroke=\"none\" />\n",
       "<rect x=\"43.2mm\" y=\"0.0mm\"\n",
       "      width=\"1.8mm\" height=\"23.999999999999996mm\"\n",
       "      fill=\"#003F51\" stroke=\"none\" />\n",
       "<rect x=\"45.0mm\" y=\"0.0mm\"\n",
       "      width=\"1.8mm\" height=\"23.999999999999996mm\"\n",
       "      fill=\"#797860\" stroke=\"none\" />\n",
       "<rect x=\"46.800000000000004mm\" y=\"0.0mm\"\n",
       "      width=\"1.8mm\" height=\"23.999999999999996mm\"\n",
       "      fill=\"#2E001C\" stroke=\"none\" />\n",
       "<rect x=\"48.6mm\" y=\"0.0mm\"\n",
       "      width=\"1.8mm\" height=\"23.999999999999996mm\"\n",
       "      fill=\"#01AF99\" stroke=\"none\" />\n",
       "<rect x=\"50.4mm\" y=\"0.0mm\"\n",
       "      width=\"1.8mm\" height=\"23.999999999999996mm\"\n",
       "      fill=\"#FFE6FF\" stroke=\"none\" />\n",
       "<rect x=\"52.2mm\" y=\"0.0mm\"\n",
       "      width=\"1.8mm\" height=\"23.999999999999996mm\"\n",
       "      fill=\"#77DA00\" stroke=\"none\" />\n",
       "<rect x=\"54.0mm\" y=\"0.0mm\"\n",
       "      width=\"1.8mm\" height=\"23.999999999999996mm\"\n",
       "      fill=\"#5B4B83\" stroke=\"none\" />\n",
       "<rect x=\"55.800000000000004mm\" y=\"0.0mm\"\n",
       "      width=\"1.8mm\" height=\"23.999999999999996mm\"\n",
       "      fill=\"#0094CF\" stroke=\"none\" />\n",
       "<rect x=\"57.6mm\" y=\"0.0mm\"\n",
       "      width=\"1.8mm\" height=\"23.999999999999996mm\"\n",
       "      fill=\"#B8739F\" stroke=\"none\" />\n",
       "<rect x=\"59.4mm\" y=\"0.0mm\"\n",
       "      width=\"1.8mm\" height=\"23.999999999999996mm\"\n",
       "      fill=\"#FF8269\" stroke=\"none\" />\n",
       "<rect x=\"61.2mm\" y=\"0.0mm\"\n",
       "      width=\"1.8mm\" height=\"23.999999999999996mm\"\n",
       "      fill=\"#FFBE05\" stroke=\"none\" />\n",
       "<rect x=\"63.0mm\" y=\"0.0mm\"\n",
       "      width=\"1.8mm\" height=\"23.999999999999996mm\"\n",
       "      fill=\"#C20030\" stroke=\"none\" />\n",
       "<rect x=\"64.8mm\" y=\"0.0mm\"\n",
       "      width=\"1.8mm\" height=\"23.999999999999996mm\"\n",
       "      fill=\"#A9806C\" stroke=\"none\" />\n",
       "<rect x=\"66.60000000000001mm\" y=\"0.0mm\"\n",
       "      width=\"1.8mm\" height=\"23.999999999999996mm\"\n",
       "      fill=\"#955600\" stroke=\"none\" />\n",
       "<rect x=\"68.4mm\" y=\"0.0mm\"\n",
       "      width=\"1.8mm\" height=\"23.999999999999996mm\"\n",
       "      fill=\"#9FB3B2\" stroke=\"none\" />\n",
       "<rect x=\"70.2mm\" y=\"0.0mm\"\n",
       "      width=\"1.8mm\" height=\"23.999999999999996mm\"\n",
       "      fill=\"#789500\" stroke=\"none\" />\n",
       "<rect x=\"72.0mm\" y=\"0.0mm\"\n",
       "      width=\"1.8mm\" height=\"23.999999999999996mm\"\n",
       "      fill=\"#FF9BB1\" stroke=\"none\" />\n",
       "<rect x=\"73.8mm\" y=\"0.0mm\"\n",
       "      width=\"1.8mm\" height=\"23.999999999999996mm\"\n",
       "      fill=\"#A8FFFD\" stroke=\"none\" />\n",
       "<rect x=\"75.60000000000001mm\" y=\"0.0mm\"\n",
       "      width=\"1.8mm\" height=\"23.999999999999996mm\"\n",
       "      fill=\"#2023C8\" stroke=\"none\" />\n",
       "<rect x=\"77.4mm\" y=\"0.0mm\"\n",
       "      width=\"1.8mm\" height=\"23.999999999999996mm\"\n",
       "      fill=\"#937BD2\" stroke=\"none\" />\n",
       "<rect x=\"79.2mm\" y=\"0.0mm\"\n",
       "      width=\"1.8mm\" height=\"23.999999999999996mm\"\n",
       "      fill=\"#FFE8B4\" stroke=\"none\" />\n",
       "<rect x=\"81.0mm\" y=\"0.0mm\"\n",
       "      width=\"1.8mm\" height=\"23.999999999999996mm\"\n",
       "      fill=\"#4A5750\" stroke=\"none\" />\n",
       "<rect x=\"82.8mm\" y=\"0.0mm\"\n",
       "      width=\"1.8mm\" height=\"23.999999999999996mm\"\n",
       "      fill=\"#636B05\" stroke=\"none\" />\n",
       "<rect x=\"84.60000000000001mm\" y=\"0.0mm\"\n",
       "      width=\"1.8mm\" height=\"23.999999999999996mm\"\n",
       "      fill=\"#2C1300\" stroke=\"none\" />\n",
       "<rect x=\"86.4mm\" y=\"0.0mm\"\n",
       "      width=\"1.8mm\" height=\"23.999999999999996mm\"\n",
       "      fill=\"#00BC62\" stroke=\"none\" />\n",
       "<rect x=\"88.2mm\" y=\"0.0mm\"\n",
       "      width=\"1.8mm\" height=\"23.999999999999996mm\"\n",
       "      fill=\"#CFE6FF\" stroke=\"none\" />\n",
       "<rect x=\"90.0mm\" y=\"0.0mm\"\n",
       "      width=\"1.8mm\" height=\"23.999999999999996mm\"\n",
       "      fill=\"#915266\" stroke=\"none\" />\n",
       "<rect x=\"91.8mm\" y=\"0.0mm\"\n",
       "      width=\"1.8mm\" height=\"23.999999999999996mm\"\n",
       "      fill=\"#C9F6C9\" stroke=\"none\" />\n",
       "<rect x=\"93.60000000000001mm\" y=\"0.0mm\"\n",
       "      width=\"1.8mm\" height=\"23.999999999999996mm\"\n",
       "      fill=\"#B6A9CF\" stroke=\"none\" />\n",
       "<rect x=\"95.4mm\" y=\"0.0mm\"\n",
       "      width=\"1.8mm\" height=\"23.999999999999996mm\"\n",
       "      fill=\"#2E3248\" stroke=\"none\" />\n",
       "<rect x=\"97.2mm\" y=\"0.0mm\"\n",
       "      width=\"1.8mm\" height=\"23.999999999999996mm\"\n",
       "      fill=\"#BBACA5\" stroke=\"none\" />\n",
       "<rect x=\"99.0mm\" y=\"0.0mm\"\n",
       "      width=\"1.8mm\" height=\"23.999999999999996mm\"\n",
       "      fill=\"#006B50\" stroke=\"none\" />\n",
       "<rect x=\"100.8mm\" y=\"0.0mm\"\n",
       "      width=\"1.8mm\" height=\"23.999999999999996mm\"\n",
       "      fill=\"#383329\" stroke=\"none\" />\n",
       "<rect x=\"102.60000000000001mm\" y=\"0.0mm\"\n",
       "      width=\"1.8mm\" height=\"23.999999999999996mm\"\n",
       "      fill=\"#C5AD6D\" stroke=\"none\" />\n",
       "<rect x=\"104.4mm\" y=\"0.0mm\"\n",
       "      width=\"1.8mm\" height=\"23.999999999999996mm\"\n",
       "      fill=\"#005500\" stroke=\"none\" />\n",
       "<rect x=\"106.2mm\" y=\"0.0mm\"\n",
       "      width=\"1.8mm\" height=\"23.999999999999996mm\"\n",
       "      fill=\"#687A7E\" stroke=\"none\" />\n",
       "<rect x=\"108.0mm\" y=\"0.0mm\"\n",
       "      width=\"1.8mm\" height=\"23.999999999999996mm\"\n",
       "      fill=\"#FF4ED2\" stroke=\"none\" />\n",
       "<rect x=\"109.8mm\" y=\"0.0mm\"\n",
       "      width=\"1.8mm\" height=\"23.999999999999996mm\"\n",
       "      fill=\"#9A2F00\" stroke=\"none\" />\n",
       "<rect x=\"111.60000000000001mm\" y=\"0.0mm\"\n",
       "      width=\"1.8mm\" height=\"23.999999999999996mm\"\n",
       "      fill=\"#501D5B\" stroke=\"none\" />\n",
       "<rect x=\"113.4mm\" y=\"0.0mm\"\n",
       "      width=\"1.8mm\" height=\"23.999999999999996mm\"\n",
       "      fill=\"#0E1A00\" stroke=\"none\" />\n",
       "<rect x=\"115.2mm\" y=\"0.0mm\"\n",
       "      width=\"1.8mm\" height=\"23.999999999999996mm\"\n",
       "      fill=\"#0B001F\" stroke=\"none\" />\n",
       "<rect x=\"117.0mm\" y=\"0.0mm\"\n",
       "      width=\"1.8mm\" height=\"23.999999999999996mm\"\n",
       "      fill=\"#49A9B8\" stroke=\"none\" />\n",
       "<rect x=\"118.8mm\" y=\"0.0mm\"\n",
       "      width=\"1.8mm\" height=\"23.999999999999996mm\"\n",
       "      fill=\"#8200A5\" stroke=\"none\" />\n",
       "<rect x=\"120.60000000000001mm\" y=\"0.0mm\"\n",
       "      width=\"1.8mm\" height=\"23.999999999999996mm\"\n",
       "      fill=\"#609663\" stroke=\"none\" />\n",
       "<rect x=\"122.4mm\" y=\"0.0mm\"\n",
       "      width=\"1.8mm\" height=\"23.999999999999996mm\"\n",
       "      fill=\"#00397F\" stroke=\"none\" />\n",
       "<rect x=\"124.2mm\" y=\"0.0mm\"\n",
       "      width=\"1.8mm\" height=\"23.999999999999996mm\"\n",
       "      fill=\"#8E0037\" stroke=\"none\" />\n",
       "<rect x=\"126.0mm\" y=\"0.0mm\"\n",
       "      width=\"1.8mm\" height=\"23.999999999999996mm\"\n",
       "      fill=\"#643820\" stroke=\"none\" />\n",
       "<rect x=\"127.8mm\" y=\"0.0mm\"\n",
       "      width=\"1.8mm\" height=\"23.999999999999996mm\"\n",
       "      fill=\"#7558FF\" stroke=\"none\" />\n",
       "<rect x=\"129.6mm\" y=\"0.0mm\"\n",
       "      width=\"1.8mm\" height=\"23.999999999999996mm\"\n",
       "      fill=\"#006787\" stroke=\"none\" />\n",
       "<rect x=\"131.4mm\" y=\"0.0mm\"\n",
       "      width=\"1.8mm\" height=\"23.999999999999996mm\"\n",
       "      fill=\"#B75D4E\" stroke=\"none\" />\n",
       "<rect x=\"133.20000000000002mm\" y=\"0.0mm\"\n",
       "      width=\"1.8mm\" height=\"23.999999999999996mm\"\n",
       "      fill=\"#C3C958\" stroke=\"none\" />\n",
       "<rect x=\"135.0mm\" y=\"0.0mm\"\n",
       "      width=\"1.8mm\" height=\"23.999999999999996mm\"\n",
       "      fill=\"#D00068\" stroke=\"none\" />\n",
       "<rect x=\"136.8mm\" y=\"0.0mm\"\n",
       "      width=\"1.8mm\" height=\"23.999999999999996mm\"\n",
       "      fill=\"#51272B\" stroke=\"none\" />\n",
       "<rect x=\"138.6mm\" y=\"0.0mm\"\n",
       "      width=\"1.8mm\" height=\"23.999999999999996mm\"\n",
       "      fill=\"#7B6044\" stroke=\"none\" />\n",
       "<rect x=\"140.4mm\" y=\"0.0mm\"\n",
       "      width=\"1.8mm\" height=\"23.999999999999996mm\"\n",
       "      fill=\"#2E3A00\" stroke=\"none\" />\n",
       "<rect x=\"142.20000000000002mm\" y=\"0.0mm\"\n",
       "      width=\"1.8mm\" height=\"23.999999999999996mm\"\n",
       "      fill=\"#7AFF8B\" stroke=\"none\" />\n",
       "<rect x=\"144.0mm\" y=\"0.0mm\"\n",
       "      width=\"1.8mm\" height=\"23.999999999999996mm\"\n",
       "      fill=\"#4F85F6\" stroke=\"none\" />\n",
       "<rect x=\"145.8mm\" y=\"0.0mm\"\n",
       "      width=\"1.8mm\" height=\"23.999999999999996mm\"\n",
       "      fill=\"#C47800\" stroke=\"none\" />\n",
       "<rect x=\"147.6mm\" y=\"0.0mm\"\n",
       "      width=\"1.8mm\" height=\"23.999999999999996mm\"\n",
       "      fill=\"#B5939C\" stroke=\"none\" />\n",
       "<rect x=\"149.4mm\" y=\"0.0mm\"\n",
       "      width=\"1.8mm\" height=\"23.999999999999996mm\"\n",
       "      fill=\"#60647C\" stroke=\"none\" />\n",
       "<rect x=\"151.20000000000002mm\" y=\"0.0mm\"\n",
       "      width=\"1.8mm\" height=\"23.999999999999996mm\"\n",
       "      fill=\"#20D8D8\" stroke=\"none\" />\n",
       "<rect x=\"153.0mm\" y=\"0.0mm\"\n",
       "      width=\"1.8mm\" height=\"23.999999999999996mm\"\n",
       "      fill=\"#001B2C\" stroke=\"none\" />\n",
       "<rect x=\"154.8mm\" y=\"0.0mm\"\n",
       "      width=\"1.8mm\" height=\"23.999999999999996mm\"\n",
       "      fill=\"#002726\" stroke=\"none\" />\n",
       "<rect x=\"156.6mm\" y=\"0.0mm\"\n",
       "      width=\"1.8mm\" height=\"23.999999999999996mm\"\n",
       "      fill=\"#F8E7E0\" stroke=\"none\" />\n",
       "<rect x=\"158.4mm\" y=\"0.0mm\"\n",
       "      width=\"1.8mm\" height=\"23.999999999999996mm\"\n",
       "      fill=\"#7E6200\" stroke=\"none\" />\n",
       "<rect x=\"160.20000000000002mm\" y=\"0.0mm\"\n",
       "      width=\"1.8mm\" height=\"23.999999999999996mm\"\n",
       "      fill=\"#185D5D\" stroke=\"none\" />\n",
       "<rect x=\"162.0mm\" y=\"0.0mm\"\n",
       "      width=\"1.8mm\" height=\"23.999999999999996mm\"\n",
       "      fill=\"#008B74\" stroke=\"none\" />\n",
       "<rect x=\"163.8mm\" y=\"0.0mm\"\n",
       "      width=\"1.8mm\" height=\"23.999999999999996mm\"\n",
       "      fill=\"#FF3F37\" stroke=\"none\" />\n",
       "<rect x=\"165.6mm\" y=\"0.0mm\"\n",
       "      width=\"1.8mm\" height=\"23.999999999999996mm\"\n",
       "      fill=\"#BC9EFF\" stroke=\"none\" />\n",
       "<rect x=\"167.4mm\" y=\"0.0mm\"\n",
       "      width=\"1.8mm\" height=\"23.999999999999996mm\"\n",
       "      fill=\"#82746D\" stroke=\"none\" />\n",
       "<rect x=\"169.20000000000002mm\" y=\"0.0mm\"\n",
       "      width=\"1.8mm\" height=\"23.999999999999996mm\"\n",
       "      fill=\"#555633\" stroke=\"none\" />\n",
       "<rect x=\"171.0mm\" y=\"0.0mm\"\n",
       "      width=\"1.8mm\" height=\"23.999999999999996mm\"\n",
       "      fill=\"#54BDFF\" stroke=\"none\" />\n",
       "<rect x=\"172.8mm\" y=\"0.0mm\"\n",
       "      width=\"1.8mm\" height=\"23.999999999999996mm\"\n",
       "      fill=\"#CD38A2\" stroke=\"none\" />\n",
       "<rect x=\"174.6mm\" y=\"0.0mm\"\n",
       "      width=\"1.8mm\" height=\"23.999999999999996mm\"\n",
       "      fill=\"#81D3AC\" stroke=\"none\" />\n",
       "<rect x=\"176.4mm\" y=\"0.0mm\"\n",
       "      width=\"1.8mm\" height=\"23.999999999999996mm\"\n",
       "      fill=\"#8A6F80\" stroke=\"none\" />\n",
       "<rect x=\"178.20000000000002mm\" y=\"0.0mm\"\n",
       "      width=\"1.8mm\" height=\"23.999999999999996mm\"\n",
       "      fill=\"#F7B66A\" stroke=\"none\" />\n",
       "</svg>"
      ],
      "text/plain": [
       "100-element Array{ColorTypes.RGB{FixedPointNumbers.Normed{UInt8,8}},1}:\n",
       " RGB{N0f8}(0.0,0.0,0.0)      \n",
       " RGB{N0f8}(1.0,1.0,0.384)    \n",
       " RGB{N0f8}(1.0,0.624,1.0)    \n",
       " RGB{N0f8}(0.0,0.839,1.0)    \n",
       " RGB{N0f8}(0.843,0.267,0.0)  \n",
       " RGB{N0f8}(0.0,0.502,0.161)  \n",
       " RGB{N0f8}(0.0,0.373,0.835)  \n",
       " RGB{N0f8}(0.576,0.0,0.408)  \n",
       " RGB{N0f8}(1.0,0.796,0.71)   \n",
       " RGB{N0f8}(0.655,0.525,0.0)  \n",
       " RGB{N0f8}(0.0,1.0,0.773)    \n",
       " RGB{N0f8}(0.0,0.494,0.525)  \n",
       " RGB{N0f8}(0.325,0.259,0.0)  \n",
       " ⋮                           \n",
       " RGB{N0f8}(0.494,0.384,0.0)  \n",
       " RGB{N0f8}(0.094,0.365,0.365)\n",
       " RGB{N0f8}(0.0,0.545,0.455)  \n",
       " RGB{N0f8}(1.0,0.247,0.216)  \n",
       " RGB{N0f8}(0.737,0.62,1.0)   \n",
       " RGB{N0f8}(0.51,0.455,0.427) \n",
       " RGB{N0f8}(0.333,0.337,0.2)  \n",
       " RGB{N0f8}(0.329,0.741,1.0)  \n",
       " RGB{N0f8}(0.804,0.22,0.635) \n",
       " RGB{N0f8}(0.506,0.827,0.675)\n",
       " RGB{N0f8}(0.541,0.435,0.502)\n",
       " RGB{N0f8}(0.969,0.714,0.416)"
      ]
     },
     "execution_count": 52,
     "metadata": {},
     "output_type": "execute_result"
    }
   ],
   "source": [
    "colors = distinguishable_colors(100)\n"
   ]
  },
  {
   "cell_type": "code",
   "execution_count": 53,
   "metadata": {},
   "outputs": [
    {
     "data": {
      "text/html": [],
      "text/plain": [
       "Interact.Options{:SelectionSlider,Int64}(59: \"input-19\" = 4 Int64 , \"i\", 4, \"4\", Interact.OptionDict(DataStructures.OrderedDict(\"1\"=>1,\"2\"=>2,\"3\"=>3,\"4\"=>4,\"5\"=>5,\"6\"=>6,\"7\"=>7,\"8\"=>8), Dict(7=>\"7\",4=>\"4\",2=>\"2\",3=>\"3\",5=>\"5\",8=>\"8\",6=>\"6\",1=>\"1\")), Any[], Any[], true, \"horizontal\")"
      ]
     },
     "metadata": {},
     "output_type": "display_data"
    },
    {
     "data": {
      "text/html": [],
      "text/plain": [
       "Interact.Options{:SelectionSlider,Int64}(61: \"input-20\" = 4 Int64 , \"j\", 4, \"4\", Interact.OptionDict(DataStructures.OrderedDict(\"1\"=>1,\"2\"=>2,\"3\"=>3,\"4\"=>4,\"5\"=>5,\"6\"=>6,\"7\"=>7,\"8\"=>8), Dict(7=>\"7\",4=>\"4\",2=>\"2\",3=>\"3\",5=>\"5\",8=>\"8\",6=>\"6\",1=>\"1\")), Any[], Any[], true, \"horizontal\")"
      ]
     },
     "metadata": {},
     "output_type": "display_data"
    },
    {
     "data": {
      "text/plain": [
       "10×10 Array{Int64,2}:\n",
       " 0  0  0  0  0  0  0  0  0  0\n",
       " 0  0  0  0  0  0  0  0  0  0\n",
       " 0  0  0  0  0  0  0  0  0  0\n",
       " 0  0  0  7  7  7  0  0  0  0\n",
       " 0  0  0  7  7  7  0  0  0  0\n",
       " 0  0  0  7  7  7  0  0  0  0\n",
       " 0  0  0  0  0  0  0  0  0  0\n",
       " 0  0  0  0  0  0  0  0  0  0\n",
       " 0  0  0  0  0  0  0  0  0  0\n",
       " 0  0  0  0  0  0  0  0  0  0"
      ]
     },
     "execution_count": 53,
     "metadata": {
      "comm_id": "8f20b57c-c662-4106-b596-6d49cf2b58fc",
      "reactive": true
     },
     "output_type": "execute_result"
    }
   ],
   "source": [
    "# Remember this ????\n",
    "A = fill(0, 10, 10)\n",
    "n = size(A, 1)\n",
    "\n",
    "@manipulate for i in 1:n-2, j in 1:n-2\n",
    "    insert_block(A, i, j)\n",
    "end"
   ]
  },
  {
   "cell_type": "markdown",
   "metadata": {},
   "source": [
    "What happens if we use colors instead?"
   ]
  },
  {
   "cell_type": "code",
   "execution_count": 54,
   "metadata": {
    "scrolled": true
   },
   "outputs": [
    {
     "data": {
      "text/html": [],
      "text/plain": [
       "Interact.Options{:SelectionSlider,Int64}(65: \"input-21\" = 4 Int64 , \"i\", 4, \"4\", Interact.OptionDict(DataStructures.OrderedDict(\"1\"=>1,\"2\"=>2,\"3\"=>3,\"4\"=>4,\"5\"=>5,\"6\"=>6,\"7\"=>7,\"8\"=>8), Dict(7=>\"7\",4=>\"4\",2=>\"2\",3=>\"3\",5=>\"5\",8=>\"8\",6=>\"6\",1=>\"1\")), Any[], Any[], true, \"horizontal\")"
      ]
     },
     "metadata": {},
     "output_type": "display_data"
    },
    {
     "data": {
      "text/html": [],
      "text/plain": [
       "Interact.Options{:SelectionSlider,Int64}(67: \"input-22\" = 4 Int64 , \"j\", 4, \"4\", Interact.OptionDict(DataStructures.OrderedDict(\"1\"=>1,\"2\"=>2,\"3\"=>3,\"4\"=>4,\"5\"=>5,\"6\"=>6,\"7\"=>7,\"8\"=>8), Dict(7=>\"7\",4=>\"4\",2=>\"2\",3=>\"3\",5=>\"5\",8=>\"8\",6=>\"6\",1=>\"1\")), Any[], Any[], true, \"horizontal\")"
      ]
     },
     "metadata": {},
     "output_type": "display_data"
    },
    {
     "data": {
      "image/svg+xml": [
       "<?xml version=\"1.0\" encoding=\"UTF-8\"?>\n",
       "<!DOCTYPE svg PUBLIC \"-//W3C//DTD SVG 1.1//EN\"\n",
       " \"http://www.w3.org/Graphics/SVG/1.1/DTD/svg11.dtd\">\n",
       "<svg xmlns=\"http://www.w3.org/2000/svg\" version=\"1.1\"\n",
       "     width=\"150.0mm\" height=\"150.0mm\"\n",
       "     shape-rendering=\"crispEdges\">\n",
       "<rect x=\"0.0mm\" y=\"0.0mm\"\n",
       "      width=\"14.0mm\" height=\"14.0mm\"\n",
       "      fill=\"#000000\" stroke=\"none\" />\n",
       "<rect x=\"15.0mm\" y=\"0.0mm\"\n",
       "      width=\"14.0mm\" height=\"14.0mm\"\n",
       "      fill=\"#000000\" stroke=\"none\" />\n",
       "<rect x=\"30.0mm\" y=\"0.0mm\"\n",
       "      width=\"14.0mm\" height=\"14.0mm\"\n",
       "      fill=\"#000000\" stroke=\"none\" />\n",
       "<rect x=\"45.0mm\" y=\"0.0mm\"\n",
       "      width=\"14.0mm\" height=\"14.0mm\"\n",
       "      fill=\"#000000\" stroke=\"none\" />\n",
       "<rect x=\"60.0mm\" y=\"0.0mm\"\n",
       "      width=\"14.0mm\" height=\"14.0mm\"\n",
       "      fill=\"#000000\" stroke=\"none\" />\n",
       "<rect x=\"75.0mm\" y=\"0.0mm\"\n",
       "      width=\"14.0mm\" height=\"14.0mm\"\n",
       "      fill=\"#000000\" stroke=\"none\" />\n",
       "<rect x=\"90.0mm\" y=\"0.0mm\"\n",
       "      width=\"14.0mm\" height=\"14.0mm\"\n",
       "      fill=\"#000000\" stroke=\"none\" />\n",
       "<rect x=\"105.0mm\" y=\"0.0mm\"\n",
       "      width=\"14.0mm\" height=\"14.0mm\"\n",
       "      fill=\"#000000\" stroke=\"none\" />\n",
       "<rect x=\"120.0mm\" y=\"0.0mm\"\n",
       "      width=\"14.0mm\" height=\"14.0mm\"\n",
       "      fill=\"#000000\" stroke=\"none\" />\n",
       "<rect x=\"135.0mm\" y=\"0.0mm\"\n",
       "      width=\"14.0mm\" height=\"14.0mm\"\n",
       "      fill=\"#000000\" stroke=\"none\" />\n",
       "<rect x=\"0.0mm\" y=\"15.0mm\"\n",
       "      width=\"14.0mm\" height=\"14.0mm\"\n",
       "      fill=\"#000000\" stroke=\"none\" />\n",
       "<rect x=\"15.0mm\" y=\"15.0mm\"\n",
       "      width=\"14.0mm\" height=\"14.0mm\"\n",
       "      fill=\"#000000\" stroke=\"none\" />\n",
       "<rect x=\"30.0mm\" y=\"15.0mm\"\n",
       "      width=\"14.0mm\" height=\"14.0mm\"\n",
       "      fill=\"#000000\" stroke=\"none\" />\n",
       "<rect x=\"45.0mm\" y=\"15.0mm\"\n",
       "      width=\"14.0mm\" height=\"14.0mm\"\n",
       "      fill=\"#000000\" stroke=\"none\" />\n",
       "<rect x=\"60.0mm\" y=\"15.0mm\"\n",
       "      width=\"14.0mm\" height=\"14.0mm\"\n",
       "      fill=\"#000000\" stroke=\"none\" />\n",
       "<rect x=\"75.0mm\" y=\"15.0mm\"\n",
       "      width=\"14.0mm\" height=\"14.0mm\"\n",
       "      fill=\"#000000\" stroke=\"none\" />\n",
       "<rect x=\"90.0mm\" y=\"15.0mm\"\n",
       "      width=\"14.0mm\" height=\"14.0mm\"\n",
       "      fill=\"#000000\" stroke=\"none\" />\n",
       "<rect x=\"105.0mm\" y=\"15.0mm\"\n",
       "      width=\"14.0mm\" height=\"14.0mm\"\n",
       "      fill=\"#000000\" stroke=\"none\" />\n",
       "<rect x=\"120.0mm\" y=\"15.0mm\"\n",
       "      width=\"14.0mm\" height=\"14.0mm\"\n",
       "      fill=\"#000000\" stroke=\"none\" />\n",
       "<rect x=\"135.0mm\" y=\"15.0mm\"\n",
       "      width=\"14.0mm\" height=\"14.0mm\"\n",
       "      fill=\"#000000\" stroke=\"none\" />\n",
       "<rect x=\"0.0mm\" y=\"30.0mm\"\n",
       "      width=\"14.0mm\" height=\"14.0mm\"\n",
       "      fill=\"#000000\" stroke=\"none\" />\n",
       "<rect x=\"15.0mm\" y=\"30.0mm\"\n",
       "      width=\"14.0mm\" height=\"14.0mm\"\n",
       "      fill=\"#000000\" stroke=\"none\" />\n",
       "<rect x=\"30.0mm\" y=\"30.0mm\"\n",
       "      width=\"14.0mm\" height=\"14.0mm\"\n",
       "      fill=\"#000000\" stroke=\"none\" />\n",
       "<rect x=\"45.0mm\" y=\"30.0mm\"\n",
       "      width=\"14.0mm\" height=\"14.0mm\"\n",
       "      fill=\"#000000\" stroke=\"none\" />\n",
       "<rect x=\"60.0mm\" y=\"30.0mm\"\n",
       "      width=\"14.0mm\" height=\"14.0mm\"\n",
       "      fill=\"#000000\" stroke=\"none\" />\n",
       "<rect x=\"75.0mm\" y=\"30.0mm\"\n",
       "      width=\"14.0mm\" height=\"14.0mm\"\n",
       "      fill=\"#000000\" stroke=\"none\" />\n",
       "<rect x=\"90.0mm\" y=\"30.0mm\"\n",
       "      width=\"14.0mm\" height=\"14.0mm\"\n",
       "      fill=\"#000000\" stroke=\"none\" />\n",
       "<rect x=\"105.0mm\" y=\"30.0mm\"\n",
       "      width=\"14.0mm\" height=\"14.0mm\"\n",
       "      fill=\"#000000\" stroke=\"none\" />\n",
       "<rect x=\"120.0mm\" y=\"30.0mm\"\n",
       "      width=\"14.0mm\" height=\"14.0mm\"\n",
       "      fill=\"#000000\" stroke=\"none\" />\n",
       "<rect x=\"135.0mm\" y=\"30.0mm\"\n",
       "      width=\"14.0mm\" height=\"14.0mm\"\n",
       "      fill=\"#000000\" stroke=\"none\" />\n",
       "<rect x=\"0.0mm\" y=\"45.0mm\"\n",
       "      width=\"14.0mm\" height=\"14.0mm\"\n",
       "      fill=\"#000000\" stroke=\"none\" />\n",
       "<rect x=\"15.0mm\" y=\"45.0mm\"\n",
       "      width=\"14.0mm\" height=\"14.0mm\"\n",
       "      fill=\"#000000\" stroke=\"none\" />\n",
       "<rect x=\"30.0mm\" y=\"45.0mm\"\n",
       "      width=\"14.0mm\" height=\"14.0mm\"\n",
       "      fill=\"#000000\" stroke=\"none\" />\n",
       "<rect x=\"45.0mm\" y=\"45.0mm\"\n",
       "      width=\"14.0mm\" height=\"14.0mm\"\n",
       "      fill=\"#00D6FF\" stroke=\"none\" />\n",
       "<rect x=\"60.0mm\" y=\"45.0mm\"\n",
       "      width=\"14.0mm\" height=\"14.0mm\"\n",
       "      fill=\"#00D6FF\" stroke=\"none\" />\n",
       "<rect x=\"75.0mm\" y=\"45.0mm\"\n",
       "      width=\"14.0mm\" height=\"14.0mm\"\n",
       "      fill=\"#00D6FF\" stroke=\"none\" />\n",
       "<rect x=\"90.0mm\" y=\"45.0mm\"\n",
       "      width=\"14.0mm\" height=\"14.0mm\"\n",
       "      fill=\"#000000\" stroke=\"none\" />\n",
       "<rect x=\"105.0mm\" y=\"45.0mm\"\n",
       "      width=\"14.0mm\" height=\"14.0mm\"\n",
       "      fill=\"#000000\" stroke=\"none\" />\n",
       "<rect x=\"120.0mm\" y=\"45.0mm\"\n",
       "      width=\"14.0mm\" height=\"14.0mm\"\n",
       "      fill=\"#000000\" stroke=\"none\" />\n",
       "<rect x=\"135.0mm\" y=\"45.0mm\"\n",
       "      width=\"14.0mm\" height=\"14.0mm\"\n",
       "      fill=\"#000000\" stroke=\"none\" />\n",
       "<rect x=\"0.0mm\" y=\"60.0mm\"\n",
       "      width=\"14.0mm\" height=\"14.0mm\"\n",
       "      fill=\"#000000\" stroke=\"none\" />\n",
       "<rect x=\"15.0mm\" y=\"60.0mm\"\n",
       "      width=\"14.0mm\" height=\"14.0mm\"\n",
       "      fill=\"#000000\" stroke=\"none\" />\n",
       "<rect x=\"30.0mm\" y=\"60.0mm\"\n",
       "      width=\"14.0mm\" height=\"14.0mm\"\n",
       "      fill=\"#000000\" stroke=\"none\" />\n",
       "<rect x=\"45.0mm\" y=\"60.0mm\"\n",
       "      width=\"14.0mm\" height=\"14.0mm\"\n",
       "      fill=\"#00D6FF\" stroke=\"none\" />\n",
       "<rect x=\"60.0mm\" y=\"60.0mm\"\n",
       "      width=\"14.0mm\" height=\"14.0mm\"\n",
       "      fill=\"#00D6FF\" stroke=\"none\" />\n",
       "<rect x=\"75.0mm\" y=\"60.0mm\"\n",
       "      width=\"14.0mm\" height=\"14.0mm\"\n",
       "      fill=\"#00D6FF\" stroke=\"none\" />\n",
       "<rect x=\"90.0mm\" y=\"60.0mm\"\n",
       "      width=\"14.0mm\" height=\"14.0mm\"\n",
       "      fill=\"#000000\" stroke=\"none\" />\n",
       "<rect x=\"105.0mm\" y=\"60.0mm\"\n",
       "      width=\"14.0mm\" height=\"14.0mm\"\n",
       "      fill=\"#000000\" stroke=\"none\" />\n",
       "<rect x=\"120.0mm\" y=\"60.0mm\"\n",
       "      width=\"14.0mm\" height=\"14.0mm\"\n",
       "      fill=\"#000000\" stroke=\"none\" />\n",
       "<rect x=\"135.0mm\" y=\"60.0mm\"\n",
       "      width=\"14.0mm\" height=\"14.0mm\"\n",
       "      fill=\"#000000\" stroke=\"none\" />\n",
       "<rect x=\"0.0mm\" y=\"75.0mm\"\n",
       "      width=\"14.0mm\" height=\"14.0mm\"\n",
       "      fill=\"#000000\" stroke=\"none\" />\n",
       "<rect x=\"15.0mm\" y=\"75.0mm\"\n",
       "      width=\"14.0mm\" height=\"14.0mm\"\n",
       "      fill=\"#000000\" stroke=\"none\" />\n",
       "<rect x=\"30.0mm\" y=\"75.0mm\"\n",
       "      width=\"14.0mm\" height=\"14.0mm\"\n",
       "      fill=\"#000000\" stroke=\"none\" />\n",
       "<rect x=\"45.0mm\" y=\"75.0mm\"\n",
       "      width=\"14.0mm\" height=\"14.0mm\"\n",
       "      fill=\"#00D6FF\" stroke=\"none\" />\n",
       "<rect x=\"60.0mm\" y=\"75.0mm\"\n",
       "      width=\"14.0mm\" height=\"14.0mm\"\n",
       "      fill=\"#00D6FF\" stroke=\"none\" />\n",
       "<rect x=\"75.0mm\" y=\"75.0mm\"\n",
       "      width=\"14.0mm\" height=\"14.0mm\"\n",
       "      fill=\"#00D6FF\" stroke=\"none\" />\n",
       "<rect x=\"90.0mm\" y=\"75.0mm\"\n",
       "      width=\"14.0mm\" height=\"14.0mm\"\n",
       "      fill=\"#000000\" stroke=\"none\" />\n",
       "<rect x=\"105.0mm\" y=\"75.0mm\"\n",
       "      width=\"14.0mm\" height=\"14.0mm\"\n",
       "      fill=\"#000000\" stroke=\"none\" />\n",
       "<rect x=\"120.0mm\" y=\"75.0mm\"\n",
       "      width=\"14.0mm\" height=\"14.0mm\"\n",
       "      fill=\"#000000\" stroke=\"none\" />\n",
       "<rect x=\"135.0mm\" y=\"75.0mm\"\n",
       "      width=\"14.0mm\" height=\"14.0mm\"\n",
       "      fill=\"#000000\" stroke=\"none\" />\n",
       "<rect x=\"0.0mm\" y=\"90.0mm\"\n",
       "      width=\"14.0mm\" height=\"14.0mm\"\n",
       "      fill=\"#000000\" stroke=\"none\" />\n",
       "<rect x=\"15.0mm\" y=\"90.0mm\"\n",
       "      width=\"14.0mm\" height=\"14.0mm\"\n",
       "      fill=\"#000000\" stroke=\"none\" />\n",
       "<rect x=\"30.0mm\" y=\"90.0mm\"\n",
       "      width=\"14.0mm\" height=\"14.0mm\"\n",
       "      fill=\"#000000\" stroke=\"none\" />\n",
       "<rect x=\"45.0mm\" y=\"90.0mm\"\n",
       "      width=\"14.0mm\" height=\"14.0mm\"\n",
       "      fill=\"#000000\" stroke=\"none\" />\n",
       "<rect x=\"60.0mm\" y=\"90.0mm\"\n",
       "      width=\"14.0mm\" height=\"14.0mm\"\n",
       "      fill=\"#000000\" stroke=\"none\" />\n",
       "<rect x=\"75.0mm\" y=\"90.0mm\"\n",
       "      width=\"14.0mm\" height=\"14.0mm\"\n",
       "      fill=\"#000000\" stroke=\"none\" />\n",
       "<rect x=\"90.0mm\" y=\"90.0mm\"\n",
       "      width=\"14.0mm\" height=\"14.0mm\"\n",
       "      fill=\"#000000\" stroke=\"none\" />\n",
       "<rect x=\"105.0mm\" y=\"90.0mm\"\n",
       "      width=\"14.0mm\" height=\"14.0mm\"\n",
       "      fill=\"#000000\" stroke=\"none\" />\n",
       "<rect x=\"120.0mm\" y=\"90.0mm\"\n",
       "      width=\"14.0mm\" height=\"14.0mm\"\n",
       "      fill=\"#000000\" stroke=\"none\" />\n",
       "<rect x=\"135.0mm\" y=\"90.0mm\"\n",
       "      width=\"14.0mm\" height=\"14.0mm\"\n",
       "      fill=\"#000000\" stroke=\"none\" />\n",
       "<rect x=\"0.0mm\" y=\"105.0mm\"\n",
       "      width=\"14.0mm\" height=\"14.0mm\"\n",
       "      fill=\"#000000\" stroke=\"none\" />\n",
       "<rect x=\"15.0mm\" y=\"105.0mm\"\n",
       "      width=\"14.0mm\" height=\"14.0mm\"\n",
       "      fill=\"#000000\" stroke=\"none\" />\n",
       "<rect x=\"30.0mm\" y=\"105.0mm\"\n",
       "      width=\"14.0mm\" height=\"14.0mm\"\n",
       "      fill=\"#000000\" stroke=\"none\" />\n",
       "<rect x=\"45.0mm\" y=\"105.0mm\"\n",
       "      width=\"14.0mm\" height=\"14.0mm\"\n",
       "      fill=\"#000000\" stroke=\"none\" />\n",
       "<rect x=\"60.0mm\" y=\"105.0mm\"\n",
       "      width=\"14.0mm\" height=\"14.0mm\"\n",
       "      fill=\"#000000\" stroke=\"none\" />\n",
       "<rect x=\"75.0mm\" y=\"105.0mm\"\n",
       "      width=\"14.0mm\" height=\"14.0mm\"\n",
       "      fill=\"#000000\" stroke=\"none\" />\n",
       "<rect x=\"90.0mm\" y=\"105.0mm\"\n",
       "      width=\"14.0mm\" height=\"14.0mm\"\n",
       "      fill=\"#000000\" stroke=\"none\" />\n",
       "<rect x=\"105.0mm\" y=\"105.0mm\"\n",
       "      width=\"14.0mm\" height=\"14.0mm\"\n",
       "      fill=\"#000000\" stroke=\"none\" />\n",
       "<rect x=\"120.0mm\" y=\"105.0mm\"\n",
       "      width=\"14.0mm\" height=\"14.0mm\"\n",
       "      fill=\"#000000\" stroke=\"none\" />\n",
       "<rect x=\"135.0mm\" y=\"105.0mm\"\n",
       "      width=\"14.0mm\" height=\"14.0mm\"\n",
       "      fill=\"#000000\" stroke=\"none\" />\n",
       "<rect x=\"0.0mm\" y=\"120.0mm\"\n",
       "      width=\"14.0mm\" height=\"14.0mm\"\n",
       "      fill=\"#000000\" stroke=\"none\" />\n",
       "<rect x=\"15.0mm\" y=\"120.0mm\"\n",
       "      width=\"14.0mm\" height=\"14.0mm\"\n",
       "      fill=\"#000000\" stroke=\"none\" />\n",
       "<rect x=\"30.0mm\" y=\"120.0mm\"\n",
       "      width=\"14.0mm\" height=\"14.0mm\"\n",
       "      fill=\"#000000\" stroke=\"none\" />\n",
       "<rect x=\"45.0mm\" y=\"120.0mm\"\n",
       "      width=\"14.0mm\" height=\"14.0mm\"\n",
       "      fill=\"#000000\" stroke=\"none\" />\n",
       "<rect x=\"60.0mm\" y=\"120.0mm\"\n",
       "      width=\"14.0mm\" height=\"14.0mm\"\n",
       "      fill=\"#000000\" stroke=\"none\" />\n",
       "<rect x=\"75.0mm\" y=\"120.0mm\"\n",
       "      width=\"14.0mm\" height=\"14.0mm\"\n",
       "      fill=\"#000000\" stroke=\"none\" />\n",
       "<rect x=\"90.0mm\" y=\"120.0mm\"\n",
       "      width=\"14.0mm\" height=\"14.0mm\"\n",
       "      fill=\"#000000\" stroke=\"none\" />\n",
       "<rect x=\"105.0mm\" y=\"120.0mm\"\n",
       "      width=\"14.0mm\" height=\"14.0mm\"\n",
       "      fill=\"#000000\" stroke=\"none\" />\n",
       "<rect x=\"120.0mm\" y=\"120.0mm\"\n",
       "      width=\"14.0mm\" height=\"14.0mm\"\n",
       "      fill=\"#000000\" stroke=\"none\" />\n",
       "<rect x=\"135.0mm\" y=\"120.0mm\"\n",
       "      width=\"14.0mm\" height=\"14.0mm\"\n",
       "      fill=\"#000000\" stroke=\"none\" />\n",
       "<rect x=\"0.0mm\" y=\"135.0mm\"\n",
       "      width=\"14.0mm\" height=\"14.0mm\"\n",
       "      fill=\"#000000\" stroke=\"none\" />\n",
       "<rect x=\"15.0mm\" y=\"135.0mm\"\n",
       "      width=\"14.0mm\" height=\"14.0mm\"\n",
       "      fill=\"#000000\" stroke=\"none\" />\n",
       "<rect x=\"30.0mm\" y=\"135.0mm\"\n",
       "      width=\"14.0mm\" height=\"14.0mm\"\n",
       "      fill=\"#000000\" stroke=\"none\" />\n",
       "<rect x=\"45.0mm\" y=\"135.0mm\"\n",
       "      width=\"14.0mm\" height=\"14.0mm\"\n",
       "      fill=\"#000000\" stroke=\"none\" />\n",
       "<rect x=\"60.0mm\" y=\"135.0mm\"\n",
       "      width=\"14.0mm\" height=\"14.0mm\"\n",
       "      fill=\"#000000\" stroke=\"none\" />\n",
       "<rect x=\"75.0mm\" y=\"135.0mm\"\n",
       "      width=\"14.0mm\" height=\"14.0mm\"\n",
       "      fill=\"#000000\" stroke=\"none\" />\n",
       "<rect x=\"90.0mm\" y=\"135.0mm\"\n",
       "      width=\"14.0mm\" height=\"14.0mm\"\n",
       "      fill=\"#000000\" stroke=\"none\" />\n",
       "<rect x=\"105.0mm\" y=\"135.0mm\"\n",
       "      width=\"14.0mm\" height=\"14.0mm\"\n",
       "      fill=\"#000000\" stroke=\"none\" />\n",
       "<rect x=\"120.0mm\" y=\"135.0mm\"\n",
       "      width=\"14.0mm\" height=\"14.0mm\"\n",
       "      fill=\"#000000\" stroke=\"none\" />\n",
       "<rect x=\"135.0mm\" y=\"135.0mm\"\n",
       "      width=\"14.0mm\" height=\"14.0mm\"\n",
       "      fill=\"#000000\" stroke=\"none\" />\n",
       "</svg>"
      ],
      "text/plain": [
       "10×10 Array{ColorTypes.RGB{FixedPointNumbers.Normed{UInt8,8}},2}:\n",
       " RGB{N0f8}(0.0,0.0,0.0)  RGB{N0f8}(0.0,0.0,0.0)  …  RGB{N0f8}(0.0,0.0,0.0)\n",
       " RGB{N0f8}(0.0,0.0,0.0)  RGB{N0f8}(0.0,0.0,0.0)     RGB{N0f8}(0.0,0.0,0.0)\n",
       " RGB{N0f8}(0.0,0.0,0.0)  RGB{N0f8}(0.0,0.0,0.0)     RGB{N0f8}(0.0,0.0,0.0)\n",
       " RGB{N0f8}(0.0,0.0,0.0)  RGB{N0f8}(0.0,0.0,0.0)     RGB{N0f8}(0.0,0.0,0.0)\n",
       " RGB{N0f8}(0.0,0.0,0.0)  RGB{N0f8}(0.0,0.0,0.0)     RGB{N0f8}(0.0,0.0,0.0)\n",
       " RGB{N0f8}(0.0,0.0,0.0)  RGB{N0f8}(0.0,0.0,0.0)  …  RGB{N0f8}(0.0,0.0,0.0)\n",
       " RGB{N0f8}(0.0,0.0,0.0)  RGB{N0f8}(0.0,0.0,0.0)     RGB{N0f8}(0.0,0.0,0.0)\n",
       " RGB{N0f8}(0.0,0.0,0.0)  RGB{N0f8}(0.0,0.0,0.0)     RGB{N0f8}(0.0,0.0,0.0)\n",
       " RGB{N0f8}(0.0,0.0,0.0)  RGB{N0f8}(0.0,0.0,0.0)     RGB{N0f8}(0.0,0.0,0.0)\n",
       " RGB{N0f8}(0.0,0.0,0.0)  RGB{N0f8}(0.0,0.0,0.0)     RGB{N0f8}(0.0,0.0,0.0)"
      ]
     },
     "execution_count": 54,
     "metadata": {
      "comm_id": "4daaf0f3-f1cc-4a0c-ab8b-b31362f9e311",
      "reactive": true
     },
     "output_type": "execute_result"
    }
   ],
   "source": [
    "A = fill(colors[1], 10, 10)\n",
    "n = size(A, 1)\n",
    "\n",
    "@manipulate for i in 1:n-2, j in 1:n-2\n",
    "    insert_block(A, i, j, colors[4])\n",
    "end"
   ]
  },
  {
   "cell_type": "code",
   "execution_count": 55,
   "metadata": {
    "collapsed": true
   },
   "outputs": [],
   "source": [
    "# Exercise: Create Tetris Pieces, have them fall from the top"
   ]
  }
 ],
 "metadata": {
  "anaconda-cloud": {},
  "kernelspec": {
   "display_name": "Julia 0.6.0",
   "language": "julia",
   "name": "julia-0.6"
  },
  "language_info": {
   "file_extension": ".jl",
   "mimetype": "application/julia",
   "name": "julia",
   "version": "0.6.0"
  },
  "toc": {
   "colors": {
    "hover_highlight": "#DAA520",
    "running_highlight": "#FF0000",
    "selected_highlight": "#FFD700"
   },
   "moveMenuLeft": true,
   "nav_menu": {
    "height": "248px",
    "width": "252px"
   },
   "navigate_menu": true,
   "number_sections": true,
   "sideBar": true,
   "threshold": "2",
   "toc_cell": false,
   "toc_section_display": "block",
   "toc_window_display": false
  },
  "widgets": {
   "state": {
    "03e03820-87b0-457b-ab42-ded0426544fd": {
     "views": [
      {
       "cell_index": 69
      }
     ]
    },
    "112a7d1d-27a4-41ed-86dd-495c55c3cc41": {
     "views": [
      {
       "cell_index": 76
      }
     ]
    },
    "303254d1-f92c-4694-bec9-228877cbfeaa": {
     "views": [
      {
       "cell_index": 32
      }
     ]
    },
    "3ab85729-787a-45d8-93bc-18d160c42925": {
     "views": [
      {
       "cell_index": 67
      }
     ]
    },
    "59018bf0-5304-420a-954c-b60b6ade41bc": {
     "views": [
      {
       "cell_index": 35
      }
     ]
    },
    "6596be93-5ae6-44d8-9928-118f26925ca2": {
     "views": [
      {
       "cell_index": 66
      }
     ]
    },
    "6ddddb05-e17f-4527-b346-b03c7654a9bd": {
     "views": [
      {
       "cell_index": 50
      }
     ]
    },
    "73b7ac02-1931-45ea-bab0-a0661446f2c4": {
     "views": [
      {
       "cell_index": 78
      }
     ]
    },
    "7fbfcf1d-2446-46b0-8c48-137bd1b04e59": {
     "views": [
      {
       "cell_index": 50
      }
     ]
    },
    "82e70dac-395e-4e4b-99d8-7c86157baef8": {
     "views": [
      {
       "cell_index": 67
      }
     ]
    },
    "9c1f13ea-b532-45c7-b638-4f2e0753e701": {
     "views": [
      {
       "cell_index": 33
      }
     ]
    },
    "a01da64b-6f5f-4ec4-bfb6-0dd4b5608910": {
     "views": [
      {
       "cell_index": 63
      }
     ]
    },
    "a0cab882-0559-4d6a-a78f-f1c28aafece6": {
     "views": [
      {
       "cell_index": 35
      }
     ]
    },
    "a81871a0-14a4-41b1-a6c5-4fcdccafa1ab": {
     "views": [
      {
       "cell_index": 69
      }
     ]
    },
    "b2248808-aeeb-40c7-a647-29ff9e394260": {
     "views": [
      {
       "cell_index": 65
      }
     ]
    },
    "b59a0470-d356-4c66-9c43-a590a92e4925": {
     "views": [
      {
       "cell_index": 66
      }
     ]
    },
    "b8661b37-c86d-484e-8225-0965da985371": {
     "views": [
      {
       "cell_index": 65
      }
     ]
    },
    "ba049dd3-9042-4cc9-acce-f07f08746316": {
     "views": [
      {
       "cell_index": 76
      }
     ]
    },
    "cbf99c6a-4771-4b80-a2bf-22d90cd5fb84": {
     "views": [
      {
       "cell_index": 74
      }
     ]
    },
    "e1aeaa28-549c-4032-b84e-ef9b2ba7a74e": {
     "views": [
      {
       "cell_index": 63
      }
     ]
    },
    "e1f5a7f1-25fe-4147-9ab0-c58a324d613a": {
     "views": [
      {
       "cell_index": 78
      }
     ]
    }
   },
   "version": "1.2.0"
  }
 },
 "nbformat": 4,
 "nbformat_minor": 2
}
