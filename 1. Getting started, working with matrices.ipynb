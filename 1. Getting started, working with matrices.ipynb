{
 "cells": [
  {
   "cell_type": "markdown",
   "metadata": {},
   "source": [
    "# Playing with matrices\n",
    "(and if you get the subliminal message about abstractions, we'll be thrilled!)"
   ]
  },
  {
   "cell_type": "markdown",
   "metadata": {},
   "source": [
    "Julia is a dynamic language.  You don't need type declarations, and can change variable types dynamically and interactively.\n",
    "\n",
    "For working with simple numbers, arrays, and strings, its syntax is *superficially* similar to Matlab, Python, and other popular languages.\n",
    "\n",
    "In order to execute the `In` cells, select the cell and press `Shift-Enter`, or press the `Play` button above. To run the entire notebook, navigate to the `Cell` menu and then `Run All`."
   ]
  },
  {
   "cell_type": "markdown",
   "metadata": {},
   "source": [
    "# We tell beginners, you don't need types!"
   ]
  },
  {
   "cell_type": "code",
   "execution_count": null,
   "metadata": {
    "collapsed": false
   },
   "outputs": [],
   "source": [
    "typeof(1.0)"
   ]
  },
  {
   "cell_type": "code",
   "execution_count": null,
   "metadata": {
    "collapsed": false
   },
   "outputs": [],
   "source": [
    "typeof(1)"
   ]
  },
  {
   "cell_type": "code",
   "execution_count": null,
   "metadata": {
    "collapsed": false
   },
   "outputs": [],
   "source": [
    "S = \"Hello Julia Clsas\"\n",
    "typeof(S)"
   ]
  },
  {
   "cell_type": "code",
   "execution_count": null,
   "metadata": {
    "collapsed": false
   },
   "outputs": [],
   "source": [
    "#  Exercise fix my spelling in the cell above\n",
    "S"
   ]
  },
  {
   "cell_type": "markdown",
   "metadata": {},
   "source": [
    "# Now forget all that (for now): Julia is not so different from your favorite dynamic language"
   ]
  },
  {
   "cell_type": "code",
   "execution_count": null,
   "metadata": {
    "collapsed": false
   },
   "outputs": [],
   "source": [
    "1 + 1  # shift + enter to run"
   ]
  },
  {
   "cell_type": "code",
   "execution_count": null,
   "metadata": {
    "collapsed": false
   },
   "outputs": [],
   "source": [
    "A = rand(5, 5)"
   ]
  },
  {
   "cell_type": "code",
   "execution_count": null,
   "metadata": {
    "collapsed": false
   },
   "outputs": [],
   "source": [
    "A = SymTridiagonal(rand(6), rand(5))"
   ]
  },
  {
   "cell_type": "code",
   "execution_count": null,
   "metadata": {
    "collapsed": false
   },
   "outputs": [],
   "source": [
    "b = rand(6)\n",
    "A \\ b"
   ]
  },
  {
   "cell_type": "code",
   "execution_count": null,
   "metadata": {
    "collapsed": false
   },
   "outputs": [],
   "source": [
    "A = fill(3.15, 5, 5) # Fill a 5x5 array with 0's"
   ]
  },
  {
   "cell_type": "markdown",
   "metadata": {},
   "source": [
    "# Let's create some addition tables"
   ]
  },
  {
   "cell_type": "markdown",
   "metadata": {},
   "source": [
    "First let's use a nested for loop to fill in a matrix that's initially zero:"
   ]
  },
  {
   "cell_type": "code",
   "execution_count": null,
   "metadata": {
    "collapsed": false
   },
   "outputs": [],
   "source": [
    "A = zeros(5, 5)\n",
    "\n",
    "for i=1:5\n",
    "    for j=1:5\n",
    "        A[i, j] = i+j  # Square brackets for indices.  Also: indices start at 1, not 0.\n",
    "    end\n",
    "end\n",
    "\n",
    "A"
   ]
  },
  {
   "cell_type": "markdown",
   "metadata": {},
   "source": [
    "We can abbreviate this using a double `for` loop:"
   ]
  },
  {
   "cell_type": "code",
   "execution_count": null,
   "metadata": {
    "collapsed": false
   },
   "outputs": [],
   "source": [
    "for i=1:5, j=1:5\n",
    "   A[i, j] = i+j  # Square brackets for indices.  Also: indices start at 1, not 0.\n",
    "end\n",
    "\n",
    "A"
   ]
  },
  {
   "cell_type": "markdown",
   "metadata": {},
   "source": [
    "The Julia way would be to use a so-called **array comprehension**:"
   ]
  },
  {
   "cell_type": "code",
   "execution_count": null,
   "metadata": {
    "collapsed": false
   },
   "outputs": [],
   "source": [
    "[i+j for i=1:5, j=1:5]"
   ]
  },
  {
   "cell_type": "markdown",
   "metadata": {},
   "source": [
    "**Explore**: What does the following do? "
   ]
  },
  {
   "cell_type": "code",
   "execution_count": null,
   "metadata": {
    "collapsed": true
   },
   "outputs": [],
   "source": [
    "[i*100 for i in (1:7).^2]"
   ]
  },
  {
   "cell_type": "markdown",
   "metadata": {},
   "source": [
    "**Explore**: What does the following do? "
   ]
  },
  {
   "cell_type": "code",
   "execution_count": null,
   "metadata": {
    "collapsed": false
   },
   "outputs": [],
   "source": [
    "sort(unique(x^2 + y^2 for x in 1:5, y in 1:5))  # The inner parentheses define a **generator**"
   ]
  },
  {
   "cell_type": "markdown",
   "metadata": {},
   "source": [
    "Suppose we want to see $n \\times n$ multiplication tables for $n=1,2,3,4,5$:"
   ]
  },
  {
   "cell_type": "code",
   "execution_count": null,
   "metadata": {
    "collapsed": false
   },
   "outputs": [],
   "source": [
    "for n = 1:5\n",
    "    display([i*j for i=1:n, j=1:n])\n",
    "end"
   ]
  },
  {
   "cell_type": "markdown",
   "metadata": {},
   "source": [
    "# `Interact.jl` is a Julia *package* for interacting with data"
   ]
  },
  {
   "cell_type": "markdown",
   "metadata": {},
   "source": [
    "It's way more fun to **interact** with our data.\n",
    "We install the `Interact.jl` package as follows; this needs to be executed only once for any given Julia installation:"
   ]
  },
  {
   "cell_type": "code",
   "execution_count": null,
   "metadata": {
    "collapsed": false
   },
   "outputs": [],
   "source": [
    "Pkg.add(\"Interact\")"
   ]
  },
  {
   "cell_type": "markdown",
   "metadata": {},
   "source": [
    "Now we load the package with the following `using` command, in each Julia session:"
   ]
  },
  {
   "cell_type": "code",
   "execution_count": 13,
   "metadata": {
    "collapsed": false
   },
   "outputs": [
    {
     "data": {
      "text/html": [
       "<div id=\"interact-js-shim\">\n",
       "    <script charset=\"utf-8\">\n",
       "(function (IPython, $, _, MathJax) {\n",
       "    $.event.special.destroyed = {\n",
       "\tremove: function(o) {\n",
       "\t    if (o.handler) {\n",
       "\t\to.handler.apply(this, arguments)\n",
       "\t    }\n",
       "\t}\n",
       "    }\n",
       "\n",
       "    var OutputArea = IPython.version >= \"4.0.0\" ? require(\"notebook/js/outputarea\").OutputArea : IPython.OutputArea;\n",
       "\n",
       "    var redrawValue = function (container, type, val) {\n",
       "\tvar selector = $(\"<div/>\");\n",
       "\tvar oa = new OutputArea(_.extend(selector, {\n",
       "\t    selector: selector,\n",
       "\t    prompt_area: true,\n",
       "\t    events: IPython.events,\n",
       "\t    keyboard_manager: IPython.keyboard_manager\n",
       "\t})); // Hack to work with IPython 2.1.0\n",
       "\n",
       "\tswitch (type) {\n",
       "\tcase \"image/png\":\n",
       "            var _src = 'data:' + type + ';base64,' + val;\n",
       "\t    $(container).find(\"img\").attr('src', _src);\n",
       "\t    break;\n",
       "\tcase \"text/latex\":\n",
       "\t\tif (MathJax){\n",
       "\t\t\tvar math = MathJax.Hub.getAllJax(container)[0];\n",
       "\t\t\tMathJax.Hub.Queue([\"Text\", math, val.replace(/^\\${1,2}|\\${1,2}$/g, '')]);\n",
       "\t\t\tbreak;\n",
       "\t\t}\n",
       "\tdefault:\n",
       "\t    var toinsert = OutputArea.append_map[type].apply(\n",
       "\t\toa, [val, {}, selector]\n",
       "\t    );\n",
       "\t    $(container).empty().append(toinsert.contents());\n",
       "\t    selector.remove();\n",
       "\t}\n",
       "    }\n",
       "\n",
       "\n",
       "    $(document).ready(function() {\n",
       "\tfunction initComm(evt, data) {\n",
       "\t    var comm_manager = data.kernel.comm_manager;\n",
       "        //_.extend(comm_manager.targets, require(\"widgets/js/widget\"))\n",
       "\t    comm_manager.register_target(\"Signal\", function (comm) {\n",
       "            comm.on_msg(function (msg) {\n",
       "                var val = msg.content.data.value;\n",
       "                $(\".signal-\" + comm.comm_id).each(function() {\n",
       "                var type = $(this).data(\"type\");\n",
       "                if (typeof(val[type]) !== \"undefined\" && val[type] !== null) {\n",
       "                    redrawValue(this, type, val[type], type);\n",
       "                }\n",
       "                });\n",
       "                delete val;\n",
       "                delete msg.content.data.value;\n",
       "            });\n",
       "\t    });\n",
       "\n",
       "\t    // coordingate with Comm and redraw Signals\n",
       "\t    // XXX: Test using Reactive here to improve performance\n",
       "\t    $([IPython.events]).on(\n",
       "\t\t'output_appended.OutputArea', function (event, type, value, md, toinsert) {\n",
       "\t\t    if (md && md.reactive) {\n",
       "                // console.log(md.comm_id);\n",
       "                toinsert.addClass(\"signal-\" + md.comm_id);\n",
       "                toinsert.data(\"type\", type);\n",
       "                // Signal back indicating the mimetype required\n",
       "                var comm_manager = IPython.notebook.kernel.comm_manager;\n",
       "                var comm = comm_manager.comms[md.comm_id];\n",
       "                comm.then(function (c) {\n",
       "                    c.send({action: \"subscribe_mime\",\n",
       "                       mime: type});\n",
       "                    toinsert.bind(\"destroyed\", function() {\n",
       "                        c.send({action: \"unsubscribe_mime\",\n",
       "                               mime: type});\n",
       "                    });\n",
       "                })\n",
       "\t\t    }\n",
       "\t    });\n",
       "\t}\n",
       "\n",
       "\ttry {\n",
       "\t    // try to initialize right away. otherwise, wait on the status_started event.\n",
       "\t    initComm(undefined, IPython.notebook);\n",
       "\t} catch (e) {\n",
       "\t    $([IPython.events]).on('kernel_created.Kernel kernel_created.Session', initComm);\n",
       "\t}\n",
       "    });\n",
       "})(IPython, jQuery, _, MathJax);\n",
       "</script>\n",
       "    <script>\n",
       "        window.interactLoadedFlag = true\n",
       "       $(\"#interact-js-shim\").bind(\"destroyed\", function () {\n",
       "           if (window.interactLoadedFlag) {\n",
       "               console.warn(\"JavaScript required by Interact will be removed if you remove this cell or run using Interact more than once.\")\n",
       "           }\n",
       "       })\n",
       "       $([IPython.events]).on(\"kernel_starting.Kernel kernel_restarting.Kernel\", function () { window.interactLoadedFlag = false })\n",
       "   </script>\n",
       "</div>"
      ]
     },
     "metadata": {},
     "output_type": "display_data"
    }
   ],
   "source": [
    "using Interact"
   ]
  },
  {
   "cell_type": "markdown",
   "metadata": {},
   "source": [
    "The package contains a `@manipulate` macro, that is wrapped around a `for` loop:"
   ]
  },
  {
   "cell_type": "code",
   "execution_count": null,
   "metadata": {
    "collapsed": false
   },
   "outputs": [],
   "source": [
    "@manipulate for n = 1:1000\n",
    "    n\n",
    "end"
   ]
  },
  {
   "cell_type": "code",
   "execution_count": null,
   "metadata": {
    "collapsed": false
   },
   "outputs": [],
   "source": [
    "@manipulate for n=1:20\n",
    "    [i*j for i=1:n, j=1:n]\n",
    "end"
   ]
  },
  {
   "cell_type": "markdown",
   "metadata": {},
   "source": [
    "We use a double `for` loop to get a double slider!"
   ]
  },
  {
   "cell_type": "code",
   "execution_count": null,
   "metadata": {
    "collapsed": false
   },
   "outputs": [],
   "source": [
    "@manipulate for n=3:10, i=1:9\n",
    "   A = fill(0, n, n)\n",
    "   A[1:3, 1:3] = i    # fill a sub-block\n",
    "A\n",
    "end"
   ]
  },
  {
   "cell_type": "markdown",
   "metadata": {},
   "source": [
    "# Functions"
   ]
  },
  {
   "cell_type": "markdown",
   "metadata": {},
   "source": [
    "Julia is built around functions: all \"commands\" or \"operations\" in Julia are functions:"
   ]
  },
  {
   "cell_type": "code",
   "execution_count": null,
   "metadata": {
    "collapsed": false
   },
   "outputs": [],
   "source": [
    "# verbose form:\n",
    "function f(x)\n",
    "    x^2\n",
    "end\n",
    "\n",
    "# one-line form:\n",
    "f2(x) = x^2\n",
    "\n",
    "# anonymous form:\n",
    "f3 = x -> x^2;"
   ]
  },
  {
   "cell_type": "code",
   "execution_count": null,
   "metadata": {
    "collapsed": false
   },
   "outputs": [],
   "source": [
    "f(10)"
   ]
  },
  {
   "cell_type": "markdown",
   "metadata": {},
   "source": [
    "Functions just work, as long as they make sense:"
   ]
  },
  {
   "cell_type": "code",
   "execution_count": null,
   "metadata": {
    "collapsed": false
   },
   "outputs": [],
   "source": [
    "f(rand(3, 3))"
   ]
  },
  {
   "cell_type": "code",
   "execution_count": null,
   "metadata": {
    "collapsed": false
   },
   "outputs": [],
   "source": [
    "function f(x, power=2) # default argument\n",
    "    x^power\n",
    "end"
   ]
  },
  {
   "cell_type": "code",
   "execution_count": null,
   "metadata": {
    "collapsed": false
   },
   "outputs": [],
   "source": [
    "f(7)"
   ]
  },
  {
   "cell_type": "code",
   "execution_count": null,
   "metadata": {
    "collapsed": false
   },
   "outputs": [],
   "source": [
    "f(10,3)"
   ]
  },
  {
   "cell_type": "markdown",
   "metadata": {},
   "source": [
    "Let's define a function to insert a block in a matrix:"
   ]
  },
  {
   "cell_type": "code",
   "execution_count": 14,
   "metadata": {
    "collapsed": false
   },
   "outputs": [
    {
     "data": {
      "text/plain": [
       "insert_block (generic function with 2 methods)"
      ]
     },
     "execution_count": 14,
     "metadata": {},
     "output_type": "execute_result"
    }
   ],
   "source": [
    "function insert_block(A, i, j, what=7)\n",
    "    B = A[:,:]        # B is a copy of A       \n",
    "    B[i:i+2, j:j+2] = fill(what, 3, 3)\n",
    "    \n",
    "    return B          # the `return` keyword is optional\n",
    "end"
   ]
  },
  {
   "cell_type": "code",
   "execution_count": 15,
   "metadata": {
    "collapsed": false
   },
   "outputs": [
    {
     "data": {
      "text/plain": [
       "9×9 Array{Int64,2}:\n",
       " 0  0  0  0  0  0  0  0  0\n",
       " 0  0  0  0  0  0  0  0  0\n",
       " 0  0  0  0  7  7  7  0  0\n",
       " 0  0  0  0  7  7  7  0  0\n",
       " 0  0  0  0  7  7  7  0  0\n",
       " 0  0  0  0  0  0  0  0  0\n",
       " 0  0  0  0  0  0  0  0  0\n",
       " 0  0  0  0  0  0  0  0  0\n",
       " 0  0  0  0  0  0  0  0  0"
      ]
     },
     "execution_count": 15,
     "metadata": {},
     "output_type": "execute_result"
    }
   ],
   "source": [
    "A = fill(0, 9, 9)\n",
    "insert_block(A, 3, 5)  # this returns the new matrix"
   ]
  },
  {
   "cell_type": "code",
   "execution_count": 16,
   "metadata": {
    "collapsed": false
   },
   "outputs": [
    {
     "data": {
      "text/plain": [
       "9×9 Array{Int64,2}:\n",
       " 0  0  0  0  0  0  0  0  0\n",
       " 0  0  0  0  0  0  0  0  0\n",
       " 0  0  0  0  2  2  2  0  0\n",
       " 0  0  0  0  2  2  2  0  0\n",
       " 0  0  0  0  2  2  2  0  0\n",
       " 0  0  0  0  0  0  0  0  0\n",
       " 0  0  0  0  0  0  0  0  0\n",
       " 0  0  0  0  0  0  0  0  0\n",
       " 0  0  0  0  0  0  0  0  0"
      ]
     },
     "execution_count": 16,
     "metadata": {},
     "output_type": "execute_result"
    }
   ],
   "source": [
    "A = fill(0, 9, 9)\n",
    "insert_block(A, 3, 5, 2)  # Use 2 instead of 7"
   ]
  },
  {
   "cell_type": "markdown",
   "metadata": {},
   "source": [
    "We can move the block around:"
   ]
  },
  {
   "cell_type": "code",
   "execution_count": 17,
   "metadata": {
    "collapsed": false
   },
   "outputs": [
    {
     "data": {
      "text/html": [],
      "text/plain": [
       "Interact.Options{:SelectionSlider,Int64}(Signal{Int64}(4, nactions=1),\"i\",4,\"4\",Interact.OptionDict(DataStructures.OrderedDict(\"1\"=>1,\"2\"=>2,\"3\"=>3,\"4\"=>4,\"5\"=>5,\"6\"=>6,\"7\"=>7,\"8\"=>8),Dict(7=>\"7\",4=>\"4\",2=>\"2\",3=>\"3\",5=>\"5\",8=>\"8\",6=>\"6\",1=>\"1\")),Any[],Any[],true,\"horizontal\")"
      ]
     },
     "metadata": {},
     "output_type": "display_data"
    },
    {
     "data": {
      "text/html": [],
      "text/plain": [
       "Interact.Options{:SelectionSlider,Int64}(Signal{Int64}(4, nactions=1),\"j\",4,\"4\",Interact.OptionDict(DataStructures.OrderedDict(\"1\"=>1,\"2\"=>2,\"3\"=>3,\"4\"=>4,\"5\"=>5,\"6\"=>6,\"7\"=>7,\"8\"=>8),Dict(7=>\"7\",4=>\"4\",2=>\"2\",3=>\"3\",5=>\"5\",8=>\"8\",6=>\"6\",1=>\"1\")),Any[],Any[],true,\"horizontal\")"
      ]
     },
     "metadata": {},
     "output_type": "display_data"
    },
    {
     "data": {
      "text/plain": [
       "10×10 Array{Int64,2}:\n",
       " 0  0  0  0  0  0  0  0  0  0\n",
       " 0  0  0  0  0  0  0  0  0  0\n",
       " 0  0  0  0  0  0  0  0  0  0\n",
       " 0  0  0  7  7  7  0  0  0  0\n",
       " 0  0  0  7  7  7  0  0  0  0\n",
       " 0  0  0  7  7  7  0  0  0  0\n",
       " 0  0  0  0  0  0  0  0  0  0\n",
       " 0  0  0  0  0  0  0  0  0  0\n",
       " 0  0  0  0  0  0  0  0  0  0\n",
       " 0  0  0  0  0  0  0  0  0  0"
      ]
     },
     "execution_count": 17,
     "metadata": {
      "comm_id": "d4e4b0ff-2555-4c00-a57c-e347fa428ffb",
      "reactive": true
     },
     "output_type": "execute_result"
    }
   ],
   "source": [
    "A = fill(0, 10, 10)\n",
    "n = size(A, 1)\n",
    "\n",
    "@manipulate for i in 1:n-2, j in 1:n-2\n",
    "    insert_block(A, i, j)\n",
    "end"
   ]
  },
  {
   "cell_type": "markdown",
   "metadata": {},
   "source": [
    "# Strings"
   ]
  },
  {
   "cell_type": "markdown",
   "metadata": {},
   "source": [
    "Julia can manipulate strings easily:"
   ]
  },
  {
   "cell_type": "code",
   "execution_count": 18,
   "metadata": {
    "collapsed": false
   },
   "outputs": [
    {
     "data": {
      "text/plain": [
       "\"Hello\""
      ]
     },
     "execution_count": 18,
     "metadata": {},
     "output_type": "execute_result"
    }
   ],
   "source": [
    "S = \"Hello\""
   ]
  },
  {
   "cell_type": "code",
   "execution_count": 19,
   "metadata": {
    "collapsed": false
   },
   "outputs": [
    {
     "data": {
      "text/plain": [
       "\"Jello\""
      ]
     },
     "execution_count": 19,
     "metadata": {},
     "output_type": "execute_result"
    }
   ],
   "source": [
    "replace(S, \"H\", \"J\")"
   ]
  },
  {
   "cell_type": "code",
   "execution_count": 20,
   "metadata": {
    "collapsed": false
   },
   "outputs": [
    {
     "data": {
      "text/plain": [
       "3"
      ]
     },
     "execution_count": 20,
     "metadata": {},
     "output_type": "execute_result"
    }
   ],
   "source": [
    "a = 3"
   ]
  },
  {
   "cell_type": "code",
   "execution_count": 21,
   "metadata": {
    "collapsed": false
   },
   "outputs": [
    {
     "data": {
      "text/plain": [
       "\"Hello Hello Julia; a = 3\""
      ]
     },
     "execution_count": 21,
     "metadata": {},
     "output_type": "execute_result"
    }
   ],
   "source": [
    "string(S, \" \", S, \" \", \"Julia; a = \", a)  # build a string by concatenating things"
   ]
  },
  {
   "cell_type": "markdown",
   "metadata": {},
   "source": [
    "More about strings: <a href=\"http://docs.julialang.org/en/stable/manual/strings/\"> Julia Doc on Strings </a>"
   ]
  },
  {
   "cell_type": "markdown",
   "metadata": {},
   "source": [
    "Functions in Julia try to be **generic**, i.e. to work with as many kinds of object as possible:"
   ]
  },
  {
   "cell_type": "code",
   "execution_count": 22,
   "metadata": {
    "collapsed": false
   },
   "outputs": [
    {
     "data": {
      "text/html": [
       "<div style='display:flex;flex-direction:row'><div style='width:40px; text-align:center'>Julia</div> <div style='width:40px; text-align:center'>Julia</div> <div style='width:40px; text-align:center'>Julia</div> <div style='width:40px; text-align:center'>Julia</div> <div style='width:40px; text-align:center'>Julia</div></div><div style='display:flex;flex-direction:row'><div style='width:40px; text-align:center'>Julia</div> <div style='width:40px; text-align:center'>Julia</div> <div style='width:40px; text-align:center'>Julia</div> <div style='width:40px; text-align:center'>Julia</div> <div style='width:40px; text-align:center'>Julia</div></div><div style='display:flex;flex-direction:row'><div style='width:40px; text-align:center'>Julia</div> <div style='width:40px; text-align:center'>Julia</div> <div style='width:40px; text-align:center'>Julia</div> <div style='width:40px; text-align:center'>Julia</div> <div style='width:40px; text-align:center'>Julia</div></div><div style='display:flex;flex-direction:row'><div style='width:40px; text-align:center'>Julia</div> <div style='width:40px; text-align:center'>Julia</div> <div style='width:40px; text-align:center'>Julia</div> <div style='width:40px; text-align:center'>Julia</div> <div style='width:40px; text-align:center'>Julia</div></div><div style='display:flex;flex-direction:row'><div style='width:40px; text-align:center'>Julia</div> <div style='width:40px; text-align:center'>Julia</div> <div style='width:40px; text-align:center'>Julia</div> <div style='width:40px; text-align:center'>Julia</div> <div style='width:40px; text-align:center'>Julia</div></div>"
      ],
      "text/plain": [
       "5×5 Array{String,2}:\n",
       " \"Julia\"  \"Julia\"  \"Julia\"  \"Julia\"  \"Julia\"\n",
       " \"Julia\"  \"Julia\"  \"Julia\"  \"Julia\"  \"Julia\"\n",
       " \"Julia\"  \"Julia\"  \"Julia\"  \"Julia\"  \"Julia\"\n",
       " \"Julia\"  \"Julia\"  \"Julia\"  \"Julia\"  \"Julia\"\n",
       " \"Julia\"  \"Julia\"  \"Julia\"  \"Julia\"  \"Julia\""
      ]
     },
     "execution_count": 22,
     "metadata": {},
     "output_type": "execute_result"
    }
   ],
   "source": [
    "A = fill(\"Julia\", 5, 5)"
   ]
  },
  {
   "cell_type": "markdown",
   "metadata": {},
   "source": [
    "Julia allows us to display objects in different ways. For example, the following code displays a matrix of strings\n",
    "in the notebook using an HTML representation:"
   ]
  },
  {
   "cell_type": "code",
   "execution_count": 23,
   "metadata": {
    "collapsed": false
   },
   "outputs": [
    {
     "name": "stderr",
     "output_type": "stream",
     "text": [
      "WARNING: Method definition show(IO, Base.Multimedia.MIME{:text/html}, Array{#T<:String, 2}) in module Main at In[6]:2 overwritten at In[23]:2.\n"
     ]
    }
   ],
   "source": [
    "function Base.show{T<:String}(io::IO, ::MIME\"text/html\", M::Matrix{T}) \n",
    "    max_length = maximum(length.(M))\n",
    "    dv=\"<div style='display:flex;flex-direction:row'>\"\n",
    "    print(io, dv*join([join(\"<div style='width:40px; text-align:center'>\".*M[i,:].*\"</div>\", \" \") for i in 1:size(M, 1)]\n",
    "            , \"</div>$dv\")*\"</div>\")\n",
    "end"
   ]
  },
  {
   "cell_type": "code",
   "execution_count": 24,
   "metadata": {
    "collapsed": false
   },
   "outputs": [
    {
     "data": {
      "text/html": [
       "<div style='display:flex;flex-direction:row'><div style='width:40px; text-align:center'>Julia</div> <div style='width:40px; text-align:center'>Julia</div> <div style='width:40px; text-align:center'>Julia</div> <div style='width:40px; text-align:center'>Julia</div> <div style='width:40px; text-align:center'>Julia</div></div><div style='display:flex;flex-direction:row'><div style='width:40px; text-align:center'>Julia</div> <div style='width:40px; text-align:center'>Julia</div> <div style='width:40px; text-align:center'>Julia</div> <div style='width:40px; text-align:center'>Julia</div> <div style='width:40px; text-align:center'>Julia</div></div><div style='display:flex;flex-direction:row'><div style='width:40px; text-align:center'>Julia</div> <div style='width:40px; text-align:center'>Julia</div> <div style='width:40px; text-align:center'>Julia</div> <div style='width:40px; text-align:center'>Julia</div> <div style='width:40px; text-align:center'>Julia</div></div><div style='display:flex;flex-direction:row'><div style='width:40px; text-align:center'>Julia</div> <div style='width:40px; text-align:center'>Julia</div> <div style='width:40px; text-align:center'>Julia</div> <div style='width:40px; text-align:center'>Julia</div> <div style='width:40px; text-align:center'>Julia</div></div><div style='display:flex;flex-direction:row'><div style='width:40px; text-align:center'>Julia</div> <div style='width:40px; text-align:center'>Julia</div> <div style='width:40px; text-align:center'>Julia</div> <div style='width:40px; text-align:center'>Julia</div> <div style='width:40px; text-align:center'>Julia</div></div>"
      ],
      "text/plain": [
       "5×5 Array{String,2}:\n",
       " \"Julia\"  \"Julia\"  \"Julia\"  \"Julia\"  \"Julia\"\n",
       " \"Julia\"  \"Julia\"  \"Julia\"  \"Julia\"  \"Julia\"\n",
       " \"Julia\"  \"Julia\"  \"Julia\"  \"Julia\"  \"Julia\"\n",
       " \"Julia\"  \"Julia\"  \"Julia\"  \"Julia\"  \"Julia\"\n",
       " \"Julia\"  \"Julia\"  \"Julia\"  \"Julia\"  \"Julia\""
      ]
     },
     "execution_count": 24,
     "metadata": {},
     "output_type": "execute_result"
    }
   ],
   "source": [
    "A"
   ]
  },
  {
   "cell_type": "code",
   "execution_count": 25,
   "metadata": {
    "collapsed": false
   },
   "outputs": [
    {
     "data": {
      "text/html": [],
      "text/plain": [
       "Interact.Options{:SelectionSlider,Int64}(Signal{Int64}(4, nactions=1),\"i\",4,\"4\",Interact.OptionDict(DataStructures.OrderedDict(\"1\"=>1,\"2\"=>2,\"3\"=>3,\"4\"=>4,\"5\"=>5,\"6\"=>6,\"7\"=>7,\"8\"=>8),Dict(7=>\"7\",4=>\"4\",2=>\"2\",3=>\"3\",5=>\"5\",8=>\"8\",6=>\"6\",1=>\"1\")),Any[],Any[],true,\"horizontal\")"
      ]
     },
     "metadata": {},
     "output_type": "display_data"
    },
    {
     "data": {
      "text/html": [],
      "text/plain": [
       "Interact.Options{:SelectionSlider,Int64}(Signal{Int64}(4, nactions=1),\"j\",4,\"4\",Interact.OptionDict(DataStructures.OrderedDict(\"1\"=>1,\"2\"=>2,\"3\"=>3,\"4\"=>4,\"5\"=>5,\"6\"=>6,\"7\"=>7,\"8\"=>8),Dict(7=>\"7\",4=>\"4\",2=>\"2\",3=>\"3\",5=>\"5\",8=>\"8\",6=>\"6\",1=>\"1\")),Any[],Any[],true,\"horizontal\")"
      ]
     },
     "metadata": {},
     "output_type": "display_data"
    },
    {
     "data": {
      "text/plain": [
       "10×10 Array{Int64,2}:\n",
       " 0  0  0  0  0  0  0  0  0  0\n",
       " 0  0  0  0  0  0  0  0  0  0\n",
       " 0  0  0  0  0  0  0  0  0  0\n",
       " 0  0  0  7  7  7  0  0  0  0\n",
       " 0  0  0  7  7  7  0  0  0  0\n",
       " 0  0  0  7  7  7  0  0  0  0\n",
       " 0  0  0  0  0  0  0  0  0  0\n",
       " 0  0  0  0  0  0  0  0  0  0\n",
       " 0  0  0  0  0  0  0  0  0  0\n",
       " 0  0  0  0  0  0  0  0  0  0"
      ]
     },
     "execution_count": 25,
     "metadata": {
      "comm_id": "45d67ef8-5e52-494e-ae8d-85d6e727b99e",
      "reactive": true
     },
     "output_type": "execute_result"
    }
   ],
   "source": [
    "# Remember this ????\n",
    "A = fill(0, 10, 10)\n",
    "n = size(A, 1)\n",
    "\n",
    "@manipulate for i in 1:n-2, j in 1:n-2\n",
    "    insert_block(A, i,j)\n",
    "end"
   ]
  },
  {
   "cell_type": "markdown",
   "metadata": {},
   "source": [
    "Let's use the **same code**, but now with strings:"
   ]
  },
  {
   "cell_type": "code",
   "execution_count": 27,
   "metadata": {
    "collapsed": false
   },
   "outputs": [
    {
     "data": {
      "text/html": [],
      "text/plain": [
       "Interact.Options{:SelectionSlider,Int64}(Signal{Int64}(4, nactions=1),\"i\",4,\"4\",Interact.OptionDict(DataStructures.OrderedDict(\"1\"=>1,\"2\"=>2,\"3\"=>3,\"4\"=>4,\"5\"=>5,\"6\"=>6,\"7\"=>7,\"8\"=>8),Dict(7=>\"7\",4=>\"4\",2=>\"2\",3=>\"3\",5=>\"5\",8=>\"8\",6=>\"6\",1=>\"1\")),Any[],Any[],true,\"horizontal\")"
      ]
     },
     "metadata": {},
     "output_type": "display_data"
    },
    {
     "data": {
      "text/html": [],
      "text/plain": [
       "Interact.Options{:SelectionSlider,Int64}(Signal{Int64}(4, nactions=1),\"j\",4,\"4\",Interact.OptionDict(DataStructures.OrderedDict(\"1\"=>1,\"2\"=>2,\"3\"=>3,\"4\"=>4,\"5\"=>5,\"6\"=>6,\"7\"=>7,\"8\"=>8),Dict(7=>\"7\",4=>\"4\",2=>\"2\",3=>\"3\",5=>\"5\",8=>\"8\",6=>\"6\",1=>\"1\")),Any[],Any[],true,\"horizontal\")"
      ]
     },
     "metadata": {},
     "output_type": "display_data"
    },
    {
     "data": {
      "text/html": [
       "<div style='display:flex;flex-direction:row'><div style='width:40px; text-align:center'>Julia</div> <div style='width:40px; text-align:center'>Julia</div> <div style='width:40px; text-align:center'>Julia</div> <div style='width:40px; text-align:center'>Julia</div> <div style='width:40px; text-align:center'>Julia</div> <div style='width:40px; text-align:center'>Julia</div> <div style='width:40px; text-align:center'>Julia</div> <div style='width:40px; text-align:center'>Julia</div> <div style='width:40px; text-align:center'>Julia</div> <div style='width:40px; text-align:center'>Julia</div></div><div style='display:flex;flex-direction:row'><div style='width:40px; text-align:center'>Julia</div> <div style='width:40px; text-align:center'>Julia</div> <div style='width:40px; text-align:center'>Julia</div> <div style='width:40px; text-align:center'>Julia</div> <div style='width:40px; text-align:center'>Julia</div> <div style='width:40px; text-align:center'>Julia</div> <div style='width:40px; text-align:center'>Julia</div> <div style='width:40px; text-align:center'>Julia</div> <div style='width:40px; text-align:center'>Julia</div> <div style='width:40px; text-align:center'>Julia</div></div><div style='display:flex;flex-direction:row'><div style='width:40px; text-align:center'>Julia</div> <div style='width:40px; text-align:center'>Julia</div> <div style='width:40px; text-align:center'>Julia</div> <div style='width:40px; text-align:center'>Julia</div> <div style='width:40px; text-align:center'>Julia</div> <div style='width:40px; text-align:center'>Julia</div> <div style='width:40px; text-align:center'>Julia</div> <div style='width:40px; text-align:center'>Julia</div> <div style='width:40px; text-align:center'>Julia</div> <div style='width:40px; text-align:center'>Julia</div></div><div style='display:flex;flex-direction:row'><div style='width:40px; text-align:center'>Julia</div> <div style='width:40px; text-align:center'>Julia</div> <div style='width:40px; text-align:center'>Julia</div> <div style='width:40px; text-align:center'>[FUN]</div> <div style='width:40px; text-align:center'>[FUN]</div> <div style='width:40px; text-align:center'>[FUN]</div> <div style='width:40px; text-align:center'>Julia</div> <div style='width:40px; text-align:center'>Julia</div> <div style='width:40px; text-align:center'>Julia</div> <div style='width:40px; text-align:center'>Julia</div></div><div style='display:flex;flex-direction:row'><div style='width:40px; text-align:center'>Julia</div> <div style='width:40px; text-align:center'>Julia</div> <div style='width:40px; text-align:center'>Julia</div> <div style='width:40px; text-align:center'>[FUN]</div> <div style='width:40px; text-align:center'>[FUN]</div> <div style='width:40px; text-align:center'>[FUN]</div> <div style='width:40px; text-align:center'>Julia</div> <div style='width:40px; text-align:center'>Julia</div> <div style='width:40px; text-align:center'>Julia</div> <div style='width:40px; text-align:center'>Julia</div></div><div style='display:flex;flex-direction:row'><div style='width:40px; text-align:center'>Julia</div> <div style='width:40px; text-align:center'>Julia</div> <div style='width:40px; text-align:center'>Julia</div> <div style='width:40px; text-align:center'>[FUN]</div> <div style='width:40px; text-align:center'>[FUN]</div> <div style='width:40px; text-align:center'>[FUN]</div> <div style='width:40px; text-align:center'>Julia</div> <div style='width:40px; text-align:center'>Julia</div> <div style='width:40px; text-align:center'>Julia</div> <div style='width:40px; text-align:center'>Julia</div></div><div style='display:flex;flex-direction:row'><div style='width:40px; text-align:center'>Julia</div> <div style='width:40px; text-align:center'>Julia</div> <div style='width:40px; text-align:center'>Julia</div> <div style='width:40px; text-align:center'>Julia</div> <div style='width:40px; text-align:center'>Julia</div> <div style='width:40px; text-align:center'>Julia</div> <div style='width:40px; text-align:center'>Julia</div> <div style='width:40px; text-align:center'>Julia</div> <div style='width:40px; text-align:center'>Julia</div> <div style='width:40px; text-align:center'>Julia</div></div><div style='display:flex;flex-direction:row'><div style='width:40px; text-align:center'>Julia</div> <div style='width:40px; text-align:center'>Julia</div> <div style='width:40px; text-align:center'>Julia</div> <div style='width:40px; text-align:center'>Julia</div> <div style='width:40px; text-align:center'>Julia</div> <div style='width:40px; text-align:center'>Julia</div> <div style='width:40px; text-align:center'>Julia</div> <div style='width:40px; text-align:center'>Julia</div> <div style='width:40px; text-align:center'>Julia</div> <div style='width:40px; text-align:center'>Julia</div></div><div style='display:flex;flex-direction:row'><div style='width:40px; text-align:center'>Julia</div> <div style='width:40px; text-align:center'>Julia</div> <div style='width:40px; text-align:center'>Julia</div> <div style='width:40px; text-align:center'>Julia</div> <div style='width:40px; text-align:center'>Julia</div> <div style='width:40px; text-align:center'>Julia</div> <div style='width:40px; text-align:center'>Julia</div> <div style='width:40px; text-align:center'>Julia</div> <div style='width:40px; text-align:center'>Julia</div> <div style='width:40px; text-align:center'>Julia</div></div><div style='display:flex;flex-direction:row'><div style='width:40px; text-align:center'>Julia</div> <div style='width:40px; text-align:center'>Julia</div> <div style='width:40px; text-align:center'>Julia</div> <div style='width:40px; text-align:center'>Julia</div> <div style='width:40px; text-align:center'>Julia</div> <div style='width:40px; text-align:center'>Julia</div> <div style='width:40px; text-align:center'>Julia</div> <div style='width:40px; text-align:center'>Julia</div> <div style='width:40px; text-align:center'>Julia</div> <div style='width:40px; text-align:center'>Julia</div></div>"
      ],
      "text/plain": [
       "10×10 Array{String,2}:\n",
       " \"Julia\"  \"Julia\"  \"Julia\"  \"Julia\"  …  \"Julia\"  \"Julia\"  \"Julia\"  \"Julia\"\n",
       " \"Julia\"  \"Julia\"  \"Julia\"  \"Julia\"     \"Julia\"  \"Julia\"  \"Julia\"  \"Julia\"\n",
       " \"Julia\"  \"Julia\"  \"Julia\"  \"Julia\"     \"Julia\"  \"Julia\"  \"Julia\"  \"Julia\"\n",
       " \"Julia\"  \"Julia\"  \"Julia\"  \"[FUN]\"     \"Julia\"  \"Julia\"  \"Julia\"  \"Julia\"\n",
       " \"Julia\"  \"Julia\"  \"Julia\"  \"[FUN]\"     \"Julia\"  \"Julia\"  \"Julia\"  \"Julia\"\n",
       " \"Julia\"  \"Julia\"  \"Julia\"  \"[FUN]\"  …  \"Julia\"  \"Julia\"  \"Julia\"  \"Julia\"\n",
       " \"Julia\"  \"Julia\"  \"Julia\"  \"Julia\"     \"Julia\"  \"Julia\"  \"Julia\"  \"Julia\"\n",
       " \"Julia\"  \"Julia\"  \"Julia\"  \"Julia\"     \"Julia\"  \"Julia\"  \"Julia\"  \"Julia\"\n",
       " \"Julia\"  \"Julia\"  \"Julia\"  \"Julia\"     \"Julia\"  \"Julia\"  \"Julia\"  \"Julia\"\n",
       " \"Julia\"  \"Julia\"  \"Julia\"  \"Julia\"     \"Julia\"  \"Julia\"  \"Julia\"  \"Julia\""
      ]
     },
     "execution_count": 27,
     "metadata": {
      "comm_id": "e8978050-b9f3-4480-bc12-c63e3cddb944",
      "reactive": true
     },
     "output_type": "execute_result"
    }
   ],
   "source": [
    "A = fill(\"Julia\", 10, 10)\n",
    "n = size(A, 1)\n",
    "\n",
    "@manipulate for i in 1:n-2, j in 1:n-2\n",
    "    insert_block(A, i,j, \"[FUN]\")\n",
    "end"
   ]
  },
  {
   "cell_type": "code",
   "execution_count": 28,
   "metadata": {
    "collapsed": false
   },
   "outputs": [
    {
     "data": {
      "text/html": [],
      "text/plain": [
       "Interact.Options{:SelectionSlider,Int64}(Signal{Int64}(4, nactions=1),\"i\",4,\"4\",Interact.OptionDict(DataStructures.OrderedDict(\"1\"=>1,\"2\"=>2,\"3\"=>3,\"4\"=>4,\"5\"=>5,\"6\"=>6,\"7\"=>7,\"8\"=>8),Dict(7=>\"7\",4=>\"4\",2=>\"2\",3=>\"3\",5=>\"5\",8=>\"8\",6=>\"6\",1=>\"1\")),Any[],Any[],true,\"horizontal\")"
      ]
     },
     "metadata": {},
     "output_type": "display_data"
    },
    {
     "data": {
      "text/html": [],
      "text/plain": [
       "Interact.Options{:SelectionSlider,Int64}(Signal{Int64}(4, nactions=1),\"j\",4,\"4\",Interact.OptionDict(DataStructures.OrderedDict(\"1\"=>1,\"2\"=>2,\"3\"=>3,\"4\"=>4,\"5\"=>5,\"6\"=>6,\"7\"=>7,\"8\"=>8),Dict(7=>\"7\",4=>\"4\",2=>\"2\",3=>\"3\",5=>\"5\",8=>\"8\",6=>\"6\",1=>\"1\")),Any[],Any[],true,\"horizontal\")"
      ]
     },
     "metadata": {},
     "output_type": "display_data"
    },
    {
     "data": {
      "text/html": [
       "<div style='display:flex;flex-direction:row'><div style='width:40px; text-align:center'>Julia</div> <div style='width:40px; text-align:center'>Julia</div> <div style='width:40px; text-align:center'>Julia</div> <div style='width:40px; text-align:center'>Julia</div> <div style='width:40px; text-align:center'>Julia</div> <div style='width:40px; text-align:center'>Julia</div> <div style='width:40px; text-align:center'>Julia</div> <div style='width:40px; text-align:center'>Julia</div> <div style='width:40px; text-align:center'>Julia</div> <div style='width:40px; text-align:center'>Julia</div></div><div style='display:flex;flex-direction:row'><div style='width:40px; text-align:center'>Julia</div> <div style='width:40px; text-align:center'>Julia</div> <div style='width:40px; text-align:center'>Julia</div> <div style='width:40px; text-align:center'>Julia</div> <div style='width:40px; text-align:center'>Julia</div> <div style='width:40px; text-align:center'>Julia</div> <div style='width:40px; text-align:center'>Julia</div> <div style='width:40px; text-align:center'>Julia</div> <div style='width:40px; text-align:center'>Julia</div> <div style='width:40px; text-align:center'>Julia</div></div><div style='display:flex;flex-direction:row'><div style='width:40px; text-align:center'>Julia</div> <div style='width:40px; text-align:center'>Julia</div> <div style='width:40px; text-align:center'>Julia</div> <div style='width:40px; text-align:center'>Julia</div> <div style='width:40px; text-align:center'>Julia</div> <div style='width:40px; text-align:center'>Julia</div> <div style='width:40px; text-align:center'>Julia</div> <div style='width:40px; text-align:center'>Julia</div> <div style='width:40px; text-align:center'>Julia</div> <div style='width:40px; text-align:center'>Julia</div></div><div style='display:flex;flex-direction:row'><div style='width:40px; text-align:center'>Julia</div> <div style='width:40px; text-align:center'>Julia</div> <div style='width:40px; text-align:center'>Julia</div> <div style='width:40px; text-align:center'>π</div> <div style='width:40px; text-align:center'>π</div> <div style='width:40px; text-align:center'>π</div> <div style='width:40px; text-align:center'>Julia</div> <div style='width:40px; text-align:center'>Julia</div> <div style='width:40px; text-align:center'>Julia</div> <div style='width:40px; text-align:center'>Julia</div></div><div style='display:flex;flex-direction:row'><div style='width:40px; text-align:center'>Julia</div> <div style='width:40px; text-align:center'>Julia</div> <div style='width:40px; text-align:center'>Julia</div> <div style='width:40px; text-align:center'>π</div> <div style='width:40px; text-align:center'>π</div> <div style='width:40px; text-align:center'>π</div> <div style='width:40px; text-align:center'>Julia</div> <div style='width:40px; text-align:center'>Julia</div> <div style='width:40px; text-align:center'>Julia</div> <div style='width:40px; text-align:center'>Julia</div></div><div style='display:flex;flex-direction:row'><div style='width:40px; text-align:center'>Julia</div> <div style='width:40px; text-align:center'>Julia</div> <div style='width:40px; text-align:center'>Julia</div> <div style='width:40px; text-align:center'>π</div> <div style='width:40px; text-align:center'>π</div> <div style='width:40px; text-align:center'>π</div> <div style='width:40px; text-align:center'>Julia</div> <div style='width:40px; text-align:center'>Julia</div> <div style='width:40px; text-align:center'>Julia</div> <div style='width:40px; text-align:center'>Julia</div></div><div style='display:flex;flex-direction:row'><div style='width:40px; text-align:center'>Julia</div> <div style='width:40px; text-align:center'>Julia</div> <div style='width:40px; text-align:center'>Julia</div> <div style='width:40px; text-align:center'>Julia</div> <div style='width:40px; text-align:center'>Julia</div> <div style='width:40px; text-align:center'>Julia</div> <div style='width:40px; text-align:center'>Julia</div> <div style='width:40px; text-align:center'>Julia</div> <div style='width:40px; text-align:center'>Julia</div> <div style='width:40px; text-align:center'>Julia</div></div><div style='display:flex;flex-direction:row'><div style='width:40px; text-align:center'>Julia</div> <div style='width:40px; text-align:center'>Julia</div> <div style='width:40px; text-align:center'>Julia</div> <div style='width:40px; text-align:center'>Julia</div> <div style='width:40px; text-align:center'>Julia</div> <div style='width:40px; text-align:center'>Julia</div> <div style='width:40px; text-align:center'>Julia</div> <div style='width:40px; text-align:center'>Julia</div> <div style='width:40px; text-align:center'>Julia</div> <div style='width:40px; text-align:center'>Julia</div></div><div style='display:flex;flex-direction:row'><div style='width:40px; text-align:center'>Julia</div> <div style='width:40px; text-align:center'>Julia</div> <div style='width:40px; text-align:center'>Julia</div> <div style='width:40px; text-align:center'>Julia</div> <div style='width:40px; text-align:center'>Julia</div> <div style='width:40px; text-align:center'>Julia</div> <div style='width:40px; text-align:center'>Julia</div> <div style='width:40px; text-align:center'>Julia</div> <div style='width:40px; text-align:center'>Julia</div> <div style='width:40px; text-align:center'>Julia</div></div><div style='display:flex;flex-direction:row'><div style='width:40px; text-align:center'>Julia</div> <div style='width:40px; text-align:center'>Julia</div> <div style='width:40px; text-align:center'>Julia</div> <div style='width:40px; text-align:center'>Julia</div> <div style='width:40px; text-align:center'>Julia</div> <div style='width:40px; text-align:center'>Julia</div> <div style='width:40px; text-align:center'>Julia</div> <div style='width:40px; text-align:center'>Julia</div> <div style='width:40px; text-align:center'>Julia</div> <div style='width:40px; text-align:center'>Julia</div></div>"
      ],
      "text/plain": [
       "10×10 Array{String,2}:\n",
       " \"Julia\"  \"Julia\"  \"Julia\"  \"Julia\"  …  \"Julia\"  \"Julia\"  \"Julia\"  \"Julia\"\n",
       " \"Julia\"  \"Julia\"  \"Julia\"  \"Julia\"     \"Julia\"  \"Julia\"  \"Julia\"  \"Julia\"\n",
       " \"Julia\"  \"Julia\"  \"Julia\"  \"Julia\"     \"Julia\"  \"Julia\"  \"Julia\"  \"Julia\"\n",
       " \"Julia\"  \"Julia\"  \"Julia\"  \"π\"         \"Julia\"  \"Julia\"  \"Julia\"  \"Julia\"\n",
       " \"Julia\"  \"Julia\"  \"Julia\"  \"π\"         \"Julia\"  \"Julia\"  \"Julia\"  \"Julia\"\n",
       " \"Julia\"  \"Julia\"  \"Julia\"  \"π\"      …  \"Julia\"  \"Julia\"  \"Julia\"  \"Julia\"\n",
       " \"Julia\"  \"Julia\"  \"Julia\"  \"Julia\"     \"Julia\"  \"Julia\"  \"Julia\"  \"Julia\"\n",
       " \"Julia\"  \"Julia\"  \"Julia\"  \"Julia\"     \"Julia\"  \"Julia\"  \"Julia\"  \"Julia\"\n",
       " \"Julia\"  \"Julia\"  \"Julia\"  \"Julia\"     \"Julia\"  \"Julia\"  \"Julia\"  \"Julia\"\n",
       " \"Julia\"  \"Julia\"  \"Julia\"  \"Julia\"     \"Julia\"  \"Julia\"  \"Julia\"  \"Julia\""
      ]
     },
     "execution_count": 28,
     "metadata": {
      "comm_id": "55f21a30-28b0-49e2-bcd9-62772799cd0c",
      "reactive": true
     },
     "output_type": "execute_result"
    }
   ],
   "source": [
    "@manipulate for i in 1:n-2, j in 1:n-2\n",
    "    insert_block(A, i, j, \"π\")\n",
    "end"
   ]
  },
  {
   "cell_type": "code",
   "execution_count": 29,
   "metadata": {
    "collapsed": false
   },
   "outputs": [
    {
     "data": {
      "text/html": [],
      "text/plain": [
       "Interact.Options{:SelectionSlider,Int64}(Signal{Int64}(4, nactions=1),\"i\",4,\"4\",Interact.OptionDict(DataStructures.OrderedDict(\"1\"=>1,\"2\"=>2,\"3\"=>3,\"4\"=>4,\"5\"=>5,\"6\"=>6,\"7\"=>7,\"8\"=>8),Dict(7=>\"7\",4=>\"4\",2=>\"2\",3=>\"3\",5=>\"5\",8=>\"8\",6=>\"6\",1=>\"1\")),Any[],Any[],true,\"horizontal\")"
      ]
     },
     "metadata": {},
     "output_type": "display_data"
    },
    {
     "data": {
      "text/html": [],
      "text/plain": [
       "Interact.Options{:SelectionSlider,Int64}(Signal{Int64}(4, nactions=1),\"j\",4,\"4\",Interact.OptionDict(DataStructures.OrderedDict(\"1\"=>1,\"2\"=>2,\"3\"=>3,\"4\"=>4,\"5\"=>5,\"6\"=>6,\"7\"=>7,\"8\"=>8),Dict(7=>\"7\",4=>\"4\",2=>\"2\",3=>\"3\",5=>\"5\",8=>\"8\",6=>\"6\",1=>\"1\")),Any[],Any[],true,\"horizontal\")"
      ]
     },
     "metadata": {},
     "output_type": "display_data"
    },
    {
     "data": {
      "text/html": [
       "<div style='display:flex;flex-direction:row'><div style='width:40px; text-align:center'>Julia</div> <div style='width:40px; text-align:center'>Julia</div> <div style='width:40px; text-align:center'>Julia</div> <div style='width:40px; text-align:center'>Julia</div> <div style='width:40px; text-align:center'>Julia</div> <div style='width:40px; text-align:center'>Julia</div> <div style='width:40px; text-align:center'>Julia</div> <div style='width:40px; text-align:center'>Julia</div> <div style='width:40px; text-align:center'>Julia</div> <div style='width:40px; text-align:center'>Julia</div></div><div style='display:flex;flex-direction:row'><div style='width:40px; text-align:center'>Julia</div> <div style='width:40px; text-align:center'>Julia</div> <div style='width:40px; text-align:center'>Julia</div> <div style='width:40px; text-align:center'>Julia</div> <div style='width:40px; text-align:center'>Julia</div> <div style='width:40px; text-align:center'>Julia</div> <div style='width:40px; text-align:center'>Julia</div> <div style='width:40px; text-align:center'>Julia</div> <div style='width:40px; text-align:center'>Julia</div> <div style='width:40px; text-align:center'>Julia</div></div><div style='display:flex;flex-direction:row'><div style='width:40px; text-align:center'>Julia</div> <div style='width:40px; text-align:center'>Julia</div> <div style='width:40px; text-align:center'>Julia</div> <div style='width:40px; text-align:center'>Julia</div> <div style='width:40px; text-align:center'>Julia</div> <div style='width:40px; text-align:center'>Julia</div> <div style='width:40px; text-align:center'>Julia</div> <div style='width:40px; text-align:center'>Julia</div> <div style='width:40px; text-align:center'>Julia</div> <div style='width:40px; text-align:center'>Julia</div></div><div style='display:flex;flex-direction:row'><div style='width:40px; text-align:center'>Julia</div> <div style='width:40px; text-align:center'>Julia</div> <div style='width:40px; text-align:center'>Julia</div> <div style='width:40px; text-align:center'>♡</div> <div style='width:40px; text-align:center'>♡</div> <div style='width:40px; text-align:center'>♡</div> <div style='width:40px; text-align:center'>Julia</div> <div style='width:40px; text-align:center'>Julia</div> <div style='width:40px; text-align:center'>Julia</div> <div style='width:40px; text-align:center'>Julia</div></div><div style='display:flex;flex-direction:row'><div style='width:40px; text-align:center'>Julia</div> <div style='width:40px; text-align:center'>Julia</div> <div style='width:40px; text-align:center'>Julia</div> <div style='width:40px; text-align:center'>♡</div> <div style='width:40px; text-align:center'>♡</div> <div style='width:40px; text-align:center'>♡</div> <div style='width:40px; text-align:center'>Julia</div> <div style='width:40px; text-align:center'>Julia</div> <div style='width:40px; text-align:center'>Julia</div> <div style='width:40px; text-align:center'>Julia</div></div><div style='display:flex;flex-direction:row'><div style='width:40px; text-align:center'>Julia</div> <div style='width:40px; text-align:center'>Julia</div> <div style='width:40px; text-align:center'>Julia</div> <div style='width:40px; text-align:center'>♡</div> <div style='width:40px; text-align:center'>♡</div> <div style='width:40px; text-align:center'>♡</div> <div style='width:40px; text-align:center'>Julia</div> <div style='width:40px; text-align:center'>Julia</div> <div style='width:40px; text-align:center'>Julia</div> <div style='width:40px; text-align:center'>Julia</div></div><div style='display:flex;flex-direction:row'><div style='width:40px; text-align:center'>Julia</div> <div style='width:40px; text-align:center'>Julia</div> <div style='width:40px; text-align:center'>Julia</div> <div style='width:40px; text-align:center'>Julia</div> <div style='width:40px; text-align:center'>Julia</div> <div style='width:40px; text-align:center'>Julia</div> <div style='width:40px; text-align:center'>Julia</div> <div style='width:40px; text-align:center'>Julia</div> <div style='width:40px; text-align:center'>Julia</div> <div style='width:40px; text-align:center'>Julia</div></div><div style='display:flex;flex-direction:row'><div style='width:40px; text-align:center'>Julia</div> <div style='width:40px; text-align:center'>Julia</div> <div style='width:40px; text-align:center'>Julia</div> <div style='width:40px; text-align:center'>Julia</div> <div style='width:40px; text-align:center'>Julia</div> <div style='width:40px; text-align:center'>Julia</div> <div style='width:40px; text-align:center'>Julia</div> <div style='width:40px; text-align:center'>Julia</div> <div style='width:40px; text-align:center'>Julia</div> <div style='width:40px; text-align:center'>Julia</div></div><div style='display:flex;flex-direction:row'><div style='width:40px; text-align:center'>Julia</div> <div style='width:40px; text-align:center'>Julia</div> <div style='width:40px; text-align:center'>Julia</div> <div style='width:40px; text-align:center'>Julia</div> <div style='width:40px; text-align:center'>Julia</div> <div style='width:40px; text-align:center'>Julia</div> <div style='width:40px; text-align:center'>Julia</div> <div style='width:40px; text-align:center'>Julia</div> <div style='width:40px; text-align:center'>Julia</div> <div style='width:40px; text-align:center'>Julia</div></div><div style='display:flex;flex-direction:row'><div style='width:40px; text-align:center'>Julia</div> <div style='width:40px; text-align:center'>Julia</div> <div style='width:40px; text-align:center'>Julia</div> <div style='width:40px; text-align:center'>Julia</div> <div style='width:40px; text-align:center'>Julia</div> <div style='width:40px; text-align:center'>Julia</div> <div style='width:40px; text-align:center'>Julia</div> <div style='width:40px; text-align:center'>Julia</div> <div style='width:40px; text-align:center'>Julia</div> <div style='width:40px; text-align:center'>Julia</div></div>"
      ],
      "text/plain": [
       "10×10 Array{String,2}:\n",
       " \"Julia\"  \"Julia\"  \"Julia\"  \"Julia\"  …  \"Julia\"  \"Julia\"  \"Julia\"  \"Julia\"\n",
       " \"Julia\"  \"Julia\"  \"Julia\"  \"Julia\"     \"Julia\"  \"Julia\"  \"Julia\"  \"Julia\"\n",
       " \"Julia\"  \"Julia\"  \"Julia\"  \"Julia\"     \"Julia\"  \"Julia\"  \"Julia\"  \"Julia\"\n",
       " \"Julia\"  \"Julia\"  \"Julia\"  \"♡\"         \"Julia\"  \"Julia\"  \"Julia\"  \"Julia\"\n",
       " \"Julia\"  \"Julia\"  \"Julia\"  \"♡\"         \"Julia\"  \"Julia\"  \"Julia\"  \"Julia\"\n",
       " \"Julia\"  \"Julia\"  \"Julia\"  \"♡\"      …  \"Julia\"  \"Julia\"  \"Julia\"  \"Julia\"\n",
       " \"Julia\"  \"Julia\"  \"Julia\"  \"Julia\"     \"Julia\"  \"Julia\"  \"Julia\"  \"Julia\"\n",
       " \"Julia\"  \"Julia\"  \"Julia\"  \"Julia\"     \"Julia\"  \"Julia\"  \"Julia\"  \"Julia\"\n",
       " \"Julia\"  \"Julia\"  \"Julia\"  \"Julia\"     \"Julia\"  \"Julia\"  \"Julia\"  \"Julia\"\n",
       " \"Julia\"  \"Julia\"  \"Julia\"  \"Julia\"     \"Julia\"  \"Julia\"  \"Julia\"  \"Julia\""
      ]
     },
     "execution_count": 29,
     "metadata": {
      "comm_id": "ab774058-fc9b-4e7b-ba28-4b4089f8ddfc",
      "reactive": true
     },
     "output_type": "execute_result"
    }
   ],
   "source": [
    "@manipulate for i in 1:n-2, j in 1:n-2\n",
    "    insert_block(A, i, j, \"♡\")\n",
    "end"
   ]
  },
  {
   "cell_type": "code",
   "execution_count": 30,
   "metadata": {
    "collapsed": false
   },
   "outputs": [
    {
     "data": {
      "text/html": [
       "<div style='display:flex;flex-direction:row'><div style='width:40px; text-align:center'>👽</div> <div style='width:40px; text-align:center'>✈</div> <div style='width:40px; text-align:center'>👽</div> <div style='width:40px; text-align:center'>✈</div> <div style='width:40px; text-align:center'>✈</div></div><div style='display:flex;flex-direction:row'><div style='width:40px; text-align:center'>✈</div> <div style='width:40px; text-align:center'>✈</div> <div style='width:40px; text-align:center'>👽</div> <div style='width:40px; text-align:center'>👽</div> <div style='width:40px; text-align:center'>✈</div></div><div style='display:flex;flex-direction:row'><div style='width:40px; text-align:center'>👽</div> <div style='width:40px; text-align:center'>✈</div> <div style='width:40px; text-align:center'>✈</div> <div style='width:40px; text-align:center'>✈</div> <div style='width:40px; text-align:center'>👽</div></div><div style='display:flex;flex-direction:row'><div style='width:40px; text-align:center'>✈</div> <div style='width:40px; text-align:center'>👽</div> <div style='width:40px; text-align:center'>👽</div> <div style='width:40px; text-align:center'>👽</div> <div style='width:40px; text-align:center'>👽</div></div><div style='display:flex;flex-direction:row'><div style='width:40px; text-align:center'>👽</div> <div style='width:40px; text-align:center'>✈</div> <div style='width:40px; text-align:center'>✈</div> <div style='width:40px; text-align:center'>👽</div> <div style='width:40px; text-align:center'>👽</div></div>"
      ],
      "text/plain": [
       "5×5 Array{String,2}:\n",
       " \"👽\"  \"✈\"  \"👽\"  \"✈\"  \"✈\"\n",
       " \"✈\"  \"✈\"  \"👽\"  \"👽\"  \"✈\"\n",
       " \"👽\"  \"✈\"  \"✈\"  \"✈\"  \"👽\"\n",
       " \"✈\"  \"👽\"  \"👽\"  \"👽\"  \"👽\"\n",
       " \"👽\"  \"✈\"  \"✈\"  \"👽\"  \"👽\""
      ]
     },
     "execution_count": 30,
     "metadata": {},
     "output_type": "execute_result"
    }
   ],
   "source": [
    "airplane = \"✈\"\n",
    "alien = \"👽\"\n",
    "rand([airplane, alien], 5, 5)"
   ]
  },
  {
   "cell_type": "code",
   "execution_count": 31,
   "metadata": {
    "collapsed": false
   },
   "outputs": [
    {
     "data": {
      "text/html": [],
      "text/plain": [
       "Interact.Options{:SelectionSlider,Int64}(Signal{Int64}(4, nactions=1),\"i\",4,\"4\",Interact.OptionDict(DataStructures.OrderedDict(\"1\"=>1,\"2\"=>2,\"3\"=>3,\"4\"=>4,\"5\"=>5,\"6\"=>6,\"7\"=>7),Dict(7=>\"7\",4=>\"4\",2=>\"2\",3=>\"3\",5=>\"5\",6=>\"6\",1=>\"1\")),Any[],Any[],true,\"horizontal\")"
      ]
     },
     "metadata": {},
     "output_type": "display_data"
    },
    {
     "data": {
      "text/html": [],
      "text/plain": [
       "Interact.Options{:SelectionSlider,Int64}(Signal{Int64}(4, nactions=1),\"j\",4,\"4\",Interact.OptionDict(DataStructures.OrderedDict(\"1\"=>1,\"2\"=>2,\"3\"=>3,\"4\"=>4,\"5\"=>5,\"6\"=>6,\"7\"=>7),Dict(7=>\"7\",4=>\"4\",2=>\"2\",3=>\"3\",5=>\"5\",6=>\"6\",1=>\"1\")),Any[],Any[],true,\"horizontal\")"
      ]
     },
     "metadata": {},
     "output_type": "display_data"
    },
    {
     "data": {
      "text/html": [
       "<div style='display:flex;flex-direction:row'><div style='width:40px; text-align:center'>✈</div> <div style='width:40px; text-align:center'>✈</div> <div style='width:40px; text-align:center'>✈</div> <div style='width:40px; text-align:center'>✈</div> <div style='width:40px; text-align:center'>✈</div> <div style='width:40px; text-align:center'>✈</div> <div style='width:40px; text-align:center'>✈</div> <div style='width:40px; text-align:center'>✈</div> <div style='width:40px; text-align:center'>✈</div></div><div style='display:flex;flex-direction:row'><div style='width:40px; text-align:center'>✈</div> <div style='width:40px; text-align:center'>✈</div> <div style='width:40px; text-align:center'>✈</div> <div style='width:40px; text-align:center'>✈</div> <div style='width:40px; text-align:center'>✈</div> <div style='width:40px; text-align:center'>✈</div> <div style='width:40px; text-align:center'>✈</div> <div style='width:40px; text-align:center'>✈</div> <div style='width:40px; text-align:center'>✈</div></div><div style='display:flex;flex-direction:row'><div style='width:40px; text-align:center'>✈</div> <div style='width:40px; text-align:center'>✈</div> <div style='width:40px; text-align:center'>✈</div> <div style='width:40px; text-align:center'>✈</div> <div style='width:40px; text-align:center'>✈</div> <div style='width:40px; text-align:center'>✈</div> <div style='width:40px; text-align:center'>✈</div> <div style='width:40px; text-align:center'>✈</div> <div style='width:40px; text-align:center'>✈</div></div><div style='display:flex;flex-direction:row'><div style='width:40px; text-align:center'>✈</div> <div style='width:40px; text-align:center'>✈</div> <div style='width:40px; text-align:center'>✈</div> <div style='width:40px; text-align:center'>👽</div> <div style='width:40px; text-align:center'>👽</div> <div style='width:40px; text-align:center'>👽</div> <div style='width:40px; text-align:center'>✈</div> <div style='width:40px; text-align:center'>✈</div> <div style='width:40px; text-align:center'>✈</div></div><div style='display:flex;flex-direction:row'><div style='width:40px; text-align:center'>✈</div> <div style='width:40px; text-align:center'>✈</div> <div style='width:40px; text-align:center'>✈</div> <div style='width:40px; text-align:center'>👽</div> <div style='width:40px; text-align:center'>👽</div> <div style='width:40px; text-align:center'>👽</div> <div style='width:40px; text-align:center'>✈</div> <div style='width:40px; text-align:center'>✈</div> <div style='width:40px; text-align:center'>✈</div></div><div style='display:flex;flex-direction:row'><div style='width:40px; text-align:center'>✈</div> <div style='width:40px; text-align:center'>✈</div> <div style='width:40px; text-align:center'>✈</div> <div style='width:40px; text-align:center'>👽</div> <div style='width:40px; text-align:center'>👽</div> <div style='width:40px; text-align:center'>👽</div> <div style='width:40px; text-align:center'>✈</div> <div style='width:40px; text-align:center'>✈</div> <div style='width:40px; text-align:center'>✈</div></div><div style='display:flex;flex-direction:row'><div style='width:40px; text-align:center'>✈</div> <div style='width:40px; text-align:center'>✈</div> <div style='width:40px; text-align:center'>✈</div> <div style='width:40px; text-align:center'>✈</div> <div style='width:40px; text-align:center'>✈</div> <div style='width:40px; text-align:center'>✈</div> <div style='width:40px; text-align:center'>✈</div> <div style='width:40px; text-align:center'>✈</div> <div style='width:40px; text-align:center'>✈</div></div><div style='display:flex;flex-direction:row'><div style='width:40px; text-align:center'>✈</div> <div style='width:40px; text-align:center'>✈</div> <div style='width:40px; text-align:center'>✈</div> <div style='width:40px; text-align:center'>✈</div> <div style='width:40px; text-align:center'>✈</div> <div style='width:40px; text-align:center'>✈</div> <div style='width:40px; text-align:center'>✈</div> <div style='width:40px; text-align:center'>✈</div> <div style='width:40px; text-align:center'>✈</div></div><div style='display:flex;flex-direction:row'><div style='width:40px; text-align:center'>✈</div> <div style='width:40px; text-align:center'>✈</div> <div style='width:40px; text-align:center'>✈</div> <div style='width:40px; text-align:center'>✈</div> <div style='width:40px; text-align:center'>✈</div> <div style='width:40px; text-align:center'>✈</div> <div style='width:40px; text-align:center'>✈</div> <div style='width:40px; text-align:center'>✈</div> <div style='width:40px; text-align:center'>✈</div></div>"
      ],
      "text/plain": [
       "9×9 Array{String,2}:\n",
       " \"✈\"  \"✈\"  \"✈\"  \"✈\"  \"✈\"  \"✈\"  \"✈\"  \"✈\"  \"✈\"\n",
       " \"✈\"  \"✈\"  \"✈\"  \"✈\"  \"✈\"  \"✈\"  \"✈\"  \"✈\"  \"✈\"\n",
       " \"✈\"  \"✈\"  \"✈\"  \"✈\"  \"✈\"  \"✈\"  \"✈\"  \"✈\"  \"✈\"\n",
       " \"✈\"  \"✈\"  \"✈\"  \"👽\"  \"👽\"  \"👽\"  \"✈\"  \"✈\"  \"✈\"\n",
       " \"✈\"  \"✈\"  \"✈\"  \"👽\"  \"👽\"  \"👽\"  \"✈\"  \"✈\"  \"✈\"\n",
       " \"✈\"  \"✈\"  \"✈\"  \"👽\"  \"👽\"  \"👽\"  \"✈\"  \"✈\"  \"✈\"\n",
       " \"✈\"  \"✈\"  \"✈\"  \"✈\"  \"✈\"  \"✈\"  \"✈\"  \"✈\"  \"✈\"\n",
       " \"✈\"  \"✈\"  \"✈\"  \"✈\"  \"✈\"  \"✈\"  \"✈\"  \"✈\"  \"✈\"\n",
       " \"✈\"  \"✈\"  \"✈\"  \"✈\"  \"✈\"  \"✈\"  \"✈\"  \"✈\"  \"✈\""
      ]
     },
     "execution_count": 31,
     "metadata": {
      "comm_id": "d58c7388-5a02-4b73-8e29-f5471b7a8bad",
      "reactive": true
     },
     "output_type": "execute_result"
    }
   ],
   "source": [
    "A = fill(airplane, 9, 9)\n",
    "n = size(A, 1)\n",
    "\n",
    "@manipulate for i in 1:n-2, j in 1:n-2\n",
    "    insert_block(A, i, j, alien)\n",
    "end"
   ]
  },
  {
   "cell_type": "markdown",
   "metadata": {},
   "source": [
    "# Colors"
   ]
  },
  {
   "cell_type": "markdown",
   "metadata": {},
   "source": [
    "The `Colors` package provides objects representing colours:"
   ]
  },
  {
   "cell_type": "code",
   "execution_count": 32,
   "metadata": {
    "collapsed": false
   },
   "outputs": [],
   "source": [
    "using Colors"
   ]
  },
  {
   "cell_type": "code",
   "execution_count": 33,
   "metadata": {
    "collapsed": false
   },
   "outputs": [
    {
     "data": {
      "image/svg+xml": [
       "<?xml version=\"1.0\" encoding=\"UTF-8\"?>\n",
       "<!DOCTYPE svg PUBLIC \"-//W3C//DTD SVG 1.1//EN\"\n",
       " \"http://www.w3.org/Graphics/SVG/1.1/DTD/svg11.dtd\">\n",
       "<svg xmlns=\"http://www.w3.org/2000/svg\" version=\"1.1\"\n",
       "     width=\"180.0mm\" height=\"25.0mm\"\n",
       "     shape-rendering=\"crispEdges\">\n",
       "<rect x=\"0.0mm\" y=\"0.0mm\"\n",
       "      width=\"14.0mm\" height=\"25.0mm\"\n",
       "      fill=\"#000000\" stroke=\"none\" />\n",
       "<rect x=\"15.0mm\" y=\"0.0mm\"\n",
       "      width=\"14.0mm\" height=\"25.0mm\"\n",
       "      fill=\"#FFFF62\" stroke=\"none\" />\n",
       "<rect x=\"30.0mm\" y=\"0.0mm\"\n",
       "      width=\"14.0mm\" height=\"25.0mm\"\n",
       "      fill=\"#FF9FFF\" stroke=\"none\" />\n",
       "<rect x=\"45.0mm\" y=\"0.0mm\"\n",
       "      width=\"14.0mm\" height=\"25.0mm\"\n",
       "      fill=\"#00D6FF\" stroke=\"none\" />\n",
       "<rect x=\"60.0mm\" y=\"0.0mm\"\n",
       "      width=\"14.0mm\" height=\"25.0mm\"\n",
       "      fill=\"#D74400\" stroke=\"none\" />\n",
       "<rect x=\"75.0mm\" y=\"0.0mm\"\n",
       "      width=\"14.0mm\" height=\"25.0mm\"\n",
       "      fill=\"#008029\" stroke=\"none\" />\n",
       "<rect x=\"90.0mm\" y=\"0.0mm\"\n",
       "      width=\"14.0mm\" height=\"25.0mm\"\n",
       "      fill=\"#005FD5\" stroke=\"none\" />\n",
       "<rect x=\"105.0mm\" y=\"0.0mm\"\n",
       "      width=\"14.0mm\" height=\"25.0mm\"\n",
       "      fill=\"#930068\" stroke=\"none\" />\n",
       "<rect x=\"120.0mm\" y=\"0.0mm\"\n",
       "      width=\"14.0mm\" height=\"25.0mm\"\n",
       "      fill=\"#FFCBB5\" stroke=\"none\" />\n",
       "<rect x=\"135.0mm\" y=\"0.0mm\"\n",
       "      width=\"14.0mm\" height=\"25.0mm\"\n",
       "      fill=\"#A78600\" stroke=\"none\" />\n",
       "<rect x=\"150.0mm\" y=\"0.0mm\"\n",
       "      width=\"14.0mm\" height=\"25.0mm\"\n",
       "      fill=\"#00FFC5\" stroke=\"none\" />\n",
       "<rect x=\"165.0mm\" y=\"0.0mm\"\n",
       "      width=\"14.0mm\" height=\"25.0mm\"\n",
       "      fill=\"#007E86\" stroke=\"none\" />\n",
       "</svg>"
      ],
      "text/plain": [
       "12-element Array{ColorTypes.RGB{FixedPointNumbers.Normed{UInt8,8}},1}:\n",
       " RGB{N0f8}(0.0,0.0,0.0)    \n",
       " RGB{N0f8}(1.0,1.0,0.384)  \n",
       " RGB{N0f8}(1.0,0.624,1.0)  \n",
       " RGB{N0f8}(0.0,0.839,1.0)  \n",
       " RGB{N0f8}(0.843,0.267,0.0)\n",
       " RGB{N0f8}(0.0,0.502,0.161)\n",
       " RGB{N0f8}(0.0,0.373,0.835)\n",
       " RGB{N0f8}(0.576,0.0,0.408)\n",
       " RGB{N0f8}(1.0,0.796,0.71) \n",
       " RGB{N0f8}(0.655,0.525,0.0)\n",
       " RGB{N0f8}(0.0,1.0,0.773)  \n",
       " RGB{N0f8}(0.0,0.494,0.525)"
      ]
     },
     "execution_count": 33,
     "metadata": {},
     "output_type": "execute_result"
    }
   ],
   "source": [
    "distinguishable_colors(12)"
   ]
  },
  {
   "cell_type": "code",
   "execution_count": 34,
   "metadata": {
    "collapsed": false
   },
   "outputs": [
    {
     "data": {
      "text/html": [],
      "text/plain": [
       "Interact.Options{:SelectionSlider,Int64}(Signal{Int64}(40, nactions=1),\"n\",40,\"40\",Interact.OptionDict(DataStructures.OrderedDict(\"1\"=>1,\"2\"=>2,\"3\"=>3,\"4\"=>4,\"5\"=>5,\"6\"=>6,\"7\"=>7,\"8\"=>8,\"9\"=>9,\"10\"=>10…),Dict(68=>\"68\",2=>\"2\",11=>\"11\",39=>\"39\",46=>\"46\",25=>\"25\",55=>\"55\",42=>\"42\",29=>\"29\",58=>\"58\"…)),Any[],Any[],true,\"horizontal\")"
      ]
     },
     "metadata": {},
     "output_type": "display_data"
    },
    {
     "data": {
      "image/svg+xml": [
       "<?xml version=\"1.0\" encoding=\"UTF-8\"?>\n",
       "<!DOCTYPE svg PUBLIC \"-//W3C//DTD SVG 1.1//EN\"\n",
       " \"http://www.w3.org/Graphics/SVG/1.1/DTD/svg11.dtd\">\n",
       "<svg xmlns=\"http://www.w3.org/2000/svg\" version=\"1.1\"\n",
       "     width=\"200.0mm\" height=\"25.0mm\"\n",
       "     shape-rendering=\"crispEdges\">\n",
       "<rect x=\"0.0mm\" y=\"0.0mm\"\n",
       "      width=\"4.0mm\" height=\"25.0mm\"\n",
       "      fill=\"#000000\" stroke=\"none\" />\n",
       "<rect x=\"5.0mm\" y=\"0.0mm\"\n",
       "      width=\"4.0mm\" height=\"25.0mm\"\n",
       "      fill=\"#FFFF62\" stroke=\"none\" />\n",
       "<rect x=\"10.0mm\" y=\"0.0mm\"\n",
       "      width=\"4.0mm\" height=\"25.0mm\"\n",
       "      fill=\"#FF9FFF\" stroke=\"none\" />\n",
       "<rect x=\"15.0mm\" y=\"0.0mm\"\n",
       "      width=\"4.0mm\" height=\"25.0mm\"\n",
       "      fill=\"#00D6FF\" stroke=\"none\" />\n",
       "<rect x=\"20.0mm\" y=\"0.0mm\"\n",
       "      width=\"4.0mm\" height=\"25.0mm\"\n",
       "      fill=\"#D74400\" stroke=\"none\" />\n",
       "<rect x=\"25.0mm\" y=\"0.0mm\"\n",
       "      width=\"4.0mm\" height=\"25.0mm\"\n",
       "      fill=\"#008029\" stroke=\"none\" />\n",
       "<rect x=\"30.0mm\" y=\"0.0mm\"\n",
       "      width=\"4.0mm\" height=\"25.0mm\"\n",
       "      fill=\"#005FD5\" stroke=\"none\" />\n",
       "<rect x=\"35.0mm\" y=\"0.0mm\"\n",
       "      width=\"4.0mm\" height=\"25.0mm\"\n",
       "      fill=\"#930068\" stroke=\"none\" />\n",
       "<rect x=\"40.0mm\" y=\"0.0mm\"\n",
       "      width=\"4.0mm\" height=\"25.0mm\"\n",
       "      fill=\"#FFCBB5\" stroke=\"none\" />\n",
       "<rect x=\"45.0mm\" y=\"0.0mm\"\n",
       "      width=\"4.0mm\" height=\"25.0mm\"\n",
       "      fill=\"#A78600\" stroke=\"none\" />\n",
       "<rect x=\"50.0mm\" y=\"0.0mm\"\n",
       "      width=\"4.0mm\" height=\"25.0mm\"\n",
       "      fill=\"#00FFC5\" stroke=\"none\" />\n",
       "<rect x=\"55.0mm\" y=\"0.0mm\"\n",
       "      width=\"4.0mm\" height=\"25.0mm\"\n",
       "      fill=\"#007E86\" stroke=\"none\" />\n",
       "<rect x=\"60.0mm\" y=\"0.0mm\"\n",
       "      width=\"4.0mm\" height=\"25.0mm\"\n",
       "      fill=\"#534200\" stroke=\"none\" />\n",
       "<rect x=\"65.0mm\" y=\"0.0mm\"\n",
       "      width=\"4.0mm\" height=\"25.0mm\"\n",
       "      fill=\"#8C8793\" stroke=\"none\" />\n",
       "<rect x=\"70.0mm\" y=\"0.0mm\"\n",
       "      width=\"4.0mm\" height=\"25.0mm\"\n",
       "      fill=\"#680000\" stroke=\"none\" />\n",
       "<rect x=\"75.0mm\" y=\"0.0mm\"\n",
       "      width=\"4.0mm\" height=\"25.0mm\"\n",
       "      fill=\"#00005A\" stroke=\"none\" />\n",
       "<rect x=\"80.0mm\" y=\"0.0mm\"\n",
       "      width=\"4.0mm\" height=\"25.0mm\"\n",
       "      fill=\"#FF2C6F\" stroke=\"none\" />\n",
       "<rect x=\"85.0mm\" y=\"0.0mm\"\n",
       "      width=\"4.0mm\" height=\"25.0mm\"\n",
       "      fill=\"#F7FFF6\" stroke=\"none\" />\n",
       "<rect x=\"90.0mm\" y=\"0.0mm\"\n",
       "      width=\"4.0mm\" height=\"25.0mm\"\n",
       "      fill=\"#003D25\" stroke=\"none\" />\n",
       "<rect x=\"95.0mm\" y=\"0.0mm\"\n",
       "      width=\"4.0mm\" height=\"25.0mm\"\n",
       "      fill=\"#91ABFF\" stroke=\"none\" />\n",
       "<rect x=\"100.0mm\" y=\"0.0mm\"\n",
       "      width=\"4.0mm\" height=\"25.0mm\"\n",
       "      fill=\"#A1B684\" stroke=\"none\" />\n",
       "<rect x=\"105.0mm\" y=\"0.0mm\"\n",
       "      width=\"4.0mm\" height=\"25.0mm\"\n",
       "      fill=\"#605051\" stroke=\"none\" />\n",
       "<rect x=\"110.0mm\" y=\"0.0mm\"\n",
       "      width=\"4.0mm\" height=\"25.0mm\"\n",
       "      fill=\"#C129E2\" stroke=\"none\" />\n",
       "<rect x=\"115.0mm\" y=\"0.0mm\"\n",
       "      width=\"4.0mm\" height=\"25.0mm\"\n",
       "      fill=\"#FF8E1E\" stroke=\"none\" />\n",
       "<rect x=\"120.0mm\" y=\"0.0mm\"\n",
       "      width=\"4.0mm\" height=\"25.0mm\"\n",
       "      fill=\"#003F51\" stroke=\"none\" />\n",
       "<rect x=\"125.0mm\" y=\"0.0mm\"\n",
       "      width=\"4.0mm\" height=\"25.0mm\"\n",
       "      fill=\"#797860\" stroke=\"none\" />\n",
       "<rect x=\"130.0mm\" y=\"0.0mm\"\n",
       "      width=\"4.0mm\" height=\"25.0mm\"\n",
       "      fill=\"#2E001C\" stroke=\"none\" />\n",
       "<rect x=\"135.0mm\" y=\"0.0mm\"\n",
       "      width=\"4.0mm\" height=\"25.0mm\"\n",
       "      fill=\"#01AF99\" stroke=\"none\" />\n",
       "<rect x=\"140.0mm\" y=\"0.0mm\"\n",
       "      width=\"4.0mm\" height=\"25.0mm\"\n",
       "      fill=\"#FFE6FF\" stroke=\"none\" />\n",
       "<rect x=\"145.0mm\" y=\"0.0mm\"\n",
       "      width=\"4.0mm\" height=\"25.0mm\"\n",
       "      fill=\"#77DA00\" stroke=\"none\" />\n",
       "<rect x=\"150.0mm\" y=\"0.0mm\"\n",
       "      width=\"4.0mm\" height=\"25.0mm\"\n",
       "      fill=\"#5B4B83\" stroke=\"none\" />\n",
       "<rect x=\"155.0mm\" y=\"0.0mm\"\n",
       "      width=\"4.0mm\" height=\"25.0mm\"\n",
       "      fill=\"#0094CF\" stroke=\"none\" />\n",
       "<rect x=\"160.0mm\" y=\"0.0mm\"\n",
       "      width=\"4.0mm\" height=\"25.0mm\"\n",
       "      fill=\"#B8739F\" stroke=\"none\" />\n",
       "<rect x=\"165.0mm\" y=\"0.0mm\"\n",
       "      width=\"4.0mm\" height=\"25.0mm\"\n",
       "      fill=\"#FF8269\" stroke=\"none\" />\n",
       "<rect x=\"170.0mm\" y=\"0.0mm\"\n",
       "      width=\"4.0mm\" height=\"25.0mm\"\n",
       "      fill=\"#FFBE05\" stroke=\"none\" />\n",
       "<rect x=\"175.0mm\" y=\"0.0mm\"\n",
       "      width=\"4.0mm\" height=\"25.0mm\"\n",
       "      fill=\"#C20030\" stroke=\"none\" />\n",
       "<rect x=\"180.0mm\" y=\"0.0mm\"\n",
       "      width=\"4.0mm\" height=\"25.0mm\"\n",
       "      fill=\"#A9806C\" stroke=\"none\" />\n",
       "<rect x=\"185.0mm\" y=\"0.0mm\"\n",
       "      width=\"4.0mm\" height=\"25.0mm\"\n",
       "      fill=\"#955600\" stroke=\"none\" />\n",
       "<rect x=\"190.0mm\" y=\"0.0mm\"\n",
       "      width=\"4.0mm\" height=\"25.0mm\"\n",
       "      fill=\"#9FB3B2\" stroke=\"none\" />\n",
       "<rect x=\"195.0mm\" y=\"0.0mm\"\n",
       "      width=\"4.0mm\" height=\"25.0mm\"\n",
       "      fill=\"#789500\" stroke=\"none\" />\n",
       "</svg>"
      ],
      "text/plain": [
       "40-element Array{ColorTypes.RGB{FixedPointNumbers.Normed{UInt8,8}},1}:\n",
       " RGB{N0f8}(0.0,0.0,0.0)      \n",
       " RGB{N0f8}(1.0,1.0,0.384)    \n",
       " RGB{N0f8}(1.0,0.624,1.0)    \n",
       " RGB{N0f8}(0.0,0.839,1.0)    \n",
       " RGB{N0f8}(0.843,0.267,0.0)  \n",
       " RGB{N0f8}(0.0,0.502,0.161)  \n",
       " RGB{N0f8}(0.0,0.373,0.835)  \n",
       " RGB{N0f8}(0.576,0.0,0.408)  \n",
       " RGB{N0f8}(1.0,0.796,0.71)   \n",
       " RGB{N0f8}(0.655,0.525,0.0)  \n",
       " RGB{N0f8}(0.0,1.0,0.773)    \n",
       " RGB{N0f8}(0.0,0.494,0.525)  \n",
       " RGB{N0f8}(0.325,0.259,0.0)  \n",
       " ⋮                           \n",
       " RGB{N0f8}(1.0,0.902,1.0)    \n",
       " RGB{N0f8}(0.467,0.855,0.0)  \n",
       " RGB{N0f8}(0.357,0.294,0.514)\n",
       " RGB{N0f8}(0.0,0.58,0.812)   \n",
       " RGB{N0f8}(0.722,0.451,0.624)\n",
       " RGB{N0f8}(1.0,0.51,0.412)   \n",
       " RGB{N0f8}(1.0,0.745,0.02)   \n",
       " RGB{N0f8}(0.761,0.0,0.188)  \n",
       " RGB{N0f8}(0.663,0.502,0.424)\n",
       " RGB{N0f8}(0.584,0.337,0.0)  \n",
       " RGB{N0f8}(0.624,0.702,0.698)\n",
       " RGB{N0f8}(0.471,0.584,0.0)  "
      ]
     },
     "execution_count": 34,
     "metadata": {
      "comm_id": "a4a538e9-d53a-47dd-9b59-a8a05f0d9d19",
      "reactive": true
     },
     "output_type": "execute_result"
    }
   ],
   "source": [
    "@manipulate for n = 1:80\n",
    "    distinguishable_colors(n)\n",
    "end"
   ]
  },
  {
   "cell_type": "code",
   "execution_count": 35,
   "metadata": {
    "collapsed": false
   },
   "outputs": [
    {
     "data": {
      "image/svg+xml": [
       "<?xml version=\"1.0\" encoding=\"UTF-8\"?>\n",
       "<!DOCTYPE svg PUBLIC \"-//W3C//DTD SVG 1.1//EN\"\n",
       " \"http://www.w3.org/Graphics/SVG/1.1/DTD/svg11.dtd\">\n",
       "<svg xmlns=\"http://www.w3.org/2000/svg\" version=\"1.1\"\n",
       "     width=\"250.0mm\" height=\"25.0mm\"\n",
       "     shape-rendering=\"crispEdges\">\n",
       "<rect x=\"0.0mm\" y=\"0.0mm\"\n",
       "      width=\"2.5mm\" height=\"25.0mm\"\n",
       "      fill=\"#000000\" stroke=\"none\" />\n",
       "<rect x=\"2.5mm\" y=\"0.0mm\"\n",
       "      width=\"2.5mm\" height=\"25.0mm\"\n",
       "      fill=\"#FFFF62\" stroke=\"none\" />\n",
       "<rect x=\"5.0mm\" y=\"0.0mm\"\n",
       "      width=\"2.5mm\" height=\"25.0mm\"\n",
       "      fill=\"#FF9FFF\" stroke=\"none\" />\n",
       "<rect x=\"7.5mm\" y=\"0.0mm\"\n",
       "      width=\"2.5mm\" height=\"25.0mm\"\n",
       "      fill=\"#00D6FF\" stroke=\"none\" />\n",
       "<rect x=\"10.0mm\" y=\"0.0mm\"\n",
       "      width=\"2.5mm\" height=\"25.0mm\"\n",
       "      fill=\"#D74400\" stroke=\"none\" />\n",
       "<rect x=\"12.5mm\" y=\"0.0mm\"\n",
       "      width=\"2.5mm\" height=\"25.0mm\"\n",
       "      fill=\"#008029\" stroke=\"none\" />\n",
       "<rect x=\"15.0mm\" y=\"0.0mm\"\n",
       "      width=\"2.5mm\" height=\"25.0mm\"\n",
       "      fill=\"#005FD5\" stroke=\"none\" />\n",
       "<rect x=\"17.5mm\" y=\"0.0mm\"\n",
       "      width=\"2.5mm\" height=\"25.0mm\"\n",
       "      fill=\"#930068\" stroke=\"none\" />\n",
       "<rect x=\"20.0mm\" y=\"0.0mm\"\n",
       "      width=\"2.5mm\" height=\"25.0mm\"\n",
       "      fill=\"#FFCBB5\" stroke=\"none\" />\n",
       "<rect x=\"22.5mm\" y=\"0.0mm\"\n",
       "      width=\"2.5mm\" height=\"25.0mm\"\n",
       "      fill=\"#A78600\" stroke=\"none\" />\n",
       "<rect x=\"25.0mm\" y=\"0.0mm\"\n",
       "      width=\"2.5mm\" height=\"25.0mm\"\n",
       "      fill=\"#00FFC5\" stroke=\"none\" />\n",
       "<rect x=\"27.5mm\" y=\"0.0mm\"\n",
       "      width=\"2.5mm\" height=\"25.0mm\"\n",
       "      fill=\"#007E86\" stroke=\"none\" />\n",
       "<rect x=\"30.0mm\" y=\"0.0mm\"\n",
       "      width=\"2.5mm\" height=\"25.0mm\"\n",
       "      fill=\"#534200\" stroke=\"none\" />\n",
       "<rect x=\"32.5mm\" y=\"0.0mm\"\n",
       "      width=\"2.5mm\" height=\"25.0mm\"\n",
       "      fill=\"#8C8793\" stroke=\"none\" />\n",
       "<rect x=\"35.0mm\" y=\"0.0mm\"\n",
       "      width=\"2.5mm\" height=\"25.0mm\"\n",
       "      fill=\"#680000\" stroke=\"none\" />\n",
       "<rect x=\"37.5mm\" y=\"0.0mm\"\n",
       "      width=\"2.5mm\" height=\"25.0mm\"\n",
       "      fill=\"#00005A\" stroke=\"none\" />\n",
       "<rect x=\"40.0mm\" y=\"0.0mm\"\n",
       "      width=\"2.5mm\" height=\"25.0mm\"\n",
       "      fill=\"#FF2C6F\" stroke=\"none\" />\n",
       "<rect x=\"42.5mm\" y=\"0.0mm\"\n",
       "      width=\"2.5mm\" height=\"25.0mm\"\n",
       "      fill=\"#F7FFF6\" stroke=\"none\" />\n",
       "<rect x=\"45.0mm\" y=\"0.0mm\"\n",
       "      width=\"2.5mm\" height=\"25.0mm\"\n",
       "      fill=\"#003D25\" stroke=\"none\" />\n",
       "<rect x=\"47.5mm\" y=\"0.0mm\"\n",
       "      width=\"2.5mm\" height=\"25.0mm\"\n",
       "      fill=\"#91ABFF\" stroke=\"none\" />\n",
       "<rect x=\"50.0mm\" y=\"0.0mm\"\n",
       "      width=\"2.5mm\" height=\"25.0mm\"\n",
       "      fill=\"#A1B684\" stroke=\"none\" />\n",
       "<rect x=\"52.5mm\" y=\"0.0mm\"\n",
       "      width=\"2.5mm\" height=\"25.0mm\"\n",
       "      fill=\"#605051\" stroke=\"none\" />\n",
       "<rect x=\"55.0mm\" y=\"0.0mm\"\n",
       "      width=\"2.5mm\" height=\"25.0mm\"\n",
       "      fill=\"#C129E2\" stroke=\"none\" />\n",
       "<rect x=\"57.5mm\" y=\"0.0mm\"\n",
       "      width=\"2.5mm\" height=\"25.0mm\"\n",
       "      fill=\"#FF8E1E\" stroke=\"none\" />\n",
       "<rect x=\"60.0mm\" y=\"0.0mm\"\n",
       "      width=\"2.5mm\" height=\"25.0mm\"\n",
       "      fill=\"#003F51\" stroke=\"none\" />\n",
       "<rect x=\"62.5mm\" y=\"0.0mm\"\n",
       "      width=\"2.5mm\" height=\"25.0mm\"\n",
       "      fill=\"#797860\" stroke=\"none\" />\n",
       "<rect x=\"65.0mm\" y=\"0.0mm\"\n",
       "      width=\"2.5mm\" height=\"25.0mm\"\n",
       "      fill=\"#2E001C\" stroke=\"none\" />\n",
       "<rect x=\"67.5mm\" y=\"0.0mm\"\n",
       "      width=\"2.5mm\" height=\"25.0mm\"\n",
       "      fill=\"#01AF99\" stroke=\"none\" />\n",
       "<rect x=\"70.0mm\" y=\"0.0mm\"\n",
       "      width=\"2.5mm\" height=\"25.0mm\"\n",
       "      fill=\"#FFE6FF\" stroke=\"none\" />\n",
       "<rect x=\"72.5mm\" y=\"0.0mm\"\n",
       "      width=\"2.5mm\" height=\"25.0mm\"\n",
       "      fill=\"#77DA00\" stroke=\"none\" />\n",
       "<rect x=\"75.0mm\" y=\"0.0mm\"\n",
       "      width=\"2.5mm\" height=\"25.0mm\"\n",
       "      fill=\"#5B4B83\" stroke=\"none\" />\n",
       "<rect x=\"77.5mm\" y=\"0.0mm\"\n",
       "      width=\"2.5mm\" height=\"25.0mm\"\n",
       "      fill=\"#0094CF\" stroke=\"none\" />\n",
       "<rect x=\"80.0mm\" y=\"0.0mm\"\n",
       "      width=\"2.5mm\" height=\"25.0mm\"\n",
       "      fill=\"#B8739F\" stroke=\"none\" />\n",
       "<rect x=\"82.5mm\" y=\"0.0mm\"\n",
       "      width=\"2.5mm\" height=\"25.0mm\"\n",
       "      fill=\"#FF8269\" stroke=\"none\" />\n",
       "<rect x=\"85.0mm\" y=\"0.0mm\"\n",
       "      width=\"2.5mm\" height=\"25.0mm\"\n",
       "      fill=\"#FFBE05\" stroke=\"none\" />\n",
       "<rect x=\"87.5mm\" y=\"0.0mm\"\n",
       "      width=\"2.5mm\" height=\"25.0mm\"\n",
       "      fill=\"#C20030\" stroke=\"none\" />\n",
       "<rect x=\"90.0mm\" y=\"0.0mm\"\n",
       "      width=\"2.5mm\" height=\"25.0mm\"\n",
       "      fill=\"#A9806C\" stroke=\"none\" />\n",
       "<rect x=\"92.5mm\" y=\"0.0mm\"\n",
       "      width=\"2.5mm\" height=\"25.0mm\"\n",
       "      fill=\"#955600\" stroke=\"none\" />\n",
       "<rect x=\"95.0mm\" y=\"0.0mm\"\n",
       "      width=\"2.5mm\" height=\"25.0mm\"\n",
       "      fill=\"#9FB3B2\" stroke=\"none\" />\n",
       "<rect x=\"97.5mm\" y=\"0.0mm\"\n",
       "      width=\"2.5mm\" height=\"25.0mm\"\n",
       "      fill=\"#789500\" stroke=\"none\" />\n",
       "<rect x=\"100.0mm\" y=\"0.0mm\"\n",
       "      width=\"2.5mm\" height=\"25.0mm\"\n",
       "      fill=\"#FF9BB1\" stroke=\"none\" />\n",
       "<rect x=\"102.5mm\" y=\"0.0mm\"\n",
       "      width=\"2.5mm\" height=\"25.0mm\"\n",
       "      fill=\"#A8FFFD\" stroke=\"none\" />\n",
       "<rect x=\"105.0mm\" y=\"0.0mm\"\n",
       "      width=\"2.5mm\" height=\"25.0mm\"\n",
       "      fill=\"#2023C8\" stroke=\"none\" />\n",
       "<rect x=\"107.5mm\" y=\"0.0mm\"\n",
       "      width=\"2.5mm\" height=\"25.0mm\"\n",
       "      fill=\"#937BD2\" stroke=\"none\" />\n",
       "<rect x=\"110.0mm\" y=\"0.0mm\"\n",
       "      width=\"2.5mm\" height=\"25.0mm\"\n",
       "      fill=\"#FFE8B4\" stroke=\"none\" />\n",
       "<rect x=\"112.5mm\" y=\"0.0mm\"\n",
       "      width=\"2.5mm\" height=\"25.0mm\"\n",
       "      fill=\"#4A5750\" stroke=\"none\" />\n",
       "<rect x=\"115.0mm\" y=\"0.0mm\"\n",
       "      width=\"2.5mm\" height=\"25.0mm\"\n",
       "      fill=\"#636B05\" stroke=\"none\" />\n",
       "<rect x=\"117.5mm\" y=\"0.0mm\"\n",
       "      width=\"2.5mm\" height=\"25.0mm\"\n",
       "      fill=\"#2C1300\" stroke=\"none\" />\n",
       "<rect x=\"120.0mm\" y=\"0.0mm\"\n",
       "      width=\"2.5mm\" height=\"25.0mm\"\n",
       "      fill=\"#00BC62\" stroke=\"none\" />\n",
       "<rect x=\"122.5mm\" y=\"0.0mm\"\n",
       "      width=\"2.5mm\" height=\"25.0mm\"\n",
       "      fill=\"#CFE6FF\" stroke=\"none\" />\n",
       "<rect x=\"125.0mm\" y=\"0.0mm\"\n",
       "      width=\"2.5mm\" height=\"25.0mm\"\n",
       "      fill=\"#915266\" stroke=\"none\" />\n",
       "<rect x=\"127.5mm\" y=\"0.0mm\"\n",
       "      width=\"2.5mm\" height=\"25.0mm\"\n",
       "      fill=\"#C9F6C9\" stroke=\"none\" />\n",
       "<rect x=\"130.0mm\" y=\"0.0mm\"\n",
       "      width=\"2.5mm\" height=\"25.0mm\"\n",
       "      fill=\"#B6A9CF\" stroke=\"none\" />\n",
       "<rect x=\"132.5mm\" y=\"0.0mm\"\n",
       "      width=\"2.5mm\" height=\"25.0mm\"\n",
       "      fill=\"#2E3248\" stroke=\"none\" />\n",
       "<rect x=\"135.0mm\" y=\"0.0mm\"\n",
       "      width=\"2.5mm\" height=\"25.0mm\"\n",
       "      fill=\"#BBACA5\" stroke=\"none\" />\n",
       "<rect x=\"137.5mm\" y=\"0.0mm\"\n",
       "      width=\"2.5mm\" height=\"25.0mm\"\n",
       "      fill=\"#006B50\" stroke=\"none\" />\n",
       "<rect x=\"140.0mm\" y=\"0.0mm\"\n",
       "      width=\"2.5mm\" height=\"25.0mm\"\n",
       "      fill=\"#383329\" stroke=\"none\" />\n",
       "<rect x=\"142.5mm\" y=\"0.0mm\"\n",
       "      width=\"2.5mm\" height=\"25.0mm\"\n",
       "      fill=\"#C5AD6D\" stroke=\"none\" />\n",
       "<rect x=\"145.0mm\" y=\"0.0mm\"\n",
       "      width=\"2.5mm\" height=\"25.0mm\"\n",
       "      fill=\"#005500\" stroke=\"none\" />\n",
       "<rect x=\"147.5mm\" y=\"0.0mm\"\n",
       "      width=\"2.5mm\" height=\"25.0mm\"\n",
       "      fill=\"#687A7E\" stroke=\"none\" />\n",
       "<rect x=\"150.0mm\" y=\"0.0mm\"\n",
       "      width=\"2.5mm\" height=\"25.0mm\"\n",
       "      fill=\"#FF4ED2\" stroke=\"none\" />\n",
       "<rect x=\"152.5mm\" y=\"0.0mm\"\n",
       "      width=\"2.5mm\" height=\"25.0mm\"\n",
       "      fill=\"#9A2F00\" stroke=\"none\" />\n",
       "<rect x=\"155.0mm\" y=\"0.0mm\"\n",
       "      width=\"2.5mm\" height=\"25.0mm\"\n",
       "      fill=\"#501D5B\" stroke=\"none\" />\n",
       "<rect x=\"157.5mm\" y=\"0.0mm\"\n",
       "      width=\"2.5mm\" height=\"25.0mm\"\n",
       "      fill=\"#0E1A00\" stroke=\"none\" />\n",
       "<rect x=\"160.0mm\" y=\"0.0mm\"\n",
       "      width=\"2.5mm\" height=\"25.0mm\"\n",
       "      fill=\"#0B001F\" stroke=\"none\" />\n",
       "<rect x=\"162.5mm\" y=\"0.0mm\"\n",
       "      width=\"2.5mm\" height=\"25.0mm\"\n",
       "      fill=\"#49A9B8\" stroke=\"none\" />\n",
       "<rect x=\"165.0mm\" y=\"0.0mm\"\n",
       "      width=\"2.5mm\" height=\"25.0mm\"\n",
       "      fill=\"#8200A5\" stroke=\"none\" />\n",
       "<rect x=\"167.5mm\" y=\"0.0mm\"\n",
       "      width=\"2.5mm\" height=\"25.0mm\"\n",
       "      fill=\"#609663\" stroke=\"none\" />\n",
       "<rect x=\"170.0mm\" y=\"0.0mm\"\n",
       "      width=\"2.5mm\" height=\"25.0mm\"\n",
       "      fill=\"#00397F\" stroke=\"none\" />\n",
       "<rect x=\"172.5mm\" y=\"0.0mm\"\n",
       "      width=\"2.5mm\" height=\"25.0mm\"\n",
       "      fill=\"#8E0037\" stroke=\"none\" />\n",
       "<rect x=\"175.0mm\" y=\"0.0mm\"\n",
       "      width=\"2.5mm\" height=\"25.0mm\"\n",
       "      fill=\"#643820\" stroke=\"none\" />\n",
       "<rect x=\"177.5mm\" y=\"0.0mm\"\n",
       "      width=\"2.5mm\" height=\"25.0mm\"\n",
       "      fill=\"#7558FF\" stroke=\"none\" />\n",
       "<rect x=\"180.0mm\" y=\"0.0mm\"\n",
       "      width=\"2.5mm\" height=\"25.0mm\"\n",
       "      fill=\"#006787\" stroke=\"none\" />\n",
       "<rect x=\"182.5mm\" y=\"0.0mm\"\n",
       "      width=\"2.5mm\" height=\"25.0mm\"\n",
       "      fill=\"#B75D4E\" stroke=\"none\" />\n",
       "<rect x=\"185.0mm\" y=\"0.0mm\"\n",
       "      width=\"2.5mm\" height=\"25.0mm\"\n",
       "      fill=\"#C3C958\" stroke=\"none\" />\n",
       "<rect x=\"187.5mm\" y=\"0.0mm\"\n",
       "      width=\"2.5mm\" height=\"25.0mm\"\n",
       "      fill=\"#D00068\" stroke=\"none\" />\n",
       "<rect x=\"190.0mm\" y=\"0.0mm\"\n",
       "      width=\"2.5mm\" height=\"25.0mm\"\n",
       "      fill=\"#51272B\" stroke=\"none\" />\n",
       "<rect x=\"192.5mm\" y=\"0.0mm\"\n",
       "      width=\"2.5mm\" height=\"25.0mm\"\n",
       "      fill=\"#7B6044\" stroke=\"none\" />\n",
       "<rect x=\"195.0mm\" y=\"0.0mm\"\n",
       "      width=\"2.5mm\" height=\"25.0mm\"\n",
       "      fill=\"#2E3A00\" stroke=\"none\" />\n",
       "<rect x=\"197.5mm\" y=\"0.0mm\"\n",
       "      width=\"2.5mm\" height=\"25.0mm\"\n",
       "      fill=\"#7AFF8B\" stroke=\"none\" />\n",
       "<rect x=\"200.0mm\" y=\"0.0mm\"\n",
       "      width=\"2.5mm\" height=\"25.0mm\"\n",
       "      fill=\"#4F85F6\" stroke=\"none\" />\n",
       "<rect x=\"202.5mm\" y=\"0.0mm\"\n",
       "      width=\"2.5mm\" height=\"25.0mm\"\n",
       "      fill=\"#C47800\" stroke=\"none\" />\n",
       "<rect x=\"205.0mm\" y=\"0.0mm\"\n",
       "      width=\"2.5mm\" height=\"25.0mm\"\n",
       "      fill=\"#B5939C\" stroke=\"none\" />\n",
       "<rect x=\"207.5mm\" y=\"0.0mm\"\n",
       "      width=\"2.5mm\" height=\"25.0mm\"\n",
       "      fill=\"#60647C\" stroke=\"none\" />\n",
       "<rect x=\"210.0mm\" y=\"0.0mm\"\n",
       "      width=\"2.5mm\" height=\"25.0mm\"\n",
       "      fill=\"#20D8D8\" stroke=\"none\" />\n",
       "<rect x=\"212.5mm\" y=\"0.0mm\"\n",
       "      width=\"2.5mm\" height=\"25.0mm\"\n",
       "      fill=\"#001B2C\" stroke=\"none\" />\n",
       "<rect x=\"215.0mm\" y=\"0.0mm\"\n",
       "      width=\"2.5mm\" height=\"25.0mm\"\n",
       "      fill=\"#002726\" stroke=\"none\" />\n",
       "<rect x=\"217.5mm\" y=\"0.0mm\"\n",
       "      width=\"2.5mm\" height=\"25.0mm\"\n",
       "      fill=\"#F8E7E0\" stroke=\"none\" />\n",
       "<rect x=\"220.0mm\" y=\"0.0mm\"\n",
       "      width=\"2.5mm\" height=\"25.0mm\"\n",
       "      fill=\"#7E6200\" stroke=\"none\" />\n",
       "<rect x=\"222.5mm\" y=\"0.0mm\"\n",
       "      width=\"2.5mm\" height=\"25.0mm\"\n",
       "      fill=\"#185D5D\" stroke=\"none\" />\n",
       "<rect x=\"225.0mm\" y=\"0.0mm\"\n",
       "      width=\"2.5mm\" height=\"25.0mm\"\n",
       "      fill=\"#008B74\" stroke=\"none\" />\n",
       "<rect x=\"227.5mm\" y=\"0.0mm\"\n",
       "      width=\"2.5mm\" height=\"25.0mm\"\n",
       "      fill=\"#FF3F37\" stroke=\"none\" />\n",
       "<rect x=\"230.0mm\" y=\"0.0mm\"\n",
       "      width=\"2.5mm\" height=\"25.0mm\"\n",
       "      fill=\"#BC9EFF\" stroke=\"none\" />\n",
       "<rect x=\"232.5mm\" y=\"0.0mm\"\n",
       "      width=\"2.5mm\" height=\"25.0mm\"\n",
       "      fill=\"#82746D\" stroke=\"none\" />\n",
       "<rect x=\"235.0mm\" y=\"0.0mm\"\n",
       "      width=\"2.5mm\" height=\"25.0mm\"\n",
       "      fill=\"#555633\" stroke=\"none\" />\n",
       "<rect x=\"237.5mm\" y=\"0.0mm\"\n",
       "      width=\"2.5mm\" height=\"25.0mm\"\n",
       "      fill=\"#54BDFF\" stroke=\"none\" />\n",
       "<rect x=\"240.0mm\" y=\"0.0mm\"\n",
       "      width=\"2.5mm\" height=\"25.0mm\"\n",
       "      fill=\"#CD38A2\" stroke=\"none\" />\n",
       "<rect x=\"242.5mm\" y=\"0.0mm\"\n",
       "      width=\"2.5mm\" height=\"25.0mm\"\n",
       "      fill=\"#81D3AC\" stroke=\"none\" />\n",
       "<rect x=\"245.0mm\" y=\"0.0mm\"\n",
       "      width=\"2.5mm\" height=\"25.0mm\"\n",
       "      fill=\"#8A6F80\" stroke=\"none\" />\n",
       "<rect x=\"247.5mm\" y=\"0.0mm\"\n",
       "      width=\"2.5mm\" height=\"25.0mm\"\n",
       "      fill=\"#F7B66A\" stroke=\"none\" />\n",
       "</svg>"
      ],
      "text/plain": [
       "100-element Array{ColorTypes.RGB{FixedPointNumbers.Normed{UInt8,8}},1}:\n",
       " RGB{N0f8}(0.0,0.0,0.0)      \n",
       " RGB{N0f8}(1.0,1.0,0.384)    \n",
       " RGB{N0f8}(1.0,0.624,1.0)    \n",
       " RGB{N0f8}(0.0,0.839,1.0)    \n",
       " RGB{N0f8}(0.843,0.267,0.0)  \n",
       " RGB{N0f8}(0.0,0.502,0.161)  \n",
       " RGB{N0f8}(0.0,0.373,0.835)  \n",
       " RGB{N0f8}(0.576,0.0,0.408)  \n",
       " RGB{N0f8}(1.0,0.796,0.71)   \n",
       " RGB{N0f8}(0.655,0.525,0.0)  \n",
       " RGB{N0f8}(0.0,1.0,0.773)    \n",
       " RGB{N0f8}(0.0,0.494,0.525)  \n",
       " RGB{N0f8}(0.325,0.259,0.0)  \n",
       " ⋮                           \n",
       " RGB{N0f8}(0.494,0.384,0.0)  \n",
       " RGB{N0f8}(0.094,0.365,0.365)\n",
       " RGB{N0f8}(0.0,0.545,0.455)  \n",
       " RGB{N0f8}(1.0,0.247,0.216)  \n",
       " RGB{N0f8}(0.737,0.62,1.0)   \n",
       " RGB{N0f8}(0.51,0.455,0.427) \n",
       " RGB{N0f8}(0.333,0.337,0.2)  \n",
       " RGB{N0f8}(0.329,0.741,1.0)  \n",
       " RGB{N0f8}(0.804,0.22,0.635) \n",
       " RGB{N0f8}(0.506,0.827,0.675)\n",
       " RGB{N0f8}(0.541,0.435,0.502)\n",
       " RGB{N0f8}(0.969,0.714,0.416)"
      ]
     },
     "execution_count": 35,
     "metadata": {},
     "output_type": "execute_result"
    }
   ],
   "source": [
    "colors = distinguishable_colors(100)\n"
   ]
  },
  {
   "cell_type": "code",
   "execution_count": 36,
   "metadata": {
    "collapsed": false
   },
   "outputs": [
    {
     "data": {
      "text/html": [],
      "text/plain": [
       "Interact.Options{:SelectionSlider,Int64}(Signal{Int64}(4, nactions=1),\"i\",4,\"4\",Interact.OptionDict(DataStructures.OrderedDict(\"1\"=>1,\"2\"=>2,\"3\"=>3,\"4\"=>4,\"5\"=>5,\"6\"=>6,\"7\"=>7,\"8\"=>8),Dict(7=>\"7\",4=>\"4\",2=>\"2\",3=>\"3\",5=>\"5\",8=>\"8\",6=>\"6\",1=>\"1\")),Any[],Any[],true,\"horizontal\")"
      ]
     },
     "metadata": {},
     "output_type": "display_data"
    },
    {
     "data": {
      "text/html": [],
      "text/plain": [
       "Interact.Options{:SelectionSlider,Int64}(Signal{Int64}(4, nactions=1),\"j\",4,\"4\",Interact.OptionDict(DataStructures.OrderedDict(\"1\"=>1,\"2\"=>2,\"3\"=>3,\"4\"=>4,\"5\"=>5,\"6\"=>6,\"7\"=>7,\"8\"=>8),Dict(7=>\"7\",4=>\"4\",2=>\"2\",3=>\"3\",5=>\"5\",8=>\"8\",6=>\"6\",1=>\"1\")),Any[],Any[],true,\"horizontal\")"
      ]
     },
     "metadata": {},
     "output_type": "display_data"
    },
    {
     "data": {
      "text/plain": [
       "10×10 Array{Int64,2}:\n",
       " 0  0  0  0  0  0  0  0  0  0\n",
       " 0  0  0  0  0  0  0  0  0  0\n",
       " 0  0  0  0  0  0  0  0  0  0\n",
       " 0  0  0  7  7  7  0  0  0  0\n",
       " 0  0  0  7  7  7  0  0  0  0\n",
       " 0  0  0  7  7  7  0  0  0  0\n",
       " 0  0  0  0  0  0  0  0  0  0\n",
       " 0  0  0  0  0  0  0  0  0  0\n",
       " 0  0  0  0  0  0  0  0  0  0\n",
       " 0  0  0  0  0  0  0  0  0  0"
      ]
     },
     "execution_count": 36,
     "metadata": {
      "comm_id": "a58423b3-ca97-4758-86a9-0173e44fb803",
      "reactive": true
     },
     "output_type": "execute_result"
    }
   ],
   "source": [
    "# Remember this ????\n",
    "A = fill(0, 10, 10)\n",
    "n = size(A, 1)\n",
    "\n",
    "@manipulate for i in 1:n-2, j in 1:n-2\n",
    "    insert_block(A, i, j)\n",
    "end"
   ]
  },
  {
   "cell_type": "markdown",
   "metadata": {},
   "source": [
    "What happens if we use colours instead?"
   ]
  },
  {
   "cell_type": "code",
   "execution_count": 37,
   "metadata": {
    "collapsed": false,
    "scrolled": true
   },
   "outputs": [
    {
     "data": {
      "text/html": [],
      "text/plain": [
       "Interact.Options{:SelectionSlider,Int64}(Signal{Int64}(4, nactions=1),\"i\",4,\"4\",Interact.OptionDict(DataStructures.OrderedDict(\"1\"=>1,\"2\"=>2,\"3\"=>3,\"4\"=>4,\"5\"=>5,\"6\"=>6,\"7\"=>7,\"8\"=>8),Dict(7=>\"7\",4=>\"4\",2=>\"2\",3=>\"3\",5=>\"5\",8=>\"8\",6=>\"6\",1=>\"1\")),Any[],Any[],true,\"horizontal\")"
      ]
     },
     "metadata": {},
     "output_type": "display_data"
    },
    {
     "data": {
      "text/html": [],
      "text/plain": [
       "Interact.Options{:SelectionSlider,Int64}(Signal{Int64}(4, nactions=1),\"j\",4,\"4\",Interact.OptionDict(DataStructures.OrderedDict(\"1\"=>1,\"2\"=>2,\"3\"=>3,\"4\"=>4,\"5\"=>5,\"6\"=>6,\"7\"=>7,\"8\"=>8),Dict(7=>\"7\",4=>\"4\",2=>\"2\",3=>\"3\",5=>\"5\",8=>\"8\",6=>\"6\",1=>\"1\")),Any[],Any[],true,\"horizontal\")"
      ]
     },
     "metadata": {},
     "output_type": "display_data"
    },
    {
     "data": {
      "image/svg+xml": [
       "<?xml version=\"1.0\" encoding=\"UTF-8\"?>\n",
       "<!DOCTYPE svg PUBLIC \"-//W3C//DTD SVG 1.1//EN\"\n",
       " \"http://www.w3.org/Graphics/SVG/1.1/DTD/svg11.dtd\">\n",
       "<svg xmlns=\"http://www.w3.org/2000/svg\" version=\"1.1\"\n",
       "     width=\"150.0mm\" height=\"100.0mm\"\n",
       "     shape-rendering=\"crispEdges\">\n",
       "<rect x=\"0.0mm\" y=\"0.0mm\"\n",
       "      width=\"14.0mm\" height=\"9.0mm\"\n",
       "      fill=\"#000000\" stroke=\"none\" />\n",
       "<rect x=\"15.0mm\" y=\"0.0mm\"\n",
       "      width=\"14.0mm\" height=\"9.0mm\"\n",
       "      fill=\"#000000\" stroke=\"none\" />\n",
       "<rect x=\"30.0mm\" y=\"0.0mm\"\n",
       "      width=\"14.0mm\" height=\"9.0mm\"\n",
       "      fill=\"#000000\" stroke=\"none\" />\n",
       "<rect x=\"45.0mm\" y=\"0.0mm\"\n",
       "      width=\"14.0mm\" height=\"9.0mm\"\n",
       "      fill=\"#000000\" stroke=\"none\" />\n",
       "<rect x=\"60.0mm\" y=\"0.0mm\"\n",
       "      width=\"14.0mm\" height=\"9.0mm\"\n",
       "      fill=\"#000000\" stroke=\"none\" />\n",
       "<rect x=\"75.0mm\" y=\"0.0mm\"\n",
       "      width=\"14.0mm\" height=\"9.0mm\"\n",
       "      fill=\"#000000\" stroke=\"none\" />\n",
       "<rect x=\"90.0mm\" y=\"0.0mm\"\n",
       "      width=\"14.0mm\" height=\"9.0mm\"\n",
       "      fill=\"#000000\" stroke=\"none\" />\n",
       "<rect x=\"105.0mm\" y=\"0.0mm\"\n",
       "      width=\"14.0mm\" height=\"9.0mm\"\n",
       "      fill=\"#000000\" stroke=\"none\" />\n",
       "<rect x=\"120.0mm\" y=\"0.0mm\"\n",
       "      width=\"14.0mm\" height=\"9.0mm\"\n",
       "      fill=\"#000000\" stroke=\"none\" />\n",
       "<rect x=\"135.0mm\" y=\"0.0mm\"\n",
       "      width=\"14.0mm\" height=\"9.0mm\"\n",
       "      fill=\"#000000\" stroke=\"none\" />\n",
       "<rect x=\"0.0mm\" y=\"10.0mm\"\n",
       "      width=\"14.0mm\" height=\"9.0mm\"\n",
       "      fill=\"#000000\" stroke=\"none\" />\n",
       "<rect x=\"15.0mm\" y=\"10.0mm\"\n",
       "      width=\"14.0mm\" height=\"9.0mm\"\n",
       "      fill=\"#000000\" stroke=\"none\" />\n",
       "<rect x=\"30.0mm\" y=\"10.0mm\"\n",
       "      width=\"14.0mm\" height=\"9.0mm\"\n",
       "      fill=\"#000000\" stroke=\"none\" />\n",
       "<rect x=\"45.0mm\" y=\"10.0mm\"\n",
       "      width=\"14.0mm\" height=\"9.0mm\"\n",
       "      fill=\"#000000\" stroke=\"none\" />\n",
       "<rect x=\"60.0mm\" y=\"10.0mm\"\n",
       "      width=\"14.0mm\" height=\"9.0mm\"\n",
       "      fill=\"#000000\" stroke=\"none\" />\n",
       "<rect x=\"75.0mm\" y=\"10.0mm\"\n",
       "      width=\"14.0mm\" height=\"9.0mm\"\n",
       "      fill=\"#000000\" stroke=\"none\" />\n",
       "<rect x=\"90.0mm\" y=\"10.0mm\"\n",
       "      width=\"14.0mm\" height=\"9.0mm\"\n",
       "      fill=\"#000000\" stroke=\"none\" />\n",
       "<rect x=\"105.0mm\" y=\"10.0mm\"\n",
       "      width=\"14.0mm\" height=\"9.0mm\"\n",
       "      fill=\"#000000\" stroke=\"none\" />\n",
       "<rect x=\"120.0mm\" y=\"10.0mm\"\n",
       "      width=\"14.0mm\" height=\"9.0mm\"\n",
       "      fill=\"#000000\" stroke=\"none\" />\n",
       "<rect x=\"135.0mm\" y=\"10.0mm\"\n",
       "      width=\"14.0mm\" height=\"9.0mm\"\n",
       "      fill=\"#000000\" stroke=\"none\" />\n",
       "<rect x=\"0.0mm\" y=\"20.0mm\"\n",
       "      width=\"14.0mm\" height=\"9.0mm\"\n",
       "      fill=\"#000000\" stroke=\"none\" />\n",
       "<rect x=\"15.0mm\" y=\"20.0mm\"\n",
       "      width=\"14.0mm\" height=\"9.0mm\"\n",
       "      fill=\"#000000\" stroke=\"none\" />\n",
       "<rect x=\"30.0mm\" y=\"20.0mm\"\n",
       "      width=\"14.0mm\" height=\"9.0mm\"\n",
       "      fill=\"#000000\" stroke=\"none\" />\n",
       "<rect x=\"45.0mm\" y=\"20.0mm\"\n",
       "      width=\"14.0mm\" height=\"9.0mm\"\n",
       "      fill=\"#000000\" stroke=\"none\" />\n",
       "<rect x=\"60.0mm\" y=\"20.0mm\"\n",
       "      width=\"14.0mm\" height=\"9.0mm\"\n",
       "      fill=\"#000000\" stroke=\"none\" />\n",
       "<rect x=\"75.0mm\" y=\"20.0mm\"\n",
       "      width=\"14.0mm\" height=\"9.0mm\"\n",
       "      fill=\"#000000\" stroke=\"none\" />\n",
       "<rect x=\"90.0mm\" y=\"20.0mm\"\n",
       "      width=\"14.0mm\" height=\"9.0mm\"\n",
       "      fill=\"#000000\" stroke=\"none\" />\n",
       "<rect x=\"105.0mm\" y=\"20.0mm\"\n",
       "      width=\"14.0mm\" height=\"9.0mm\"\n",
       "      fill=\"#000000\" stroke=\"none\" />\n",
       "<rect x=\"120.0mm\" y=\"20.0mm\"\n",
       "      width=\"14.0mm\" height=\"9.0mm\"\n",
       "      fill=\"#000000\" stroke=\"none\" />\n",
       "<rect x=\"135.0mm\" y=\"20.0mm\"\n",
       "      width=\"14.0mm\" height=\"9.0mm\"\n",
       "      fill=\"#000000\" stroke=\"none\" />\n",
       "<rect x=\"0.0mm\" y=\"30.0mm\"\n",
       "      width=\"14.0mm\" height=\"9.0mm\"\n",
       "      fill=\"#000000\" stroke=\"none\" />\n",
       "<rect x=\"15.0mm\" y=\"30.0mm\"\n",
       "      width=\"14.0mm\" height=\"9.0mm\"\n",
       "      fill=\"#000000\" stroke=\"none\" />\n",
       "<rect x=\"30.0mm\" y=\"30.0mm\"\n",
       "      width=\"14.0mm\" height=\"9.0mm\"\n",
       "      fill=\"#000000\" stroke=\"none\" />\n",
       "<rect x=\"45.0mm\" y=\"30.0mm\"\n",
       "      width=\"14.0mm\" height=\"9.0mm\"\n",
       "      fill=\"#00D6FF\" stroke=\"none\" />\n",
       "<rect x=\"60.0mm\" y=\"30.0mm\"\n",
       "      width=\"14.0mm\" height=\"9.0mm\"\n",
       "      fill=\"#00D6FF\" stroke=\"none\" />\n",
       "<rect x=\"75.0mm\" y=\"30.0mm\"\n",
       "      width=\"14.0mm\" height=\"9.0mm\"\n",
       "      fill=\"#00D6FF\" stroke=\"none\" />\n",
       "<rect x=\"90.0mm\" y=\"30.0mm\"\n",
       "      width=\"14.0mm\" height=\"9.0mm\"\n",
       "      fill=\"#000000\" stroke=\"none\" />\n",
       "<rect x=\"105.0mm\" y=\"30.0mm\"\n",
       "      width=\"14.0mm\" height=\"9.0mm\"\n",
       "      fill=\"#000000\" stroke=\"none\" />\n",
       "<rect x=\"120.0mm\" y=\"30.0mm\"\n",
       "      width=\"14.0mm\" height=\"9.0mm\"\n",
       "      fill=\"#000000\" stroke=\"none\" />\n",
       "<rect x=\"135.0mm\" y=\"30.0mm\"\n",
       "      width=\"14.0mm\" height=\"9.0mm\"\n",
       "      fill=\"#000000\" stroke=\"none\" />\n",
       "<rect x=\"0.0mm\" y=\"40.0mm\"\n",
       "      width=\"14.0mm\" height=\"9.0mm\"\n",
       "      fill=\"#000000\" stroke=\"none\" />\n",
       "<rect x=\"15.0mm\" y=\"40.0mm\"\n",
       "      width=\"14.0mm\" height=\"9.0mm\"\n",
       "      fill=\"#000000\" stroke=\"none\" />\n",
       "<rect x=\"30.0mm\" y=\"40.0mm\"\n",
       "      width=\"14.0mm\" height=\"9.0mm\"\n",
       "      fill=\"#000000\" stroke=\"none\" />\n",
       "<rect x=\"45.0mm\" y=\"40.0mm\"\n",
       "      width=\"14.0mm\" height=\"9.0mm\"\n",
       "      fill=\"#00D6FF\" stroke=\"none\" />\n",
       "<rect x=\"60.0mm\" y=\"40.0mm\"\n",
       "      width=\"14.0mm\" height=\"9.0mm\"\n",
       "      fill=\"#00D6FF\" stroke=\"none\" />\n",
       "<rect x=\"75.0mm\" y=\"40.0mm\"\n",
       "      width=\"14.0mm\" height=\"9.0mm\"\n",
       "      fill=\"#00D6FF\" stroke=\"none\" />\n",
       "<rect x=\"90.0mm\" y=\"40.0mm\"\n",
       "      width=\"14.0mm\" height=\"9.0mm\"\n",
       "      fill=\"#000000\" stroke=\"none\" />\n",
       "<rect x=\"105.0mm\" y=\"40.0mm\"\n",
       "      width=\"14.0mm\" height=\"9.0mm\"\n",
       "      fill=\"#000000\" stroke=\"none\" />\n",
       "<rect x=\"120.0mm\" y=\"40.0mm\"\n",
       "      width=\"14.0mm\" height=\"9.0mm\"\n",
       "      fill=\"#000000\" stroke=\"none\" />\n",
       "<rect x=\"135.0mm\" y=\"40.0mm\"\n",
       "      width=\"14.0mm\" height=\"9.0mm\"\n",
       "      fill=\"#000000\" stroke=\"none\" />\n",
       "<rect x=\"0.0mm\" y=\"50.0mm\"\n",
       "      width=\"14.0mm\" height=\"9.0mm\"\n",
       "      fill=\"#000000\" stroke=\"none\" />\n",
       "<rect x=\"15.0mm\" y=\"50.0mm\"\n",
       "      width=\"14.0mm\" height=\"9.0mm\"\n",
       "      fill=\"#000000\" stroke=\"none\" />\n",
       "<rect x=\"30.0mm\" y=\"50.0mm\"\n",
       "      width=\"14.0mm\" height=\"9.0mm\"\n",
       "      fill=\"#000000\" stroke=\"none\" />\n",
       "<rect x=\"45.0mm\" y=\"50.0mm\"\n",
       "      width=\"14.0mm\" height=\"9.0mm\"\n",
       "      fill=\"#00D6FF\" stroke=\"none\" />\n",
       "<rect x=\"60.0mm\" y=\"50.0mm\"\n",
       "      width=\"14.0mm\" height=\"9.0mm\"\n",
       "      fill=\"#00D6FF\" stroke=\"none\" />\n",
       "<rect x=\"75.0mm\" y=\"50.0mm\"\n",
       "      width=\"14.0mm\" height=\"9.0mm\"\n",
       "      fill=\"#00D6FF\" stroke=\"none\" />\n",
       "<rect x=\"90.0mm\" y=\"50.0mm\"\n",
       "      width=\"14.0mm\" height=\"9.0mm\"\n",
       "      fill=\"#000000\" stroke=\"none\" />\n",
       "<rect x=\"105.0mm\" y=\"50.0mm\"\n",
       "      width=\"14.0mm\" height=\"9.0mm\"\n",
       "      fill=\"#000000\" stroke=\"none\" />\n",
       "<rect x=\"120.0mm\" y=\"50.0mm\"\n",
       "      width=\"14.0mm\" height=\"9.0mm\"\n",
       "      fill=\"#000000\" stroke=\"none\" />\n",
       "<rect x=\"135.0mm\" y=\"50.0mm\"\n",
       "      width=\"14.0mm\" height=\"9.0mm\"\n",
       "      fill=\"#000000\" stroke=\"none\" />\n",
       "<rect x=\"0.0mm\" y=\"60.0mm\"\n",
       "      width=\"14.0mm\" height=\"9.0mm\"\n",
       "      fill=\"#000000\" stroke=\"none\" />\n",
       "<rect x=\"15.0mm\" y=\"60.0mm\"\n",
       "      width=\"14.0mm\" height=\"9.0mm\"\n",
       "      fill=\"#000000\" stroke=\"none\" />\n",
       "<rect x=\"30.0mm\" y=\"60.0mm\"\n",
       "      width=\"14.0mm\" height=\"9.0mm\"\n",
       "      fill=\"#000000\" stroke=\"none\" />\n",
       "<rect x=\"45.0mm\" y=\"60.0mm\"\n",
       "      width=\"14.0mm\" height=\"9.0mm\"\n",
       "      fill=\"#000000\" stroke=\"none\" />\n",
       "<rect x=\"60.0mm\" y=\"60.0mm\"\n",
       "      width=\"14.0mm\" height=\"9.0mm\"\n",
       "      fill=\"#000000\" stroke=\"none\" />\n",
       "<rect x=\"75.0mm\" y=\"60.0mm\"\n",
       "      width=\"14.0mm\" height=\"9.0mm\"\n",
       "      fill=\"#000000\" stroke=\"none\" />\n",
       "<rect x=\"90.0mm\" y=\"60.0mm\"\n",
       "      width=\"14.0mm\" height=\"9.0mm\"\n",
       "      fill=\"#000000\" stroke=\"none\" />\n",
       "<rect x=\"105.0mm\" y=\"60.0mm\"\n",
       "      width=\"14.0mm\" height=\"9.0mm\"\n",
       "      fill=\"#000000\" stroke=\"none\" />\n",
       "<rect x=\"120.0mm\" y=\"60.0mm\"\n",
       "      width=\"14.0mm\" height=\"9.0mm\"\n",
       "      fill=\"#000000\" stroke=\"none\" />\n",
       "<rect x=\"135.0mm\" y=\"60.0mm\"\n",
       "      width=\"14.0mm\" height=\"9.0mm\"\n",
       "      fill=\"#000000\" stroke=\"none\" />\n",
       "<rect x=\"0.0mm\" y=\"70.0mm\"\n",
       "      width=\"14.0mm\" height=\"9.0mm\"\n",
       "      fill=\"#000000\" stroke=\"none\" />\n",
       "<rect x=\"15.0mm\" y=\"70.0mm\"\n",
       "      width=\"14.0mm\" height=\"9.0mm\"\n",
       "      fill=\"#000000\" stroke=\"none\" />\n",
       "<rect x=\"30.0mm\" y=\"70.0mm\"\n",
       "      width=\"14.0mm\" height=\"9.0mm\"\n",
       "      fill=\"#000000\" stroke=\"none\" />\n",
       "<rect x=\"45.0mm\" y=\"70.0mm\"\n",
       "      width=\"14.0mm\" height=\"9.0mm\"\n",
       "      fill=\"#000000\" stroke=\"none\" />\n",
       "<rect x=\"60.0mm\" y=\"70.0mm\"\n",
       "      width=\"14.0mm\" height=\"9.0mm\"\n",
       "      fill=\"#000000\" stroke=\"none\" />\n",
       "<rect x=\"75.0mm\" y=\"70.0mm\"\n",
       "      width=\"14.0mm\" height=\"9.0mm\"\n",
       "      fill=\"#000000\" stroke=\"none\" />\n",
       "<rect x=\"90.0mm\" y=\"70.0mm\"\n",
       "      width=\"14.0mm\" height=\"9.0mm\"\n",
       "      fill=\"#000000\" stroke=\"none\" />\n",
       "<rect x=\"105.0mm\" y=\"70.0mm\"\n",
       "      width=\"14.0mm\" height=\"9.0mm\"\n",
       "      fill=\"#000000\" stroke=\"none\" />\n",
       "<rect x=\"120.0mm\" y=\"70.0mm\"\n",
       "      width=\"14.0mm\" height=\"9.0mm\"\n",
       "      fill=\"#000000\" stroke=\"none\" />\n",
       "<rect x=\"135.0mm\" y=\"70.0mm\"\n",
       "      width=\"14.0mm\" height=\"9.0mm\"\n",
       "      fill=\"#000000\" stroke=\"none\" />\n",
       "<rect x=\"0.0mm\" y=\"80.0mm\"\n",
       "      width=\"14.0mm\" height=\"9.0mm\"\n",
       "      fill=\"#000000\" stroke=\"none\" />\n",
       "<rect x=\"15.0mm\" y=\"80.0mm\"\n",
       "      width=\"14.0mm\" height=\"9.0mm\"\n",
       "      fill=\"#000000\" stroke=\"none\" />\n",
       "<rect x=\"30.0mm\" y=\"80.0mm\"\n",
       "      width=\"14.0mm\" height=\"9.0mm\"\n",
       "      fill=\"#000000\" stroke=\"none\" />\n",
       "<rect x=\"45.0mm\" y=\"80.0mm\"\n",
       "      width=\"14.0mm\" height=\"9.0mm\"\n",
       "      fill=\"#000000\" stroke=\"none\" />\n",
       "<rect x=\"60.0mm\" y=\"80.0mm\"\n",
       "      width=\"14.0mm\" height=\"9.0mm\"\n",
       "      fill=\"#000000\" stroke=\"none\" />\n",
       "<rect x=\"75.0mm\" y=\"80.0mm\"\n",
       "      width=\"14.0mm\" height=\"9.0mm\"\n",
       "      fill=\"#000000\" stroke=\"none\" />\n",
       "<rect x=\"90.0mm\" y=\"80.0mm\"\n",
       "      width=\"14.0mm\" height=\"9.0mm\"\n",
       "      fill=\"#000000\" stroke=\"none\" />\n",
       "<rect x=\"105.0mm\" y=\"80.0mm\"\n",
       "      width=\"14.0mm\" height=\"9.0mm\"\n",
       "      fill=\"#000000\" stroke=\"none\" />\n",
       "<rect x=\"120.0mm\" y=\"80.0mm\"\n",
       "      width=\"14.0mm\" height=\"9.0mm\"\n",
       "      fill=\"#000000\" stroke=\"none\" />\n",
       "<rect x=\"135.0mm\" y=\"80.0mm\"\n",
       "      width=\"14.0mm\" height=\"9.0mm\"\n",
       "      fill=\"#000000\" stroke=\"none\" />\n",
       "<rect x=\"0.0mm\" y=\"90.0mm\"\n",
       "      width=\"14.0mm\" height=\"9.0mm\"\n",
       "      fill=\"#000000\" stroke=\"none\" />\n",
       "<rect x=\"15.0mm\" y=\"90.0mm\"\n",
       "      width=\"14.0mm\" height=\"9.0mm\"\n",
       "      fill=\"#000000\" stroke=\"none\" />\n",
       "<rect x=\"30.0mm\" y=\"90.0mm\"\n",
       "      width=\"14.0mm\" height=\"9.0mm\"\n",
       "      fill=\"#000000\" stroke=\"none\" />\n",
       "<rect x=\"45.0mm\" y=\"90.0mm\"\n",
       "      width=\"14.0mm\" height=\"9.0mm\"\n",
       "      fill=\"#000000\" stroke=\"none\" />\n",
       "<rect x=\"60.0mm\" y=\"90.0mm\"\n",
       "      width=\"14.0mm\" height=\"9.0mm\"\n",
       "      fill=\"#000000\" stroke=\"none\" />\n",
       "<rect x=\"75.0mm\" y=\"90.0mm\"\n",
       "      width=\"14.0mm\" height=\"9.0mm\"\n",
       "      fill=\"#000000\" stroke=\"none\" />\n",
       "<rect x=\"90.0mm\" y=\"90.0mm\"\n",
       "      width=\"14.0mm\" height=\"9.0mm\"\n",
       "      fill=\"#000000\" stroke=\"none\" />\n",
       "<rect x=\"105.0mm\" y=\"90.0mm\"\n",
       "      width=\"14.0mm\" height=\"9.0mm\"\n",
       "      fill=\"#000000\" stroke=\"none\" />\n",
       "<rect x=\"120.0mm\" y=\"90.0mm\"\n",
       "      width=\"14.0mm\" height=\"9.0mm\"\n",
       "      fill=\"#000000\" stroke=\"none\" />\n",
       "<rect x=\"135.0mm\" y=\"90.0mm\"\n",
       "      width=\"14.0mm\" height=\"9.0mm\"\n",
       "      fill=\"#000000\" stroke=\"none\" />\n",
       "</svg>"
      ],
      "text/plain": [
       "10×10 Array{ColorTypes.RGB{FixedPointNumbers.Normed{UInt8,8}},2}:\n",
       " RGB{N0f8}(0.0,0.0,0.0)  RGB{N0f8}(0.0,0.0,0.0)  …  RGB{N0f8}(0.0,0.0,0.0)\n",
       " RGB{N0f8}(0.0,0.0,0.0)  RGB{N0f8}(0.0,0.0,0.0)     RGB{N0f8}(0.0,0.0,0.0)\n",
       " RGB{N0f8}(0.0,0.0,0.0)  RGB{N0f8}(0.0,0.0,0.0)     RGB{N0f8}(0.0,0.0,0.0)\n",
       " RGB{N0f8}(0.0,0.0,0.0)  RGB{N0f8}(0.0,0.0,0.0)     RGB{N0f8}(0.0,0.0,0.0)\n",
       " RGB{N0f8}(0.0,0.0,0.0)  RGB{N0f8}(0.0,0.0,0.0)     RGB{N0f8}(0.0,0.0,0.0)\n",
       " RGB{N0f8}(0.0,0.0,0.0)  RGB{N0f8}(0.0,0.0,0.0)  …  RGB{N0f8}(0.0,0.0,0.0)\n",
       " RGB{N0f8}(0.0,0.0,0.0)  RGB{N0f8}(0.0,0.0,0.0)     RGB{N0f8}(0.0,0.0,0.0)\n",
       " RGB{N0f8}(0.0,0.0,0.0)  RGB{N0f8}(0.0,0.0,0.0)     RGB{N0f8}(0.0,0.0,0.0)\n",
       " RGB{N0f8}(0.0,0.0,0.0)  RGB{N0f8}(0.0,0.0,0.0)     RGB{N0f8}(0.0,0.0,0.0)\n",
       " RGB{N0f8}(0.0,0.0,0.0)  RGB{N0f8}(0.0,0.0,0.0)     RGB{N0f8}(0.0,0.0,0.0)"
      ]
     },
     "execution_count": 37,
     "metadata": {
      "comm_id": "8e075b2a-7967-47b6-98d8-130d8643dd98",
      "reactive": true
     },
     "output_type": "execute_result"
    }
   ],
   "source": [
    "A = fill(colors[1], 10, 10)\n",
    "n = size(A, 1)\n",
    "\n",
    "@manipulate for i in 1:n-2, j in 1:n-2\n",
    "    insert_block(A, i, j, colors[4])\n",
    "end"
   ]
  },
  {
   "cell_type": "code",
   "execution_count": 38,
   "metadata": {
    "collapsed": true
   },
   "outputs": [],
   "source": [
    "# Exercise: Create Tetris Pieces, have them fall from the top"
   ]
  }
 ],
 "metadata": {
  "anaconda-cloud": {},
  "kernelspec": {
   "display_name": "Julia 0.5.0",
   "language": "julia",
   "name": "julia-0.5"
  },
  "language_info": {
   "file_extension": ".jl",
   "mimetype": "application/julia",
   "name": "julia",
   "version": "0.5.0"
  },
  "toc": {
   "colors": {
    "hover_highlight": "#DAA520",
    "running_highlight": "#FF0000",
    "selected_highlight": "#FFD700"
   },
   "moveMenuLeft": true,
   "nav_menu": {
    "height": "248px",
    "width": "252px"
   },
   "navigate_menu": true,
   "number_sections": true,
   "sideBar": true,
   "threshold": "2",
   "toc_cell": false,
   "toc_section_display": "block",
   "toc_window_display": false
  },
  "widgets": {
   "state": {
    "201ee5f1-a24f-40bd-aef2-a1874a0897cd": {
     "views": [
      {
       "cell_index": 78
      }
     ]
    },
    "21216b7e-cd1f-4792-bd69-5b038e36fcc2": {
     "views": [
      {
       "cell_index": 74
      }
     ]
    },
    "2144536c-d6a0-4fce-866f-8621695ac09a": {
     "views": [
      {
       "cell_index": 63
      }
     ]
    },
    "2ab5fde1-3597-4d9e-9271-6f4e65813a8a": {
     "views": [
      {
       "cell_index": 69
      }
     ]
    },
    "368e4943-2dec-4d13-814e-76e01fa70bbe": {
     "views": [
      {
       "cell_index": 78
      }
     ]
    },
    "74870353-adde-40d3-90d6-d95b22647110": {
     "views": [
      {
       "cell_index": 66
      }
     ]
    },
    "8c849d91-1593-436e-ae53-a11545d2010c": {
     "views": [
      {
       "cell_index": 76
      }
     ]
    },
    "9154abc2-8d0e-4550-acf8-73a363862427": {
     "views": [
      {
       "cell_index": 67
      }
     ]
    },
    "9ad42275-a937-46ca-b105-72983f8a3faa": {
     "views": [
      {
       "cell_index": 63
      }
     ]
    },
    "a3049e88-013c-441b-ae9c-59fe8ee3b1d5": {
     "views": [
      {
       "cell_index": 67
      }
     ]
    },
    "a93eddb9-c3e8-40e0-b36e-8caf7b95a23d": {
     "views": [
      {
       "cell_index": 50
      }
     ]
    },
    "c207ebcd-a158-4b88-adba-2ff2c21b7d69": {
     "views": [
      {
       "cell_index": 76
      }
     ]
    },
    "c77a25c6-ad06-4929-8259-3b64cbbeb348": {
     "views": [
      {
       "cell_index": 50
      }
     ]
    },
    "c8e8afbc-c940-445c-ac14-eacb28072640": {
     "views": [
      {
       "cell_index": 69
      }
     ]
    },
    "d95a2bc8-9116-458f-8b9a-c906c3725374": {
     "views": [
      {
       "cell_index": 66
      }
     ]
    },
    "da24f674-52ae-4db6-9e0d-7f23fb9ddc4f": {
     "views": [
      {
       "cell_index": 66
      }
     ]
    },
    "de622ed0-df84-4a74-b793-a67cff18ae22": {
     "views": [
      {
       "cell_index": 98
      }
     ]
    },
    "f3068ae2-c9f9-47c1-9dea-8a37d5c87266": {
     "views": [
      {
       "cell_index": 66
      }
     ]
    }
   },
   "version": "1.2.0"
  }
 },
 "nbformat": 4,
 "nbformat_minor": 2
}
