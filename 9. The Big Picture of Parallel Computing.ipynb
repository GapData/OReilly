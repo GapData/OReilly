{
 "cells": [
  {
   "cell_type": "markdown",
   "metadata": {},
   "source": [
    "# `sum`: Recalling the performance lecture: an easy enough function to understand"
   ]
  },
  {
   "cell_type": "markdown",
   "metadata": {},
   "source": [
    "The  **sum** function `sum(a)`, which computes\n",
    "\n",
    "$$\n",
    "\\mathrm{sum}(a) = \\sum_{i=1}^n a_i.\n",
    "$$"
   ]
  },
  {
   "cell_type": "code",
   "execution_count": 1,
   "metadata": {
    "collapsed": false
   },
   "outputs": [],
   "source": [
    "#Pkg.add(\"BenchmarkTools\")\n",
    "using BenchmarkTools"
   ]
  },
  {
   "cell_type": "markdown",
   "metadata": {},
   "source": [
    "# 1a. serial Julia (as fast as handwritten c)"
   ]
  },
  {
   "cell_type": "code",
   "execution_count": 3,
   "metadata": {
    "collapsed": false
   },
   "outputs": [
    {
     "data": {
      "text/plain": [
       "jsum (generic function with 1 method)"
      ]
     },
     "execution_count": 3,
     "metadata": {},
     "output_type": "execute_result"
    }
   ],
   "source": [
    "function jsum(A)   \n",
    "    s = 0.  # s = zero(eltype(A))\n",
    "    for a in A\n",
    "        s += a\n",
    "    end\n",
    "    s\n",
    "end"
   ]
  },
  {
   "cell_type": "code",
   "execution_count": 5,
   "metadata": {
    "collapsed": false
   },
   "outputs": [
    {
     "data": {
      "text/plain": [
       "7.933992"
      ]
     },
     "execution_count": 5,
     "metadata": {},
     "output_type": "execute_result"
    }
   ],
   "source": [
    "a = randn(10^7) # array of random numbers, uniform on [0,1)\n",
    "j_bench = @benchmark jsum($a)\n",
    "minimum(j_bench.times)/1e6"
   ]
  },
  {
   "cell_type": "markdown",
   "metadata": {},
   "source": [
    "## 1b. Built in Julia"
   ]
  },
  {
   "cell_type": "code",
   "execution_count": 6,
   "metadata": {
    "collapsed": false
   },
   "outputs": [
    {
     "data": {
      "text/plain": [
       "4.42754"
      ]
     },
     "execution_count": 6,
     "metadata": {},
     "output_type": "execute_result"
    }
   ],
   "source": [
    "sum_bench = @benchmark sum($a)\n",
    "minimum(sum_bench.times)/1e6"
   ]
  },
  {
   "cell_type": "markdown",
   "metadata": {},
   "source": [
    "# 2a. Distributed Computing with DArrays (my favorite for the high level -- I wish it were more complete)"
   ]
  },
  {
   "cell_type": "code",
   "execution_count": 47,
   "metadata": {
    "collapsed": false
   },
   "outputs": [
    {
     "data": {
      "text/plain": [
       "2-element Array{Int64,1}:\n",
       " 2\n",
       " 3"
      ]
     },
     "execution_count": 47,
     "metadata": {},
     "output_type": "execute_result"
    }
   ],
   "source": [
    "workers()"
   ]
  },
  {
   "cell_type": "code",
   "execution_count": 19,
   "metadata": {
    "collapsed": false
   },
   "outputs": [
    {
     "name": "stderr",
     "output_type": "stream",
     "text": [
      "\u001b[1m\u001b[34mINFO: Nothing to be done\n",
      "\u001b[0m\u001b[1m\u001b[34mINFO: METADATA is out-of-date — you may not have the latest version of DistributedArrays\n",
      "\u001b[0m\u001b[1m\u001b[34mINFO: Use `Pkg.update()` to get the latest versions of your packages\n",
      "\u001b[0m"
     ]
    }
   ],
   "source": [
    "Pkg.add(\"DistributedArrays\")\n",
    "using DistributedArrays"
   ]
  },
  {
   "cell_type": "code",
   "execution_count": 48,
   "metadata": {
    "collapsed": false
   },
   "outputs": [
    {
     "data": {
      "text/plain": [
       "2-element Array{Tuple{UnitRange{Int64}},1}:\n",
       " (1:5000000,)       \n",
       " (5000001:10000000,)"
      ]
     },
     "execution_count": 48,
     "metadata": {},
     "output_type": "execute_result"
    }
   ],
   "source": [
    "A = distribute(a)  # one could have used A = drand(10^7) for a parallel constructor\n",
    "A.indexes"
   ]
  },
  {
   "cell_type": "code",
   "execution_count": 54,
   "metadata": {
    "collapsed": false
   },
   "outputs": [
    {
     "data": {
      "text/plain": [
       "1-element Array{Int64,1}:\n",
       " 8"
      ]
     },
     "execution_count": 54,
     "metadata": {},
     "output_type": "execute_result"
    }
   ],
   "source": [
    "addprocs(1)"
   ]
  },
  {
   "cell_type": "code",
   "execution_count": 55,
   "metadata": {
    "collapsed": false
   },
   "outputs": [
    {
     "data": {
      "text/plain": [
       "5-element Array{Int64,1}:\n",
       " 2\n",
       " 3\n",
       " 6\n",
       " 7\n",
       " 8"
      ]
     },
     "execution_count": 55,
     "metadata": {},
     "output_type": "execute_result"
    }
   ],
   "source": [
    "workers() # 2 and 3 are workers  (so in parallel we have two processors)"
   ]
  },
  {
   "cell_type": "code",
   "execution_count": 56,
   "metadata": {
    "collapsed": false
   },
   "outputs": [
    {
     "data": {
      "text/plain": [
       "5-element Array{Int64,1}:\n",
       " 2\n",
       " 3\n",
       " 6\n",
       " 7\n",
       " 8"
      ]
     },
     "execution_count": 56,
     "metadata": {},
     "output_type": "execute_result"
    }
   ],
   "source": [
    "@everywhere using DistributedArrays\n",
    "A = distribute(a)\n",
    "A.indexes\n",
    "A.pids"
   ]
  },
  {
   "cell_type": "code",
   "execution_count": 37,
   "metadata": {
    "collapsed": false
   },
   "outputs": [
    {
     "data": {
      "text/plain": [
       "-9.094947017729282e-13"
      ]
     },
     "execution_count": 37,
     "metadata": {},
     "output_type": "execute_result"
    }
   ],
   "source": [
    "sum(A)-sum(a)"
   ]
  },
  {
   "cell_type": "code",
   "execution_count": 57,
   "metadata": {
    "collapsed": false
   },
   "outputs": [
    {
     "data": {
      "text/plain": [
       "46.829876"
      ]
     },
     "execution_count": 57,
     "metadata": {},
     "output_type": "execute_result"
    }
   ],
   "source": [
    "minimum((@benchmark sum(erf,$A)).times)/1e6"
   ]
  },
  {
   "cell_type": "code",
   "execution_count": 39,
   "metadata": {
    "collapsed": false
   },
   "outputs": [
    {
     "data": {
      "text/plain": [
       "1-element Array{Int64,1}:\n",
       " 5"
      ]
     },
     "execution_count": 39,
     "metadata": {},
     "output_type": "execute_result"
    }
   ],
   "source": [
    "addprocs(1)"
   ]
  },
  {
   "cell_type": "code",
   "execution_count": 40,
   "metadata": {
    "collapsed": false
   },
   "outputs": [
    {
     "data": {
      "text/plain": [
       "4-element Array{Int64,1}:\n",
       " 2\n",
       " 3\n",
       " 4\n",
       " 5"
      ]
     },
     "execution_count": 40,
     "metadata": {},
     "output_type": "execute_result"
    }
   ],
   "source": [
    "workers()"
   ]
  },
  {
   "cell_type": "code",
   "execution_count": 41,
   "metadata": {
    "collapsed": true
   },
   "outputs": [],
   "source": [
    "@everywhere using DistributedArrays"
   ]
  },
  {
   "cell_type": "code",
   "execution_count": 42,
   "metadata": {
    "collapsed": false
   },
   "outputs": [
    {
     "data": {
      "text/plain": [
       "0.0"
      ]
     },
     "execution_count": 42,
     "metadata": {},
     "output_type": "execute_result"
    }
   ],
   "source": [
    "A = distribute(a)  # one could have used A = drand(10^7) for a parallel constructor\n",
    "sum(A) - sum(a)"
   ]
  },
  {
   "cell_type": "code",
   "execution_count": 43,
   "metadata": {
    "collapsed": false
   },
   "outputs": [
    {
     "data": {
      "text/plain": [
       "4-element Array{Tuple{UnitRange{Int64}},1}:\n",
       " (1:2500000,)       \n",
       " (2500001:5000000,) \n",
       " (5000001:7500000,) \n",
       " (7500001:10000000,)"
      ]
     },
     "execution_count": 43,
     "metadata": {},
     "output_type": "execute_result"
    }
   ],
   "source": [
    "A.indexes"
   ]
  },
  {
   "cell_type": "code",
   "execution_count": 44,
   "metadata": {
    "collapsed": false
   },
   "outputs": [
    {
     "data": {
      "text/plain": [
       "2.136494"
      ]
     },
     "execution_count": 44,
     "metadata": {},
     "output_type": "execute_result"
    }
   ],
   "source": [
    "minimum((@benchmark sum($A)).times)/1e6"
   ]
  },
  {
   "cell_type": "code",
   "execution_count": 21,
   "metadata": {
    "collapsed": false
   },
   "outputs": [
    {
     "data": {
      "text/plain": [
       "4-element Array{Int64,1}:\n",
       " 2\n",
       " 3\n",
       " 4\n",
       " 5"
      ]
     },
     "execution_count": 21,
     "metadata": {},
     "output_type": "execute_result"
    }
   ],
   "source": [
    "#addprocs(1)\n",
    "workers()"
   ]
  },
  {
   "cell_type": "code",
   "execution_count": 22,
   "metadata": {
    "collapsed": false
   },
   "outputs": [],
   "source": [
    "@everywhere using DistributedArrays"
   ]
  },
  {
   "cell_type": "code",
   "execution_count": 23,
   "metadata": {
    "collapsed": false
   },
   "outputs": [
    {
     "data": {
      "text/plain": [
       "0.0"
      ]
     },
     "execution_count": 23,
     "metadata": {},
     "output_type": "execute_result"
    }
   ],
   "source": [
    "A = distribute(a)  # one could have used A = drand(10^7) for a parallel constructor\n",
    "sum(A) - sum(a)"
   ]
  },
  {
   "cell_type": "code",
   "execution_count": 24,
   "metadata": {
    "collapsed": false
   },
   "outputs": [
    {
     "data": {
      "text/plain": [
       "2.079622"
      ]
     },
     "execution_count": 24,
     "metadata": {},
     "output_type": "execute_result"
    }
   ],
   "source": [
    "minimum((@benchmark sum($A)).times)/1e6"
   ]
  },
  {
   "cell_type": "code",
   "execution_count": 38,
   "metadata": {
    "collapsed": true
   },
   "outputs": [],
   "source": [
    "@everywhere using DistributedArrays"
   ]
  },
  {
   "cell_type": "code",
   "execution_count": 39,
   "metadata": {
    "collapsed": false
   },
   "outputs": [
    {
     "data": {
      "text/plain": [
       "0.0"
      ]
     },
     "execution_count": 39,
     "metadata": {},
     "output_type": "execute_result"
    }
   ],
   "source": [
    "A = distribute(a)  # one could have used A = drand(10^7) for a parallel constructor\n",
    "sum(A) - sum(a)"
   ]
  },
  {
   "cell_type": "code",
   "execution_count": 40,
   "metadata": {
    "collapsed": false
   },
   "outputs": [
    {
     "data": {
      "text/plain": [
       "4.166501"
      ]
     },
     "execution_count": 40,
     "metadata": {},
     "output_type": "execute_result"
    }
   ],
   "source": [
    "minimum((@benchmark sum($A)).times)/1e6"
   ]
  },
  {
   "cell_type": "code",
   "execution_count": 37,
   "metadata": {
    "collapsed": false
   },
   "outputs": [
    {
     "data": {
      "text/plain": [
       "\"10000000-element DistributedArrays.DArray{Float64,1,Array{Float64,1}}\""
      ]
     },
     "execution_count": 37,
     "metadata": {},
     "output_type": "execute_result"
    }
   ],
   "source": [
    "summary(A)"
   ]
  },
  {
   "cell_type": "code",
   "execution_count": 41,
   "metadata": {
    "collapsed": false
   },
   "outputs": [
    {
     "data": {
      "text/html": [
       "sum(d::<b>DistributedArrays.DArray</b>) at <a href=\"https://github.com/JuliaParallel/DistributedArrays.jl/tree/d68911be5c661488e61524bee5815314306c29f9/src/mapreduce.jl#L127\" target=\"_blank\">/Users/edelman/.julia/v0.5/DistributedArrays/src/mapreduce.jl:127</a>"
      ],
      "text/plain": [
       "sum(d::DistributedArrays.DArray) at /Users/edelman/.julia/v0.5/DistributedArrays/src/mapreduce.jl:127"
      ]
     },
     "execution_count": 41,
     "metadata": {},
     "output_type": "execute_result"
    }
   ],
   "source": [
    "@which sum(A)"
   ]
  },
  {
   "cell_type": "code",
   "execution_count": 42,
   "metadata": {
    "collapsed": false
   },
   "outputs": [
    {
     "data": {
      "text/html": [
       "reduce(f, d::<b>DistributedArrays.DArray</b>) at <a href=\"https://github.com/JuliaParallel/DistributedArrays.jl/tree/d68911be5c661488e61524bee5815314306c29f9/src/mapreduce.jl#L9\" target=\"_blank\">/Users/edelman/.julia/v0.5/DistributedArrays/src/mapreduce.jl:9</a>"
      ],
      "text/plain": [
       "reduce(f, d::DistributedArrays.DArray) at /Users/edelman/.julia/v0.5/DistributedArrays/src/mapreduce.jl:9"
      ]
     },
     "execution_count": 42,
     "metadata": {},
     "output_type": "execute_result"
    }
   ],
   "source": [
    "@which reduce(+,A)"
   ]
  },
  {
   "cell_type": "code",
   "execution_count": 63,
   "metadata": {
    "collapsed": false
   },
   "outputs": [
    {
     "data": {
      "text/plain": [
       "100×100 DistributedArrays.DArray{Float64,2,Array{Float64,2}}:\n",
       " 0.27791   0.177413   0.711481   …  0.843845   0.0591269  0.272526 \n",
       " 0.510093  0.182837   0.717953      0.352107   0.752599   0.711208 \n",
       " 0.537597  0.47745    0.14142       0.255281   0.317744   0.554741 \n",
       " 0.219325  0.831272   0.57554       0.0914628  0.487207   0.0531971\n",
       " 0.534443  0.902926   0.671107      0.83575    0.0684562  0.0141652\n",
       " 0.679946  0.304921   0.880249   …  0.180632   0.499286   0.574564 \n",
       " 0.379231  0.62809    0.93864       0.55027    0.834998   0.958946 \n",
       " 0.522919  0.13938    0.312957      0.213637   0.736627   0.327509 \n",
       " 0.218729  0.435756   0.339414      0.0056295  0.220626   0.111073 \n",
       " 0.949105  0.692698   0.239087      0.700097   0.866414   0.232658 \n",
       " 0.805017  0.697718   0.9807     …  0.773541   0.610682   0.933739 \n",
       " 0.184824  0.46412    0.372953      0.994141   0.0318437  0.618643 \n",
       " 0.844153  0.183974   0.848029      0.247056   0.521273   0.445762 \n",
       " ⋮                               ⋱                                 \n",
       " 0.905584  0.774285   0.0861365     0.835262   0.946375   0.53336  \n",
       " 0.989515  0.3994     0.139488      0.497253   0.0976393  0.122346 \n",
       " 0.846297  0.896806   0.192381   …  0.320331   0.256263   0.912339 \n",
       " 0.599973  0.83131    0.322194      0.783394   0.417168   0.915496 \n",
       " 0.397971  0.943561   0.14226       0.854577   0.875042   0.621554 \n",
       " 0.673124  0.0382777  0.443266      0.433863   0.710867   0.807322 \n",
       " 0.576411  0.501218   0.619081      0.512522   0.829857   0.0679917\n",
       " 0.679631  0.412083   0.819523   …  0.0398806  0.55619    0.395912 \n",
       " 0.907785  0.847907   0.0537804     0.750143   0.594832   0.65659  \n",
       " 0.445509  0.633939   0.902835      0.858228   0.835065   0.0475142\n",
       " 0.730569  0.702859   0.0291595     0.87791    0.041637   0.568292 \n",
       " 0.495548  0.131928   0.630411      0.959948   0.617007   0.958457 "
      ]
     },
     "execution_count": 63,
     "metadata": {},
     "output_type": "execute_result"
    }
   ],
   "source": [
    "A = drand(100,100)"
   ]
  },
  {
   "cell_type": "code",
   "execution_count": 107,
   "metadata": {
    "collapsed": false
   },
   "outputs": [
    {
     "data": {
      "text/html": [
       "reduce(f, d::<b>DistributedArrays.DArray</b>) at <a href=\"https://github.com/JuliaParallel/DistributedArrays.jl/tree/d68911be5c661488e61524bee5815314306c29f9/src/mapreduce.jl#L9\" target=\"_blank\">/Users/alanedelman/.julia/v0.5/DistributedArrays/src/mapreduce.jl:9</a>"
      ],
      "text/plain": [
       "reduce(f, d::DistributedArrays.DArray) at /Users/alanedelman/.julia/v0.5/DistributedArrays/src/mapreduce.jl:9"
      ]
     },
     "execution_count": 107,
     "metadata": {},
     "output_type": "execute_result"
    }
   ],
   "source": [
    "@which reduce(+,r)"
   ]
  },
  {
   "cell_type": "markdown",
   "metadata": {},
   "source": [
    "## 2b. How do we implement DArray functionality?  Answer: Bootstrap from serial functionality."
   ]
  },
  {
   "cell_type": "code",
   "execution_count": 25,
   "metadata": {
    "collapsed": false
   },
   "outputs": [
    {
     "data": {
      "text/plain": [
       "10000000-element DistributedArrays.DArray{Float64,1,Array{Float64,1}}:\n",
       " 0.844815 \n",
       " 0.0706291\n",
       " 0.244676 \n",
       " 0.257673 \n",
       " 0.850414 \n",
       " 0.738974 \n",
       " 0.594129 \n",
       " 0.585809 \n",
       " 0.245183 \n",
       " 0.249112 \n",
       " 0.0265877\n",
       " 0.180143 \n",
       " 0.355788 \n",
       " ⋮        \n",
       " 0.119152 \n",
       " 0.687844 \n",
       " 0.987118 \n",
       " 0.0716491\n",
       " 0.150896 \n",
       " 0.29818  \n",
       " 0.515473 \n",
       " 0.661692 \n",
       " 0.795226 \n",
       " 0.931143 \n",
       " 0.452085 \n",
       " 0.175229 "
      ]
     },
     "execution_count": 25,
     "metadata": {},
     "output_type": "execute_result"
    }
   ],
   "source": [
    "#@everywhere using DistributedArrays\n",
    "A = drand(10^7)"
   ]
  },
  {
   "cell_type": "code",
   "execution_count": 5,
   "metadata": {
    "collapsed": false
   },
   "outputs": [
    {
     "data": {
      "text/plain": [
       "10000000-element Array{Float64,1}:\n",
       " 0.404224  \n",
       " 0.697706  \n",
       " 0.376151  \n",
       " 0.238845  \n",
       " 0.0161963 \n",
       " 0.187521  \n",
       " 0.951739  \n",
       " 0.569651  \n",
       " 0.607052  \n",
       " 0.750241  \n",
       " 0.00569606\n",
       " 0.694259  \n",
       " 0.213993  \n",
       " ⋮         \n",
       " 0.64419   \n",
       " 0.0347608 \n",
       " 0.868681  \n",
       " 0.360796  \n",
       " 0.589133  \n",
       " 0.00117402\n",
       " 0.469419  \n",
       " 0.933901  \n",
       " 0.0584435 \n",
       " 0.0569092 \n",
       " 0.32551   \n",
       " 0.67888   "
      ]
     },
     "execution_count": 5,
     "metadata": {},
     "output_type": "execute_result"
    }
   ],
   "source": [
    "a = convert( Array{Float64,1} , A)"
   ]
  },
  {
   "cell_type": "code",
   "execution_count": 108,
   "metadata": {
    "collapsed": false
   },
   "outputs": [
    {
     "data": {
      "text/plain": [
       "1×5 Array{Float64,2}:\n",
       " 9.43521  9.43521  9.43521  9.43521  9.43521"
      ]
     },
     "metadata": {},
     "output_type": "display_data"
    },
    {
     "data": {
      "text/plain": [
       "47.176045364618474"
      ]
     },
     "execution_count": 108,
     "metadata": {},
     "output_type": "execute_result"
    }
   ],
   "source": [
    "# Simulated Parallel Algorithm\n",
    "s = sum.([a[i[1]] for i in A.indexes]) \n",
    "display(s)\n",
    "sum(s)"
   ]
  },
  {
   "cell_type": "code",
   "execution_count": 33,
   "metadata": {
    "collapsed": false
   },
   "outputs": [],
   "source": [
    "# Actual Parallel Algorithm"
   ]
  },
  {
   "cell_type": "code",
   "execution_count": 109,
   "metadata": {
    "collapsed": false
   },
   "outputs": [
    {
     "data": {
      "text/plain": [
       "1003.7170495398932"
      ]
     },
     "metadata": {},
     "output_type": "display_data"
    },
    {
     "data": {
      "text/plain": [
       "997.9600772256404"
      ]
     },
     "metadata": {},
     "output_type": "display_data"
    },
    {
     "data": {
      "text/plain": [
       "985.5766073717534"
      ]
     },
     "metadata": {},
     "output_type": "display_data"
    },
    {
     "data": {
      "text/plain": [
       "1009.2011500182504"
      ]
     },
     "metadata": {},
     "output_type": "display_data"
    },
    {
     "data": {
      "text/plain": [
       "1011.0772280407479"
      ]
     },
     "metadata": {},
     "output_type": "display_data"
    }
   ],
   "source": [
    "for p in A.pids\n",
    "    display(fetch(@spawnat p sum(localpart(A))))\n",
    "end"
   ]
  },
  {
   "cell_type": "code",
   "execution_count": 117,
   "metadata": {
    "collapsed": false
   },
   "outputs": [
    {
     "name": "stdout",
     "output_type": "stream",
     "text": [
      "[1009.2,1003.72,985.577,1011.08,997.96]\n"
     ]
    },
    {
     "data": {
      "text/plain": [
       "5007.532112196285"
      ]
     },
     "execution_count": 117,
     "metadata": {},
     "output_type": "execute_result"
    }
   ],
   "source": [
    "results = Float64[]\n",
    "@sync for p in A.pids\n",
    "     @async push!(results, fetch(@spawnat p sum(localpart(A))))\n",
    "end\n",
    "\n",
    "println(results)\n",
    "sum(results)"
   ]
  },
  {
   "cell_type": "code",
   "execution_count": 25,
   "metadata": {
    "collapsed": false
   },
   "outputs": [
    {
     "data": {
      "text/plain": [
       "5.000864179629135e6"
      ]
     },
     "execution_count": 25,
     "metadata": {},
     "output_type": "execute_result"
    }
   ],
   "source": [
    "sum(a)"
   ]
  },
  {
   "cell_type": "code",
   "execution_count": 27,
   "metadata": {
    "collapsed": false
   },
   "outputs": [
    {
     "data": {
      "text/plain": [
       "0.288655919036807"
      ]
     },
     "execution_count": 27,
     "metadata": {},
     "output_type": "execute_result"
    }
   ],
   "source": [
    "std(A)"
   ]
  },
  {
   "cell_type": "code",
   "execution_count": 28,
   "metadata": {
    "collapsed": false
   },
   "outputs": [
    {
     "data": {
      "text/plain": [
       "0.5000864179629134"
      ]
     },
     "execution_count": 28,
     "metadata": {},
     "output_type": "execute_result"
    }
   ],
   "source": [
    "mean(A)"
   ]
  },
  {
   "cell_type": "code",
   "execution_count": 29,
   "metadata": {
    "collapsed": true
   },
   "outputs": [],
   "source": [
    "# What about a histogram?"
   ]
  },
  {
   "cell_type": "code",
   "execution_count": 35,
   "metadata": {
    "collapsed": false
   },
   "outputs": [
    {
     "name": "stderr",
     "output_type": "stream",
     "text": [
      "\u001b[1m\u001b[34mINFO: Nothing to be done\n",
      "\u001b[0m\u001b[1m\u001b[34mINFO: METADATA is out-of-date — you may not have the latest version of StatsBase\n",
      "\u001b[0m\u001b[1m\u001b[34mINFO: Use `Pkg.update()` to get the latest versions of your packages\n",
      "\u001b[0m"
     ]
    }
   ],
   "source": [
    "Pkg.add(\"StatsBase\")\n",
    "using StatsBase"
   ]
  },
  {
   "cell_type": "code",
   "execution_count": 67,
   "metadata": {
    "collapsed": false
   },
   "outputs": [
    {
     "data": {
      "image/png": "[encoded data removed]",
      "text/plain": [
       "PyPlot.Figure(PyObject <matplotlib.figure.Figure object at 0x327d2cfd0>)"
      ]
     },
     "metadata": {},
     "output_type": "display_data"
    },
    {
     "data": {
      "text/plain": [
       "(PyObject <matplotlib.patches.Rectangle object at 0x328253050>,PyObject <matplotlib.patches.Rectangle object at 0x328253690>,PyObject <matplotlib.patches.Rectangle object at 0x328253d10>,PyObject <matplotlib.patches.Rectangle object at 0x3282603d0>,PyObject <matplotlib.patches.Rectangle object at 0x328260a50>,PyObject <matplotlib.patches.Rectangle object at 0x328260f50>,PyObject <matplotlib.patches.Rectangle object at 0x32826c790>,PyObject <matplotlib.patches.Rectangle object at 0x32826ce10>,PyObject <matplotlib.patches.Rectangle object at 0x3282784d0>,PyObject <matplotlib.patches.Rectangle object at 0x328278b50>,PyObject <matplotlib.patches.Rectangle object at 0x328286210>,PyObject <matplotlib.patches.Rectangle object at 0x328286890>,PyObject <matplotlib.patches.Rectangle object at 0x328286f10>,PyObject <matplotlib.patches.Rectangle object at 0x3282915d0>,PyObject <matplotlib.patches.Rectangle object at 0x328291c50>,PyObject <matplotlib.patches.Rectangle object at 0x32829e310>,PyObject <matplotlib.patches.Rectangle object at 0x32829e990>,PyObject <matplotlib.patches.Rectangle object at 0x32829ee90>,PyObject <matplotlib.patches.Rectangle object at 0x3282ab6d0>,PyObject <matplotlib.patches.Rectangle object at 0x3282abd50>)"
      ]
     },
     "execution_count": 67,
     "metadata": {},
     "output_type": "execute_result"
    }
   ],
   "source": [
    "w = fit(Histogram, rand(3000), 0:0.05:1.0).weights\n",
    "bar(0:.05:.95,w,.05)"
   ]
  },
  {
   "cell_type": "code",
   "execution_count": 49,
   "metadata": {
    "collapsed": false
   },
   "outputs": [],
   "source": [
    "using PyPlot"
   ]
  },
  {
   "cell_type": "code",
   "execution_count": 63,
   "metadata": {
    "collapsed": false
   },
   "outputs": [
    {
     "data": {
      "image/png": "[encoded data removed]",
      "text/plain": [
       "PyPlot.Figure(PyObject <matplotlib.figure.Figure object at 0x326a57d10>)"
      ]
     },
     "metadata": {},
     "output_type": "display_data"
    },
    {
     "data": {
      "text/plain": [
       "(PyObject <matplotlib.patches.Rectangle object at 0x32794fc10>,PyObject <matplotlib.patches.Rectangle object at 0x32795b290>)"
      ]
     },
     "execution_count": 63,
     "metadata": {},
     "output_type": "execute_result"
    }
   ],
   "source": []
  },
  {
   "cell_type": "code",
   "execution_count": 75,
   "metadata": {
    "collapsed": false
   },
   "outputs": [
    {
     "name": "stderr",
     "output_type": "stream",
     "text": [
      "WARNING: Method definition w1(Any) in module Main at In[74]:3 overwritten at In[75]:3.\n",
      "WARNING: Method definition w1(Any) in module Main at In[74]:3 overwritten at In[75]:3.\n",
      "WARNING: Method definition w1(Any) in module Main at In[74]:3 overwritten at In[75]:3.\n",
      "WARNING: Method definition w1(Any) in module Main at In[74]:3 overwritten at In[75]:3.\n",
      "WARNING: Method definition w1(Any) in module Main at In[74]:3 overwritten at In[75]:3.\n"
     ]
    },
    {
     "data": {
      "text/plain": [
       "20-element Array{Int64,1}:\n",
       " 4999961\n",
       " 4999755\n",
       " 5000471\n",
       " 4998540\n",
       " 5000051\n",
       " 4998667\n",
       " 4999459\n",
       " 4999721\n",
       " 4996973\n",
       " 4999831\n",
       " 5002576\n",
       " 5001157\n",
       " 5001331\n",
       " 4999327\n",
       " 4999012\n",
       " 4999832\n",
       " 5003440\n",
       " 5001896\n",
       " 4998734\n",
       " 4999266"
      ]
     },
     "execution_count": 75,
     "metadata": {},
     "output_type": "execute_result"
    }
   ],
   "source": [
    "A = drand(10^8)\n",
    "@everywhere using StatsBase\n",
    "@everywhere w1(x) = fit(Histogram,x,0:0.05:1.0).weights\n",
    "results = Array{Int64,1}[]\n",
    "@sync for p in A.pids\n",
    "    @async push!(results, fetch(@spawnat p w1(localpart(A))))\n",
    "end\n",
    "sum(results)"
   ]
  },
  {
   "cell_type": "code",
   "execution_count": 69,
   "metadata": {
    "collapsed": false
   },
   "outputs": [
    {
     "data": {
      "text/plain": [
       "5"
      ]
     },
     "execution_count": 69,
     "metadata": {},
     "output_type": "execute_result"
    }
   ],
   "source": [
    "nprocs()"
   ]
  },
  {
   "cell_type": "markdown",
   "metadata": {},
   "source": [
    "## 3. @parallel  (looks like a \"for loop\", data starts and ends on master)\n",
    "\n",
    "The history of Julia includes a \"back and forth\" between \"for loop\" notation and vectorized\n",
    "notation.  The truth is, for some problems, one or the other, or both could be more natural,\n",
    "or more performant, but not for the old reasons of dynamic languages where \"for loops\" were\n",
    "always to be avoided."
   ]
  },
  {
   "cell_type": "code",
   "execution_count": 121,
   "metadata": {
    "collapsed": false
   },
   "outputs": [
    {
     "name": "stderr",
     "output_type": "stream",
     "text": [
      "WARNING: Method definition foo(Any) in module Main at In[120]:1 overwritten at In[121]:1.\n"
     ]
    },
    {
     "data": {
      "text/plain": [
       "foo (generic function with 1 method)"
      ]
     },
     "execution_count": 121,
     "metadata": {},
     "output_type": "execute_result"
    }
   ],
   "source": [
    " foo(a)=\n",
    "@parallel (+) for aa in a\n",
    "    aa # this could be a more complicated statistic\n",
    "end"
   ]
  },
  {
   "cell_type": "code",
   "execution_count": 123,
   "metadata": {
    "collapsed": false
   },
   "outputs": [
    {
     "data": {
      "text/plain": [
       "10000000-element Array{Float64,1}:\n",
       "  1.36558   \n",
       "  0.00370977\n",
       " -0.758253  \n",
       " -0.314925  \n",
       " -0.931887  \n",
       " -0.466254  \n",
       " -1.46073   \n",
       "  0.339821  \n",
       " -0.179909  \n",
       "  0.723463  \n",
       " -0.43038   \n",
       " -1.39323   \n",
       "  0.601403  \n",
       "  ⋮         \n",
       "  0.456856  \n",
       "  0.160095  \n",
       "  0.481282  \n",
       " -0.781246  \n",
       " -0.499679  \n",
       "  1.86623   \n",
       " -0.40185   \n",
       " -0.895632  \n",
       "  1.00465   \n",
       "  0.77694   \n",
       "  1.55936   \n",
       " -0.336109  "
      ]
     },
     "execution_count": 123,
     "metadata": {},
     "output_type": "execute_result"
    }
   ],
   "source": [
    "a"
   ]
  },
  {
   "cell_type": "code",
   "execution_count": 122,
   "metadata": {
    "collapsed": false
   },
   "outputs": [
    {
     "data": {
      "text/plain": [
       "BenchmarkTools.Trial: \n",
       "  memory estimate:  57.48 kb\n",
       "  allocs estimate:  601\n",
       "  --------------\n",
       "  minimum time:     113.918 ms (0.00% GC)\n",
       "  median time:      118.295 ms (0.00% GC)\n",
       "  mean time:        118.600 ms (0.00% GC)\n",
       "  maximum time:     137.104 ms (0.00% GC)\n",
       "  --------------\n",
       "  samples:          43\n",
       "  evals/sample:     1\n",
       "  time tolerance:   5.00%\n",
       "  memory tolerance: 1.00%"
      ]
     },
     "execution_count": 122,
     "metadata": {},
     "output_type": "execute_result"
    }
   ],
   "source": [
    "@benchmark foo($a)\n"
   ]
  },
  {
   "cell_type": "code",
   "execution_count": 28,
   "metadata": {
    "collapsed": false
   },
   "outputs": [],
   "source": [
    "@everywhere randstat(n) = maximum(eigvals(SymTridiagonal(randn(n),randn(n-1))))"
   ]
  },
  {
   "cell_type": "code",
   "execution_count": 87,
   "metadata": {
    "collapsed": false
   },
   "outputs": [
    {
     "data": {
      "text/plain": [
       "3-element Array{Int64,1}:\n",
       " 2\n",
       " 3\n",
       " 4"
      ]
     },
     "execution_count": 87,
     "metadata": {},
     "output_type": "execute_result"
    }
   ],
   "source": [
    "workers()"
   ]
  },
  {
   "cell_type": "code",
   "execution_count": 29,
   "metadata": {
    "collapsed": false
   },
   "outputs": [
    {
     "data": {
      "text/plain": [
       "BenchmarkTools.Trial: \n",
       "  memory estimate:  45.47 kb\n",
       "  allocs estimate:  580\n",
       "  --------------\n",
       "  minimum time:     414.461 ms (0.00% GC)\n",
       "  median time:      416.580 ms (0.00% GC)\n",
       "  mean time:        417.545 ms (0.00% GC)\n",
       "  maximum time:     424.996 ms (0.00% GC)\n",
       "  --------------\n",
       "  samples:          12\n",
       "  evals/sample:     1\n",
       "  time tolerance:   5.00%\n",
       "  memory tolerance: 1.00%"
      ]
     },
     "execution_count": 29,
     "metadata": {},
     "output_type": "execute_result"
    }
   ],
   "source": [
    "@benchmark @parallel (+) for i in 1:250\n",
    "    randstat(500) \n",
    "end"
   ]
  },
  {
   "cell_type": "code",
   "execution_count": 30,
   "metadata": {
    "collapsed": false
   },
   "outputs": [
    {
     "data": {
      "text/plain": [
       "BenchmarkTools.Trial: \n",
       "  memory estimate:  166.86 kb\n",
       "  allocs estimate:  2491\n",
       "  --------------\n",
       "  minimum time:     414.413 ms (0.00% GC)\n",
       "  median time:      417.328 ms (0.00% GC)\n",
       "  mean time:        419.344 ms (0.00% GC)\n",
       "  maximum time:     430.229 ms (0.00% GC)\n",
       "  --------------\n",
       "  samples:          12\n",
       "  evals/sample:     1\n",
       "  time tolerance:   5.00%\n",
       "  memory tolerance: 1.00%"
      ]
     },
     "execution_count": 30,
     "metadata": {},
     "output_type": "execute_result"
    }
   ],
   "source": [
    "@benchmark mapreduce(randstat,+,500*dones(Int,250))"
   ]
  },
  {
   "cell_type": "markdown",
   "metadata": {},
   "source": [
    "## 4. MPI is possible for the die-hards and also some libraries"
   ]
  },
  {
   "cell_type": "markdown",
   "metadata": {
    "collapsed": false
   },
   "source": [
    "(See separate notebook)"
   ]
  },
  {
   "cell_type": "markdown",
   "metadata": {
    "collapsed": true
   },
   "source": [
    "## 5. Threads under development"
   ]
  },
  {
   "cell_type": "code",
   "execution_count": 7,
   "metadata": {
    "collapsed": false
   },
   "outputs": [
    {
     "name": "stderr",
     "output_type": "stream",
     "text": [
      "WARNING: Method definition sim(Any) in module Main at In[5]:2 overwritten at In[7]:2.\n",
      "WARNING: Method definition sim(Any, Any) in module Main at In[5]:2 overwritten at In[7]:2.\n"
     ]
    },
    {
     "data": {
      "text/plain": [
       "sim (generic function with 2 methods)"
      ]
     },
     "execution_count": 7,
     "metadata": {},
     "output_type": "execute_result"
    }
   ],
   "source": [
    "function sim(n, seed = rand(UInt))\n",
    "    nt = Threads.nthreads()\n",
    "    ra = zeros(nt)\n",
    "    Threads.@threads for i in 1:nt\n",
    "        id   = Threads.threadid()\n",
    "        rng  = MersenneTwister(id + seed)\n",
    "        d, r = divrem(n, Threads.nthreads())\n",
    "        bs = d + (r > 0)\n",
    "        if id == nt\n",
    "            bs = n - (nt - 1)*bs\n",
    "        end\n",
    "        ra[id] = sum(rand(rng, bs))\n",
    "    end\n",
    "    return sum(ra)\n",
    "end"
   ]
  },
  {
   "cell_type": "code",
   "execution_count": 12,
   "metadata": {
    "collapsed": false
   },
   "outputs": [
    {
     "data": {
      "text/plain": [
       "BenchmarkTools.Trial: \n",
       "  memory estimate:  76.30 mb\n",
       "  allocs estimate:  14\n",
       "  --------------\n",
       "  minimum time:     30.899 ms (24.22% GC)\n",
       "  median time:      31.950 ms (23.90% GC)\n",
       "  mean time:        32.455 ms (24.68% GC)\n",
       "  maximum time:     76.777 ms (68.97% GC)\n",
       "  --------------\n",
       "  samples:          155\n",
       "  evals/sample:     1\n",
       "  time tolerance:   5.00%\n",
       "  memory tolerance: 1.00%"
      ]
     },
     "execution_count": 12,
     "metadata": {},
     "output_type": "execute_result"
    }
   ],
   "source": [
    "@benchmark sim(10^7)"
   ]
  },
  {
   "cell_type": "code",
   "execution_count": 22,
   "metadata": {
    "collapsed": false
   },
   "outputs": [
    {
     "name": "stderr",
     "output_type": "stream",
     "text": [
      "WARNING: Method definition sim2(Any) in module Main at In[20]:2 overwritten at In[22]:2.\n"
     ]
    },
    {
     "data": {
      "text/plain": [
       "sim2 (generic function with 1 method)"
      ]
     },
     "execution_count": 22,
     "metadata": {},
     "output_type": "execute_result"
    }
   ],
   "source": [
    "function sim2(a)\n",
    "    nt = Threads.nthreads()\n",
    "    return sum(a)\n",
    "end"
   ]
  },
  {
   "cell_type": "code",
   "execution_count": 23,
   "metadata": {
    "collapsed": false
   },
   "outputs": [
    {
     "data": {
      "text/plain": [
       "BenchmarkTools.Trial: \n",
       "  memory estimate:  16.00 bytes\n",
       "  allocs estimate:  1\n",
       "  --------------\n",
       "  minimum time:     4.637 ms (0.00% GC)\n",
       "  median time:      4.922 ms (0.00% GC)\n",
       "  mean time:        5.010 ms (0.00% GC)\n",
       "  maximum time:     6.658 ms (0.00% GC)\n",
       "  --------------\n",
       "  samples:          997\n",
       "  evals/sample:     1\n",
       "  time tolerance:   5.00%\n",
       "  memory tolerance: 1.00%"
      ]
     },
     "execution_count": 23,
     "metadata": {},
     "output_type": "execute_result"
    }
   ],
   "source": [
    "a =  rand(10^7)\n",
    "@benchmark sim2(a)"
   ]
  },
  {
   "cell_type": "code",
   "execution_count": 19,
   "metadata": {
    "collapsed": false
   },
   "outputs": [
    {
     "data": {
      "text/plain": [
       "1-element Array{Int64,1}:\n",
       " 1"
      ]
     },
     "execution_count": 19,
     "metadata": {},
     "output_type": "execute_result"
    }
   ],
   "source": [
    "workers()"
   ]
  },
  {
   "cell_type": "markdown",
   "metadata": {
    "collapsed": true
   },
   "source": [
    "## 6.  GPU Libraries using ArrayFire"
   ]
  },
  {
   "cell_type": "markdown",
   "metadata": {},
   "source": [
    "Step 1. Follow directions in https://github.com/JuliaComputing/ArrayFire.jl from a terminal to load arrayfire on your machine."
   ]
  },
  {
   "cell_type": "code",
   "execution_count": null,
   "metadata": {
    "collapsed": true
   },
   "outputs": [],
   "source": []
  }
 ],
 "metadata": {
  "kernelspec": {
   "display_name": "Julia 0.5.0",
   "language": "julia",
   "name": "julia-0.5"
  },
  "language_info": {
   "file_extension": ".jl",
   "mimetype": "application/julia",
   "name": "julia",
   "version": "0.5.0"
  }
 },
 "nbformat": 4,
 "nbformat_minor": 1
}
