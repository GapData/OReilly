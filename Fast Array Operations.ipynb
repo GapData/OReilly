{
 "cells": [
  {
   "cell_type": "markdown",
   "metadata": {},
   "source": [
    "### Fast Array Operations\n",
    "\n",
    "#### Broadcasts and Maps are great!\n",
    "\n",
    "To apply the anonymous function (x)->x^2 to each element,"
   ]
  },
  {
   "cell_type": "code",
   "execution_count": 2,
   "metadata": {
    "collapsed": false
   },
   "outputs": [
    {
     "data": {
      "text/plain": [
       "5-element Array{Int64,1}:\n",
       "  1\n",
       "  4\n",
       "  9\n",
       " 16\n",
       " 25"
      ]
     },
     "execution_count": 2,
     "metadata": {},
     "output_type": "execute_result"
    }
   ],
   "source": [
    "map((x)->x^2,1:5)"
   ]
  },
  {
   "cell_type": "markdown",
   "metadata": {},
   "source": [
    "If we need to add a vector to each column of a matrix, we can use `broadcast`. This is useful to perform element-wise operations on arrays of different sizes."
   ]
  },
  {
   "cell_type": "code",
   "execution_count": 4,
   "metadata": {
    "collapsed": false
   },
   "outputs": [
    {
     "data": {
      "text/plain": [
       "5×2 Array{Int64,2}:\n",
       "  2   3\n",
       "  5   6\n",
       "  8   9\n",
       " 11  12\n",
       " 14  15"
      ]
     },
     "execution_count": 4,
     "metadata": {},
     "output_type": "execute_result"
    }
   ],
   "source": [
    "A = 1:5 # Acts like a column vector, Julia is \"column-major\" so columns come first\n",
    "B = [1 2\n",
    "     3 4\n",
    "     5 6\n",
    "     7 8\n",
    "     9 10]\n",
    "broadcast(+,A,B)"
   ]
  },
  {
   "cell_type": "code",
   "execution_count": 7,
   "metadata": {
    "collapsed": false
   },
   "outputs": [
    {
     "data": {
      "text/plain": [
       "5-element Array{Int64,1}:\n",
       "  2\n",
       "  6\n",
       " 12\n",
       " 20\n",
       " 30"
      ]
     },
     "execution_count": 7,
     "metadata": {},
     "output_type": "execute_result"
    }
   ],
   "source": [
    "A = 1:5\n",
    "B = [2;3;4;5;6]\n",
    "A.*B"
   ]
  },
  {
   "cell_type": "code",
   "execution_count": 8,
   "metadata": {
    "collapsed": false
   },
   "outputs": [
    {
     "data": {
      "text/plain": [
       "5-element Array{Int64,1}:\n",
       "  6\n",
       " 24\n",
       " 60\n",
       " 40\n",
       " 30"
      ]
     },
     "execution_count": 8,
     "metadata": {},
     "output_type": "execute_result"
    }
   ],
   "source": [
    "C = [3;4;5;2;1]\n",
    "A.*B.*C"
   ]
  },
  {
   "cell_type": "code",
   "execution_count": 9,
   "metadata": {
    "collapsed": false
   },
   "outputs": [
    {
     "data": {
      "text/plain": [
       "5-element Array{Int64,1}:\n",
       "  6\n",
       " 24\n",
       " 60\n",
       " 40\n",
       " 30"
      ]
     },
     "execution_count": 9,
     "metadata": {},
     "output_type": "execute_result"
    }
   ],
   "source": [
    "broadcast((x,y,z)->x*y*z,A,B,C)"
   ]
  },
  {
   "cell_type": "markdown",
   "metadata": {},
   "source": [
    "because all array-based math uses this broadcasting syntax with a ., Julia can fuse the broadcasts on all sorts of mathematical expressions on arrays"
   ]
  },
  {
   "cell_type": "code",
   "execution_count": 10,
   "metadata": {
    "collapsed": false
   },
   "outputs": [
    {
     "data": {
      "text/plain": [
       "5-element Array{Float64,1}:\n",
       "   0.28224\n",
       "  -4.54081\n",
       " -11.5071 \n",
       "  18.1859 \n",
       "  25.2441 "
      ]
     },
     "execution_count": 10,
     "metadata": {},
     "output_type": "execute_result"
    }
   ],
   "source": [
    "A.*B.*sin.(C)"
   ]
  },
  {
   "cell_type": "markdown",
   "metadata": {},
   "source": [
    "One last thing to note is that we can also broadcast =. This would be the same thing is as the loop A[i] = ... and thus requires the array A to already be define. Thus for example, if we let"
   ]
  },
  {
   "cell_type": "code",
   "execution_count": 11,
   "metadata": {
    "collapsed": false
   },
   "outputs": [
    {
     "data": {
      "text/plain": [
       "5-element Array{Int64,1}:\n",
       " 4751682704\n",
       " 4751682768\n",
       " 4751682832\n",
       " 4751682896\n",
       " 4752066096"
      ]
     },
     "execution_count": 11,
     "metadata": {},
     "output_type": "execute_result"
    }
   ],
   "source": [
    "D = similar(C)"
   ]
  },
  {
   "cell_type": "code",
   "execution_count": 12,
   "metadata": {
    "collapsed": false
   },
   "outputs": [
    {
     "name": "stdout",
     "output_type": "stream",
     "text": [
      "  0.005920 seconds (1.93 k allocations: 96.877 KB)\n"
     ]
    },
    {
     "data": {
      "text/plain": [
       "5-element Array{Int64,1}:\n",
       "  6\n",
       " 24\n",
       " 60\n",
       " 40\n",
       " 30"
      ]
     },
     "execution_count": 12,
     "metadata": {},
     "output_type": "execute_result"
    }
   ],
   "source": [
    "@time D.=A.*B.*C"
   ]
  },
  {
   "cell_type": "markdown",
   "metadata": {},
   "source": [
    "The above operation does not allocate any arrays. Reducing temporary array allocations is one way Julia outperforms other scientific computing languages."
   ]
  },
  {
   "cell_type": "markdown",
   "metadata": {},
   "source": [
    "### Vectors and Matrices "
   ]
  },
  {
   "cell_type": "code",
   "execution_count": 13,
   "metadata": {
    "collapsed": false
   },
   "outputs": [
    {
     "data": {
      "text/plain": [
       "3×3 Array{Float64,2}:\n",
       " 0.0411672  0.902195   0.577605\n",
       " 0.249781   0.951303   0.678894\n",
       " 0.919358   0.0973179  0.557038"
      ]
     },
     "execution_count": 13,
     "metadata": {},
     "output_type": "execute_result"
    }
   ],
   "source": [
    "A = rand(4,4) # Generate a 4x4 random matrix\n",
    "A[1:3,1:3] # Take the top left 3-3 matrix"
   ]
  },
  {
   "cell_type": "markdown",
   "metadata": {},
   "source": [
    "Note that Julia is column-major, meaning that columns come first in both indexing order and in the computer's internal representation."
   ]
  },
  {
   "cell_type": "markdown",
   "metadata": {},
   "source": [
    "### Views\n",
    "\n",
    "Notice that A[1:3,1:3] returned an array. Where did this array come from? Well, since there was no 3x3 array before, A[1:3,1:3] created an array (i.e. it had to allocate memory)"
   ]
  },
  {
   "cell_type": "code",
   "execution_count": 14,
   "metadata": {
    "collapsed": false
   },
   "outputs": [
    {
     "name": "stdout",
     "output_type": "stream",
     "text": [
      "  0.000008 seconds (8 allocations: 416 bytes)\n"
     ]
    },
    {
     "data": {
      "text/plain": [
       "3×3 Array{Float64,2}:\n",
       " 0.0411672  0.902195   0.577605\n",
       " 0.249781   0.951303   0.678894\n",
       " 0.919358   0.0973179  0.557038"
      ]
     },
     "execution_count": 14,
     "metadata": {},
     "output_type": "execute_result"
    }
   ],
   "source": [
    "@time A[1:3,1:3]"
   ]
  },
  {
   "cell_type": "markdown",
   "metadata": {},
   "source": [
    "Allocation of memory while creating variables,"
   ]
  },
  {
   "cell_type": "code",
   "execution_count": 15,
   "metadata": {
    "collapsed": false
   },
   "outputs": [
    {
     "name": "stdout",
     "output_type": "stream",
     "text": [
      "  0.000001 seconds (5 allocations: 208 bytes)\n",
      "  0.000020 seconds (6 allocations: 320 bytes)\n"
     ]
    },
    {
     "data": {
      "text/plain": [
       "3-element Array{Int64,1}:\n",
       "  1\n",
       " 10\n",
       "  5"
      ]
     },
     "execution_count": 15,
     "metadata": {},
     "output_type": "execute_result"
    }
   ],
   "source": [
    "a = [1;3;5]\n",
    "@time b = a\n",
    "a[2] = 10\n",
    "a\n",
    "@time c = copy(a)"
   ]
  },
  {
   "cell_type": "markdown",
   "metadata": {},
   "source": [
    "In the first case it just created a pointer to object of `a`. In Julia an array is actually an array in the memory layout, which is actually a C-pointer to a contiguous 1-dimensional slots of memory. For example,"
   ]
  },
  {
   "cell_type": "code",
   "execution_count": 16,
   "metadata": {
    "collapsed": false
   },
   "outputs": [
    {
     "data": {
      "text/plain": [
       "4×4 Array{Float64,2}:\n",
       " 0.715463  0.658007   0.972105  0.295197 \n",
       " 0.649632  0.728802   0.840376  0.0788454\n",
       " 0.966236  0.0211644  0.74345   0.376506 \n",
       " 0.81886   0.48878    0.680637  0.780684 "
      ]
     },
     "execution_count": 16,
     "metadata": {},
     "output_type": "execute_result"
    }
   ],
   "source": [
    "A = rand(4,4)"
   ]
  },
  {
   "cell_type": "markdown",
   "metadata": {},
   "source": [
    "This is a 16 number of consecutive memory slots. and `A` is a view to that, indexed in sucha way to make it look like a 2-dimensional array."
   ]
  },
  {
   "cell_type": "code",
   "execution_count": 17,
   "metadata": {
    "collapsed": false
   },
   "outputs": [
    {
     "name": "stdout",
     "output_type": "stream",
     "text": [
      "  0.060219 seconds (3.00 M allocations: 45.777 MB, 8.70% gc time)\n",
      "  0.026378 seconds (3.00 M allocations: 45.776 MB, 7.11% gc time)\n",
      "  0.026944 seconds (3.00 M allocations: 45.776 MB, 6.79% gc time)\n"
     ]
    }
   ],
   "source": [
    "function testloops()\n",
    "    b = rand(1000,1000)\n",
    "    c = 0 # Need this so that way the compiler doesn't optimize away the loop!\n",
    "    @time for i in 1:1000, j in 1:1000\n",
    "        c+=b[i,j]\n",
    "    end\n",
    "    @time for j in 1:1000, i in 1:1000\n",
    "        c+=b[i,j]\n",
    "    end\n",
    "    bidx = eachindex(b)\n",
    "    @time for i in bidx\n",
    "        c+=b[i]\n",
    "    end\n",
    "end\n",
    "testloops()"
   ]
  },
  {
   "cell_type": "markdown",
   "metadata": {},
   "source": [
    "One should normally use the eachindex function since this will return the indices in the \"fast\" order for general iterator types.\n",
    "\n",
    "In this terminology A[1:3,1:3] isn't a view to the same memory. We can check this by noticing that it doesn't mutate the original array:"
   ]
  },
  {
   "cell_type": "code",
   "execution_count": 18,
   "metadata": {
    "collapsed": false
   },
   "outputs": [
    {
     "name": "stdout",
     "output_type": "stream",
     "text": [
      "[0.715463 0.658007 0.972105 0.295197; 0.649632 0.728802 0.840376 0.0788454; 0.966236 0.0211644 0.74345 0.376506; 0.81886 0.48878 0.680637 0.780684]\n",
      "[0.715463 0.658007 0.972105 0.295197; 0.649632 0.728802 0.840376 0.0788454; 0.966236 0.0211644 0.74345 0.376506; 0.81886 0.48878 0.680637 0.780684]\n"
     ]
    }
   ],
   "source": [
    "println(A)\n",
    "B = A[1:3,1:3]\n",
    "B[1,1]=100\n",
    "println(A)"
   ]
  },
  {
   "cell_type": "markdown",
   "metadata": {},
   "source": [
    "If we instead want a view, then we can use the view function:"
   ]
  },
  {
   "cell_type": "code",
   "execution_count": 19,
   "metadata": {
    "collapsed": false
   },
   "outputs": [
    {
     "name": "stdout",
     "output_type": "stream",
     "text": [
      "[100.0 0.658007 0.972105 0.295197; 0.649632 0.728802 0.840376 0.0788454; 0.966236 0.0211644 0.74345 0.376506; 0.81886 0.48878 0.680637 0.780684]\n"
     ]
    }
   ],
   "source": [
    "B = view(A,1:3,1:3) # No copy involved\n",
    "B[1,1] = 100 # Will mutate A\n",
    "println(A)"
   ]
  },
  {
   "cell_type": "markdown",
   "metadata": {},
   "source": [
    "There are many cases where you might want to use a view. For example, if a function needs the ith column, you may naively think of doing f(A[i,:]). But, if A won't be changed in the loop, we can avoid the memory allocation (and thus make things faster) by sending a view to the original array which is simply the column: f(view(A,i,:)). Two functions can be used to give common views. vec gives a view of the array as a Vector and reshape builds a view in a different shape. For example:"
   ]
  },
  {
   "cell_type": "code",
   "execution_count": 20,
   "metadata": {
    "collapsed": false
   },
   "outputs": [
    {
     "name": "stdout",
     "output_type": "stream",
     "text": [
      "[100.0,0.649632,0.966236,0.81886,0.658007,0.728802,0.0211644,0.48878,0.972105,0.840376,0.74345,0.680637,0.295197,0.0788454,0.376506,0.780684]\n"
     ]
    },
    {
     "data": {
      "text/plain": [
       "8×2 Array{Float64,2}:\n",
       " 100.0        0.972105 \n",
       "   0.649632   0.840376 \n",
       "   0.966236   0.74345  \n",
       "   0.81886    0.680637 \n",
       "   0.658007   0.295197 \n",
       "   0.728802   0.0788454\n",
       "   0.0211644  0.376506 \n",
       "   0.48878    0.780684 "
      ]
     },
     "execution_count": 20,
     "metadata": {},
     "output_type": "execute_result"
    }
   ],
   "source": [
    "C = vec(A)\n",
    "println(C)\n",
    "C = reshape(A,8,2) # C is an 8x2 matrix\n",
    "C"
   ]
  },
  {
   "cell_type": "code",
   "execution_count": null,
   "metadata": {
    "collapsed": true
   },
   "outputs": [],
   "source": []
  }
 ],
 "metadata": {
  "anaconda-cloud": {},
  "kernelspec": {
   "display_name": "Julia 0.5.0",
   "language": "julia",
   "name": "julia-0.5"
  },
  "language_info": {
   "file_extension": ".jl",
   "mimetype": "application/julia",
   "name": "julia",
   "version": "0.5.0"
  }
 },
 "nbformat": 4,
 "nbformat_minor": 0
}
