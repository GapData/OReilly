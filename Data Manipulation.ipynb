{
 "cells": [
  {
   "cell_type": "markdown",
   "metadata": {},
   "source": [
    "## Data Manipulation "
   ]
  },
  {
   "cell_type": "markdown",
   "metadata": {},
   "source": [
    "We see how to read data and perform elementary data manipulation and we gone on to also do some data analysis."
   ]
  },
  {
   "cell_type": "markdown",
   "metadata": {},
   "source": [
    "### Introduction to DataFrames"
   ]
  },
  {
   "cell_type": "code",
   "execution_count": 1,
   "metadata": {
    "collapsed": true
   },
   "outputs": [],
   "source": [
    "\n",
    "using DataArrays\n",
    "using DataFrames"
   ]
  },
  {
   "cell_type": "markdown",
   "metadata": {},
   "source": [
    "### Missing values\n",
    "\n",
    "A missing value is represented by NA in Julia.\n",
    "* NA is not part of Base, it is provided by the DataArrays package.\n",
    "* NA poisons other values."
   ]
  },
  {
   "cell_type": "code",
   "execution_count": 2,
   "metadata": {
    "collapsed": false
   },
   "outputs": [
    {
     "data": {
      "text/plain": [
       "NA"
      ]
     },
     "execution_count": 2,
     "metadata": {},
     "output_type": "execute_result"
    }
   ],
   "source": [
    "1+NA"
   ]
  },
  {
   "cell_type": "code",
   "execution_count": 3,
   "metadata": {
    "collapsed": false
   },
   "outputs": [
    {
     "data": {
      "text/plain": [
       "true"
      ]
     },
     "execution_count": 3,
     "metadata": {},
     "output_type": "execute_result"
    }
   ],
   "source": [
    "# Check if the evaluation of an expression results in NA\n",
    "isna(1+NA)"
   ]
  },
  {
   "cell_type": "code",
   "execution_count": 5,
   "metadata": {
    "collapsed": false
   },
   "outputs": [
    {
     "data": {
      "text/plain": [
       "(true,false)"
      ]
     },
     "execution_count": 5,
     "metadata": {},
     "output_type": "execute_result"
    }
   ],
   "source": [
    "# Note the difference between NaN and NA\n",
    "(isa(NaN, Float64), isa(NA, Float64))"
   ]
  },
  {
   "cell_type": "markdown",
   "metadata": {},
   "source": [
    "### DataArrays¶\n",
    "\n",
    "* `DataArray`'s are used for representing arrays that contain missing values\n",
    "* `DataArray{T}` allows storing `T` or `NA`\n",
    "* In other words, `DataArray{T}` adds `NA`'s to `Array{T}`\n",
    "* `PooledDataArray{T}` is used for storing data efficiently.\n",
    "* `PooledDataArray{T}` compresses `DataArray{T}`.\n",
    "\n",
    "#### Constructing DataArrays"
   ]
  },
  {
   "cell_type": "code",
   "execution_count": 6,
   "metadata": {
    "collapsed": false
   },
   "outputs": [
    {
     "data": {
      "text/plain": [
       "3-element DataArrays.DataArray{Float64,1}:\n",
       "  0.1\n",
       "  0.5\n",
       " -2.4"
      ]
     },
     "execution_count": 6,
     "metadata": {},
     "output_type": "execute_result"
    }
   ],
   "source": [
    "# Call the DataArray() constructor by passing a Vector to it\n",
    "DataArray([0.1, 0.5, -2.4])"
   ]
  },
  {
   "cell_type": "code",
   "execution_count": 7,
   "metadata": {
    "collapsed": false
   },
   "outputs": [
    {
     "data": {
      "text/plain": [
       "3-element DataArrays.DataArray{Float64,1}:\n",
       "  0.1\n",
       "  0.5\n",
       " -2.4"
      ]
     },
     "execution_count": 7,
     "metadata": {},
     "output_type": "execute_result"
    }
   ],
   "source": [
    "# Construct a DataArray by calling the @data() macro with a Vector input argument\n",
    "@data([0.1, 0.5, -2.4])"
   ]
  },
  {
   "cell_type": "code",
   "execution_count": 8,
   "metadata": {
    "collapsed": false
   },
   "outputs": [
    {
     "data": {
      "text/plain": [
       "3-element DataArrays.DataArray{Float64,1}:\n",
       "  0.1\n",
       "  0.5\n",
       " -2.4"
      ]
     },
     "execution_count": 8,
     "metadata": {},
     "output_type": "execute_result"
    }
   ],
   "source": [
    "# Convert Vector to DataArray\n",
    "convert(DataArray, [0.1, 0.5, -2.4])"
   ]
  },
  {
   "cell_type": "code",
   "execution_count": 9,
   "metadata": {
    "collapsed": false
   },
   "outputs": [
    {
     "ename": "LoadError",
     "evalue": "MethodError: Cannot `convert` an object of type DataArrays.NAtype to an object of type Float64\nThis may have arisen from a call to the constructor Float64(...),\nsince type constructors fall back to convert methods.",
     "output_type": "error",
     "traceback": [
      "MethodError: Cannot `convert` an object of type DataArrays.NAtype to an object of type Float64\nThis may have arisen from a call to the constructor Float64(...),\nsince type constructors fall back to convert methods.",
      "",
      " in setindex!(::Array{Float64,1}, ::DataArrays.NAtype, ::Int64) at ./array.jl:415",
      " in copy!(::Array{Float64,1}, ::Tuple{Float64,DataArrays.NAtype,Float64}) at ./abstractarray.jl:479",
      " in vect(::Float64, ::Vararg{Any,N}) at ./abstractarray.jl:27"
     ]
    }
   ],
   "source": [
    "# It is not possible to call DataArray() with NA in its input argument\n",
    "DataArray([0.1, NA, -2.4])"
   ]
  },
  {
   "cell_type": "code",
   "execution_count": 10,
   "metadata": {
    "collapsed": false
   },
   "outputs": [
    {
     "data": {
      "text/plain": [
       "3-element DataArrays.DataArray{Float64,1}:\n",
       "  0.1\n",
       "   NA\n",
       " -2.4"
      ]
     },
     "execution_count": 10,
     "metadata": {},
     "output_type": "execute_result"
    }
   ],
   "source": [
    "# However, it is possible to pass NA to the @data() macro\n",
    "@data([0.1, NA, -2.4])"
   ]
  },
  {
   "cell_type": "code",
   "execution_count": 11,
   "metadata": {
    "collapsed": false
   },
   "outputs": [
    {
     "data": {
      "text/plain": [
       "2×2 DataArrays.DataArray{Float64,2}:\n",
       " 0.4  1.2\n",
       " 3.5  7.2"
      ]
     },
     "execution_count": 11,
     "metadata": {},
     "output_type": "execute_result"
    }
   ],
   "source": [
    "# The @data() macro can also be called with a Matrix input argument\n",
    "@data([0.4 1.2; 3.5 7.2])"
   ]
  },
  {
   "cell_type": "code",
   "execution_count": 12,
   "metadata": {
    "collapsed": false
   },
   "outputs": [
    {
     "data": {
      "text/plain": [
       "2×2 DataArrays.DataArray{Float64,2}:\n",
       " 0.4  1.2\n",
       " 3.5  7.2"
      ]
     },
     "execution_count": 12,
     "metadata": {},
     "output_type": "execute_result"
    }
   ],
   "source": [
    "# Convert a Matrix to DataArray\n",
    "convert(DataArray, [0.4 1.2; 3.5 7.2])"
   ]
  },
  {
   "cell_type": "code",
   "execution_count": 13,
   "metadata": {
    "collapsed": false
   },
   "outputs": [
    {
     "data": {
      "text/plain": [
       "3-element DataArrays.DataArray{Float64,1}:\n",
       " -9.8\n",
       "   NA\n",
       "  4.3"
      ]
     },
     "execution_count": 13,
     "metadata": {},
     "output_type": "execute_result"
    }
   ],
   "source": [
    "# Numerical computing can be done with data vectors\n",
    "x = @data([0.1, NA, -2.4])\n",
    "y = @data([-9.9, 0.5, 6.7])\n",
    "x+y"
   ]
  },
  {
   "cell_type": "code",
   "execution_count": 15,
   "metadata": {
    "collapsed": false
   },
   "outputs": [
    {
     "data": {
      "text/plain": [
       "2-element Array{Float64,1}:\n",
       "  0.1\n",
       " -2.4"
      ]
     },
     "execution_count": 15,
     "metadata": {},
     "output_type": "execute_result"
    }
   ],
   "source": [
    "# To remove missing values (NA), call dropna()\n",
    "x = @data([0.1, NA, -2.4])\n",
    "dropna(x)"
   ]
  },
  {
   "cell_type": "code",
   "execution_count": 16,
   "metadata": {
    "collapsed": false
   },
   "outputs": [
    {
     "data": {
      "text/plain": [
       "3-element DataArrays.DataArray{Float64,1}:\n",
       "  26.12\n",
       "    NA \n",
       " -19.44"
      ]
     },
     "execution_count": 16,
     "metadata": {},
     "output_type": "execute_result"
    }
   ],
   "source": [
    "# Numerical computing can be done with data matrices and data vectors\n",
    "A = @data([0.4 1.2 4.4; NA 7.2 3.9; 5.1 1.8 4.5])\n",
    "y = @data([-9.9, 0.5, 6.7])\n",
    "A*y"
   ]
  },
  {
   "cell_type": "markdown",
   "metadata": {},
   "source": [
    "### DataFrames\n",
    "\n",
    "* `DataFrame`'s are used for representing data tables.\n",
    "* A `DataFrame` is a list of `DataArray`'s.\n",
    "* So every `DataArray` of a  `DataFrame` represents a column of the corresponding data table.\n",
    "* `DataFrame`'s accommodate heterogeneous data that might contain missing values.\n",
    "* Every column (`DataArray`) of a `DataFrame` has its own type."
   ]
  },
  {
   "cell_type": "code",
   "execution_count": 17,
   "metadata": {
    "collapsed": false
   },
   "outputs": [
    {
     "data": {
      "text/html": [
       "<table class=\"data-frame\"><thead><tr><th></th><th>player</th><th>champions</th></tr></thead><tbody><tr><th>1</th><td>Larry Bird</td><td>3</td></tr><tr><th>2</th><td>Magic Johnson</td><td>5</td></tr><tr><th>3</th><td>Michael Jordan</td><td>6</td></tr><tr><th>4</th><td>Scottie Pippen</td><td>6</td></tr></tbody></table>"
      ],
      "text/plain": [
       "4×2 DataFrames.DataFrame\n",
       "│ Row │ player           │ champions │\n",
       "├─────┼──────────────────┼───────────┤\n",
       "│ 1   │ \"Larry Bird\"     │ 3         │\n",
       "│ 2   │ \"Magic Johnson\"  │ 5         │\n",
       "│ 3   │ \"Michael Jordan\" │ 6         │\n",
       "│ 4   │ \"Scottie Pippen\" │ 6         │"
      ]
     },
     "execution_count": 17,
     "metadata": {},
     "output_type": "execute_result"
    }
   ],
   "source": [
    "# Call the DataFrame() constructor with keyword arguments (columns) of type Vector\n",
    "DataFrame(\n",
    "  player = [\"Larry Bird\", \"Magic Johnson\", \"Michael Jordan\", \"Scottie Pippen\"],\n",
    "  champions = [3, 5, 6, 6]\n",
    ")"
   ]
  },
  {
   "cell_type": "code",
   "execution_count": 18,
   "metadata": {
    "collapsed": false
   },
   "outputs": [
    {
     "data": {
      "text/html": [
       "<table class=\"data-frame\"><thead><tr><th></th><th>player</th><th>champions</th></tr></thead><tbody><tr><th>1</th><td>Larry Bird</td><td>3</td></tr><tr><th>2</th><td>Magic Johnson</td><td>5</td></tr><tr><th>3</th><td>Michael Jordan</td><td>6</td></tr><tr><th>4</th><td>Scottie Pippen</td><td>6</td></tr></tbody></table>"
      ],
      "text/plain": [
       "4×2 DataFrames.DataFrame\n",
       "│ Row │ player           │ champions │\n",
       "├─────┼──────────────────┼───────────┤\n",
       "│ 1   │ \"Larry Bird\"     │ 3         │\n",
       "│ 2   │ \"Magic Johnson\"  │ 5         │\n",
       "│ 3   │ \"Michael Jordan\" │ 6         │\n",
       "│ 4   │ \"Scottie Pippen\" │ 6         │"
      ]
     },
     "execution_count": 18,
     "metadata": {},
     "output_type": "execute_result"
    }
   ],
   "source": [
    "# Start with an empty DataFrame and populate it\n",
    "ChampionsFrame = DataFrame()\n",
    "ChampionsFrame[:player] = [\"Larry Bird\", \"Magic Johnson\", \"Michael Jordan\", \"Scottie Pippen\"]\n",
    "ChampionsFrame[:champions] = [3, 5, 6, 6]\n",
    "ChampionsFrame"
   ]
  },
  {
   "cell_type": "code",
   "execution_count": 19,
   "metadata": {
    "collapsed": false
   },
   "outputs": [
    {
     "data": {
      "text/html": [
       "<table class=\"data-frame\"><thead><tr><th></th><th>player</th><th>champions</th></tr></thead><tbody><tr><th>1</th><td>Larry Bird</td><td>3</td></tr><tr><th>2</th><td>Magic Johnson</td><td>5</td></tr><tr><th>3</th><td>Michael Jordan</td><td>6</td></tr><tr><th>4</th><td>Scottie Pippen</td><td>6</td></tr></tbody></table>"
      ],
      "text/plain": [
       "4×2 DataFrames.DataFrame\n",
       "│ Row │ player           │ champions │\n",
       "├─────┼──────────────────┼───────────┤\n",
       "│ 1   │ \"Larry Bird\"     │ 3         │\n",
       "│ 2   │ \"Magic Johnson\"  │ 5         │\n",
       "│ 3   │ \"Michael Jordan\" │ 6         │\n",
       "│ 4   │ \"Scottie Pippen\" │ 6         │"
      ]
     },
     "execution_count": 19,
     "metadata": {},
     "output_type": "execute_result"
    }
   ],
   "source": [
    "\n",
    "# Provide CSV-like tabular data to construct a new DataFrame\n",
    "csv\"\"\"\n",
    "  player,champions\n",
    "  Larry Bird,3\n",
    "  Magic Johnson,5\n",
    "  Michael Jordan,6\n",
    "  Scottie Pippen,6\n",
    "\"\"\""
   ]
  },
  {
   "cell_type": "code",
   "execution_count": 20,
   "metadata": {
    "collapsed": false
   },
   "outputs": [
    {
     "data": {
      "text/html": [
       "<table class=\"data-frame\"><thead><tr><th></th><th>player</th><th>champions</th></tr></thead><tbody><tr><th>1</th><td>Larry Bird</td><td>3</td></tr><tr><th>2</th><td>Magic Johnson</td><td>5</td></tr><tr><th>3</th><td>Michael Jordan</td><td>6</td></tr><tr><th>4</th><td>Scottie Pippen</td><td>6</td></tr></tbody></table>"
      ],
      "text/plain": [
       "4×2 DataFrames.DataFrame\n",
       "│ Row │ player           │ champions │\n",
       "├─────┼──────────────────┼───────────┤\n",
       "│ 1   │ \"Larry Bird\"     │ 3         │\n",
       "│ 2   │ \"Magic Johnson\"  │ 5         │\n",
       "│ 3   │ \"Michael Jordan\" │ 6         │\n",
       "│ 4   │ \"Scottie Pippen\" │ 6         │"
      ]
     },
     "execution_count": 20,
     "metadata": {},
     "output_type": "execute_result"
    }
   ],
   "source": [
    "# Call the DataFrame() constructor with keyword arguments (columns) of type DataArray\n",
    "player = @data([\"Larry Bird\", \"Magic Johnson\", \"Michael Jordan\", \"Scottie Pippen\"])\n",
    "champions = @data([3, 5, 6, 6])\n",
    "ChampionsFrame = DataFrame(player=player, champions=champions)"
   ]
  },
  {
   "cell_type": "code",
   "execution_count": 21,
   "metadata": {
    "collapsed": false
   },
   "outputs": [
    {
     "data": {
      "text/html": [
       "<table class=\"data-frame\"><thead><tr><th></th><th>player</th><th>champions</th><th>height</th></tr></thead><tbody><tr><th>1</th><td>Larry Bird</td><td>3</td><td>2.06</td></tr><tr><th>2</th><td>Magic Johnson</td><td>5</td><td>2.06</td></tr><tr><th>3</th><td>Michael Jordan</td><td>6</td><td>1.98</td></tr><tr><th>4</th><td>Scottie Pippen</td><td>6</td><td>2.03</td></tr></tbody></table>"
      ],
      "text/plain": [
       "4×3 DataFrames.DataFrame\n",
       "│ Row │ player           │ champions │ height │\n",
       "├─────┼──────────────────┼───────────┼────────┤\n",
       "│ 1   │ \"Larry Bird\"     │ 3         │ 2.06   │\n",
       "│ 2   │ \"Magic Johnson\"  │ 5         │ 2.06   │\n",
       "│ 3   │ \"Michael Jordan\" │ 6         │ 1.98   │\n",
       "│ 4   │ \"Scottie Pippen\" │ 6         │ 2.03   │"
      ]
     },
     "execution_count": 21,
     "metadata": {},
     "output_type": "execute_result"
    }
   ],
   "source": [
    "# Construct a DataFrame by joining two existing DataFrames\n",
    "height = [2.06, 2.06, 1.98, 2.03]\n",
    "HeightsFrame = DataFrame(player=player, height=height)\n",
    "join(ChampionsFrame, HeightsFrame, on = :player)"
   ]
  },
  {
   "cell_type": "markdown",
   "metadata": {},
   "source": [
    "#### Quering basic information about DataFrames"
   ]
  },
  {
   "cell_type": "code",
   "execution_count": 22,
   "metadata": {
    "collapsed": false
   },
   "outputs": [
    {
     "data": {
      "text/plain": [
       "4"
      ]
     },
     "execution_count": 22,
     "metadata": {},
     "output_type": "execute_result"
    }
   ],
   "source": [
    "# Get number of rows of a DataFrame\n",
    "size(ChampionsFrame, 1)"
   ]
  },
  {
   "cell_type": "code",
   "execution_count": 23,
   "metadata": {
    "collapsed": false
   },
   "outputs": [
    {
     "data": {
      "text/plain": [
       "2"
      ]
     },
     "execution_count": 23,
     "metadata": {},
     "output_type": "execute_result"
    }
   ],
   "source": [
    "# Get number of columns of a DataFrame\n",
    "size(ChampionsFrame, 2)"
   ]
  },
  {
   "cell_type": "code",
   "execution_count": 24,
   "metadata": {
    "collapsed": false
   },
   "outputs": [
    {
     "name": "stdout",
     "output_type": "stream",
     "text": [
      "player\n",
      "Length  4\n",
      "Type    String\n",
      "NAs     0\n",
      "NA%     0.0%\n",
      "Unique  4\n",
      "\n",
      "champions\n",
      "Min      3.0\n",
      "1st Qu.  4.5\n",
      "Median   5.5\n",
      "Mean     5.0\n",
      "3rd Qu.  6.0\n",
      "Max      6.0\n",
      "NAs      0\n",
      "NA%      0.0%\n",
      "\n"
     ]
    }
   ],
   "source": [
    "# Get a numeric summary of a DataFrame\n",
    "describe(ChampionsFrame)"
   ]
  },
  {
   "cell_type": "markdown",
   "metadata": {},
   "source": [
    "#### Indexing `DataFrames`"
   ]
  },
  {
   "cell_type": "code",
   "execution_count": 26,
   "metadata": {
    "collapsed": false
   },
   "outputs": [
    {
     "data": {
      "text/plain": [
       "4-element DataArrays.DataArray{String,1}:\n",
       " \"Larry Bird\"    \n",
       " \"Magic Johnson\" \n",
       " \"Michael Jordan\"\n",
       " \"Scottie Pippen\""
      ]
     },
     "execution_count": 26,
     "metadata": {},
     "output_type": "execute_result"
    }
   ],
   "source": [
    "# Index DataFrame by column name to get a specific column\n",
    "ChampionsFrame[:player]"
   ]
  },
  {
   "cell_type": "code",
   "execution_count": 27,
   "metadata": {
    "collapsed": false
   },
   "outputs": [
    {
     "data": {
      "text/html": [
       "<table class=\"data-frame\"><thead><tr><th></th><th>player</th><th>champions</th></tr></thead><tbody><tr><th>1</th><td>Magic Johnson</td><td>5</td></tr><tr><th>2</th><td>Michael Jordan</td><td>6</td></tr></tbody></table>"
      ],
      "text/plain": [
       "2×2 DataFrames.DataFrame\n",
       "│ Row │ player           │ champions │\n",
       "├─────┼──────────────────┼───────────┤\n",
       "│ 1   │ \"Magic Johnson\"  │ 5         │\n",
       "│ 2   │ \"Michael Jordan\" │ 6         │"
      ]
     },
     "execution_count": 27,
     "metadata": {},
     "output_type": "execute_result"
    }
   ],
   "source": [
    "# Index DataFrame by row numbers to get specific rows\n",
    "ChampionsFrame[2:3, :]"
   ]
  },
  {
   "cell_type": "code",
   "execution_count": null,
   "metadata": {
    "collapsed": true
   },
   "outputs": [],
   "source": []
  }
 ],
 "metadata": {
  "anaconda-cloud": {},
  "kernelspec": {
   "display_name": "Julia 0.5.0",
   "language": "julia",
   "name": "julia-0.5"
  },
  "language_info": {
   "file_extension": ".jl",
   "mimetype": "application/julia",
   "name": "julia",
   "version": "0.5.0"
  }
 },
 "nbformat": 4,
 "nbformat_minor": 0
}
