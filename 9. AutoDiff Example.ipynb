{
 "cells": [
  {
   "cell_type": "markdown",
   "metadata": {},
   "source": [
    "## Understanding Autodiff\n",
    "\n",
    "(Alan Edelman, 2017)\n",
    "\n",
    "\n",
    "  Suppose you knew that sqrt(x)  was the limit of the iteration of $$ t \\leftarrow (t+x/t)/2. $$\n",
    "  How would you obtain the derivative of sqrt(x)?\n",
    "  \n",
    "  The entire Julia code needed to do this is in the three cells below.  Notice there is no cheating by calling any packages.\n",
    "  \n",
    "   We then use code_native to show the assembler for the derivative which is remarkably short.\n",
    "   \n",
    "   We contrast with what a symbolic calculator must do.  Think of all the memory being used because of the explosion of terms."
   ]
  },
  {
   "cell_type": "code",
   "execution_count": 1,
   "metadata": {
    "collapsed": true
   },
   "outputs": [],
   "source": [
    "struct Dual <: Number\n",
    "    f::Float64 \n",
    "    f′::Float64 \n",
    "end"
   ]
  },
  {
   "cell_type": "code",
   "execution_count": 2,
   "metadata": {},
   "outputs": [
    {
     "data": {
      "text/plain": [
       "promote_rule (generic function with 122 methods)"
      ]
     },
     "execution_count": 2,
     "metadata": {},
     "output_type": "execute_result"
    }
   ],
   "source": [
    "import Base: -,+, *, /\n",
    "# Teach the sum and quotient rule (our algorithm only uses \"+\" and \"/\")\n",
    "+(x::Dual, y::Dual) = Dual(x.f + y.f, x.f′ + y.f′)\n",
    "-(x::Dual, y::Dual) = Dual(x.f  -y.f, x.f′ -  y.f′)\n",
    "/(x::Dual, y::Dual) = Dual(x.f / y.f, (y.f*x.f′ - x.f*y.f′)/(y.f)^2)\n",
    "*(x::Dual, y::Dual) = Dual(x.f * y.f ,  x.f * y.f′ + x.f′ * y.f)\n",
    "import Base: convert  \n",
    "import Base: promote_rule\n",
    "convert(::Type{Dual}, x::Real) = Dual(x,0.0)\n",
    "promote_rule(::Type{Dual}, ::Type{<:Number}) = Dual"
   ]
  },
  {
   "cell_type": "code",
   "execution_count": 3,
   "metadata": {},
   "outputs": [
    {
     "data": {
      "text/plain": [
       "root (generic function with 2 methods)"
      ]
     },
     "execution_count": 3,
     "metadata": {},
     "output_type": "execute_result"
    }
   ],
   "source": [
    "function root(x,N=10) # Babylonian method\n",
    "    t = 1.0\n",
    "    for i = 1:N\n",
    "        t =  (t+x/t) / 2  # one add, and two divides\n",
    "        println(t)\n",
    "    end\n",
    "    t   \n",
    "end  "
   ]
  },
  {
   "cell_type": "code",
   "execution_count": 4,
   "metadata": {},
   "outputs": [
    {
     "name": "stdout",
     "output_type": "stream",
     "text": [
      "Dual(50.5, 0.5)\n",
      "Dual(26.24009900990099, 0.2500980296049407)\n",
      "Dual(15.025530119986813, 0.12594242045311826)\n",
      "Dual(10.840434673026925, 0.06835572803193413)\n",
      "Dual(10.032578510960604, 0.05121765066161276)\n",
      "Dual(10.000052895642693, 0.050003684003552644)\n",
      "Dual(10.000000000139897, 0.05000000001878714)\n",
      "Dual(10.0, 0.05)\n",
      "Dual(10.0, 0.05)\n",
      "Dual(10.0, 0.05)\n"
     ]
    },
    {
     "data": {
      "text/plain": [
       "(Dual(10.0, 0.05), (10.0, 0.05))"
      ]
     },
     "execution_count": 4,
     "metadata": {},
     "output_type": "execute_result"
    }
   ],
   "source": [
    "x = 100.0\n",
    "root(Dual(x,1.0)),  (sqrt(x), x^(-.5)/2)"
   ]
  },
  {
   "cell_type": "markdown",
   "metadata": {},
   "source": [
    "## The assembler"
   ]
  },
  {
   "cell_type": "code",
   "execution_count": 5,
   "metadata": {},
   "outputs": [
    {
     "name": "stdout",
     "output_type": "stream",
     "text": [
      "\t.section\t__TEXT,__text,regular,pure_instructions\n",
      "Filename: In[3]\n",
      "\tpushq\t%rbp\n",
      "\tmovq\t%rsp, %rbp\n",
      "\tpushq\t%r15\n",
      "\tpushq\t%r14\n",
      "\tpushq\t%rbx\n",
      "\tsubq\t$40, %rsp\n",
      "\tmovq\t%rsi, %r15\n",
      "\tmovq\t%rdi, %rbx\n",
      "\tmovabsq\t$jl_get_ptls_states_fast, %rax\n",
      "\tcallq\t*%rax\n",
      "\tmovq\t%rax, %r14\n",
      "\tmovq\t$0, -32(%rbp)\n",
      "\tmovq\t$2, -48(%rbp)\n",
      "\tmovq\t(%r14), %rax\n",
      "\tmovq\t%rax, -40(%rbp)\n",
      "\tleaq\t-48(%rbp), %rax\n",
      "\tmovq\t%rax, (%r14)\n",
      "Source line: 2\n",
      "\tmovabsq\t$root, %rax\n",
      "\tleaq\t-64(%rbp), %rdi\n",
      "\tmovl\t$10, %edx\n",
      "\tmovq\t%r15, %rsi\n",
      "\tcallq\t*%rax\n",
      "\ttestb\t%dl, %dl\n",
      "\tmovl\t$0, %ecx\n",
      "\tcmovsq\t%rax, %rcx\n",
      "\tmovq\t%rcx, -32(%rbp)\n",
      "\tmovb\t%dl, %cl\n",
      "\tjns\tL109\n",
      "\txorl\t%ecx, %ecx\n",
      "L109:\n",
      "\tandb\t$127, %cl\n",
      "\tcmpb\t$1, %cl\n",
      "\tje\tL138\n",
      "\tcmpb\t$2, %cl\n",
      "\tjne\tL144\n",
      "\tmovq\t(%rax), %rcx\n",
      "\tmovq\t8(%rax), %rsi\n",
      "\tmovq\t%rsi, 8(%rbx)\n",
      "\tmovq\t%rcx, (%rbx)\n",
      "\tjmp\tL144\n",
      "L138:\n",
      "\tmovq\t(%rax), %rcx\n",
      "\tmovq\t%rcx, (%rbx)\n",
      "L144:\n",
      "\ttestb\t%dl, %dl\n",
      "\tcmovsq\t%rax, %rbx\n",
      "\tmovq\t-40(%rbp), %rax\n",
      "\tmovq\t%rax, (%r14)\n",
      "\tmovq\t%rbx, %rax\n",
      "\taddq\t$40, %rsp\n",
      "\tpopq\t%rbx\n",
      "\tpopq\t%r14\n",
      "\tpopq\t%r15\n",
      "\tpopq\t%rbp\n",
      "\tretq\n",
      "\tnopl\t(%rax,%rax)\n"
     ]
    }
   ],
   "source": [
    "@code_native(root(Dual(x,1.0)))"
   ]
  },
  {
   "cell_type": "markdown",
   "metadata": {},
   "source": [
    "## Symbolically"
   ]
  },
  {
   "cell_type": "code",
   "execution_count": 6,
   "metadata": {},
   "outputs": [
    {
     "name": "stderr",
     "output_type": "stream",
     "text": [
      "WARNING: using SymPy.root in module Main conflicts with an existing identifier.\n"
     ]
    }
   ],
   "source": [
    "#Pkg.add(\"SymPy\")\n",
    "using SymPy                    "
   ]
  },
  {
   "cell_type": "code",
   "execution_count": 7,
   "metadata": {},
   "outputs": [
    {
     "data": {
      "text/plain": [
       "symroot (generic function with 2 methods)"
      ]
     },
     "execution_count": 7,
     "metadata": {},
     "output_type": "execute_result"
    }
   ],
   "source": [
    "function symroot(x,N=5) # Babylonian method\n",
    "    xx = symbols(\"x\")\n",
    "    t = 1\n",
    "    for i = 1:N\n",
    "        t =  (t+xx/t) / 2\n",
    "        display(i)\n",
    "      \n",
    "        display(simplify(diff(t,xx)))\n",
    "        display(subs(diff(t,xx),xx,x))\n",
    "    end  \n",
    "end  "
   ]
  },
  {
   "cell_type": "code",
   "execution_count": 17,
   "metadata": {},
   "outputs": [
    {
     "data": {
      "text/plain": [
       "1"
      ]
     },
     "metadata": {},
     "output_type": "display_data"
    },
    {
     "data": {
      "text/latex": [
       "$$\\frac{1}{2}$$"
      ],
      "text/plain": [
       "1/2"
      ]
     },
     "metadata": {},
     "output_type": "display_data"
    },
    {
     "data": {
      "text/latex": [
       "$$\\frac{1}{2}$$"
      ],
      "text/plain": [
       "1/2"
      ]
     },
     "metadata": {},
     "output_type": "display_data"
    },
    {
     "data": {
      "text/plain": [
       "2"
      ]
     },
     "metadata": {},
     "output_type": "display_data"
    },
    {
     "data": {
      "text/latex": [
       "$$\\frac{1}{4} + \\frac{1}{\\left(x + 1\\right)^{2}}$$"
      ],
      "text/plain": [
       "1      1    \n",
       "- + --------\n",
       "4          2\n",
       "    (x + 1) "
      ]
     },
     "metadata": {},
     "output_type": "display_data"
    },
    {
     "data": {
      "text/latex": [
       "$$0.250098029604941$$"
      ],
      "text/plain": [
       "0.250098029604941"
      ]
     },
     "metadata": {},
     "output_type": "display_data"
    },
    {
     "data": {
      "text/plain": [
       "3"
      ]
     },
     "metadata": {},
     "output_type": "display_data"
    },
    {
     "data": {
      "text/latex": [
       "$$\\frac{x^{6} + 14 x^{5} + 147 x^{4} + 340 x^{3} + 375 x^{2} + 126 x + 21}{8 \\left(x^{6} + 14 x^{5} + 63 x^{4} + 100 x^{3} + 63 x^{2} + 14 x + 1\\right)}$$"
      ],
      "text/plain": [
       " 6       5        4        3        2             \n",
       "x  + 14*x  + 147*x  + 340*x  + 375*x  + 126*x + 21\n",
       "--------------------------------------------------\n",
       "  / 6       5       4        3       2           \\\n",
       "8*\\x  + 14*x  + 63*x  + 100*x  + 63*x  + 14*x + 1/"
      ]
     },
     "metadata": {},
     "output_type": "display_data"
    },
    {
     "data": {
      "text/latex": [
       "$$0.125942420453118$$"
      ],
      "text/plain": [
       "0.125942420453118"
      ]
     },
     "metadata": {},
     "output_type": "display_data"
    },
    {
     "data": {
      "text/plain": [
       "4"
      ]
     },
     "metadata": {},
     "output_type": "display_data"
    },
    {
     "data": {
      "text/latex": [
       "$$\\frac{x^{14} + 70 x^{13} + 3199 x^{12} + 52364 x^{11} + 438945 x^{10} + 2014506 x^{9} + 5430215 x^{8} + 8836200 x^{7} + 8842635 x^{6} + 5425210 x^{5} + 2017509 x^{4} + 437580 x^{3} + 52819 x^{2} + 3094 x + 85}{16 \\left(x^{14} + 70 x^{13} + 1771 x^{12} + 20540 x^{11} + 126009 x^{10} + 440986 x^{9} + 920795 x^{8} + 1173960 x^{7} + 920795 x^{6} + 440986 x^{5} + 126009 x^{4} + 20540 x^{3} + 1771 x^{2} + 70 x + 1\\right)}$$"
      ],
      "text/plain": [
       " 14       13         12          11           10            9            8    \n",
       "x   + 70*x   + 3199*x   + 52364*x   + 438945*x   + 2014506*x  + 5430215*x  + 8\n",
       "------------------------------------------------------------------------------\n",
       "      / 14       13         12          11           10           9           \n",
       "   16*\\x   + 70*x   + 1771*x   + 20540*x   + 126009*x   + 440986*x  + 920795*x\n",
       "\n",
       "        7            6            5            4           3          2       \n",
       "836200*x  + 8842635*x  + 5425210*x  + 2017509*x  + 437580*x  + 52819*x  + 3094\n",
       "------------------------------------------------------------------------------\n",
       "8            7           6           5           4          3         2       \n",
       "  + 1173960*x  + 920795*x  + 440986*x  + 126009*x  + 20540*x  + 1771*x  + 70*x\n",
       "\n",
       "       \n",
       "*x + 85\n",
       "-------\n",
       "    \\  \n",
       " + 1/  "
      ]
     },
     "metadata": {},
     "output_type": "display_data"
    },
    {
     "data": {
      "text/latex": [
       "$$0.0683557280319341$$"
      ],
      "text/plain": [
       "0.0683557280319341"
      ]
     },
     "metadata": {},
     "output_type": "display_data"
    },
    {
     "data": {
      "text/plain": [
       "5"
      ]
     },
     "metadata": {},
     "output_type": "display_data"
    },
    {
     "data": {
      "text/latex": [
       "$$\\frac{x^{30} + 310 x^{29} + 59799 x^{28} + 4851004 x^{27} + 215176549 x^{26} + 5809257090 x^{25} + 102632077611 x^{24} + 1246240871640 x^{23} + 10776333438765 x^{22} + 68124037776390 x^{21} + 321156247784955 x^{20} + 1146261110726340 x^{19} + 3133113888931089 x^{18} + 6614351291211874 x^{17} + 10850143060249839 x^{16} + 13883516068991952 x^{15} + 13883516369532147 x^{14} + 10850142795067314 x^{13} + 6614351497464949 x^{12} + 3133113747810564 x^{11} + 1146261195398655 x^{10} + 321156203432790 x^{9} + 68124057936465 x^{8} + 10776325550040 x^{7} + 1246243501215 x^{6} + 102631341330 x^{5} + 5809427001 x^{4} + 215145084 x^{3} + 4855499 x^{2} + 59334 x + 341}{32 \\left(x^{30} + 310 x^{29} + 36611 x^{28} + 2161196 x^{27} + 73961629 x^{26} + 1603620018 x^{25} + 23367042639 x^{24} + 238538538360 x^{23} + 1758637118685 x^{22} + 9579944198310 x^{21} + 39232152623175 x^{20} + 122387258419860 x^{19} + 293729420641881 x^{18} + 546274556891506 x^{17} + 791156255418003 x^{16} + 894836006026128 x^{15} + 791156255418003 x^{14} + 546274556891506 x^{13} + 293729420641881 x^{12} + 122387258419860 x^{11} + 39232152623175 x^{10} + 9579944198310 x^{9} + 1758637118685 x^{8} + 238538538360 x^{7} + 23367042639 x^{6} + 1603620018 x^{5} + 73961629 x^{4} + 2161196 x^{3} + 36611 x^{2} + 310 x + 1\\right)}$$"
      ],
      "text/plain": [
       " 30        29          28            27              26               25      \n",
       "x   + 310*x   + 59799*x   + 4851004*x   + 215176549*x   + 5809257090*x   + 102\n",
       "------------------------------------------------------------------------------\n",
       "                     / 30        29          28            27             26  \n",
       "                  32*\\x   + 310*x   + 36611*x   + 2161196*x   + 73961629*x   +\n",
       "\n",
       "           24                  23                   22                   21   \n",
       "632077611*x   + 1246240871640*x   + 10776333438765*x   + 68124037776390*x   + \n",
       "------------------------------------------------------------------------------\n",
       "             25                24                 23                  22      \n",
       " 1603620018*x   + 23367042639*x   + 238538538360*x   + 1758637118685*x   + 957\n",
       "\n",
       "                 20                     19                     18             \n",
       "321156247784955*x   + 1146261110726340*x   + 3133113888931089*x   + 6614351291\n",
       "------------------------------------------------------------------------------\n",
       "            21                   20                    19                    1\n",
       "9944198310*x   + 39232152623175*x   + 122387258419860*x   + 293729420641881*x \n",
       "\n",
       "        17                      16                      15                    \n",
       "211874*x   + 10850143060249839*x   + 13883516068991952*x   + 13883516369532147\n",
       "------------------------------------------------------------------------------\n",
       "8                    17                    16                    15           \n",
       "  + 546274556891506*x   + 791156255418003*x   + 894836006026128*x   + 79115625\n",
       "\n",
       "  14                      13                     12                     11    \n",
       "*x   + 10850142795067314*x   + 6614351497464949*x   + 3133113747810564*x   + 1\n",
       "------------------------------------------------------------------------------\n",
       "         14                    13                    12                    11 \n",
       "5418003*x   + 546274556891506*x   + 293729420641881*x   + 122387258419860*x   \n",
       "\n",
       "                 10                    9                   8                  \n",
       "146261195398655*x   + 321156203432790*x  + 68124057936465*x  + 10776325550040*\n",
       "------------------------------------------------------------------------------\n",
       "                  10                  9                  8                 7  \n",
       "+ 39232152623175*x   + 9579944198310*x  + 1758637118685*x  + 238538538360*x  +\n",
       "\n",
       " 7                  6                 5               4              3        \n",
       "x  + 1246243501215*x  + 102631341330*x  + 5809427001*x  + 215145084*x  + 48554\n",
       "------------------------------------------------------------------------------\n",
       "              6               5             4            3          2         \n",
       " 23367042639*x  + 1603620018*x  + 73961629*x  + 2161196*x  + 36611*x  + 310*x \n",
       "\n",
       "    2                \n",
       "99*x  + 59334*x + 341\n",
       "---------------------\n",
       "   \\                 \n",
       "+ 1/                 "
      ]
     },
     "metadata": {},
     "output_type": "display_data"
    },
    {
     "data": {
      "text/latex": [
       "$$0.0512176506616128$$"
      ],
      "text/plain": [
       "0.0512176506616128"
      ]
     },
     "metadata": {},
     "output_type": "display_data"
    }
   ],
   "source": [
    "symroot(100.0);"
   ]
  },
  {
   "cell_type": "markdown",
   "metadata": {},
   "source": [
    "## Conclusion.  If you can first see that the function droot below is a \"derivative\" of the function root, and then realize you don't have to type it by hand, then you are starting to get it!"
   ]
  },
  {
   "cell_type": "code",
   "execution_count": 9,
   "metadata": {},
   "outputs": [
    {
     "data": {
      "text/plain": [
       "root (generic function with 2 methods)"
      ]
     },
     "execution_count": 9,
     "metadata": {},
     "output_type": "execute_result"
    }
   ],
   "source": [
    "function root(x,N=10) # Babylonian method\n",
    "    t = 1.0\n",
    "    for i = 1:N\n",
    "        t =  (t+x/t) / 2  # one add, and two divides\n",
    "        println(t)\n",
    "    end\n",
    "    t   \n",
    "end "
   ]
  },
  {
   "cell_type": "code",
   "execution_count": 10,
   "metadata": {},
   "outputs": [
    {
     "data": {
      "text/plain": [
       "droot (generic function with 2 methods)"
      ]
     },
     "execution_count": 10,
     "metadata": {},
     "output_type": "execute_result"
    }
   ],
   "source": [
    "function droot(x,N=10) # Babylonian method\n",
    "    dt = 0.0\n",
    "    t = 1.0 \n",
    "    for i = 1:N\n",
    "         dt = (dt +(t*1 - x*dt)/t^2) / 2  # Note how x/t expands with the quotient rule\n",
    "         t =  (t+x/t) / 2        \n",
    "        println(t,\" \",dt)\n",
    "    end\n",
    "      \n",
    "end "
   ]
  },
  {
   "cell_type": "code",
   "execution_count": 11,
   "metadata": {},
   "outputs": [
    {
     "name": "stdout",
     "output_type": "stream",
     "text": [
      "Dual(50.5, 0.5)\n",
      "Dual(26.24009900990099, 0.2500980296049407)\n",
      "Dual(15.025530119986813, 0.12594242045311826)\n",
      "Dual(10.840434673026925, 0.06835572803193413)\n",
      "Dual(10.032578510960604, 0.05121765066161276)\n",
      "Dual(10.000052895642693, 0.050003684003552644)\n",
      "Dual(10.000000000139897, 0.05000000001878714)\n",
      "Dual(10.0, 0.05)\n",
      "Dual(10.0, 0.05)\n",
      "Dual(10.0, 0.05)\n"
     ]
    },
    {
     "data": {
      "text/plain": [
       "Dual(10.0, 0.05)"
      ]
     },
     "execution_count": 11,
     "metadata": {},
     "output_type": "execute_result"
    }
   ],
   "source": [
    "root(Dual(100,1)) # Done with Julia's type system"
   ]
  },
  {
   "cell_type": "code",
   "execution_count": 12,
   "metadata": {},
   "outputs": [
    {
     "name": "stdout",
     "output_type": "stream",
     "text": [
      "50.5 0.5\n",
      "26.24009900990099 0.2500980296049407\n",
      "15.025530119986813 0.12594242045311826\n",
      "10.840434673026925 0.06835572803193413\n",
      "10.032578510960604 0.05121765066161276\n",
      "10.000052895642693 0.050003684003552644\n",
      "10.000000000139897 0.05000000001878714\n",
      "10.0 0.05\n",
      "10.0 0.05\n",
      "10.0 0.05\n"
     ]
    }
   ],
   "source": [
    "droot(100) # Done the old fashioned way"
   ]
  },
  {
   "cell_type": "code",
   "execution_count": 13,
   "metadata": {},
   "outputs": [
    {
     "data": {
      "text/plain": [
       "302.0"
      ]
     },
     "execution_count": 13,
     "metadata": {},
     "output_type": "execute_result"
    }
   ],
   "source": [
    "2 + 3*x"
   ]
  },
  {
   "cell_type": "code",
   "execution_count": 14,
   "metadata": {},
   "outputs": [
    {
     "data": {
      "text/plain": [
       "Dual(0.0, 1.0)"
      ]
     },
     "execution_count": 14,
     "metadata": {},
     "output_type": "execute_result"
    }
   ],
   "source": [
    "ϵ  = Dual(0,1)"
   ]
  },
  {
   "cell_type": "code",
   "execution_count": 15,
   "metadata": {},
   "outputs": [
    {
     "data": {
      "text/plain": [
       "Dual(0.0, 0.0)"
      ]
     },
     "execution_count": 15,
     "metadata": {},
     "output_type": "execute_result"
    }
   ],
   "source": [
    "ϵ * ϵ "
   ]
  },
  {
   "cell_type": "code",
   "execution_count": 18,
   "metadata": {
    "collapsed": true
   },
   "outputs": [],
   "source": [
    "Base.show(io::IO,x::Dual) = print(io,x.f,\" + \",x.f′,\" ϵ\")"
   ]
  },
  {
   "cell_type": "code",
   "execution_count": 19,
   "metadata": {},
   "outputs": [
    {
     "data": {
      "text/plain": [
       "0.0 + 0.0 ϵ"
      ]
     },
     "execution_count": 19,
     "metadata": {},
     "output_type": "execute_result"
    }
   ],
   "source": [
    "ϵ * ϵ "
   ]
  },
  {
   "cell_type": "code",
   "execution_count": null,
   "metadata": {
    "collapsed": true
   },
   "outputs": [],
   "source": []
  }
 ],
 "metadata": {
  "kernelspec": {
   "display_name": "Julia 0.6.0",
   "language": "julia",
   "name": "julia-0.6"
  },
  "language_info": {
   "file_extension": ".jl",
   "mimetype": "application/julia",
   "name": "julia",
   "version": "0.6.0"
  }
 },
 "nbformat": 4,
 "nbformat_minor": 2
}
