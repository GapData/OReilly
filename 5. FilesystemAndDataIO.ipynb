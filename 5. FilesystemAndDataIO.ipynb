{
 "cells": [
  {
   "cell_type": "markdown",
   "metadata": {},
   "source": [
    "# Filesystem and Data I/O"
   ]
  },
  {
   "cell_type": "markdown",
   "metadata": {},
   "source": [
    "## Filesystem"
   ]
  },
  {
   "cell_type": "code",
   "execution_count": 1,
   "metadata": {},
   "outputs": [
    {
     "data": {
      "text/plain": [
       "\"/Users/edelman/git/OReilly 08012017\""
      ]
     },
     "execution_count": 1,
     "metadata": {},
     "output_type": "execute_result"
    }
   ],
   "source": [
    "# Print working directory\n",
    "pwd()"
   ]
  },
  {
   "cell_type": "code",
   "execution_count": 2,
   "metadata": {},
   "outputs": [
    {
     "data": {
      "text/plain": [
       "32-element Array{String,1}:\n",
       " \".git\"                                           \n",
       " \".ipynb_checkpoints\"                             \n",
       " \"1. Getting started, working with matrices.ipynb\"\n",
       " \"2. Load and plot a dataset.ipynb\"               \n",
       " \"3. Multiple dispatch.ipynb\"                     \n",
       " \"4. Generic-linear-algebra.ipynb\"                \n",
       " \"5. FilesystemAndDataIO.ipynb\"                   \n",
       " \"6. Julia is fast.ipynb\"                         \n",
       " \"7. Statistical Analysis.ipynb\"                  \n",
       " \"Data Manipulation.ipynb\"                        \n",
       " \"DeepLearning\"                                   \n",
       " \"Fast Array Operations.ipynb\"                    \n",
       " \"Handling File IO.ipynb\"                         \n",
       " ⋮                                                \n",
       " \"gate2.jpg\"                                      \n",
       " \"julia_logo.jpg\"                                 \n",
       " \"julia_logo.png\"                                 \n",
       " \"juliapro\"                                       \n",
       " \"merlion.jpg\"                                    \n",
       " \"merlion2.jpg\"                                   \n",
       " \"mit.jpg\"                                        \n",
       " \"mlp1.jpg\"                                       \n",
       " \"my_data.dat\"                                    \n",
       " \"nn1.jpg\"                                        \n",
       " \"nn2.jpg\"                                        \n",
       " \"stuff.html\"                                     "
      ]
     },
     "execution_count": 2,
     "metadata": {},
     "output_type": "execute_result"
    }
   ],
   "source": [
    "# Get files and directories in current directory\n",
    "readdir()"
   ]
  },
  {
   "cell_type": "code",
   "execution_count": 3,
   "metadata": {},
   "outputs": [
    {
     "data": {
      "text/plain": [
       "\"/Users/edelman\""
      ]
     },
     "execution_count": 3,
     "metadata": {},
     "output_type": "execute_result"
    }
   ],
   "source": [
    "# Get home directory\n",
    "ENV[\"HOME\"]"
   ]
  },
  {
   "cell_type": "code",
   "execution_count": 4,
   "metadata": {},
   "outputs": [
    {
     "data": {
      "text/plain": [
       "\"/Users/edelman\""
      ]
     },
     "execution_count": 4,
     "metadata": {},
     "output_type": "execute_result"
    }
   ],
   "source": [
    "# Another way of getting the home directory\n",
    "homedir()"
   ]
  },
  {
   "cell_type": "code",
   "execution_count": 5,
   "metadata": {},
   "outputs": [
    {
     "data": {
      "text/plain": [
       "\"/Users/edelman/tmp/julia\""
      ]
     },
     "execution_count": 5,
     "metadata": {},
     "output_type": "execute_result"
    }
   ],
   "source": [
    "# Create a string holding the full path to ~/tmp/julia\n",
    "JULIATMPDIR = joinpath(homedir(), \"tmp/julia\")"
   ]
  },
  {
   "cell_type": "code",
   "execution_count": 6,
   "metadata": {
    "collapsed": true
   },
   "outputs": [],
   "source": [
    "# If ~/tmp/julia directory doesn't exist, then create it\n",
    "if !isdir(JULIATMPDIR)\n",
    "  mkpath(JULIATMPDIR)\n",
    "end"
   ]
  },
  {
   "cell_type": "code",
   "execution_count": 7,
   "metadata": {
    "collapsed": true
   },
   "outputs": [],
   "source": [
    "# Create the directory ~/tmp/julia/dir01/dir02\n",
    "mkpath(joinpath(JULIATMPDIR, \"dir01/dir02\"))"
   ]
  },
  {
   "cell_type": "code",
   "execution_count": 8,
   "metadata": {
    "collapsed": true
   },
   "outputs": [],
   "source": [
    "# Delete the directory ~/tmp/julia/dir01/dir02\n",
    "rm(joinpath(JULIATMPDIR, \"dir01\"), recursive=true)"
   ]
  },
  {
   "cell_type": "markdown",
   "metadata": {},
   "source": [
    "## Data I/O"
   ]
  },
  {
   "cell_type": "markdown",
   "metadata": {},
   "source": [
    "### Example 01-10-01: write (and read) a vector to (and from) a file"
   ]
  },
  {
   "cell_type": "code",
   "execution_count": 9,
   "metadata": {},
   "outputs": [
    {
     "data": {
      "text/plain": [
       "3×1 Array{Float64,2}:\n",
       " 2.5\n",
       " 3.0\n",
       " 1.0"
      ]
     },
     "execution_count": 9,
     "metadata": {},
     "output_type": "execute_result"
    }
   ],
   "source": [
    "# Define a vector\n",
    "x = [2.5, 3.0, 1.0]\n",
    "\n",
    "# Create a string holding the full path to ~/tmp/julia\n",
    "JULIATMPDIR = joinpath(homedir(), \"tmp/julia\")\n",
    "\n",
    "# If ~/tmp/julia directory doesn't exist, then create it\n",
    "if !isdir(JULIATMPDIR)\n",
    "  mkpath(JULIATMPDIR)\n",
    "end\n",
    "\n",
    "# Create a string holding the filename on which to operate\n",
    "DATAFILE = joinpath(JULIATMPDIR, \"out01.txt\")\n",
    "\n",
    "# Write x to one-column DATAFILE\n",
    "writedlm(DATAFILE, x)\n",
    "\n",
    "# Read one-column DATAFILE into vector y\n",
    "y = readdlm(DATAFILE, ' ')"
   ]
  },
  {
   "cell_type": "markdown",
   "metadata": {
    "collapsed": true
   },
   "source": [
    "### Example : write (and read) a vector to (and from) a file line by line"
   ]
  },
  {
   "cell_type": "code",
   "execution_count": 10,
   "metadata": {},
   "outputs": [
    {
     "data": {
      "text/plain": [
       "3-element Array{Float64,1}:\n",
       " 2.5\n",
       " 3.0\n",
       " 1.0"
      ]
     },
     "execution_count": 10,
     "metadata": {},
     "output_type": "execute_result"
    }
   ],
   "source": [
    "# Define a vector\n",
    "x = [2.5, 3.0, 1.0]\n",
    "\n",
    "# Create a string holding the full path to ~/tmp/julia\n",
    "JULIATMPDIR = joinpath(homedir(), \"tmp/julia\")\n",
    "\n",
    "# If ~/tmp/julia directory doesn't exist, then create it\n",
    "if !isdir(JULIATMPDIR)\n",
    "  mkpath(JULIATMPDIR)\n",
    "end\n",
    "\n",
    "# Create a string holding the filename on which to operate\n",
    "DATAFILE = joinpath(JULIATMPDIR, \"out02.txt\")\n",
    "\n",
    "# Write x to one-column DATAFILE line by line\n",
    "outstream = open(DATAFILE, \"w+\")\n",
    "\n",
    "for i = 1:length(x)\n",
    "  write(outstream, string(x[i], \"\\n\"))\n",
    "end\n",
    "\n",
    "close(outstream)\n",
    "\n",
    "# Read one-column DATAFILE line by line into vector y\n",
    "instream = open(DATAFILE, \"r\")\n",
    "y = Array{Float64}(countlines(DATAFILE))\n",
    "i = 0\n",
    "\n",
    "while !eof(instream)\n",
    "   y[i+=1] = parse(Float64, readline(instream))\n",
    "end\n",
    "\n",
    "close(instream)\n",
    "\n",
    "y"
   ]
  },
  {
   "cell_type": "markdown",
   "metadata": {
    "collapsed": true
   },
   "source": [
    "### Example : write (and read) a matrix to (and from) a file"
   ]
  },
  {
   "cell_type": "code",
   "execution_count": 11,
   "metadata": {},
   "outputs": [
    {
     "data": {
      "text/plain": [
       "3×2 Array{Float64,2}:\n",
       " 2.5  7.1\n",
       " 3.0  4.4\n",
       " 1.0  5.3"
      ]
     },
     "execution_count": 11,
     "metadata": {},
     "output_type": "execute_result"
    }
   ],
   "source": [
    "# Define a matrix\n",
    "A = [2.5 7.1; 3.0 4.4; 1.0 5.3]\n",
    "\n",
    "# Create a string holding the full path to ~/tmp/julia\n",
    "JULIATMPDIR = joinpath(homedir(), \"tmp/julia\")\n",
    "\n",
    "# If ~/tmp/julia directory doesn't exist, then create it\n",
    "if !isdir(JULIATMPDIR)\n",
    "  mkpath(JULIATMPDIR)\n",
    "end\n",
    "\n",
    "# Create a string holding the filename on which to operate\n",
    "DATAFILE = joinpath(JULIATMPDIR, \"out03.txt\")\n",
    "\n",
    "# Write A to comma-delimited DATAFILE using writecsv() function\n",
    "writecsv(DATAFILE, A)\n",
    "# Write A to comma-delimited DATAFILE using writedlm() function\n",
    "# writedlm(DATAFILE, A, ',')\n",
    "# Write A to space-delimited DATAFILE\n",
    "# writedlm(DATAFILE, A, ' ')\n",
    "# Write A to tab-delimited DATAFILE\n",
    "# writedlm(DATAFILE, A)\n",
    "\n",
    "# Read comma-delimited DATAFILE into matrix B using writecsv() function\n",
    "B = readcsv(DATAFILE)\n",
    "# Read comma-delimited DATAFILE into matrix B using writedlm() function\n",
    "# B = readdlm(DATAFILE, ',')\n",
    "# Read space-delimited DATAFILE into matrix B\n",
    "# B = readdlm(DATAFILE, ' ')\n",
    "# Read tab-delimited DATAFILE into matrix B\n",
    "# B = readdlm(DATAFILE)"
   ]
  },
  {
   "cell_type": "markdown",
   "metadata": {
    "collapsed": true
   },
   "source": [
    "### Example: write (and read) a matrix to (and from) a file line by line"
   ]
  },
  {
   "cell_type": "code",
   "execution_count": 12,
   "metadata": {},
   "outputs": [
    {
     "data": {
      "text/plain": [
       "3×2 Array{Float64,2}:\n",
       " 2.5  7.1\n",
       " 3.0  4.4\n",
       " 1.0  5.3"
      ]
     },
     "execution_count": 12,
     "metadata": {},
     "output_type": "execute_result"
    }
   ],
   "source": [
    "A = [2.5 7.1; 3.0 4.4; 1.0 5.3]\n",
    "\n",
    "# Create a string holding the full path to ~/tmp/julia\n",
    "JULIATMPDIR = joinpath(homedir(), \"tmp/julia\")\n",
    "\n",
    "# If ~/tmp/julia directory doesn't exist, then create it\n",
    "if !isdir(JULIATMPDIR)\n",
    "  mkpath(JULIATMPDIR)\n",
    "end\n",
    "\n",
    "# Create a string holding the filename on which to operate\n",
    "DATAFILE = joinpath(JULIATMPDIR, \"out04.txt\")\n",
    "\n",
    "# Write A to comma-delimited DATAFILE line by line\n",
    "outstream = open(DATAFILE, \"w+\")\n",
    "\n",
    "for i = 1:size(A, 1)\n",
    "  write(outstream, string(join(A[i, :], \",\"), \"\\n\"))\n",
    "end\n",
    "\n",
    "close(outstream)\n",
    "\n",
    "# Read comma-delimited DATAFILE line by line into matrix B\n",
    "instream = open(DATAFILE, \"r\")\n",
    "\n",
    "nrows = countlines(DATAFILE)\n",
    "\n",
    "mark(instream)\n",
    "ncols = length(split(readline(instream), \",\"))\n",
    "reset(instream)\n",
    "\n",
    "B = Array{Float64}(nrows, ncols)\n",
    "i = 0\n",
    "\n",
    "while !eof(instream)\n",
    "  B[i+=1, :] = map(x -> parse(Float64, x), split(readline(instream), \",\"))\n",
    "end\n",
    "\n",
    "close(instream)\n",
    "\n",
    "B"
   ]
  },
  {
   "cell_type": "code",
   "execution_count": null,
   "metadata": {
    "collapsed": true
   },
   "outputs": [],
   "source": []
  },
  {
   "cell_type": "code",
   "execution_count": null,
   "metadata": {
    "collapsed": true
   },
   "outputs": [],
   "source": []
  },
  {
   "cell_type": "code",
   "execution_count": null,
   "metadata": {
    "collapsed": true
   },
   "outputs": [],
   "source": []
  }
 ],
 "metadata": {
  "kernelspec": {
   "display_name": "Julia 0.6.0",
   "language": "julia",
   "name": "julia-0.6"
  },
  "language_info": {
   "file_extension": ".jl",
   "mimetype": "application/julia",
   "name": "julia",
   "version": "0.6.0"
  }
 },
 "nbformat": 4,
 "nbformat_minor": 1
}
